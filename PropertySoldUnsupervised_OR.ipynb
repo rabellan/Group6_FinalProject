{
 "cells": [
  {
   "cell_type": "code",
   "execution_count": 3,
   "id": "f253147c",
   "metadata": {},
   "outputs": [],
   "source": [
    "# Import the modules\n",
    "import numpy as np\n",
    "import pandas as pd\n",
    "from pathlib import Path\n",
    "from sklearn.preprocessing import StandardScaler\n",
    "from sklearn.metrics import balanced_accuracy_score, confusion_matrix, classification_report"
   ]
  },
  {
   "cell_type": "code",
   "execution_count": 49,
   "id": "acc6c197",
   "metadata": {},
   "outputs": [
    {
     "data": {
      "text/html": [
       "<div>\n",
       "<style scoped>\n",
       "    .dataframe tbody tr th:only-of-type {\n",
       "        vertical-align: middle;\n",
       "    }\n",
       "\n",
       "    .dataframe tbody tr th {\n",
       "        vertical-align: top;\n",
       "    }\n",
       "\n",
       "    .dataframe thead th {\n",
       "        text-align: right;\n",
       "    }\n",
       "</style>\n",
       "<table border=\"1\" class=\"dataframe\">\n",
       "  <thead>\n",
       "    <tr style=\"text-align: right;\">\n",
       "      <th></th>\n",
       "      <th>Address</th>\n",
       "      <th>City</th>\n",
       "      <th>Zip</th>\n",
       "      <th>SoldDate</th>\n",
       "      <th>Bathrooms</th>\n",
       "      <th>Bedrooms</th>\n",
       "      <th>LivingArea</th>\n",
       "      <th>LandArea</th>\n",
       "      <th>PropPrice</th>\n",
       "      <th>InflationRate</th>\n",
       "      <th>FederalInt</th>\n",
       "      <th>MonthID</th>\n",
       "    </tr>\n",
       "  </thead>\n",
       "  <tbody>\n",
       "    <tr>\n",
       "      <th>0</th>\n",
       "      <td>244 N Delaware St</td>\n",
       "      <td>Chandler</td>\n",
       "      <td>85225</td>\n",
       "      <td>2/19/24</td>\n",
       "      <td>3.0</td>\n",
       "      <td>4</td>\n",
       "      <td>1272</td>\n",
       "      <td>7532.0</td>\n",
       "      <td>275000</td>\n",
       "      <td>3.1</td>\n",
       "      <td>5.33</td>\n",
       "      <td>2</td>\n",
       "    </tr>\n",
       "    <tr>\n",
       "      <th>1</th>\n",
       "      <td>923 W Mesquite St</td>\n",
       "      <td>Chandler</td>\n",
       "      <td>85225</td>\n",
       "      <td>2/16/24</td>\n",
       "      <td>2.0</td>\n",
       "      <td>3</td>\n",
       "      <td>1480</td>\n",
       "      <td>7492.0</td>\n",
       "      <td>428000</td>\n",
       "      <td>3.1</td>\n",
       "      <td>5.33</td>\n",
       "      <td>2</td>\n",
       "    </tr>\n",
       "    <tr>\n",
       "      <th>2</th>\n",
       "      <td>304 W El Prado Rd</td>\n",
       "      <td>Chandler</td>\n",
       "      <td>85225</td>\n",
       "      <td>2/16/24</td>\n",
       "      <td>2.0</td>\n",
       "      <td>3</td>\n",
       "      <td>1300</td>\n",
       "      <td>8024.0</td>\n",
       "      <td>419000</td>\n",
       "      <td>3.1</td>\n",
       "      <td>5.33</td>\n",
       "      <td>2</td>\n",
       "    </tr>\n",
       "    <tr>\n",
       "      <th>3</th>\n",
       "      <td>1412 E Ironwood Dr</td>\n",
       "      <td>Chandler</td>\n",
       "      <td>85225</td>\n",
       "      <td>2/16/24</td>\n",
       "      <td>2.0</td>\n",
       "      <td>3</td>\n",
       "      <td>1308</td>\n",
       "      <td>7823.0</td>\n",
       "      <td>435300</td>\n",
       "      <td>3.1</td>\n",
       "      <td>5.33</td>\n",
       "      <td>2</td>\n",
       "    </tr>\n",
       "    <tr>\n",
       "      <th>4</th>\n",
       "      <td>663 E Manor Dr</td>\n",
       "      <td>Chandler</td>\n",
       "      <td>85225</td>\n",
       "      <td>2/16/24</td>\n",
       "      <td>2.0</td>\n",
       "      <td>3</td>\n",
       "      <td>1415</td>\n",
       "      <td>8407.0</td>\n",
       "      <td>494000</td>\n",
       "      <td>3.1</td>\n",
       "      <td>5.33</td>\n",
       "      <td>2</td>\n",
       "    </tr>\n",
       "  </tbody>\n",
       "</table>\n",
       "</div>"
      ],
      "text/plain": [
       "              Address      City    Zip SoldDate  Bathrooms  Bedrooms  \\\n",
       "0   244 N Delaware St  Chandler  85225  2/19/24        3.0         4   \n",
       "1   923 W Mesquite St  Chandler  85225  2/16/24        2.0         3   \n",
       "2   304 W El Prado Rd  Chandler  85225  2/16/24        2.0         3   \n",
       "3  1412 E Ironwood Dr  Chandler  85225  2/16/24        2.0         3   \n",
       "4      663 E Manor Dr  Chandler  85225  2/16/24        2.0         3   \n",
       "\n",
       "   LivingArea  LandArea  PropPrice  InflationRate  FederalInt  MonthID  \n",
       "0        1272    7532.0     275000            3.1        5.33        2  \n",
       "1        1480    7492.0     428000            3.1        5.33        2  \n",
       "2        1300    8024.0     419000            3.1        5.33        2  \n",
       "3        1308    7823.0     435300            3.1        5.33        2  \n",
       "4        1415    8407.0     494000            3.1        5.33        2  "
      ]
     },
     "execution_count": 49,
     "metadata": {},
     "output_type": "execute_result"
    }
   ],
   "source": [
    "# Read the CSV file from folder into a Pandas DataFrame\n",
    "#Removed 7026 NW Penridge Rd property after previous analysis showed there was likely a typo in LandArea\n",
    "file_path = Path(\"Sold_Inflation_M1_12.csv\")\n",
    "df_Sold_Inflation = pd.read_csv(file_path)\n",
    "\n",
    "\n",
    "# Review the DataFrame\n",
    "df_Sold_Inflation.head()"
   ]
  },
  {
   "cell_type": "code",
   "execution_count": 50,
   "id": "3af1317f",
   "metadata": {},
   "outputs": [
    {
     "data": {
      "text/html": [
       "<div>\n",
       "<style scoped>\n",
       "    .dataframe tbody tr th:only-of-type {\n",
       "        vertical-align: middle;\n",
       "    }\n",
       "\n",
       "    .dataframe tbody tr th {\n",
       "        vertical-align: top;\n",
       "    }\n",
       "\n",
       "    .dataframe thead th {\n",
       "        text-align: right;\n",
       "    }\n",
       "</style>\n",
       "<table border=\"1\" class=\"dataframe\">\n",
       "  <thead>\n",
       "    <tr style=\"text-align: right;\">\n",
       "      <th></th>\n",
       "      <th>Address</th>\n",
       "      <th>City</th>\n",
       "      <th>Zip</th>\n",
       "      <th>SoldDate</th>\n",
       "      <th>Bathrooms</th>\n",
       "      <th>Bedrooms</th>\n",
       "      <th>LivingArea</th>\n",
       "      <th>LandArea</th>\n",
       "      <th>PropPrice</th>\n",
       "      <th>InflationRate</th>\n",
       "      <th>FederalInt</th>\n",
       "      <th>MonthID</th>\n",
       "    </tr>\n",
       "  </thead>\n",
       "  <tbody>\n",
       "    <tr>\n",
       "      <th>0</th>\n",
       "      <td>244 N Delaware St</td>\n",
       "      <td>Chandler</td>\n",
       "      <td>85225</td>\n",
       "      <td>2/19/24</td>\n",
       "      <td>3.0</td>\n",
       "      <td>4</td>\n",
       "      <td>1272</td>\n",
       "      <td>7532.0</td>\n",
       "      <td>275000</td>\n",
       "      <td>3.10</td>\n",
       "      <td>5.33</td>\n",
       "      <td>2</td>\n",
       "    </tr>\n",
       "    <tr>\n",
       "      <th>1</th>\n",
       "      <td>923 W Mesquite St</td>\n",
       "      <td>Chandler</td>\n",
       "      <td>85225</td>\n",
       "      <td>2/16/24</td>\n",
       "      <td>2.0</td>\n",
       "      <td>3</td>\n",
       "      <td>1480</td>\n",
       "      <td>7492.0</td>\n",
       "      <td>428000</td>\n",
       "      <td>3.10</td>\n",
       "      <td>5.33</td>\n",
       "      <td>2</td>\n",
       "    </tr>\n",
       "    <tr>\n",
       "      <th>2</th>\n",
       "      <td>304 W El Prado Rd</td>\n",
       "      <td>Chandler</td>\n",
       "      <td>85225</td>\n",
       "      <td>2/16/24</td>\n",
       "      <td>2.0</td>\n",
       "      <td>3</td>\n",
       "      <td>1300</td>\n",
       "      <td>8024.0</td>\n",
       "      <td>419000</td>\n",
       "      <td>3.10</td>\n",
       "      <td>5.33</td>\n",
       "      <td>2</td>\n",
       "    </tr>\n",
       "    <tr>\n",
       "      <th>3</th>\n",
       "      <td>1412 E Ironwood Dr</td>\n",
       "      <td>Chandler</td>\n",
       "      <td>85225</td>\n",
       "      <td>2/16/24</td>\n",
       "      <td>2.0</td>\n",
       "      <td>3</td>\n",
       "      <td>1308</td>\n",
       "      <td>7823.0</td>\n",
       "      <td>435300</td>\n",
       "      <td>3.10</td>\n",
       "      <td>5.33</td>\n",
       "      <td>2</td>\n",
       "    </tr>\n",
       "    <tr>\n",
       "      <th>4</th>\n",
       "      <td>663 E Manor Dr</td>\n",
       "      <td>Chandler</td>\n",
       "      <td>85225</td>\n",
       "      <td>2/16/24</td>\n",
       "      <td>2.0</td>\n",
       "      <td>3</td>\n",
       "      <td>1415</td>\n",
       "      <td>8407.0</td>\n",
       "      <td>494000</td>\n",
       "      <td>3.10</td>\n",
       "      <td>5.33</td>\n",
       "      <td>2</td>\n",
       "    </tr>\n",
       "    <tr>\n",
       "      <th>...</th>\n",
       "      <td>...</td>\n",
       "      <td>...</td>\n",
       "      <td>...</td>\n",
       "      <td>...</td>\n",
       "      <td>...</td>\n",
       "      <td>...</td>\n",
       "      <td>...</td>\n",
       "      <td>...</td>\n",
       "      <td>...</td>\n",
       "      <td>...</td>\n",
       "      <td>...</td>\n",
       "      <td>...</td>\n",
       "    </tr>\n",
       "    <tr>\n",
       "      <th>2147</th>\n",
       "      <td>5469 NW Meadowlands Ter</td>\n",
       "      <td>Portland</td>\n",
       "      <td>97229</td>\n",
       "      <td>1/2/24</td>\n",
       "      <td>3.0</td>\n",
       "      <td>4</td>\n",
       "      <td>2592</td>\n",
       "      <td>6969.6</td>\n",
       "      <td>765000</td>\n",
       "      <td>3.09</td>\n",
       "      <td>5.33</td>\n",
       "      <td>1</td>\n",
       "    </tr>\n",
       "    <tr>\n",
       "      <th>2148</th>\n",
       "      <td>1837 NW Caitlin Ter</td>\n",
       "      <td>Portland</td>\n",
       "      <td>97229</td>\n",
       "      <td>12/29/23</td>\n",
       "      <td>3.0</td>\n",
       "      <td>4</td>\n",
       "      <td>2146</td>\n",
       "      <td>8712.0</td>\n",
       "      <td>700000</td>\n",
       "      <td>3.35</td>\n",
       "      <td>5.33</td>\n",
       "      <td>12</td>\n",
       "    </tr>\n",
       "    <tr>\n",
       "      <th>2149</th>\n",
       "      <td>11060 NW Cornell Rd</td>\n",
       "      <td>Portland</td>\n",
       "      <td>97229</td>\n",
       "      <td>12/29/23</td>\n",
       "      <td>2.0</td>\n",
       "      <td>3</td>\n",
       "      <td>2048</td>\n",
       "      <td>16117.2</td>\n",
       "      <td>574000</td>\n",
       "      <td>3.35</td>\n",
       "      <td>5.33</td>\n",
       "      <td>12</td>\n",
       "    </tr>\n",
       "    <tr>\n",
       "      <th>2150</th>\n",
       "      <td>200 NW 101st Ave</td>\n",
       "      <td>Portland</td>\n",
       "      <td>97229</td>\n",
       "      <td>12/29/23</td>\n",
       "      <td>3.0</td>\n",
       "      <td>3</td>\n",
       "      <td>2520</td>\n",
       "      <td>17859.6</td>\n",
       "      <td>600000</td>\n",
       "      <td>3.35</td>\n",
       "      <td>5.33</td>\n",
       "      <td>12</td>\n",
       "    </tr>\n",
       "    <tr>\n",
       "      <th>2151</th>\n",
       "      <td>13027 NW Hartford St</td>\n",
       "      <td>Portland</td>\n",
       "      <td>97229</td>\n",
       "      <td>12/29/23</td>\n",
       "      <td>4.0</td>\n",
       "      <td>5</td>\n",
       "      <td>2947</td>\n",
       "      <td>9147.6</td>\n",
       "      <td>785000</td>\n",
       "      <td>3.35</td>\n",
       "      <td>5.33</td>\n",
       "      <td>12</td>\n",
       "    </tr>\n",
       "  </tbody>\n",
       "</table>\n",
       "<p>2152 rows × 12 columns</p>\n",
       "</div>"
      ],
      "text/plain": [
       "                      Address      City    Zip  SoldDate  Bathrooms  Bedrooms  \\\n",
       "0           244 N Delaware St  Chandler  85225   2/19/24        3.0         4   \n",
       "1           923 W Mesquite St  Chandler  85225   2/16/24        2.0         3   \n",
       "2           304 W El Prado Rd  Chandler  85225   2/16/24        2.0         3   \n",
       "3          1412 E Ironwood Dr  Chandler  85225   2/16/24        2.0         3   \n",
       "4              663 E Manor Dr  Chandler  85225   2/16/24        2.0         3   \n",
       "...                       ...       ...    ...       ...        ...       ...   \n",
       "2147  5469 NW Meadowlands Ter  Portland  97229    1/2/24        3.0         4   \n",
       "2148      1837 NW Caitlin Ter  Portland  97229  12/29/23        3.0         4   \n",
       "2149      11060 NW Cornell Rd  Portland  97229  12/29/23        2.0         3   \n",
       "2150         200 NW 101st Ave  Portland  97229  12/29/23        3.0         3   \n",
       "2151     13027 NW Hartford St  Portland  97229  12/29/23        4.0         5   \n",
       "\n",
       "      LivingArea  LandArea  PropPrice  InflationRate  FederalInt  MonthID  \n",
       "0           1272    7532.0     275000           3.10        5.33        2  \n",
       "1           1480    7492.0     428000           3.10        5.33        2  \n",
       "2           1300    8024.0     419000           3.10        5.33        2  \n",
       "3           1308    7823.0     435300           3.10        5.33        2  \n",
       "4           1415    8407.0     494000           3.10        5.33        2  \n",
       "...          ...       ...        ...            ...         ...      ...  \n",
       "2147        2592    6969.6     765000           3.09        5.33        1  \n",
       "2148        2146    8712.0     700000           3.35        5.33       12  \n",
       "2149        2048   16117.2     574000           3.35        5.33       12  \n",
       "2150        2520   17859.6     600000           3.35        5.33       12  \n",
       "2151        2947    9147.6     785000           3.35        5.33       12  \n",
       "\n",
       "[2152 rows x 12 columns]"
      ]
     },
     "execution_count": 50,
     "metadata": {},
     "output_type": "execute_result"
    }
   ],
   "source": [
    "#convert LandArea reported in acres to sqft (anything less than a value of 50)\n",
    "df_Sold_Inflation['LandArea'] = df_Sold_Inflation['LandArea'].astype(float)\n",
    "for index, row in df_Sold_Inflation.iterrows():\n",
    "    if row['LandArea'] < 50:\n",
    "        df_Sold_Inflation.at[index, 'LandArea'] *= 43560\n",
    "\n",
    "df_Sold_Inflation_new=df_Sold_Inflation\n",
    "df_Sold_Inflation_new"
   ]
  },
  {
   "cell_type": "code",
   "execution_count": 51,
   "id": "fb543d1b",
   "metadata": {},
   "outputs": [
    {
     "data": {
      "text/html": [
       "<div>\n",
       "<style scoped>\n",
       "    .dataframe tbody tr th:only-of-type {\n",
       "        vertical-align: middle;\n",
       "    }\n",
       "\n",
       "    .dataframe tbody tr th {\n",
       "        vertical-align: top;\n",
       "    }\n",
       "\n",
       "    .dataframe thead th {\n",
       "        text-align: right;\n",
       "    }\n",
       "</style>\n",
       "<table border=\"1\" class=\"dataframe\">\n",
       "  <thead>\n",
       "    <tr style=\"text-align: right;\">\n",
       "      <th></th>\n",
       "      <th>Address</th>\n",
       "      <th>City</th>\n",
       "      <th>Zip</th>\n",
       "      <th>SoldDate</th>\n",
       "      <th>Bathrooms</th>\n",
       "      <th>Bedrooms</th>\n",
       "      <th>LivingArea</th>\n",
       "      <th>LandArea</th>\n",
       "      <th>PropPrice</th>\n",
       "      <th>InflationRate</th>\n",
       "      <th>FederalInt</th>\n",
       "      <th>MonthID</th>\n",
       "    </tr>\n",
       "  </thead>\n",
       "  <tbody>\n",
       "    <tr>\n",
       "      <th>0</th>\n",
       "      <td>244 N Delaware St</td>\n",
       "      <td>Chandler</td>\n",
       "      <td>85225</td>\n",
       "      <td>2/19/24</td>\n",
       "      <td>3.0</td>\n",
       "      <td>4</td>\n",
       "      <td>1272</td>\n",
       "      <td>7532.0</td>\n",
       "      <td>275000</td>\n",
       "      <td>3.10</td>\n",
       "      <td>5.33</td>\n",
       "      <td>2</td>\n",
       "    </tr>\n",
       "    <tr>\n",
       "      <th>1</th>\n",
       "      <td>923 W Mesquite St</td>\n",
       "      <td>Chandler</td>\n",
       "      <td>85225</td>\n",
       "      <td>2/16/24</td>\n",
       "      <td>2.0</td>\n",
       "      <td>3</td>\n",
       "      <td>1480</td>\n",
       "      <td>7492.0</td>\n",
       "      <td>428000</td>\n",
       "      <td>3.10</td>\n",
       "      <td>5.33</td>\n",
       "      <td>2</td>\n",
       "    </tr>\n",
       "    <tr>\n",
       "      <th>2</th>\n",
       "      <td>304 W El Prado Rd</td>\n",
       "      <td>Chandler</td>\n",
       "      <td>85225</td>\n",
       "      <td>2/16/24</td>\n",
       "      <td>2.0</td>\n",
       "      <td>3</td>\n",
       "      <td>1300</td>\n",
       "      <td>8024.0</td>\n",
       "      <td>419000</td>\n",
       "      <td>3.10</td>\n",
       "      <td>5.33</td>\n",
       "      <td>2</td>\n",
       "    </tr>\n",
       "    <tr>\n",
       "      <th>3</th>\n",
       "      <td>1412 E Ironwood Dr</td>\n",
       "      <td>Chandler</td>\n",
       "      <td>85225</td>\n",
       "      <td>2/16/24</td>\n",
       "      <td>2.0</td>\n",
       "      <td>3</td>\n",
       "      <td>1308</td>\n",
       "      <td>7823.0</td>\n",
       "      <td>435300</td>\n",
       "      <td>3.10</td>\n",
       "      <td>5.33</td>\n",
       "      <td>2</td>\n",
       "    </tr>\n",
       "    <tr>\n",
       "      <th>4</th>\n",
       "      <td>663 E Manor Dr</td>\n",
       "      <td>Chandler</td>\n",
       "      <td>85225</td>\n",
       "      <td>2/16/24</td>\n",
       "      <td>2.0</td>\n",
       "      <td>3</td>\n",
       "      <td>1415</td>\n",
       "      <td>8407.0</td>\n",
       "      <td>494000</td>\n",
       "      <td>3.10</td>\n",
       "      <td>5.33</td>\n",
       "      <td>2</td>\n",
       "    </tr>\n",
       "    <tr>\n",
       "      <th>...</th>\n",
       "      <td>...</td>\n",
       "      <td>...</td>\n",
       "      <td>...</td>\n",
       "      <td>...</td>\n",
       "      <td>...</td>\n",
       "      <td>...</td>\n",
       "      <td>...</td>\n",
       "      <td>...</td>\n",
       "      <td>...</td>\n",
       "      <td>...</td>\n",
       "      <td>...</td>\n",
       "      <td>...</td>\n",
       "    </tr>\n",
       "    <tr>\n",
       "      <th>2147</th>\n",
       "      <td>5469 NW Meadowlands Ter</td>\n",
       "      <td>Portland</td>\n",
       "      <td>97229</td>\n",
       "      <td>1/2/24</td>\n",
       "      <td>3.0</td>\n",
       "      <td>4</td>\n",
       "      <td>2592</td>\n",
       "      <td>6969.6</td>\n",
       "      <td>765000</td>\n",
       "      <td>3.09</td>\n",
       "      <td>5.33</td>\n",
       "      <td>1</td>\n",
       "    </tr>\n",
       "    <tr>\n",
       "      <th>2148</th>\n",
       "      <td>1837 NW Caitlin Ter</td>\n",
       "      <td>Portland</td>\n",
       "      <td>97229</td>\n",
       "      <td>12/29/23</td>\n",
       "      <td>3.0</td>\n",
       "      <td>4</td>\n",
       "      <td>2146</td>\n",
       "      <td>8712.0</td>\n",
       "      <td>700000</td>\n",
       "      <td>3.35</td>\n",
       "      <td>5.33</td>\n",
       "      <td>12</td>\n",
       "    </tr>\n",
       "    <tr>\n",
       "      <th>2149</th>\n",
       "      <td>11060 NW Cornell Rd</td>\n",
       "      <td>Portland</td>\n",
       "      <td>97229</td>\n",
       "      <td>12/29/23</td>\n",
       "      <td>2.0</td>\n",
       "      <td>3</td>\n",
       "      <td>2048</td>\n",
       "      <td>16117.2</td>\n",
       "      <td>574000</td>\n",
       "      <td>3.35</td>\n",
       "      <td>5.33</td>\n",
       "      <td>12</td>\n",
       "    </tr>\n",
       "    <tr>\n",
       "      <th>2150</th>\n",
       "      <td>200 NW 101st Ave</td>\n",
       "      <td>Portland</td>\n",
       "      <td>97229</td>\n",
       "      <td>12/29/23</td>\n",
       "      <td>3.0</td>\n",
       "      <td>3</td>\n",
       "      <td>2520</td>\n",
       "      <td>17859.6</td>\n",
       "      <td>600000</td>\n",
       "      <td>3.35</td>\n",
       "      <td>5.33</td>\n",
       "      <td>12</td>\n",
       "    </tr>\n",
       "    <tr>\n",
       "      <th>2151</th>\n",
       "      <td>13027 NW Hartford St</td>\n",
       "      <td>Portland</td>\n",
       "      <td>97229</td>\n",
       "      <td>12/29/23</td>\n",
       "      <td>4.0</td>\n",
       "      <td>5</td>\n",
       "      <td>2947</td>\n",
       "      <td>9147.6</td>\n",
       "      <td>785000</td>\n",
       "      <td>3.35</td>\n",
       "      <td>5.33</td>\n",
       "      <td>12</td>\n",
       "    </tr>\n",
       "  </tbody>\n",
       "</table>\n",
       "<p>2152 rows × 12 columns</p>\n",
       "</div>"
      ],
      "text/plain": [
       "                      Address      City    Zip  SoldDate  Bathrooms  Bedrooms  \\\n",
       "0           244 N Delaware St  Chandler  85225   2/19/24        3.0         4   \n",
       "1           923 W Mesquite St  Chandler  85225   2/16/24        2.0         3   \n",
       "2           304 W El Prado Rd  Chandler  85225   2/16/24        2.0         3   \n",
       "3          1412 E Ironwood Dr  Chandler  85225   2/16/24        2.0         3   \n",
       "4              663 E Manor Dr  Chandler  85225   2/16/24        2.0         3   \n",
       "...                       ...       ...    ...       ...        ...       ...   \n",
       "2147  5469 NW Meadowlands Ter  Portland  97229    1/2/24        3.0         4   \n",
       "2148      1837 NW Caitlin Ter  Portland  97229  12/29/23        3.0         4   \n",
       "2149      11060 NW Cornell Rd  Portland  97229  12/29/23        2.0         3   \n",
       "2150         200 NW 101st Ave  Portland  97229  12/29/23        3.0         3   \n",
       "2151     13027 NW Hartford St  Portland  97229  12/29/23        4.0         5   \n",
       "\n",
       "      LivingArea  LandArea  PropPrice  InflationRate  FederalInt  MonthID  \n",
       "0           1272    7532.0     275000           3.10        5.33        2  \n",
       "1           1480    7492.0     428000           3.10        5.33        2  \n",
       "2           1300    8024.0     419000           3.10        5.33        2  \n",
       "3           1308    7823.0     435300           3.10        5.33        2  \n",
       "4           1415    8407.0     494000           3.10        5.33        2  \n",
       "...          ...       ...        ...            ...         ...      ...  \n",
       "2147        2592    6969.6     765000           3.09        5.33        1  \n",
       "2148        2146    8712.0     700000           3.35        5.33       12  \n",
       "2149        2048   16117.2     574000           3.35        5.33       12  \n",
       "2150        2520   17859.6     600000           3.35        5.33       12  \n",
       "2151        2947    9147.6     785000           3.35        5.33       12  \n",
       "\n",
       "[2152 rows x 12 columns]"
      ]
     },
     "execution_count": 51,
     "metadata": {},
     "output_type": "execute_result"
    }
   ],
   "source": [
    "df_Sold_Inflation_new['Zip'] = df_Sold_Inflation_new['Zip'].astype(str)\n",
    "df_Sold_Inflation_new"
   ]
  },
  {
   "cell_type": "code",
   "execution_count": 52,
   "id": "8745d21d",
   "metadata": {},
   "outputs": [],
   "source": [
    "# Encode (convert to dummy variables) the EnergyType column\n",
    "df_zip_dummies = pd.get_dummies(df_Sold_Inflation_new[\"Zip\"])\n",
    "df_month_dummies = pd.get_dummies(df_Sold_Inflation_new[\"MonthID\"])"
   ]
  },
  {
   "cell_type": "code",
   "execution_count": 53,
   "id": "e4422525",
   "metadata": {},
   "outputs": [
    {
     "data": {
      "text/html": [
       "<div>\n",
       "<style scoped>\n",
       "    .dataframe tbody tr th:only-of-type {\n",
       "        vertical-align: middle;\n",
       "    }\n",
       "\n",
       "    .dataframe tbody tr th {\n",
       "        vertical-align: top;\n",
       "    }\n",
       "\n",
       "    .dataframe thead th {\n",
       "        text-align: right;\n",
       "    }\n",
       "</style>\n",
       "<table border=\"1\" class=\"dataframe\">\n",
       "  <thead>\n",
       "    <tr style=\"text-align: right;\">\n",
       "      <th></th>\n",
       "      <th>Bathrooms</th>\n",
       "      <th>Bedrooms</th>\n",
       "      <th>LivingArea</th>\n",
       "      <th>LandArea</th>\n",
       "      <th>PropPrice</th>\n",
       "    </tr>\n",
       "  </thead>\n",
       "  <tbody>\n",
       "    <tr>\n",
       "      <th>0</th>\n",
       "      <td>-0.104313</td>\n",
       "      <td>0.014305</td>\n",
       "      <td>-0.255728</td>\n",
       "      <td>-0.132186</td>\n",
       "      <td>-0.406954</td>\n",
       "    </tr>\n",
       "    <tr>\n",
       "      <th>1</th>\n",
       "      <td>-0.540413</td>\n",
       "      <td>-0.613967</td>\n",
       "      <td>-0.222953</td>\n",
       "      <td>-0.133260</td>\n",
       "      <td>-0.382384</td>\n",
       "    </tr>\n",
       "    <tr>\n",
       "      <th>2</th>\n",
       "      <td>-0.540413</td>\n",
       "      <td>-0.613967</td>\n",
       "      <td>-0.251316</td>\n",
       "      <td>-0.118984</td>\n",
       "      <td>-0.383830</td>\n",
       "    </tr>\n",
       "    <tr>\n",
       "      <th>3</th>\n",
       "      <td>-0.540413</td>\n",
       "      <td>-0.613967</td>\n",
       "      <td>-0.250055</td>\n",
       "      <td>-0.124378</td>\n",
       "      <td>-0.381212</td>\n",
       "    </tr>\n",
       "    <tr>\n",
       "      <th>4</th>\n",
       "      <td>-0.540413</td>\n",
       "      <td>-0.613967</td>\n",
       "      <td>-0.233195</td>\n",
       "      <td>-0.108707</td>\n",
       "      <td>-0.371785</td>\n",
       "    </tr>\n",
       "    <tr>\n",
       "      <th>...</th>\n",
       "      <td>...</td>\n",
       "      <td>...</td>\n",
       "      <td>...</td>\n",
       "      <td>...</td>\n",
       "      <td>...</td>\n",
       "    </tr>\n",
       "    <tr>\n",
       "      <th>2147</th>\n",
       "      <td>-0.104313</td>\n",
       "      <td>0.014305</td>\n",
       "      <td>-0.047730</td>\n",
       "      <td>-0.147278</td>\n",
       "      <td>-0.328266</td>\n",
       "    </tr>\n",
       "    <tr>\n",
       "      <th>2148</th>\n",
       "      <td>-0.104313</td>\n",
       "      <td>0.014305</td>\n",
       "      <td>-0.118008</td>\n",
       "      <td>-0.100523</td>\n",
       "      <td>-0.338704</td>\n",
       "    </tr>\n",
       "    <tr>\n",
       "      <th>2149</th>\n",
       "      <td>-0.540413</td>\n",
       "      <td>-0.613967</td>\n",
       "      <td>-0.133451</td>\n",
       "      <td>0.098184</td>\n",
       "      <td>-0.358938</td>\n",
       "    </tr>\n",
       "    <tr>\n",
       "      <th>2150</th>\n",
       "      <td>-0.104313</td>\n",
       "      <td>-0.613967</td>\n",
       "      <td>-0.059076</td>\n",
       "      <td>0.144938</td>\n",
       "      <td>-0.354763</td>\n",
       "    </tr>\n",
       "    <tr>\n",
       "      <th>2151</th>\n",
       "      <td>0.331786</td>\n",
       "      <td>0.642578</td>\n",
       "      <td>0.008208</td>\n",
       "      <td>-0.088834</td>\n",
       "      <td>-0.325054</td>\n",
       "    </tr>\n",
       "  </tbody>\n",
       "</table>\n",
       "<p>2152 rows × 5 columns</p>\n",
       "</div>"
      ],
      "text/plain": [
       "      Bathrooms  Bedrooms  LivingArea  LandArea  PropPrice\n",
       "0     -0.104313  0.014305   -0.255728 -0.132186  -0.406954\n",
       "1     -0.540413 -0.613967   -0.222953 -0.133260  -0.382384\n",
       "2     -0.540413 -0.613967   -0.251316 -0.118984  -0.383830\n",
       "3     -0.540413 -0.613967   -0.250055 -0.124378  -0.381212\n",
       "4     -0.540413 -0.613967   -0.233195 -0.108707  -0.371785\n",
       "...         ...       ...         ...       ...        ...\n",
       "2147  -0.104313  0.014305   -0.047730 -0.147278  -0.328266\n",
       "2148  -0.104313  0.014305   -0.118008 -0.100523  -0.338704\n",
       "2149  -0.540413 -0.613967   -0.133451  0.098184  -0.358938\n",
       "2150  -0.104313 -0.613967   -0.059076  0.144938  -0.354763\n",
       "2151   0.331786  0.642578    0.008208 -0.088834  -0.325054\n",
       "\n",
       "[2152 rows x 5 columns]"
      ]
     },
     "execution_count": 53,
     "metadata": {},
     "output_type": "execute_result"
    }
   ],
   "source": [
    "# Scaling the numeric columns\n",
    "df_Sold_Inflation_scaled = StandardScaler().fit_transform(df_Sold_Inflation_new[[\"Bathrooms\", \"Bedrooms\", \"LivingArea\",\"LandArea\",\"PropPrice\"]])\n",
    "\n",
    "# Creating a DataFrame with with the scaled data\n",
    "df_sold_transformed = pd.DataFrame(df_Sold_Inflation_scaled, columns=[\"Bathrooms\", \"Bedrooms\", \"LivingArea\",\"LandArea\",\"PropPrice\"])\n",
    "\n",
    "# # Display sample data\n",
    "df_sold_transformed"
   ]
  },
  {
   "cell_type": "code",
   "execution_count": 54,
   "id": "044b7ec8",
   "metadata": {},
   "outputs": [
    {
     "data": {
      "text/html": [
       "<div>\n",
       "<style scoped>\n",
       "    .dataframe tbody tr th:only-of-type {\n",
       "        vertical-align: middle;\n",
       "    }\n",
       "\n",
       "    .dataframe tbody tr th {\n",
       "        vertical-align: top;\n",
       "    }\n",
       "\n",
       "    .dataframe thead th {\n",
       "        text-align: right;\n",
       "    }\n",
       "</style>\n",
       "<table border=\"1\" class=\"dataframe\">\n",
       "  <thead>\n",
       "    <tr style=\"text-align: right;\">\n",
       "      <th></th>\n",
       "      <th>Bathrooms</th>\n",
       "      <th>Bedrooms</th>\n",
       "      <th>LivingArea</th>\n",
       "      <th>LandArea</th>\n",
       "      <th>PropPrice</th>\n",
       "      <th>Zip</th>\n",
       "      <th>1</th>\n",
       "      <th>2</th>\n",
       "      <th>3</th>\n",
       "      <th>4</th>\n",
       "      <th>5</th>\n",
       "      <th>6</th>\n",
       "      <th>7</th>\n",
       "      <th>8</th>\n",
       "      <th>9</th>\n",
       "      <th>10</th>\n",
       "      <th>11</th>\n",
       "      <th>12</th>\n",
       "    </tr>\n",
       "  </thead>\n",
       "  <tbody>\n",
       "    <tr>\n",
       "      <th>0</th>\n",
       "      <td>-0.104313</td>\n",
       "      <td>0.014305</td>\n",
       "      <td>-0.255728</td>\n",
       "      <td>-0.132186</td>\n",
       "      <td>-0.406954</td>\n",
       "      <td>85225</td>\n",
       "      <td>0</td>\n",
       "      <td>1</td>\n",
       "      <td>0</td>\n",
       "      <td>0</td>\n",
       "      <td>0</td>\n",
       "      <td>0</td>\n",
       "      <td>0</td>\n",
       "      <td>0</td>\n",
       "      <td>0</td>\n",
       "      <td>0</td>\n",
       "      <td>0</td>\n",
       "      <td>0</td>\n",
       "    </tr>\n",
       "    <tr>\n",
       "      <th>1</th>\n",
       "      <td>-0.540413</td>\n",
       "      <td>-0.613967</td>\n",
       "      <td>-0.222953</td>\n",
       "      <td>-0.133260</td>\n",
       "      <td>-0.382384</td>\n",
       "      <td>85225</td>\n",
       "      <td>0</td>\n",
       "      <td>1</td>\n",
       "      <td>0</td>\n",
       "      <td>0</td>\n",
       "      <td>0</td>\n",
       "      <td>0</td>\n",
       "      <td>0</td>\n",
       "      <td>0</td>\n",
       "      <td>0</td>\n",
       "      <td>0</td>\n",
       "      <td>0</td>\n",
       "      <td>0</td>\n",
       "    </tr>\n",
       "    <tr>\n",
       "      <th>2</th>\n",
       "      <td>-0.540413</td>\n",
       "      <td>-0.613967</td>\n",
       "      <td>-0.251316</td>\n",
       "      <td>-0.118984</td>\n",
       "      <td>-0.383830</td>\n",
       "      <td>85225</td>\n",
       "      <td>0</td>\n",
       "      <td>1</td>\n",
       "      <td>0</td>\n",
       "      <td>0</td>\n",
       "      <td>0</td>\n",
       "      <td>0</td>\n",
       "      <td>0</td>\n",
       "      <td>0</td>\n",
       "      <td>0</td>\n",
       "      <td>0</td>\n",
       "      <td>0</td>\n",
       "      <td>0</td>\n",
       "    </tr>\n",
       "    <tr>\n",
       "      <th>3</th>\n",
       "      <td>-0.540413</td>\n",
       "      <td>-0.613967</td>\n",
       "      <td>-0.250055</td>\n",
       "      <td>-0.124378</td>\n",
       "      <td>-0.381212</td>\n",
       "      <td>85225</td>\n",
       "      <td>0</td>\n",
       "      <td>1</td>\n",
       "      <td>0</td>\n",
       "      <td>0</td>\n",
       "      <td>0</td>\n",
       "      <td>0</td>\n",
       "      <td>0</td>\n",
       "      <td>0</td>\n",
       "      <td>0</td>\n",
       "      <td>0</td>\n",
       "      <td>0</td>\n",
       "      <td>0</td>\n",
       "    </tr>\n",
       "    <tr>\n",
       "      <th>4</th>\n",
       "      <td>-0.540413</td>\n",
       "      <td>-0.613967</td>\n",
       "      <td>-0.233195</td>\n",
       "      <td>-0.108707</td>\n",
       "      <td>-0.371785</td>\n",
       "      <td>85225</td>\n",
       "      <td>0</td>\n",
       "      <td>1</td>\n",
       "      <td>0</td>\n",
       "      <td>0</td>\n",
       "      <td>0</td>\n",
       "      <td>0</td>\n",
       "      <td>0</td>\n",
       "      <td>0</td>\n",
       "      <td>0</td>\n",
       "      <td>0</td>\n",
       "      <td>0</td>\n",
       "      <td>0</td>\n",
       "    </tr>\n",
       "    <tr>\n",
       "      <th>...</th>\n",
       "      <td>...</td>\n",
       "      <td>...</td>\n",
       "      <td>...</td>\n",
       "      <td>...</td>\n",
       "      <td>...</td>\n",
       "      <td>...</td>\n",
       "      <td>...</td>\n",
       "      <td>...</td>\n",
       "      <td>...</td>\n",
       "      <td>...</td>\n",
       "      <td>...</td>\n",
       "      <td>...</td>\n",
       "      <td>...</td>\n",
       "      <td>...</td>\n",
       "      <td>...</td>\n",
       "      <td>...</td>\n",
       "      <td>...</td>\n",
       "      <td>...</td>\n",
       "    </tr>\n",
       "    <tr>\n",
       "      <th>2147</th>\n",
       "      <td>-0.104313</td>\n",
       "      <td>0.014305</td>\n",
       "      <td>-0.047730</td>\n",
       "      <td>-0.147278</td>\n",
       "      <td>-0.328266</td>\n",
       "      <td>97229</td>\n",
       "      <td>1</td>\n",
       "      <td>0</td>\n",
       "      <td>0</td>\n",
       "      <td>0</td>\n",
       "      <td>0</td>\n",
       "      <td>0</td>\n",
       "      <td>0</td>\n",
       "      <td>0</td>\n",
       "      <td>0</td>\n",
       "      <td>0</td>\n",
       "      <td>0</td>\n",
       "      <td>0</td>\n",
       "    </tr>\n",
       "    <tr>\n",
       "      <th>2148</th>\n",
       "      <td>-0.104313</td>\n",
       "      <td>0.014305</td>\n",
       "      <td>-0.118008</td>\n",
       "      <td>-0.100523</td>\n",
       "      <td>-0.338704</td>\n",
       "      <td>97229</td>\n",
       "      <td>0</td>\n",
       "      <td>0</td>\n",
       "      <td>0</td>\n",
       "      <td>0</td>\n",
       "      <td>0</td>\n",
       "      <td>0</td>\n",
       "      <td>0</td>\n",
       "      <td>0</td>\n",
       "      <td>0</td>\n",
       "      <td>0</td>\n",
       "      <td>0</td>\n",
       "      <td>1</td>\n",
       "    </tr>\n",
       "    <tr>\n",
       "      <th>2149</th>\n",
       "      <td>-0.540413</td>\n",
       "      <td>-0.613967</td>\n",
       "      <td>-0.133451</td>\n",
       "      <td>0.098184</td>\n",
       "      <td>-0.358938</td>\n",
       "      <td>97229</td>\n",
       "      <td>0</td>\n",
       "      <td>0</td>\n",
       "      <td>0</td>\n",
       "      <td>0</td>\n",
       "      <td>0</td>\n",
       "      <td>0</td>\n",
       "      <td>0</td>\n",
       "      <td>0</td>\n",
       "      <td>0</td>\n",
       "      <td>0</td>\n",
       "      <td>0</td>\n",
       "      <td>1</td>\n",
       "    </tr>\n",
       "    <tr>\n",
       "      <th>2150</th>\n",
       "      <td>-0.104313</td>\n",
       "      <td>-0.613967</td>\n",
       "      <td>-0.059076</td>\n",
       "      <td>0.144938</td>\n",
       "      <td>-0.354763</td>\n",
       "      <td>97229</td>\n",
       "      <td>0</td>\n",
       "      <td>0</td>\n",
       "      <td>0</td>\n",
       "      <td>0</td>\n",
       "      <td>0</td>\n",
       "      <td>0</td>\n",
       "      <td>0</td>\n",
       "      <td>0</td>\n",
       "      <td>0</td>\n",
       "      <td>0</td>\n",
       "      <td>0</td>\n",
       "      <td>1</td>\n",
       "    </tr>\n",
       "    <tr>\n",
       "      <th>2151</th>\n",
       "      <td>0.331786</td>\n",
       "      <td>0.642578</td>\n",
       "      <td>0.008208</td>\n",
       "      <td>-0.088834</td>\n",
       "      <td>-0.325054</td>\n",
       "      <td>97229</td>\n",
       "      <td>0</td>\n",
       "      <td>0</td>\n",
       "      <td>0</td>\n",
       "      <td>0</td>\n",
       "      <td>0</td>\n",
       "      <td>0</td>\n",
       "      <td>0</td>\n",
       "      <td>0</td>\n",
       "      <td>0</td>\n",
       "      <td>0</td>\n",
       "      <td>0</td>\n",
       "      <td>1</td>\n",
       "    </tr>\n",
       "  </tbody>\n",
       "</table>\n",
       "<p>2152 rows × 18 columns</p>\n",
       "</div>"
      ],
      "text/plain": [
       "      Bathrooms  Bedrooms  LivingArea  LandArea  PropPrice    Zip  1  2  3  4  \\\n",
       "0     -0.104313  0.014305   -0.255728 -0.132186  -0.406954  85225  0  1  0  0   \n",
       "1     -0.540413 -0.613967   -0.222953 -0.133260  -0.382384  85225  0  1  0  0   \n",
       "2     -0.540413 -0.613967   -0.251316 -0.118984  -0.383830  85225  0  1  0  0   \n",
       "3     -0.540413 -0.613967   -0.250055 -0.124378  -0.381212  85225  0  1  0  0   \n",
       "4     -0.540413 -0.613967   -0.233195 -0.108707  -0.371785  85225  0  1  0  0   \n",
       "...         ...       ...         ...       ...        ...    ... .. .. .. ..   \n",
       "2147  -0.104313  0.014305   -0.047730 -0.147278  -0.328266  97229  1  0  0  0   \n",
       "2148  -0.104313  0.014305   -0.118008 -0.100523  -0.338704  97229  0  0  0  0   \n",
       "2149  -0.540413 -0.613967   -0.133451  0.098184  -0.358938  97229  0  0  0  0   \n",
       "2150  -0.104313 -0.613967   -0.059076  0.144938  -0.354763  97229  0  0  0  0   \n",
       "2151   0.331786  0.642578    0.008208 -0.088834  -0.325054  97229  0  0  0  0   \n",
       "\n",
       "      5  6  7  8  9  10  11  12  \n",
       "0     0  0  0  0  0   0   0   0  \n",
       "1     0  0  0  0  0   0   0   0  \n",
       "2     0  0  0  0  0   0   0   0  \n",
       "3     0  0  0  0  0   0   0   0  \n",
       "4     0  0  0  0  0   0   0   0  \n",
       "...  .. .. .. .. ..  ..  ..  ..  \n",
       "2147  0  0  0  0  0   0   0   0  \n",
       "2148  0  0  0  0  0   0   0   1  \n",
       "2149  0  0  0  0  0   0   0   1  \n",
       "2150  0  0  0  0  0   0   0   1  \n",
       "2151  0  0  0  0  0   0   0   1  \n",
       "\n",
       "[2152 rows x 18 columns]"
      ]
     },
     "execution_count": 54,
     "metadata": {},
     "output_type": "execute_result"
    }
   ],
   "source": [
    "# Concatenate the df_zip_dummies and the df_month_dummies DataFrames\n",
    "df_sold_transformed = pd.concat([df_sold_transformed, df_Sold_Inflation_new['Zip'],df_month_dummies], axis=1)\n",
    "\n",
    "# Display sample data\n",
    "df_sold_transformed"
   ]
  },
  {
   "cell_type": "code",
   "execution_count": 55,
   "id": "97028b53",
   "metadata": {},
   "outputs": [],
   "source": [
    "#Split above dataframe by zip\n",
    "df_Az=df_sold_transformed[df_sold_transformed['Zip']=='85225']\n",
    "df_Chi=df_sold_transformed[df_sold_transformed['Zip']=='60629']\n",
    "df_LA=df_sold_transformed[df_sold_transformed['Zip']=='90210']\n",
    "df_Fl=df_sold_transformed[df_sold_transformed['Zip']=='33186']\n",
    "df_NY=df_sold_transformed[df_sold_transformed['Zip']=='11368']\n",
    "df_OR=df_sold_transformed[df_sold_transformed['Zip']=='97229']\n"
   ]
  },
  {
   "cell_type": "code",
   "execution_count": 56,
   "id": "507a5ceb",
   "metadata": {},
   "outputs": [
    {
     "data": {
      "text/html": [
       "<div>\n",
       "<style scoped>\n",
       "    .dataframe tbody tr th:only-of-type {\n",
       "        vertical-align: middle;\n",
       "    }\n",
       "\n",
       "    .dataframe tbody tr th {\n",
       "        vertical-align: top;\n",
       "    }\n",
       "\n",
       "    .dataframe thead th {\n",
       "        text-align: right;\n",
       "    }\n",
       "</style>\n",
       "<table border=\"1\" class=\"dataframe\">\n",
       "  <thead>\n",
       "    <tr style=\"text-align: right;\">\n",
       "      <th></th>\n",
       "      <th>Address</th>\n",
       "      <th>City</th>\n",
       "      <th>Zip</th>\n",
       "      <th>SoldDate</th>\n",
       "      <th>Bathrooms</th>\n",
       "      <th>Bedrooms</th>\n",
       "      <th>LivingArea</th>\n",
       "      <th>LandArea</th>\n",
       "      <th>PropPrice</th>\n",
       "      <th>InflationRate</th>\n",
       "      <th>FederalInt</th>\n",
       "      <th>MonthID</th>\n",
       "    </tr>\n",
       "  </thead>\n",
       "  <tbody>\n",
       "    <tr>\n",
       "      <th>2094</th>\n",
       "      <td>15842 NW Hackney Dr</td>\n",
       "      <td>Portland</td>\n",
       "      <td>97229</td>\n",
       "      <td>2/20/24</td>\n",
       "      <td>3.0</td>\n",
       "      <td>4</td>\n",
       "      <td>2134</td>\n",
       "      <td>6098.4</td>\n",
       "      <td>660000</td>\n",
       "      <td>3.10</td>\n",
       "      <td>5.33</td>\n",
       "      <td>2</td>\n",
       "    </tr>\n",
       "    <tr>\n",
       "      <th>2095</th>\n",
       "      <td>15883 NW Gooderham St #L-96</td>\n",
       "      <td>Portland</td>\n",
       "      <td>97229</td>\n",
       "      <td>2/20/24</td>\n",
       "      <td>5.0</td>\n",
       "      <td>6</td>\n",
       "      <td>4425</td>\n",
       "      <td>5709.0</td>\n",
       "      <td>1494955</td>\n",
       "      <td>3.10</td>\n",
       "      <td>5.33</td>\n",
       "      <td>2</td>\n",
       "    </tr>\n",
       "    <tr>\n",
       "      <th>2096</th>\n",
       "      <td>10771 NW Harding Ct</td>\n",
       "      <td>Portland</td>\n",
       "      <td>97229</td>\n",
       "      <td>2/16/24</td>\n",
       "      <td>3.0</td>\n",
       "      <td>3</td>\n",
       "      <td>1650</td>\n",
       "      <td>6534.0</td>\n",
       "      <td>610000</td>\n",
       "      <td>3.10</td>\n",
       "      <td>5.33</td>\n",
       "      <td>2</td>\n",
       "    </tr>\n",
       "    <tr>\n",
       "      <th>2097</th>\n",
       "      <td>8577 NW Ryan St</td>\n",
       "      <td>Portland</td>\n",
       "      <td>97229</td>\n",
       "      <td>2/16/24</td>\n",
       "      <td>3.0</td>\n",
       "      <td>4</td>\n",
       "      <td>2594</td>\n",
       "      <td>6534.0</td>\n",
       "      <td>770000</td>\n",
       "      <td>3.10</td>\n",
       "      <td>5.33</td>\n",
       "      <td>2</td>\n",
       "    </tr>\n",
       "    <tr>\n",
       "      <th>2098</th>\n",
       "      <td>5124 NW Crady Ln</td>\n",
       "      <td>Portland</td>\n",
       "      <td>97229</td>\n",
       "      <td>2/16/24</td>\n",
       "      <td>3.0</td>\n",
       "      <td>5</td>\n",
       "      <td>3275</td>\n",
       "      <td>5227.2</td>\n",
       "      <td>780000</td>\n",
       "      <td>3.10</td>\n",
       "      <td>5.33</td>\n",
       "      <td>2</td>\n",
       "    </tr>\n",
       "    <tr>\n",
       "      <th>2099</th>\n",
       "      <td>4578 NW Tamoshanter Way</td>\n",
       "      <td>Portland</td>\n",
       "      <td>97229</td>\n",
       "      <td>2/15/24</td>\n",
       "      <td>3.0</td>\n",
       "      <td>3</td>\n",
       "      <td>2432</td>\n",
       "      <td>7840.8</td>\n",
       "      <td>965000</td>\n",
       "      <td>3.10</td>\n",
       "      <td>5.33</td>\n",
       "      <td>2</td>\n",
       "    </tr>\n",
       "    <tr>\n",
       "      <th>2100</th>\n",
       "      <td>14412 NW Whistler Ln</td>\n",
       "      <td>Portland</td>\n",
       "      <td>97229</td>\n",
       "      <td>2/15/24</td>\n",
       "      <td>3.0</td>\n",
       "      <td>5</td>\n",
       "      <td>2835</td>\n",
       "      <td>6969.6</td>\n",
       "      <td>775000</td>\n",
       "      <td>3.10</td>\n",
       "      <td>5.33</td>\n",
       "      <td>2</td>\n",
       "    </tr>\n",
       "    <tr>\n",
       "      <th>2101</th>\n",
       "      <td>16790 NW Vetter Dr</td>\n",
       "      <td>Portland</td>\n",
       "      <td>97229</td>\n",
       "      <td>2/15/24</td>\n",
       "      <td>4.0</td>\n",
       "      <td>6</td>\n",
       "      <td>3976</td>\n",
       "      <td>6534.0</td>\n",
       "      <td>1130000</td>\n",
       "      <td>3.10</td>\n",
       "      <td>5.33</td>\n",
       "      <td>2</td>\n",
       "    </tr>\n",
       "    <tr>\n",
       "      <th>2102</th>\n",
       "      <td>7899 NW 162nd Ter #L106</td>\n",
       "      <td>Portland</td>\n",
       "      <td>97229</td>\n",
       "      <td>2/15/24</td>\n",
       "      <td>5.0</td>\n",
       "      <td>6</td>\n",
       "      <td>3581</td>\n",
       "      <td>5190.0</td>\n",
       "      <td>1375375</td>\n",
       "      <td>3.10</td>\n",
       "      <td>5.33</td>\n",
       "      <td>2</td>\n",
       "    </tr>\n",
       "    <tr>\n",
       "      <th>2103</th>\n",
       "      <td>7273 NW 167th Ave</td>\n",
       "      <td>Portland</td>\n",
       "      <td>97229</td>\n",
       "      <td>2/13/24</td>\n",
       "      <td>3.0</td>\n",
       "      <td>4</td>\n",
       "      <td>2252</td>\n",
       "      <td>3049.2</td>\n",
       "      <td>765000</td>\n",
       "      <td>3.10</td>\n",
       "      <td>5.33</td>\n",
       "      <td>2</td>\n",
       "    </tr>\n",
       "    <tr>\n",
       "      <th>2104</th>\n",
       "      <td>12958 NW Ethan Dr</td>\n",
       "      <td>Portland</td>\n",
       "      <td>97229</td>\n",
       "      <td>2/12/24</td>\n",
       "      <td>4.0</td>\n",
       "      <td>5</td>\n",
       "      <td>2901</td>\n",
       "      <td>5662.8</td>\n",
       "      <td>830500</td>\n",
       "      <td>3.10</td>\n",
       "      <td>5.33</td>\n",
       "      <td>2</td>\n",
       "    </tr>\n",
       "    <tr>\n",
       "      <th>2105</th>\n",
       "      <td>2739 NW Avocet Ln</td>\n",
       "      <td>Portland</td>\n",
       "      <td>97229</td>\n",
       "      <td>2/9/24</td>\n",
       "      <td>4.0</td>\n",
       "      <td>4</td>\n",
       "      <td>4168</td>\n",
       "      <td>20037.6</td>\n",
       "      <td>1075000</td>\n",
       "      <td>3.10</td>\n",
       "      <td>5.33</td>\n",
       "      <td>2</td>\n",
       "    </tr>\n",
       "    <tr>\n",
       "      <th>2106</th>\n",
       "      <td>12581 NW Forest Spring Ln</td>\n",
       "      <td>Portland</td>\n",
       "      <td>97229</td>\n",
       "      <td>2/9/24</td>\n",
       "      <td>3.0</td>\n",
       "      <td>4</td>\n",
       "      <td>2547</td>\n",
       "      <td>3920.4</td>\n",
       "      <td>720000</td>\n",
       "      <td>3.10</td>\n",
       "      <td>5.33</td>\n",
       "      <td>2</td>\n",
       "    </tr>\n",
       "    <tr>\n",
       "      <th>2107</th>\n",
       "      <td>15858 NW Ridgeline St #L63</td>\n",
       "      <td>Portland</td>\n",
       "      <td>97229</td>\n",
       "      <td>2/9/24</td>\n",
       "      <td>4.0</td>\n",
       "      <td>6</td>\n",
       "      <td>3738</td>\n",
       "      <td>4739.0</td>\n",
       "      <td>1237870</td>\n",
       "      <td>3.10</td>\n",
       "      <td>5.33</td>\n",
       "      <td>2</td>\n",
       "    </tr>\n",
       "    <tr>\n",
       "      <th>2108</th>\n",
       "      <td>15874 NW Raywood Ln</td>\n",
       "      <td>Portland</td>\n",
       "      <td>97229</td>\n",
       "      <td>2/8/24</td>\n",
       "      <td>3.0</td>\n",
       "      <td>4</td>\n",
       "      <td>2294</td>\n",
       "      <td>3042.0</td>\n",
       "      <td>825300</td>\n",
       "      <td>3.10</td>\n",
       "      <td>5.33</td>\n",
       "      <td>2</td>\n",
       "    </tr>\n",
       "    <tr>\n",
       "      <th>2109</th>\n",
       "      <td>15714 NW Clubhouse Dr</td>\n",
       "      <td>Portland</td>\n",
       "      <td>97229</td>\n",
       "      <td>2/6/24</td>\n",
       "      <td>3.0</td>\n",
       "      <td>2</td>\n",
       "      <td>1687</td>\n",
       "      <td>3920.4</td>\n",
       "      <td>505000</td>\n",
       "      <td>3.10</td>\n",
       "      <td>5.33</td>\n",
       "      <td>2</td>\n",
       "    </tr>\n",
       "    <tr>\n",
       "      <th>2110</th>\n",
       "      <td>5857 NW Bannister Dr</td>\n",
       "      <td>Portland</td>\n",
       "      <td>97229</td>\n",
       "      <td>2/6/24</td>\n",
       "      <td>4.0</td>\n",
       "      <td>5</td>\n",
       "      <td>3425</td>\n",
       "      <td>4792.0</td>\n",
       "      <td>940000</td>\n",
       "      <td>3.10</td>\n",
       "      <td>5.33</td>\n",
       "      <td>2</td>\n",
       "    </tr>\n",
       "    <tr>\n",
       "      <th>2111</th>\n",
       "      <td>11974 NW Sadie St</td>\n",
       "      <td>Portland</td>\n",
       "      <td>97229</td>\n",
       "      <td>2/6/24</td>\n",
       "      <td>3.0</td>\n",
       "      <td>5</td>\n",
       "      <td>3131</td>\n",
       "      <td>4792.0</td>\n",
       "      <td>1059950</td>\n",
       "      <td>3.10</td>\n",
       "      <td>5.33</td>\n",
       "      <td>2</td>\n",
       "    </tr>\n",
       "    <tr>\n",
       "      <th>2112</th>\n",
       "      <td>4792 NW Gannet Ter</td>\n",
       "      <td>Portland</td>\n",
       "      <td>97229</td>\n",
       "      <td>1/31/24</td>\n",
       "      <td>3.0</td>\n",
       "      <td>2</td>\n",
       "      <td>1834</td>\n",
       "      <td>2613.6</td>\n",
       "      <td>561000</td>\n",
       "      <td>3.09</td>\n",
       "      <td>5.33</td>\n",
       "      <td>1</td>\n",
       "    </tr>\n",
       "    <tr>\n",
       "      <th>2113</th>\n",
       "      <td>1674 NW 143rd Ave</td>\n",
       "      <td>Portland</td>\n",
       "      <td>97229</td>\n",
       "      <td>1/31/24</td>\n",
       "      <td>1.0</td>\n",
       "      <td>2</td>\n",
       "      <td>767</td>\n",
       "      <td>1742.0</td>\n",
       "      <td>335000</td>\n",
       "      <td>3.09</td>\n",
       "      <td>5.33</td>\n",
       "      <td>1</td>\n",
       "    </tr>\n",
       "    <tr>\n",
       "      <th>2114</th>\n",
       "      <td>5273 NW 127th Ter</td>\n",
       "      <td>Portland</td>\n",
       "      <td>97229</td>\n",
       "      <td>1/31/24</td>\n",
       "      <td>3.0</td>\n",
       "      <td>5</td>\n",
       "      <td>3286</td>\n",
       "      <td>5227.2</td>\n",
       "      <td>800000</td>\n",
       "      <td>3.09</td>\n",
       "      <td>5.33</td>\n",
       "      <td>1</td>\n",
       "    </tr>\n",
       "    <tr>\n",
       "      <th>2115</th>\n",
       "      <td>16201 NW Fescue Ct</td>\n",
       "      <td>Portland</td>\n",
       "      <td>97229</td>\n",
       "      <td>1/30/24</td>\n",
       "      <td>3.0</td>\n",
       "      <td>3</td>\n",
       "      <td>1832</td>\n",
       "      <td>871.2</td>\n",
       "      <td>380000</td>\n",
       "      <td>3.09</td>\n",
       "      <td>5.33</td>\n",
       "      <td>1</td>\n",
       "    </tr>\n",
       "    <tr>\n",
       "      <th>2116</th>\n",
       "      <td>7233 NW Dusty Ter</td>\n",
       "      <td>Portland</td>\n",
       "      <td>97229</td>\n",
       "      <td>1/30/24</td>\n",
       "      <td>4.0</td>\n",
       "      <td>5</td>\n",
       "      <td>2951</td>\n",
       "      <td>3049.2</td>\n",
       "      <td>850000</td>\n",
       "      <td>3.09</td>\n",
       "      <td>5.33</td>\n",
       "      <td>1</td>\n",
       "    </tr>\n",
       "    <tr>\n",
       "      <th>2117</th>\n",
       "      <td>15854 NW Holman Way #L2</td>\n",
       "      <td>Portland</td>\n",
       "      <td>97229</td>\n",
       "      <td>1/26/24</td>\n",
       "      <td>4.0</td>\n",
       "      <td>4</td>\n",
       "      <td>2777</td>\n",
       "      <td>3779.0</td>\n",
       "      <td>931070</td>\n",
       "      <td>3.09</td>\n",
       "      <td>5.33</td>\n",
       "      <td>1</td>\n",
       "    </tr>\n",
       "    <tr>\n",
       "      <th>2118</th>\n",
       "      <td>16885 NW Argyle Way</td>\n",
       "      <td>Portland</td>\n",
       "      <td>97229</td>\n",
       "      <td>1/25/24</td>\n",
       "      <td>3.0</td>\n",
       "      <td>3</td>\n",
       "      <td>1875</td>\n",
       "      <td>7840.8</td>\n",
       "      <td>600000</td>\n",
       "      <td>3.09</td>\n",
       "      <td>5.33</td>\n",
       "      <td>1</td>\n",
       "    </tr>\n",
       "    <tr>\n",
       "      <th>2119</th>\n",
       "      <td>15898 NW Claremont Dr</td>\n",
       "      <td>Portland</td>\n",
       "      <td>97229</td>\n",
       "      <td>1/25/24</td>\n",
       "      <td>3.0</td>\n",
       "      <td>3</td>\n",
       "      <td>2442</td>\n",
       "      <td>5662.8</td>\n",
       "      <td>855000</td>\n",
       "      <td>3.09</td>\n",
       "      <td>5.33</td>\n",
       "      <td>1</td>\n",
       "    </tr>\n",
       "    <tr>\n",
       "      <th>2120</th>\n",
       "      <td>15675 NW Ridgeline St #L33</td>\n",
       "      <td>Portland</td>\n",
       "      <td>97229</td>\n",
       "      <td>1/24/24</td>\n",
       "      <td>4.0</td>\n",
       "      <td>6</td>\n",
       "      <td>3581</td>\n",
       "      <td>4791.6</td>\n",
       "      <td>1099995</td>\n",
       "      <td>3.09</td>\n",
       "      <td>5.33</td>\n",
       "      <td>1</td>\n",
       "    </tr>\n",
       "    <tr>\n",
       "      <th>2121</th>\n",
       "      <td>13819 NW Falconridge Ln</td>\n",
       "      <td>Portland</td>\n",
       "      <td>97229</td>\n",
       "      <td>1/23/24</td>\n",
       "      <td>3.0</td>\n",
       "      <td>4</td>\n",
       "      <td>2740</td>\n",
       "      <td>6969.6</td>\n",
       "      <td>875000</td>\n",
       "      <td>3.09</td>\n",
       "      <td>5.33</td>\n",
       "      <td>1</td>\n",
       "    </tr>\n",
       "    <tr>\n",
       "      <th>2122</th>\n",
       "      <td>3762 NW Devoto Ln</td>\n",
       "      <td>Portland</td>\n",
       "      <td>97229</td>\n",
       "      <td>1/23/24</td>\n",
       "      <td>4.0</td>\n",
       "      <td>4</td>\n",
       "      <td>3926</td>\n",
       "      <td>9583.2</td>\n",
       "      <td>1295000</td>\n",
       "      <td>3.09</td>\n",
       "      <td>5.33</td>\n",
       "      <td>1</td>\n",
       "    </tr>\n",
       "    <tr>\n",
       "      <th>2123</th>\n",
       "      <td>4015 NW Devoto Ln</td>\n",
       "      <td>Portland</td>\n",
       "      <td>97229</td>\n",
       "      <td>1/22/24</td>\n",
       "      <td>3.0</td>\n",
       "      <td>4</td>\n",
       "      <td>4757</td>\n",
       "      <td>12196.8</td>\n",
       "      <td>1150000</td>\n",
       "      <td>3.09</td>\n",
       "      <td>5.33</td>\n",
       "      <td>1</td>\n",
       "    </tr>\n",
       "    <tr>\n",
       "      <th>2124</th>\n",
       "      <td>13473 NW Greenwood Dr</td>\n",
       "      <td>Portland</td>\n",
       "      <td>97229</td>\n",
       "      <td>1/22/24</td>\n",
       "      <td>3.0</td>\n",
       "      <td>5</td>\n",
       "      <td>3480</td>\n",
       "      <td>9147.6</td>\n",
       "      <td>945000</td>\n",
       "      <td>3.09</td>\n",
       "      <td>5.33</td>\n",
       "      <td>1</td>\n",
       "    </tr>\n",
       "    <tr>\n",
       "      <th>2125</th>\n",
       "      <td>3036 NW Bauer Woods Dr</td>\n",
       "      <td>Portland</td>\n",
       "      <td>97229</td>\n",
       "      <td>1/19/24</td>\n",
       "      <td>4.0</td>\n",
       "      <td>4</td>\n",
       "      <td>3846</td>\n",
       "      <td>13503.6</td>\n",
       "      <td>995000</td>\n",
       "      <td>3.09</td>\n",
       "      <td>5.33</td>\n",
       "      <td>1</td>\n",
       "    </tr>\n",
       "    <tr>\n",
       "      <th>2126</th>\n",
       "      <td>15669 NW Saint Andrews Dr</td>\n",
       "      <td>Portland</td>\n",
       "      <td>97229</td>\n",
       "      <td>1/19/24</td>\n",
       "      <td>3.0</td>\n",
       "      <td>3</td>\n",
       "      <td>2569</td>\n",
       "      <td>5227.0</td>\n",
       "      <td>1050000</td>\n",
       "      <td>3.09</td>\n",
       "      <td>5.33</td>\n",
       "      <td>1</td>\n",
       "    </tr>\n",
       "    <tr>\n",
       "      <th>2127</th>\n",
       "      <td>14590 NW Delia St</td>\n",
       "      <td>Portland</td>\n",
       "      <td>97229</td>\n",
       "      <td>1/19/24</td>\n",
       "      <td>3.0</td>\n",
       "      <td>4</td>\n",
       "      <td>2656</td>\n",
       "      <td>5227.2</td>\n",
       "      <td>880000</td>\n",
       "      <td>3.09</td>\n",
       "      <td>5.33</td>\n",
       "      <td>1</td>\n",
       "    </tr>\n",
       "    <tr>\n",
       "      <th>2128</th>\n",
       "      <td>1787 NW Larkin Ter</td>\n",
       "      <td>Portland</td>\n",
       "      <td>97229</td>\n",
       "      <td>1/19/24</td>\n",
       "      <td>4.0</td>\n",
       "      <td>4</td>\n",
       "      <td>2912</td>\n",
       "      <td>3920.4</td>\n",
       "      <td>830000</td>\n",
       "      <td>3.09</td>\n",
       "      <td>5.33</td>\n",
       "      <td>1</td>\n",
       "    </tr>\n",
       "    <tr>\n",
       "      <th>2129</th>\n",
       "      <td>15029 NW Sumida Ln</td>\n",
       "      <td>Portland</td>\n",
       "      <td>97229</td>\n",
       "      <td>1/17/24</td>\n",
       "      <td>2.0</td>\n",
       "      <td>2</td>\n",
       "      <td>1720</td>\n",
       "      <td>2613.6</td>\n",
       "      <td>519000</td>\n",
       "      <td>3.09</td>\n",
       "      <td>5.33</td>\n",
       "      <td>1</td>\n",
       "    </tr>\n",
       "    <tr>\n",
       "      <th>2130</th>\n",
       "      <td>5654 NW Lark Meadow Ter</td>\n",
       "      <td>Portland</td>\n",
       "      <td>97229</td>\n",
       "      <td>1/17/24</td>\n",
       "      <td>3.0</td>\n",
       "      <td>3</td>\n",
       "      <td>2440</td>\n",
       "      <td>3484.8</td>\n",
       "      <td>707000</td>\n",
       "      <td>3.09</td>\n",
       "      <td>5.33</td>\n",
       "      <td>1</td>\n",
       "    </tr>\n",
       "    <tr>\n",
       "      <th>2131</th>\n",
       "      <td>14813 NW Joseph Ct</td>\n",
       "      <td>Portland</td>\n",
       "      <td>97229</td>\n",
       "      <td>1/16/24</td>\n",
       "      <td>4.0</td>\n",
       "      <td>5</td>\n",
       "      <td>3594</td>\n",
       "      <td>13939.2</td>\n",
       "      <td>1125000</td>\n",
       "      <td>3.09</td>\n",
       "      <td>5.33</td>\n",
       "      <td>1</td>\n",
       "    </tr>\n",
       "    <tr>\n",
       "      <th>2132</th>\n",
       "      <td>15135 NW Nightshade Dr</td>\n",
       "      <td>Portland</td>\n",
       "      <td>97229</td>\n",
       "      <td>1/16/24</td>\n",
       "      <td>3.0</td>\n",
       "      <td>2</td>\n",
       "      <td>1247</td>\n",
       "      <td>2613.6</td>\n",
       "      <td>449000</td>\n",
       "      <td>3.09</td>\n",
       "      <td>5.33</td>\n",
       "      <td>1</td>\n",
       "    </tr>\n",
       "    <tr>\n",
       "      <th>2133</th>\n",
       "      <td>16709 NW Waterford Way</td>\n",
       "      <td>Portland</td>\n",
       "      <td>97229</td>\n",
       "      <td>1/12/24</td>\n",
       "      <td>3.0</td>\n",
       "      <td>4</td>\n",
       "      <td>2363</td>\n",
       "      <td>7840.8</td>\n",
       "      <td>650000</td>\n",
       "      <td>3.09</td>\n",
       "      <td>5.33</td>\n",
       "      <td>1</td>\n",
       "    </tr>\n",
       "    <tr>\n",
       "      <th>2134</th>\n",
       "      <td>16162 NW Canterwood Way</td>\n",
       "      <td>Portland</td>\n",
       "      <td>97229</td>\n",
       "      <td>1/12/24</td>\n",
       "      <td>2.0</td>\n",
       "      <td>3</td>\n",
       "      <td>2696</td>\n",
       "      <td>6098.4</td>\n",
       "      <td>865000</td>\n",
       "      <td>3.09</td>\n",
       "      <td>5.33</td>\n",
       "      <td>1</td>\n",
       "    </tr>\n",
       "    <tr>\n",
       "      <th>2135</th>\n",
       "      <td>4341 NW Tamoshanter Way</td>\n",
       "      <td>Portland</td>\n",
       "      <td>97229</td>\n",
       "      <td>1/12/24</td>\n",
       "      <td>3.0</td>\n",
       "      <td>3</td>\n",
       "      <td>2935</td>\n",
       "      <td>6098.0</td>\n",
       "      <td>1194000</td>\n",
       "      <td>3.09</td>\n",
       "      <td>5.33</td>\n",
       "      <td>1</td>\n",
       "    </tr>\n",
       "    <tr>\n",
       "      <th>2136</th>\n",
       "      <td>6329 NW Gerber Ter</td>\n",
       "      <td>Portland</td>\n",
       "      <td>97229</td>\n",
       "      <td>1/12/24</td>\n",
       "      <td>3.0</td>\n",
       "      <td>4</td>\n",
       "      <td>2692</td>\n",
       "      <td>15246.0</td>\n",
       "      <td>795000</td>\n",
       "      <td>3.09</td>\n",
       "      <td>5.33</td>\n",
       "      <td>1</td>\n",
       "    </tr>\n",
       "    <tr>\n",
       "      <th>2137</th>\n",
       "      <td>17119 NW Tristan St</td>\n",
       "      <td>Portland</td>\n",
       "      <td>97229</td>\n",
       "      <td>1/11/24</td>\n",
       "      <td>5.0</td>\n",
       "      <td>6</td>\n",
       "      <td>3627</td>\n",
       "      <td>4791.6</td>\n",
       "      <td>865000</td>\n",
       "      <td>3.09</td>\n",
       "      <td>5.33</td>\n",
       "      <td>1</td>\n",
       "    </tr>\n",
       "    <tr>\n",
       "      <th>2138</th>\n",
       "      <td>15818 NW Gooderham St #L41</td>\n",
       "      <td>Portland</td>\n",
       "      <td>97229</td>\n",
       "      <td>1/11/24</td>\n",
       "      <td>3.0</td>\n",
       "      <td>5</td>\n",
       "      <td>2734</td>\n",
       "      <td>4791.6</td>\n",
       "      <td>1058255</td>\n",
       "      <td>3.09</td>\n",
       "      <td>5.33</td>\n",
       "      <td>1</td>\n",
       "    </tr>\n",
       "    <tr>\n",
       "      <th>2139</th>\n",
       "      <td>12873 NW Milazzo Ln</td>\n",
       "      <td>Portland</td>\n",
       "      <td>97229</td>\n",
       "      <td>1/9/24</td>\n",
       "      <td>3.0</td>\n",
       "      <td>3</td>\n",
       "      <td>2540</td>\n",
       "      <td>3920.4</td>\n",
       "      <td>672500</td>\n",
       "      <td>3.09</td>\n",
       "      <td>5.33</td>\n",
       "      <td>1</td>\n",
       "    </tr>\n",
       "    <tr>\n",
       "      <th>2140</th>\n",
       "      <td>6436 NW Dingo Dr</td>\n",
       "      <td>Portland</td>\n",
       "      <td>97229</td>\n",
       "      <td>1/9/24</td>\n",
       "      <td>4.0</td>\n",
       "      <td>5</td>\n",
       "      <td>4157</td>\n",
       "      <td>7840.8</td>\n",
       "      <td>1050000</td>\n",
       "      <td>3.09</td>\n",
       "      <td>5.33</td>\n",
       "      <td>1</td>\n",
       "    </tr>\n",
       "    <tr>\n",
       "      <th>2141</th>\n",
       "      <td>10260 NW Flotoma Dr</td>\n",
       "      <td>Portland</td>\n",
       "      <td>97229</td>\n",
       "      <td>1/8/24</td>\n",
       "      <td>2.0</td>\n",
       "      <td>3</td>\n",
       "      <td>1500</td>\n",
       "      <td>11325.6</td>\n",
       "      <td>490000</td>\n",
       "      <td>3.09</td>\n",
       "      <td>5.33</td>\n",
       "      <td>1</td>\n",
       "    </tr>\n",
       "    <tr>\n",
       "      <th>2142</th>\n",
       "      <td>10257 NW Alpenglow Way</td>\n",
       "      <td>Portland</td>\n",
       "      <td>97229</td>\n",
       "      <td>1/5/24</td>\n",
       "      <td>3.0</td>\n",
       "      <td>3</td>\n",
       "      <td>2060</td>\n",
       "      <td>10890.0</td>\n",
       "      <td>750000</td>\n",
       "      <td>3.09</td>\n",
       "      <td>5.33</td>\n",
       "      <td>1</td>\n",
       "    </tr>\n",
       "    <tr>\n",
       "      <th>2143</th>\n",
       "      <td>3227 NW Banff Dr</td>\n",
       "      <td>Portland</td>\n",
       "      <td>97229</td>\n",
       "      <td>1/5/24</td>\n",
       "      <td>3.0</td>\n",
       "      <td>3</td>\n",
       "      <td>1605</td>\n",
       "      <td>3049.2</td>\n",
       "      <td>495000</td>\n",
       "      <td>3.09</td>\n",
       "      <td>5.33</td>\n",
       "      <td>1</td>\n",
       "    </tr>\n",
       "    <tr>\n",
       "      <th>2144</th>\n",
       "      <td>10022 NW Engleman St</td>\n",
       "      <td>Portland</td>\n",
       "      <td>97229</td>\n",
       "      <td>1/5/24</td>\n",
       "      <td>3.0</td>\n",
       "      <td>4</td>\n",
       "      <td>2773</td>\n",
       "      <td>7405.2</td>\n",
       "      <td>815000</td>\n",
       "      <td>3.09</td>\n",
       "      <td>5.33</td>\n",
       "      <td>1</td>\n",
       "    </tr>\n",
       "    <tr>\n",
       "      <th>2145</th>\n",
       "      <td>7205 NW 168th Ave</td>\n",
       "      <td>Portland</td>\n",
       "      <td>97229</td>\n",
       "      <td>1/5/24</td>\n",
       "      <td>4.0</td>\n",
       "      <td>6</td>\n",
       "      <td>3162</td>\n",
       "      <td>4356.0</td>\n",
       "      <td>785000</td>\n",
       "      <td>3.09</td>\n",
       "      <td>5.33</td>\n",
       "      <td>1</td>\n",
       "    </tr>\n",
       "    <tr>\n",
       "      <th>2146</th>\n",
       "      <td>15073 NW Olive St</td>\n",
       "      <td>Portland</td>\n",
       "      <td>97229</td>\n",
       "      <td>1/4/24</td>\n",
       "      <td>3.0</td>\n",
       "      <td>4</td>\n",
       "      <td>2033</td>\n",
       "      <td>2613.6</td>\n",
       "      <td>715000</td>\n",
       "      <td>3.09</td>\n",
       "      <td>5.33</td>\n",
       "      <td>1</td>\n",
       "    </tr>\n",
       "    <tr>\n",
       "      <th>2147</th>\n",
       "      <td>5469 NW Meadowlands Ter</td>\n",
       "      <td>Portland</td>\n",
       "      <td>97229</td>\n",
       "      <td>1/2/24</td>\n",
       "      <td>3.0</td>\n",
       "      <td>4</td>\n",
       "      <td>2592</td>\n",
       "      <td>6969.6</td>\n",
       "      <td>765000</td>\n",
       "      <td>3.09</td>\n",
       "      <td>5.33</td>\n",
       "      <td>1</td>\n",
       "    </tr>\n",
       "    <tr>\n",
       "      <th>2148</th>\n",
       "      <td>1837 NW Caitlin Ter</td>\n",
       "      <td>Portland</td>\n",
       "      <td>97229</td>\n",
       "      <td>12/29/23</td>\n",
       "      <td>3.0</td>\n",
       "      <td>4</td>\n",
       "      <td>2146</td>\n",
       "      <td>8712.0</td>\n",
       "      <td>700000</td>\n",
       "      <td>3.35</td>\n",
       "      <td>5.33</td>\n",
       "      <td>12</td>\n",
       "    </tr>\n",
       "    <tr>\n",
       "      <th>2149</th>\n",
       "      <td>11060 NW Cornell Rd</td>\n",
       "      <td>Portland</td>\n",
       "      <td>97229</td>\n",
       "      <td>12/29/23</td>\n",
       "      <td>2.0</td>\n",
       "      <td>3</td>\n",
       "      <td>2048</td>\n",
       "      <td>16117.2</td>\n",
       "      <td>574000</td>\n",
       "      <td>3.35</td>\n",
       "      <td>5.33</td>\n",
       "      <td>12</td>\n",
       "    </tr>\n",
       "    <tr>\n",
       "      <th>2150</th>\n",
       "      <td>200 NW 101st Ave</td>\n",
       "      <td>Portland</td>\n",
       "      <td>97229</td>\n",
       "      <td>12/29/23</td>\n",
       "      <td>3.0</td>\n",
       "      <td>3</td>\n",
       "      <td>2520</td>\n",
       "      <td>17859.6</td>\n",
       "      <td>600000</td>\n",
       "      <td>3.35</td>\n",
       "      <td>5.33</td>\n",
       "      <td>12</td>\n",
       "    </tr>\n",
       "    <tr>\n",
       "      <th>2151</th>\n",
       "      <td>13027 NW Hartford St</td>\n",
       "      <td>Portland</td>\n",
       "      <td>97229</td>\n",
       "      <td>12/29/23</td>\n",
       "      <td>4.0</td>\n",
       "      <td>5</td>\n",
       "      <td>2947</td>\n",
       "      <td>9147.6</td>\n",
       "      <td>785000</td>\n",
       "      <td>3.35</td>\n",
       "      <td>5.33</td>\n",
       "      <td>12</td>\n",
       "    </tr>\n",
       "  </tbody>\n",
       "</table>\n",
       "</div>"
      ],
      "text/plain": [
       "                          Address      City    Zip  SoldDate  Bathrooms  \\\n",
       "2094          15842 NW Hackney Dr  Portland  97229   2/20/24        3.0   \n",
       "2095  15883 NW Gooderham St #L-96  Portland  97229   2/20/24        5.0   \n",
       "2096          10771 NW Harding Ct  Portland  97229   2/16/24        3.0   \n",
       "2097              8577 NW Ryan St  Portland  97229   2/16/24        3.0   \n",
       "2098             5124 NW Crady Ln  Portland  97229   2/16/24        3.0   \n",
       "2099      4578 NW Tamoshanter Way  Portland  97229   2/15/24        3.0   \n",
       "2100         14412 NW Whistler Ln  Portland  97229   2/15/24        3.0   \n",
       "2101           16790 NW Vetter Dr  Portland  97229   2/15/24        4.0   \n",
       "2102      7899 NW 162nd Ter #L106  Portland  97229   2/15/24        5.0   \n",
       "2103            7273 NW 167th Ave  Portland  97229   2/13/24        3.0   \n",
       "2104            12958 NW Ethan Dr  Portland  97229   2/12/24        4.0   \n",
       "2105            2739 NW Avocet Ln  Portland  97229    2/9/24        4.0   \n",
       "2106    12581 NW Forest Spring Ln  Portland  97229    2/9/24        3.0   \n",
       "2107   15858 NW Ridgeline St #L63  Portland  97229    2/9/24        4.0   \n",
       "2108          15874 NW Raywood Ln  Portland  97229    2/8/24        3.0   \n",
       "2109        15714 NW Clubhouse Dr  Portland  97229    2/6/24        3.0   \n",
       "2110         5857 NW Bannister Dr  Portland  97229    2/6/24        4.0   \n",
       "2111            11974 NW Sadie St  Portland  97229    2/6/24        3.0   \n",
       "2112           4792 NW Gannet Ter  Portland  97229   1/31/24        3.0   \n",
       "2113            1674 NW 143rd Ave  Portland  97229   1/31/24        1.0   \n",
       "2114            5273 NW 127th Ter  Portland  97229   1/31/24        3.0   \n",
       "2115           16201 NW Fescue Ct  Portland  97229   1/30/24        3.0   \n",
       "2116            7233 NW Dusty Ter  Portland  97229   1/30/24        4.0   \n",
       "2117      15854 NW Holman Way #L2  Portland  97229   1/26/24        4.0   \n",
       "2118          16885 NW Argyle Way  Portland  97229   1/25/24        3.0   \n",
       "2119        15898 NW Claremont Dr  Portland  97229   1/25/24        3.0   \n",
       "2120   15675 NW Ridgeline St #L33  Portland  97229   1/24/24        4.0   \n",
       "2121      13819 NW Falconridge Ln  Portland  97229   1/23/24        3.0   \n",
       "2122            3762 NW Devoto Ln  Portland  97229   1/23/24        4.0   \n",
       "2123            4015 NW Devoto Ln  Portland  97229   1/22/24        3.0   \n",
       "2124        13473 NW Greenwood Dr  Portland  97229   1/22/24        3.0   \n",
       "2125       3036 NW Bauer Woods Dr  Portland  97229   1/19/24        4.0   \n",
       "2126    15669 NW Saint Andrews Dr  Portland  97229   1/19/24        3.0   \n",
       "2127            14590 NW Delia St  Portland  97229   1/19/24        3.0   \n",
       "2128           1787 NW Larkin Ter  Portland  97229   1/19/24        4.0   \n",
       "2129           15029 NW Sumida Ln  Portland  97229   1/17/24        2.0   \n",
       "2130      5654 NW Lark Meadow Ter  Portland  97229   1/17/24        3.0   \n",
       "2131           14813 NW Joseph Ct  Portland  97229   1/16/24        4.0   \n",
       "2132       15135 NW Nightshade Dr  Portland  97229   1/16/24        3.0   \n",
       "2133       16709 NW Waterford Way  Portland  97229   1/12/24        3.0   \n",
       "2134      16162 NW Canterwood Way  Portland  97229   1/12/24        2.0   \n",
       "2135      4341 NW Tamoshanter Way  Portland  97229   1/12/24        3.0   \n",
       "2136           6329 NW Gerber Ter  Portland  97229   1/12/24        3.0   \n",
       "2137          17119 NW Tristan St  Portland  97229   1/11/24        5.0   \n",
       "2138   15818 NW Gooderham St #L41  Portland  97229   1/11/24        3.0   \n",
       "2139          12873 NW Milazzo Ln  Portland  97229    1/9/24        3.0   \n",
       "2140             6436 NW Dingo Dr  Portland  97229    1/9/24        4.0   \n",
       "2141          10260 NW Flotoma Dr  Portland  97229    1/8/24        2.0   \n",
       "2142       10257 NW Alpenglow Way  Portland  97229    1/5/24        3.0   \n",
       "2143             3227 NW Banff Dr  Portland  97229    1/5/24        3.0   \n",
       "2144         10022 NW Engleman St  Portland  97229    1/5/24        3.0   \n",
       "2145            7205 NW 168th Ave  Portland  97229    1/5/24        4.0   \n",
       "2146            15073 NW Olive St  Portland  97229    1/4/24        3.0   \n",
       "2147      5469 NW Meadowlands Ter  Portland  97229    1/2/24        3.0   \n",
       "2148          1837 NW Caitlin Ter  Portland  97229  12/29/23        3.0   \n",
       "2149          11060 NW Cornell Rd  Portland  97229  12/29/23        2.0   \n",
       "2150             200 NW 101st Ave  Portland  97229  12/29/23        3.0   \n",
       "2151         13027 NW Hartford St  Portland  97229  12/29/23        4.0   \n",
       "\n",
       "      Bedrooms  LivingArea  LandArea  PropPrice  InflationRate  FederalInt  \\\n",
       "2094         4        2134    6098.4     660000           3.10        5.33   \n",
       "2095         6        4425    5709.0    1494955           3.10        5.33   \n",
       "2096         3        1650    6534.0     610000           3.10        5.33   \n",
       "2097         4        2594    6534.0     770000           3.10        5.33   \n",
       "2098         5        3275    5227.2     780000           3.10        5.33   \n",
       "2099         3        2432    7840.8     965000           3.10        5.33   \n",
       "2100         5        2835    6969.6     775000           3.10        5.33   \n",
       "2101         6        3976    6534.0    1130000           3.10        5.33   \n",
       "2102         6        3581    5190.0    1375375           3.10        5.33   \n",
       "2103         4        2252    3049.2     765000           3.10        5.33   \n",
       "2104         5        2901    5662.8     830500           3.10        5.33   \n",
       "2105         4        4168   20037.6    1075000           3.10        5.33   \n",
       "2106         4        2547    3920.4     720000           3.10        5.33   \n",
       "2107         6        3738    4739.0    1237870           3.10        5.33   \n",
       "2108         4        2294    3042.0     825300           3.10        5.33   \n",
       "2109         2        1687    3920.4     505000           3.10        5.33   \n",
       "2110         5        3425    4792.0     940000           3.10        5.33   \n",
       "2111         5        3131    4792.0    1059950           3.10        5.33   \n",
       "2112         2        1834    2613.6     561000           3.09        5.33   \n",
       "2113         2         767    1742.0     335000           3.09        5.33   \n",
       "2114         5        3286    5227.2     800000           3.09        5.33   \n",
       "2115         3        1832     871.2     380000           3.09        5.33   \n",
       "2116         5        2951    3049.2     850000           3.09        5.33   \n",
       "2117         4        2777    3779.0     931070           3.09        5.33   \n",
       "2118         3        1875    7840.8     600000           3.09        5.33   \n",
       "2119         3        2442    5662.8     855000           3.09        5.33   \n",
       "2120         6        3581    4791.6    1099995           3.09        5.33   \n",
       "2121         4        2740    6969.6     875000           3.09        5.33   \n",
       "2122         4        3926    9583.2    1295000           3.09        5.33   \n",
       "2123         4        4757   12196.8    1150000           3.09        5.33   \n",
       "2124         5        3480    9147.6     945000           3.09        5.33   \n",
       "2125         4        3846   13503.6     995000           3.09        5.33   \n",
       "2126         3        2569    5227.0    1050000           3.09        5.33   \n",
       "2127         4        2656    5227.2     880000           3.09        5.33   \n",
       "2128         4        2912    3920.4     830000           3.09        5.33   \n",
       "2129         2        1720    2613.6     519000           3.09        5.33   \n",
       "2130         3        2440    3484.8     707000           3.09        5.33   \n",
       "2131         5        3594   13939.2    1125000           3.09        5.33   \n",
       "2132         2        1247    2613.6     449000           3.09        5.33   \n",
       "2133         4        2363    7840.8     650000           3.09        5.33   \n",
       "2134         3        2696    6098.4     865000           3.09        5.33   \n",
       "2135         3        2935    6098.0    1194000           3.09        5.33   \n",
       "2136         4        2692   15246.0     795000           3.09        5.33   \n",
       "2137         6        3627    4791.6     865000           3.09        5.33   \n",
       "2138         5        2734    4791.6    1058255           3.09        5.33   \n",
       "2139         3        2540    3920.4     672500           3.09        5.33   \n",
       "2140         5        4157    7840.8    1050000           3.09        5.33   \n",
       "2141         3        1500   11325.6     490000           3.09        5.33   \n",
       "2142         3        2060   10890.0     750000           3.09        5.33   \n",
       "2143         3        1605    3049.2     495000           3.09        5.33   \n",
       "2144         4        2773    7405.2     815000           3.09        5.33   \n",
       "2145         6        3162    4356.0     785000           3.09        5.33   \n",
       "2146         4        2033    2613.6     715000           3.09        5.33   \n",
       "2147         4        2592    6969.6     765000           3.09        5.33   \n",
       "2148         4        2146    8712.0     700000           3.35        5.33   \n",
       "2149         3        2048   16117.2     574000           3.35        5.33   \n",
       "2150         3        2520   17859.6     600000           3.35        5.33   \n",
       "2151         5        2947    9147.6     785000           3.35        5.33   \n",
       "\n",
       "      MonthID  \n",
       "2094        2  \n",
       "2095        2  \n",
       "2096        2  \n",
       "2097        2  \n",
       "2098        2  \n",
       "2099        2  \n",
       "2100        2  \n",
       "2101        2  \n",
       "2102        2  \n",
       "2103        2  \n",
       "2104        2  \n",
       "2105        2  \n",
       "2106        2  \n",
       "2107        2  \n",
       "2108        2  \n",
       "2109        2  \n",
       "2110        2  \n",
       "2111        2  \n",
       "2112        1  \n",
       "2113        1  \n",
       "2114        1  \n",
       "2115        1  \n",
       "2116        1  \n",
       "2117        1  \n",
       "2118        1  \n",
       "2119        1  \n",
       "2120        1  \n",
       "2121        1  \n",
       "2122        1  \n",
       "2123        1  \n",
       "2124        1  \n",
       "2125        1  \n",
       "2126        1  \n",
       "2127        1  \n",
       "2128        1  \n",
       "2129        1  \n",
       "2130        1  \n",
       "2131        1  \n",
       "2132        1  \n",
       "2133        1  \n",
       "2134        1  \n",
       "2135        1  \n",
       "2136        1  \n",
       "2137        1  \n",
       "2138        1  \n",
       "2139        1  \n",
       "2140        1  \n",
       "2141        1  \n",
       "2142        1  \n",
       "2143        1  \n",
       "2144        1  \n",
       "2145        1  \n",
       "2146        1  \n",
       "2147        1  \n",
       "2148       12  \n",
       "2149       12  \n",
       "2150       12  \n",
       "2151       12  "
      ]
     },
     "execution_count": 56,
     "metadata": {},
     "output_type": "execute_result"
    }
   ],
   "source": [
    "#Split original dataframe (without transformations) by zip\n",
    "df_Az_Orig=df_Sold_Inflation_new[df_Sold_Inflation_new['Zip']=='85225']\n",
    "df_Chi_Orig=df_Sold_Inflation_new[df_Sold_Inflation_new['Zip']=='60629']\n",
    "df_LA_Orig=df_Sold_Inflation_new[df_Sold_Inflation_new['Zip']=='90210']\n",
    "df_Fl_Orig=df_Sold_Inflation_new[df_Sold_Inflation_new['Zip']=='33186']\n",
    "df_NY_Orig=df_Sold_Inflation_new[df_Sold_Inflation_new['Zip']=='11368']\n",
    "df_OR_Orig=df_Sold_Inflation_new[df_Sold_Inflation_new['Zip']=='97229']\n",
    "\n",
    "df_OR_Orig"
   ]
  },
  {
   "cell_type": "code",
   "execution_count": 57,
   "id": "64993054",
   "metadata": {},
   "outputs": [],
   "source": [
    "# Import the PCA module\n",
    "# Import the modules\n",
    "import hvplot.pandas\n",
    "from sklearn.cluster import KMeans\n",
    "from sklearn.decomposition import PCA"
   ]
  },
  {
   "cell_type": "code",
   "execution_count": 58,
   "id": "b476581e",
   "metadata": {},
   "outputs": [],
   "source": [
    "# Instantiate the PCA instance and declare the number of PCA variables\n",
    "pca=PCA(n_components=3)"
   ]
  },
  {
   "cell_type": "code",
   "execution_count": 59,
   "id": "e85a4880",
   "metadata": {},
   "outputs": [
    {
     "name": "stderr",
     "output_type": "stream",
     "text": [
      "/Users/noosh_air/anaconda3/envs/dev/lib/python3.7/site-packages/sklearn/utils/validation.py:1692: FutureWarning:\n",
      "\n",
      "Feature names only support names that are all strings. Got feature names with dtypes: ['int', 'str']. An error will be raised in 1.2.\n",
      "\n"
     ]
    },
    {
     "data": {
      "text/plain": [
       "array([[ 0.40026758,  0.82901969, -0.15465352],\n",
       "       [ 1.7197743 ,  0.08772721, -0.10555977],\n",
       "       [-0.12138804,  1.11617747, -0.20197763],\n",
       "       [ 0.40889372,  0.82288146, -0.15356213],\n",
       "       [ 0.93368142,  0.5332471 , -0.11015179]])"
      ]
     },
     "execution_count": 59,
     "metadata": {},
     "output_type": "execute_result"
    }
   ],
   "source": [
    "# Fit the PCA model on the transformed credit card DataFrame\n",
    "propertyOR_pca = pca.fit_transform(df_OR)\n",
    "\n",
    "# Review the first 5 rows of the array of list data\n",
    "propertyOR_pca[:5]"
   ]
  },
  {
   "cell_type": "code",
   "execution_count": 60,
   "id": "31bcdafe",
   "metadata": {},
   "outputs": [
    {
     "data": {
      "text/plain": [
       "(0.9476328936080357, array([0.5646832 , 0.29943717, 0.08351252]))"
      ]
     },
     "execution_count": 60,
     "metadata": {},
     "output_type": "execute_result"
    }
   ],
   "source": [
    "# Calculate the PCA explained variance ratio\n",
    "sum(pca.explained_variance_ratio_), pca.explained_variance_ratio_"
   ]
  },
  {
   "cell_type": "code",
   "execution_count": 61,
   "id": "c55784a3",
   "metadata": {},
   "outputs": [
    {
     "data": {
      "text/html": [
       "<div>\n",
       "<style scoped>\n",
       "    .dataframe tbody tr th:only-of-type {\n",
       "        vertical-align: middle;\n",
       "    }\n",
       "\n",
       "    .dataframe tbody tr th {\n",
       "        vertical-align: top;\n",
       "    }\n",
       "\n",
       "    .dataframe thead th {\n",
       "        text-align: right;\n",
       "    }\n",
       "</style>\n",
       "<table border=\"1\" class=\"dataframe\">\n",
       "  <thead>\n",
       "    <tr style=\"text-align: right;\">\n",
       "      <th></th>\n",
       "      <th>PCA1</th>\n",
       "      <th>PCA2</th>\n",
       "      <th>PCA3</th>\n",
       "    </tr>\n",
       "  </thead>\n",
       "  <tbody>\n",
       "    <tr>\n",
       "      <th>0</th>\n",
       "      <td>0.400268</td>\n",
       "      <td>0.829020</td>\n",
       "      <td>-0.154654</td>\n",
       "    </tr>\n",
       "    <tr>\n",
       "      <th>1</th>\n",
       "      <td>1.719774</td>\n",
       "      <td>0.087727</td>\n",
       "      <td>-0.105560</td>\n",
       "    </tr>\n",
       "    <tr>\n",
       "      <th>2</th>\n",
       "      <td>-0.121388</td>\n",
       "      <td>1.116177</td>\n",
       "      <td>-0.201978</td>\n",
       "    </tr>\n",
       "    <tr>\n",
       "      <th>3</th>\n",
       "      <td>0.408894</td>\n",
       "      <td>0.822881</td>\n",
       "      <td>-0.153562</td>\n",
       "    </tr>\n",
       "    <tr>\n",
       "      <th>4</th>\n",
       "      <td>0.933681</td>\n",
       "      <td>0.533247</td>\n",
       "      <td>-0.110152</td>\n",
       "    </tr>\n",
       "  </tbody>\n",
       "</table>\n",
       "</div>"
      ],
      "text/plain": [
       "       PCA1      PCA2      PCA3\n",
       "0  0.400268  0.829020 -0.154654\n",
       "1  1.719774  0.087727 -0.105560\n",
       "2 -0.121388  1.116177 -0.201978\n",
       "3  0.408894  0.822881 -0.153562\n",
       "4  0.933681  0.533247 -0.110152"
      ]
     },
     "execution_count": 61,
     "metadata": {},
     "output_type": "execute_result"
    }
   ],
   "source": [
    "# Create the PCA DataFrame\n",
    "propertyOR_pca_df = pd.DataFrame(\n",
    "    propertyOR_pca,\n",
    "    columns=[\"PCA1\", \"PCA2\",\"PCA3\"]\n",
    ")\n",
    "\n",
    "# Review the PCA DataFrame\n",
    "propertyOR_pca_df.head()"
   ]
  },
  {
   "cell_type": "code",
   "execution_count": 62,
   "id": "45d325e8",
   "metadata": {},
   "outputs": [],
   "source": [
    "# Create a a list to store inertia values and the values of k\n",
    "inertia = []\n",
    "k = list(range(1, 11))"
   ]
  },
  {
   "cell_type": "code",
   "execution_count": 63,
   "id": "3e23e66a",
   "metadata": {},
   "outputs": [],
   "source": [
    "# Create a for-loop where each value of k is evaluated using the K-means algorithm\n",
    "# Fit the model using the service_ratings DataFrame\n",
    "# Append the value of the computed inertia from the `inertia_` attribute of the KMeans model instance\n",
    "for i in k:\n",
    "    k_model = KMeans(n_clusters=i, random_state=0)\n",
    "    k_model.fit(propertyOR_pca_df)\n",
    "    inertia.append(k_model.inertia_)"
   ]
  },
  {
   "cell_type": "code",
   "execution_count": 64,
   "id": "6d3185ab",
   "metadata": {},
   "outputs": [
    {
     "data": {
      "text/html": [
       "<div>\n",
       "<style scoped>\n",
       "    .dataframe tbody tr th:only-of-type {\n",
       "        vertical-align: middle;\n",
       "    }\n",
       "\n",
       "    .dataframe tbody tr th {\n",
       "        vertical-align: top;\n",
       "    }\n",
       "\n",
       "    .dataframe thead th {\n",
       "        text-align: right;\n",
       "    }\n",
       "</style>\n",
       "<table border=\"1\" class=\"dataframe\">\n",
       "  <thead>\n",
       "    <tr style=\"text-align: right;\">\n",
       "      <th></th>\n",
       "      <th>k</th>\n",
       "      <th>inertia</th>\n",
       "    </tr>\n",
       "  </thead>\n",
       "  <tbody>\n",
       "    <tr>\n",
       "      <th>0</th>\n",
       "      <td>1</td>\n",
       "      <td>63.529568</td>\n",
       "    </tr>\n",
       "    <tr>\n",
       "      <th>1</th>\n",
       "      <td>2</td>\n",
       "      <td>37.000997</td>\n",
       "    </tr>\n",
       "    <tr>\n",
       "      <th>2</th>\n",
       "      <td>3</td>\n",
       "      <td>23.155657</td>\n",
       "    </tr>\n",
       "    <tr>\n",
       "      <th>3</th>\n",
       "      <td>4</td>\n",
       "      <td>16.198065</td>\n",
       "    </tr>\n",
       "    <tr>\n",
       "      <th>4</th>\n",
       "      <td>5</td>\n",
       "      <td>10.702300</td>\n",
       "    </tr>\n",
       "  </tbody>\n",
       "</table>\n",
       "</div>"
      ],
      "text/plain": [
       "   k    inertia\n",
       "0  1  63.529568\n",
       "1  2  37.000997\n",
       "2  3  23.155657\n",
       "3  4  16.198065\n",
       "4  5  10.702300"
      ]
     },
     "execution_count": 64,
     "metadata": {},
     "output_type": "execute_result"
    }
   ],
   "source": [
    "# Define a DataFrame to hold the values for k and the corresponding inertia\n",
    "elbow_data = {\"k\": k, \"inertia\": inertia}\n",
    "\n",
    "# Create the DataFrame from the elbow data\n",
    "df_elbow = pd.DataFrame(elbow_data)\n",
    "\n",
    "# Review the DataFrame\n",
    "df_elbow.head()"
   ]
  },
  {
   "cell_type": "code",
   "execution_count": 65,
   "id": "435f010e",
   "metadata": {},
   "outputs": [
    {
     "data": {},
     "metadata": {},
     "output_type": "display_data"
    },
    {
     "data": {
      "application/vnd.holoviews_exec.v0+json": "",
      "text/html": [
       "<div id='1799'>\n",
       "  <div class=\"bk-root\" id=\"23a00acd-b5d6-4503-b730-189b6cd61669\" data-root-id=\"1799\"></div>\n",
       "</div>\n",
       "<script type=\"application/javascript\">(function(root) {\n",
       "  function embed_document(root) {\n",
       "    var docs_json = {\"22aaf301-3be0-418b-8812-c81044ea13df\":{\"defs\":[{\"extends\":null,\"module\":null,\"name\":\"ReactiveHTML1\",\"overrides\":[],\"properties\":[]},{\"extends\":null,\"module\":null,\"name\":\"FlexBox1\",\"overrides\":[],\"properties\":[{\"default\":\"flex-start\",\"kind\":null,\"name\":\"align_content\"},{\"default\":\"flex-start\",\"kind\":null,\"name\":\"align_items\"},{\"default\":\"row\",\"kind\":null,\"name\":\"flex_direction\"},{\"default\":\"wrap\",\"kind\":null,\"name\":\"flex_wrap\"},{\"default\":\"flex-start\",\"kind\":null,\"name\":\"justify_content\"}]},{\"extends\":null,\"module\":null,\"name\":\"GridStack1\",\"overrides\":[],\"properties\":[{\"default\":\"warn\",\"kind\":null,\"name\":\"mode\"},{\"default\":null,\"kind\":null,\"name\":\"ncols\"},{\"default\":null,\"kind\":null,\"name\":\"nrows\"},{\"default\":true,\"kind\":null,\"name\":\"allow_resize\"},{\"default\":true,\"kind\":null,\"name\":\"allow_drag\"},{\"default\":[],\"kind\":null,\"name\":\"state\"}]},{\"extends\":null,\"module\":null,\"name\":\"click1\",\"overrides\":[],\"properties\":[{\"default\":\"\",\"kind\":null,\"name\":\"terminal_output\"},{\"default\":\"\",\"kind\":null,\"name\":\"debug_name\"},{\"default\":0,\"kind\":null,\"name\":\"clears\"}]},{\"extends\":null,\"module\":null,\"name\":\"NotificationAreaBase1\",\"overrides\":[],\"properties\":[{\"default\":\"bottom-right\",\"kind\":null,\"name\":\"position\"},{\"default\":0,\"kind\":null,\"name\":\"_clear\"}]},{\"extends\":null,\"module\":null,\"name\":\"NotificationArea1\",\"overrides\":[],\"properties\":[{\"default\":[],\"kind\":null,\"name\":\"notifications\"},{\"default\":\"bottom-right\",\"kind\":null,\"name\":\"position\"},{\"default\":0,\"kind\":null,\"name\":\"_clear\"},{\"default\":[{\"background\":\"#ffc107\",\"icon\":{\"className\":\"fas fa-exclamation-triangle\",\"color\":\"white\",\"tagName\":\"i\"},\"type\":\"warning\"},{\"background\":\"#007bff\",\"icon\":{\"className\":\"fas fa-info-circle\",\"color\":\"white\",\"tagName\":\"i\"},\"type\":\"info\"}],\"kind\":null,\"name\":\"types\"}]},{\"extends\":null,\"module\":null,\"name\":\"Notification\",\"overrides\":[],\"properties\":[{\"default\":null,\"kind\":null,\"name\":\"background\"},{\"default\":3000,\"kind\":null,\"name\":\"duration\"},{\"default\":null,\"kind\":null,\"name\":\"icon\"},{\"default\":\"\",\"kind\":null,\"name\":\"message\"},{\"default\":null,\"kind\":null,\"name\":\"notification_type\"},{\"default\":false,\"kind\":null,\"name\":\"_destroyed\"}]},{\"extends\":null,\"module\":null,\"name\":\"TemplateActions1\",\"overrides\":[],\"properties\":[{\"default\":0,\"kind\":null,\"name\":\"open_modal\"},{\"default\":0,\"kind\":null,\"name\":\"close_modal\"}]},{\"extends\":null,\"module\":null,\"name\":\"MaterialTemplateActions1\",\"overrides\":[],\"properties\":[{\"default\":0,\"kind\":null,\"name\":\"open_modal\"},{\"default\":0,\"kind\":null,\"name\":\"close_modal\"}]}],\"roots\":{\"references\":[{\"attributes\":{\"overlay\":{\"id\":\"1826\"}},\"id\":\"1824\",\"type\":\"BoxZoomTool\"},{\"attributes\":{},\"id\":\"1858\",\"type\":\"UnionRenderers\"},{\"attributes\":{\"line_alpha\":0.1,\"line_color\":\"#30a2da\",\"line_width\":2,\"x\":{\"field\":\"k\"},\"y\":{\"field\":\"inertia\"}},\"id\":\"1838\",\"type\":\"Line\"},{\"attributes\":{\"axis\":{\"id\":\"1817\"},\"coordinates\":null,\"dimension\":1,\"grid_line_color\":null,\"group\":null,\"ticker\":null},\"id\":\"1820\",\"type\":\"Grid\"},{\"attributes\":{},\"id\":\"1825\",\"type\":\"ResetTool\"},{\"attributes\":{},\"id\":\"1846\",\"type\":\"AllLabels\"},{\"attributes\":{\"tools\":[{\"id\":\"1803\"},{\"id\":\"1821\"},{\"id\":\"1822\"},{\"id\":\"1823\"},{\"id\":\"1824\"},{\"id\":\"1825\"}]},\"id\":\"1827\",\"type\":\"Toolbar\"},{\"attributes\":{\"line_color\":\"#30a2da\",\"line_width\":2,\"x\":{\"field\":\"k\"},\"y\":{\"field\":\"inertia\"}},\"id\":\"1842\",\"type\":\"Line\"},{\"attributes\":{\"ticks\":[1,2,3,4,5,6,7,8,9,10]},\"id\":\"1843\",\"type\":\"FixedTicker\"},{\"attributes\":{\"coordinates\":null,\"group\":null,\"text\":\"Elbow Curve\",\"text_color\":\"black\",\"text_font_size\":\"12pt\"},\"id\":\"1805\",\"type\":\"Title\"},{\"attributes\":{\"axis_label\":\"inertia\",\"coordinates\":null,\"formatter\":{\"id\":\"1850\"},\"group\":null,\"major_label_policy\":{\"id\":\"1851\"},\"ticker\":{\"id\":\"1818\"}},\"id\":\"1817\",\"type\":\"LinearAxis\"},{\"attributes\":{\"data\":{\"inertia\":{\"__ndarray__\":\"d/9I5MjDT0CPLTeqIIBCQK6EdCnZJzdAQMAAZrQyMEBmuZnok2clQCBfgXPHyxtA1/X4Nc6AFUA+q61uN+APQNCFhWqSOQdA4xzIxXaH/T8=\",\"dtype\":\"float64\",\"order\":\"little\",\"shape\":[10]},\"k\":[1,2,3,4,5,6,7,8,9,10]},\"selected\":{\"id\":\"1835\"},\"selection_policy\":{\"id\":\"1858\"}},\"id\":\"1834\",\"type\":\"ColumnDataSource\"},{\"attributes\":{},\"id\":\"1823\",\"type\":\"WheelZoomTool\"},{\"attributes\":{},\"id\":\"1835\",\"type\":\"Selection\"},{\"attributes\":{\"callback\":null,\"renderers\":[{\"id\":\"1840\"}],\"tags\":[\"hv_created\"],\"tooltips\":[[\"k\",\"@{k}\"],[\"inertia\",\"@{inertia}\"]]},\"id\":\"1803\",\"type\":\"HoverTool\"},{\"attributes\":{\"below\":[{\"id\":\"1813\"}],\"center\":[{\"id\":\"1816\"},{\"id\":\"1820\"}],\"height\":300,\"left\":[{\"id\":\"1817\"}],\"margin\":[5,5,5,5],\"min_border_bottom\":10,\"min_border_left\":10,\"min_border_right\":10,\"min_border_top\":10,\"renderers\":[{\"id\":\"1840\"}],\"sizing_mode\":\"fixed\",\"title\":{\"id\":\"1805\"},\"toolbar\":{\"id\":\"1827\"},\"width\":700,\"x_range\":{\"id\":\"1801\"},\"x_scale\":{\"id\":\"1809\"},\"y_range\":{\"id\":\"1802\"},\"y_scale\":{\"id\":\"1811\"}},\"id\":\"1804\",\"subtype\":\"Figure\",\"type\":\"Plot\"},{\"attributes\":{\"end\":10.0,\"reset_end\":10.0,\"reset_start\":1.0,\"start\":1.0,\"tags\":[[[\"k\",\"k\",null]]]},\"id\":\"1801\",\"type\":\"Range1d\"},{\"attributes\":{},\"id\":\"1845\",\"type\":\"BasicTickFormatter\"},{\"attributes\":{\"margin\":[5,5,5,5],\"name\":\"HSpacer01746\",\"sizing_mode\":\"stretch_width\"},\"id\":\"1861\",\"type\":\"Spacer\"},{\"attributes\":{\"axis\":{\"id\":\"1813\"},\"coordinates\":null,\"grid_line_color\":null,\"group\":null,\"ticker\":null},\"id\":\"1816\",\"type\":\"Grid\"},{\"attributes\":{\"source\":{\"id\":\"1834\"}},\"id\":\"1841\",\"type\":\"CDSView\"},{\"attributes\":{\"margin\":[5,5,5,5],\"name\":\"HSpacer01745\",\"sizing_mode\":\"stretch_width\"},\"id\":\"1800\",\"type\":\"Spacer\"},{\"attributes\":{\"bottom_units\":\"screen\",\"coordinates\":null,\"fill_alpha\":0.5,\"fill_color\":\"lightgrey\",\"group\":null,\"left_units\":\"screen\",\"level\":\"overlay\",\"line_alpha\":1.0,\"line_color\":\"black\",\"line_dash\":[4,4],\"line_width\":2,\"right_units\":\"screen\",\"syncable\":false,\"top_units\":\"screen\"},\"id\":\"1826\",\"type\":\"BoxAnnotation\"},{\"attributes\":{\"axis_label\":\"k\",\"coordinates\":null,\"formatter\":{\"id\":\"1845\"},\"group\":null,\"major_label_policy\":{\"id\":\"1846\"},\"ticker\":{\"id\":\"1843\"}},\"id\":\"1813\",\"type\":\"LinearAxis\"},{\"attributes\":{\"line_alpha\":0.2,\"line_color\":\"#30a2da\",\"line_width\":2,\"x\":{\"field\":\"k\"},\"y\":{\"field\":\"inertia\"}},\"id\":\"1839\",\"type\":\"Line\"},{\"attributes\":{},\"id\":\"1809\",\"type\":\"LinearScale\"},{\"attributes\":{\"coordinates\":null,\"data_source\":{\"id\":\"1834\"},\"glyph\":{\"id\":\"1837\"},\"group\":null,\"hover_glyph\":null,\"muted_glyph\":{\"id\":\"1839\"},\"nonselection_glyph\":{\"id\":\"1838\"},\"selection_glyph\":{\"id\":\"1842\"},\"view\":{\"id\":\"1841\"}},\"id\":\"1840\",\"type\":\"GlyphRenderer\"},{\"attributes\":{},\"id\":\"1821\",\"type\":\"SaveTool\"},{\"attributes\":{},\"id\":\"1850\",\"type\":\"BasicTickFormatter\"},{\"attributes\":{\"children\":[{\"id\":\"1800\"},{\"id\":\"1804\"},{\"id\":\"1861\"}],\"margin\":[0,0,0,0],\"name\":\"Row01741\",\"tags\":[\"embedded\"]},\"id\":\"1799\",\"type\":\"Row\"},{\"attributes\":{},\"id\":\"1818\",\"type\":\"BasicTicker\"},{\"attributes\":{\"end\":69.697967826795,\"reset_end\":69.697967826795,\"reset_start\":-4.322827342721127,\"start\":-4.322827342721127,\"tags\":[[[\"inertia\",\"inertia\",null]]]},\"id\":\"1802\",\"type\":\"Range1d\"},{\"attributes\":{},\"id\":\"1851\",\"type\":\"AllLabels\"},{\"attributes\":{},\"id\":\"1811\",\"type\":\"LinearScale\"},{\"attributes\":{},\"id\":\"1822\",\"type\":\"PanTool\"},{\"attributes\":{\"line_color\":\"#30a2da\",\"line_width\":2,\"x\":{\"field\":\"k\"},\"y\":{\"field\":\"inertia\"}},\"id\":\"1837\",\"type\":\"Line\"}],\"root_ids\":[\"1799\"]},\"title\":\"Bokeh Application\",\"version\":\"2.4.3\"}};\n",
       "    var render_items = [{\"docid\":\"22aaf301-3be0-418b-8812-c81044ea13df\",\"root_ids\":[\"1799\"],\"roots\":{\"1799\":\"23a00acd-b5d6-4503-b730-189b6cd61669\"}}];\n",
       "    root.Bokeh.embed.embed_items_notebook(docs_json, render_items);\n",
       "  }\n",
       "  if (root.Bokeh !== undefined && root.Bokeh.Panel !== undefined) {\n",
       "    embed_document(root);\n",
       "  } else {\n",
       "    var attempts = 0;\n",
       "    var timer = setInterval(function(root) {\n",
       "      if (root.Bokeh !== undefined && root.Bokeh.Panel !== undefined) {\n",
       "        clearInterval(timer);\n",
       "        embed_document(root);\n",
       "      } else if (document.readyState == \"complete\") {\n",
       "        attempts++;\n",
       "        if (attempts > 200) {\n",
       "          clearInterval(timer);\n",
       "          console.log(\"Bokeh: ERROR: Unable to run BokehJS code because BokehJS library is missing\");\n",
       "        }\n",
       "      }\n",
       "    }, 25, root)\n",
       "  }\n",
       "})(window);</script>"
      ],
      "text/plain": [
       ":Curve   [k]   (inertia)"
      ]
     },
     "execution_count": 65,
     "metadata": {
      "application/vnd.holoviews_exec.v0+json": {
       "id": "1799"
      }
     },
     "output_type": "execute_result"
    }
   ],
   "source": [
    "# Plot the DataFrame\n",
    "df_elbow.hvplot.line(\n",
    "    x=\"k\", \n",
    "    y=\"inertia\", \n",
    "    title=\"Elbow Curve\", \n",
    "    xticks=k\n",
    ")"
   ]
  },
  {
   "cell_type": "code",
   "execution_count": 66,
   "id": "e9ec6a56",
   "metadata": {},
   "outputs": [],
   "source": [
    "# Define the model Kmeans model using the optimal value of k for the number of clusters.\n",
    "model = KMeans(n_clusters=3, random_state=0)\n",
    "\n",
    "# Fit the model\n",
    "model.fit(propertyOR_pca_df)\n",
    "\n",
    "# Make predictions\n",
    "k_3 = model.predict(propertyOR_pca_df)\n",
    "\n",
    "# Create a copy of the customers_pca_df DataFrame\n",
    "propertyOR_pca_predictions_df = propertyOR_pca_df.copy()\n",
    "\n",
    "# Add a class column with the labels\n",
    "propertyOR_pca_predictions_df[\"property_segments\"] = k_3"
   ]
  },
  {
   "cell_type": "code",
   "execution_count": 67,
   "id": "d8451abd",
   "metadata": {},
   "outputs": [
    {
     "data": {
      "application/vnd.plotly.v1+json": {
       "config": {
        "plotlyServerURL": "https://plot.ly"
       },
       "data": [
        {
         "hovertemplate": "PCA1=%{x}<br>PCA2=%{y}<br>PCA3=%{z}<br>property_segments=%{marker.color}<extra></extra>",
         "legendgroup": "",
         "marker": {
          "color": [
           2,
           2,
           2,
           2,
           2,
           2,
           2,
           2,
           2,
           2,
           2,
           2,
           2,
           2,
           2,
           1,
           2,
           2,
           1,
           1,
           0,
           1,
           0,
           0,
           1,
           1,
           0,
           0,
           0,
           0,
           0,
           0,
           1,
           0,
           0,
           1,
           1,
           0,
           1,
           0,
           1,
           1,
           0,
           0,
           0,
           1,
           0,
           1,
           1,
           1,
           0,
           0,
           0,
           0,
           2,
           1,
           1,
           2
          ],
          "coloraxis": "coloraxis",
          "symbol": "circle"
         },
         "mode": "markers",
         "name": "",
         "scene": "scene",
         "showlegend": false,
         "type": "scatter3d",
         "x": [
          0.4002675793482812,
          1.7197742967994343,
          -0.12138804373678597,
          0.40889371947593456,
          0.933681424754999,
          -0.1058199716924791,
          0.9261925134091201,
          1.5855275864353515,
          1.7043899558716655,
          0.4024743943924322,
          1.0521605402544258,
          0.5642282931420338,
          0.4075051196097363,
          1.58169047365376,
          0.4035058078562679,
          -0.6345994396425803,
          1.0617408779901303,
          0.9325056296615922,
          -1.3220399607173565,
          -1.5912888758766945,
          0.2438491761376145,
          -0.8101717497845975,
          0.36268611200647605,
          -0.15287341299366544,
          -0.8074750800179817,
          -0.7965820635406384,
          0.8881492629392752,
          -0.278107454583612,
          -0.13030621614605506,
          -0.24090683886985084,
          0.24843463218785422,
          -0.13271156640475498,
          -0.7934511023072448,
          -0.27976181180548976,
          -0.15100237031261127,
          -1.4489386040718166,
          -0.797618740286476,
          0.3766056034185274,
          -1.332838685795743,
          -0.2856962931273477,
          -0.9167478902790082,
          -0.7862429860430418,
          -0.27832828109348784,
          1.0124858714982978,
          0.23544641263806607,
          -0.795991794190264,
          0.38530979682236477,
          -0.9388386406603529,
          -0.803128571528791,
          -0.8132947624276515,
          -0.2777762186201935,
          0.87922056558715,
          -0.29177209532763587,
          -0.2812361432742697,
          0.043262921294851396,
          -0.5958818038838118,
          -0.46260240507278405,
          0.6954313069294344
         ],
         "y": [
          0.8290196910997872,
          0.08772720579962011,
          1.1161774670800026,
          0.8228814623229236,
          0.5332471003468673,
          1.105308512663445,
          0.5390331742481663,
          0.16860275890457746,
          0.09877735530541563,
          0.8269207978284902,
          0.46388978988157864,
          0.729213654721934,
          0.8233763255355369,
          0.17115041234656694,
          0.8262099075765124,
          1.3965669564524332,
          0.4568131485749735,
          0.5342270431160658,
          0.16564610896126963,
          0.327846304970109,
          -0.6957120265979054,
          -0.11477381257645876,
          -0.7658138570220974,
          -0.48295802847015057,
          -0.11529626186926903,
          -0.1234679032995806,
          -1.0552048956881304,
          -0.40800287947050173,
          -0.49809970608136506,
          -0.43399932794742,
          -0.698230984029114,
          -0.4958355186636803,
          -0.12569374687445192,
          -0.4071133490149864,
          -0.4843708607937654,
          0.24123722754450255,
          -0.12322017308176782,
          -0.773766185486879,
          0.1734496094778463,
          -0.4024634760359846,
          -0.052674504546574734,
          -0.13069169223948662,
          -0.4063701283652324,
          -1.1291252050654739,
          -0.6894713117843547,
          -0.12435242031505794,
          -0.7813020956270056,
          -0.03585041534919399,
          -0.11779812531702685,
          -0.1120083050032348,
          -0.4082075039328497,
          -1.0489936034615943,
          -0.39894640876296156,
          -0.4057979173952138,
          0.33479435747980885,
          0.6919364807930201,
          0.6119971017437698,
          -0.03043732460645512
         ],
         "z": [
          -0.1546535218595943,
          -0.10555976534420902,
          -0.20197762559822977,
          -0.15356213151189546,
          -0.11015179376314543,
          -0.1980796490474674,
          -0.10205933712519782,
          -0.07839867840579869,
          -0.10654919108850285,
          -0.16830737424581002,
          -0.13010323274849936,
          -0.11957094226026901,
          -0.16474603378085825,
          -0.08619855394621641,
          -0.1685373655219158,
          -0.2630186981301303,
          -0.13476360625786143,
          -0.11257727605043591,
          -0.15408581702516114,
          -0.1117900111130072,
          0.004708304995564127,
          -0.11130882211279206,
          -0.026649260882489176,
          -0.07337717271352504,
          -0.0816069056452935,
          -0.09236280546604685,
          0.02947702072341307,
          -0.03717531367707487,
          -0.05037017187127773,
          -0.017450893389606946,
          0.021167739667661754,
          -0.03248570899165234,
          -0.09488985104445823,
          -0.044666485006565754,
          -0.07266510066534607,
          -0.13170184597859322,
          -0.10145998937275365,
          0.019270827789835486,
          -0.15313271404143225,
          -0.03239362143340379,
          -0.06863712049476084,
          -0.091882551628685,
          -0.000938934553081626,
          0.007862393640932386,
          0.0028034056890006804,
          -0.09959486412920382,
          -0.007700813378879172,
          -0.043603563879995554,
          -0.06893716325630588,
          -0.10186650249391539,
          -0.035169664512389225,
          0.028850202697572228,
          -0.05490241939672385,
          -0.03673095079389464,
          1.1127842166017274,
          1.1176555214133856,
          1.1024757625703479,
          1.1412964198449103
         ]
        }
       ],
       "layout": {
        "coloraxis": {
         "colorbar": {
          "title": {
           "text": "property_segments"
          }
         },
         "colorscale": [
          [
           0,
           "#0d0887"
          ],
          [
           0.1111111111111111,
           "#46039f"
          ],
          [
           0.2222222222222222,
           "#7201a8"
          ],
          [
           0.3333333333333333,
           "#9c179e"
          ],
          [
           0.4444444444444444,
           "#bd3786"
          ],
          [
           0.5555555555555556,
           "#d8576b"
          ],
          [
           0.6666666666666666,
           "#ed7953"
          ],
          [
           0.7777777777777778,
           "#fb9f3a"
          ],
          [
           0.8888888888888888,
           "#fdca26"
          ],
          [
           1,
           "#f0f921"
          ]
         ]
        },
        "legend": {
         "tracegroupgap": 0
        },
        "margin": {
         "t": 60
        },
        "scene": {
         "domain": {
          "x": [
           0,
           1
          ],
          "y": [
           0,
           1
          ]
         },
         "xaxis": {
          "title": {
           "text": "PCA1"
          }
         },
         "yaxis": {
          "title": {
           "text": "PCA2"
          }
         },
         "zaxis": {
          "title": {
           "text": "PCA3"
          }
         }
        },
        "template": {
         "data": {
          "bar": [
           {
            "error_x": {
             "color": "#2a3f5f"
            },
            "error_y": {
             "color": "#2a3f5f"
            },
            "marker": {
             "line": {
              "color": "#E5ECF6",
              "width": 0.5
             },
             "pattern": {
              "fillmode": "overlay",
              "size": 10,
              "solidity": 0.2
             }
            },
            "type": "bar"
           }
          ],
          "barpolar": [
           {
            "marker": {
             "line": {
              "color": "#E5ECF6",
              "width": 0.5
             },
             "pattern": {
              "fillmode": "overlay",
              "size": 10,
              "solidity": 0.2
             }
            },
            "type": "barpolar"
           }
          ],
          "carpet": [
           {
            "aaxis": {
             "endlinecolor": "#2a3f5f",
             "gridcolor": "white",
             "linecolor": "white",
             "minorgridcolor": "white",
             "startlinecolor": "#2a3f5f"
            },
            "baxis": {
             "endlinecolor": "#2a3f5f",
             "gridcolor": "white",
             "linecolor": "white",
             "minorgridcolor": "white",
             "startlinecolor": "#2a3f5f"
            },
            "type": "carpet"
           }
          ],
          "choropleth": [
           {
            "colorbar": {
             "outlinewidth": 0,
             "ticks": ""
            },
            "type": "choropleth"
           }
          ],
          "contour": [
           {
            "colorbar": {
             "outlinewidth": 0,
             "ticks": ""
            },
            "colorscale": [
             [
              0,
              "#0d0887"
             ],
             [
              0.1111111111111111,
              "#46039f"
             ],
             [
              0.2222222222222222,
              "#7201a8"
             ],
             [
              0.3333333333333333,
              "#9c179e"
             ],
             [
              0.4444444444444444,
              "#bd3786"
             ],
             [
              0.5555555555555556,
              "#d8576b"
             ],
             [
              0.6666666666666666,
              "#ed7953"
             ],
             [
              0.7777777777777778,
              "#fb9f3a"
             ],
             [
              0.8888888888888888,
              "#fdca26"
             ],
             [
              1,
              "#f0f921"
             ]
            ],
            "type": "contour"
           }
          ],
          "contourcarpet": [
           {
            "colorbar": {
             "outlinewidth": 0,
             "ticks": ""
            },
            "type": "contourcarpet"
           }
          ],
          "heatmap": [
           {
            "colorbar": {
             "outlinewidth": 0,
             "ticks": ""
            },
            "colorscale": [
             [
              0,
              "#0d0887"
             ],
             [
              0.1111111111111111,
              "#46039f"
             ],
             [
              0.2222222222222222,
              "#7201a8"
             ],
             [
              0.3333333333333333,
              "#9c179e"
             ],
             [
              0.4444444444444444,
              "#bd3786"
             ],
             [
              0.5555555555555556,
              "#d8576b"
             ],
             [
              0.6666666666666666,
              "#ed7953"
             ],
             [
              0.7777777777777778,
              "#fb9f3a"
             ],
             [
              0.8888888888888888,
              "#fdca26"
             ],
             [
              1,
              "#f0f921"
             ]
            ],
            "type": "heatmap"
           }
          ],
          "heatmapgl": [
           {
            "colorbar": {
             "outlinewidth": 0,
             "ticks": ""
            },
            "colorscale": [
             [
              0,
              "#0d0887"
             ],
             [
              0.1111111111111111,
              "#46039f"
             ],
             [
              0.2222222222222222,
              "#7201a8"
             ],
             [
              0.3333333333333333,
              "#9c179e"
             ],
             [
              0.4444444444444444,
              "#bd3786"
             ],
             [
              0.5555555555555556,
              "#d8576b"
             ],
             [
              0.6666666666666666,
              "#ed7953"
             ],
             [
              0.7777777777777778,
              "#fb9f3a"
             ],
             [
              0.8888888888888888,
              "#fdca26"
             ],
             [
              1,
              "#f0f921"
             ]
            ],
            "type": "heatmapgl"
           }
          ],
          "histogram": [
           {
            "marker": {
             "pattern": {
              "fillmode": "overlay",
              "size": 10,
              "solidity": 0.2
             }
            },
            "type": "histogram"
           }
          ],
          "histogram2d": [
           {
            "colorbar": {
             "outlinewidth": 0,
             "ticks": ""
            },
            "colorscale": [
             [
              0,
              "#0d0887"
             ],
             [
              0.1111111111111111,
              "#46039f"
             ],
             [
              0.2222222222222222,
              "#7201a8"
             ],
             [
              0.3333333333333333,
              "#9c179e"
             ],
             [
              0.4444444444444444,
              "#bd3786"
             ],
             [
              0.5555555555555556,
              "#d8576b"
             ],
             [
              0.6666666666666666,
              "#ed7953"
             ],
             [
              0.7777777777777778,
              "#fb9f3a"
             ],
             [
              0.8888888888888888,
              "#fdca26"
             ],
             [
              1,
              "#f0f921"
             ]
            ],
            "type": "histogram2d"
           }
          ],
          "histogram2dcontour": [
           {
            "colorbar": {
             "outlinewidth": 0,
             "ticks": ""
            },
            "colorscale": [
             [
              0,
              "#0d0887"
             ],
             [
              0.1111111111111111,
              "#46039f"
             ],
             [
              0.2222222222222222,
              "#7201a8"
             ],
             [
              0.3333333333333333,
              "#9c179e"
             ],
             [
              0.4444444444444444,
              "#bd3786"
             ],
             [
              0.5555555555555556,
              "#d8576b"
             ],
             [
              0.6666666666666666,
              "#ed7953"
             ],
             [
              0.7777777777777778,
              "#fb9f3a"
             ],
             [
              0.8888888888888888,
              "#fdca26"
             ],
             [
              1,
              "#f0f921"
             ]
            ],
            "type": "histogram2dcontour"
           }
          ],
          "mesh3d": [
           {
            "colorbar": {
             "outlinewidth": 0,
             "ticks": ""
            },
            "type": "mesh3d"
           }
          ],
          "parcoords": [
           {
            "line": {
             "colorbar": {
              "outlinewidth": 0,
              "ticks": ""
             }
            },
            "type": "parcoords"
           }
          ],
          "pie": [
           {
            "automargin": true,
            "type": "pie"
           }
          ],
          "scatter": [
           {
            "fillpattern": {
             "fillmode": "overlay",
             "size": 10,
             "solidity": 0.2
            },
            "type": "scatter"
           }
          ],
          "scatter3d": [
           {
            "line": {
             "colorbar": {
              "outlinewidth": 0,
              "ticks": ""
             }
            },
            "marker": {
             "colorbar": {
              "outlinewidth": 0,
              "ticks": ""
             }
            },
            "type": "scatter3d"
           }
          ],
          "scattercarpet": [
           {
            "marker": {
             "colorbar": {
              "outlinewidth": 0,
              "ticks": ""
             }
            },
            "type": "scattercarpet"
           }
          ],
          "scattergeo": [
           {
            "marker": {
             "colorbar": {
              "outlinewidth": 0,
              "ticks": ""
             }
            },
            "type": "scattergeo"
           }
          ],
          "scattergl": [
           {
            "marker": {
             "colorbar": {
              "outlinewidth": 0,
              "ticks": ""
             }
            },
            "type": "scattergl"
           }
          ],
          "scattermapbox": [
           {
            "marker": {
             "colorbar": {
              "outlinewidth": 0,
              "ticks": ""
             }
            },
            "type": "scattermapbox"
           }
          ],
          "scatterpolar": [
           {
            "marker": {
             "colorbar": {
              "outlinewidth": 0,
              "ticks": ""
             }
            },
            "type": "scatterpolar"
           }
          ],
          "scatterpolargl": [
           {
            "marker": {
             "colorbar": {
              "outlinewidth": 0,
              "ticks": ""
             }
            },
            "type": "scatterpolargl"
           }
          ],
          "scatterternary": [
           {
            "marker": {
             "colorbar": {
              "outlinewidth": 0,
              "ticks": ""
             }
            },
            "type": "scatterternary"
           }
          ],
          "surface": [
           {
            "colorbar": {
             "outlinewidth": 0,
             "ticks": ""
            },
            "colorscale": [
             [
              0,
              "#0d0887"
             ],
             [
              0.1111111111111111,
              "#46039f"
             ],
             [
              0.2222222222222222,
              "#7201a8"
             ],
             [
              0.3333333333333333,
              "#9c179e"
             ],
             [
              0.4444444444444444,
              "#bd3786"
             ],
             [
              0.5555555555555556,
              "#d8576b"
             ],
             [
              0.6666666666666666,
              "#ed7953"
             ],
             [
              0.7777777777777778,
              "#fb9f3a"
             ],
             [
              0.8888888888888888,
              "#fdca26"
             ],
             [
              1,
              "#f0f921"
             ]
            ],
            "type": "surface"
           }
          ],
          "table": [
           {
            "cells": {
             "fill": {
              "color": "#EBF0F8"
             },
             "line": {
              "color": "white"
             }
            },
            "header": {
             "fill": {
              "color": "#C8D4E3"
             },
             "line": {
              "color": "white"
             }
            },
            "type": "table"
           }
          ]
         },
         "layout": {
          "annotationdefaults": {
           "arrowcolor": "#2a3f5f",
           "arrowhead": 0,
           "arrowwidth": 1
          },
          "autotypenumbers": "strict",
          "coloraxis": {
           "colorbar": {
            "outlinewidth": 0,
            "ticks": ""
           }
          },
          "colorscale": {
           "diverging": [
            [
             0,
             "#8e0152"
            ],
            [
             0.1,
             "#c51b7d"
            ],
            [
             0.2,
             "#de77ae"
            ],
            [
             0.3,
             "#f1b6da"
            ],
            [
             0.4,
             "#fde0ef"
            ],
            [
             0.5,
             "#f7f7f7"
            ],
            [
             0.6,
             "#e6f5d0"
            ],
            [
             0.7,
             "#b8e186"
            ],
            [
             0.8,
             "#7fbc41"
            ],
            [
             0.9,
             "#4d9221"
            ],
            [
             1,
             "#276419"
            ]
           ],
           "sequential": [
            [
             0,
             "#0d0887"
            ],
            [
             0.1111111111111111,
             "#46039f"
            ],
            [
             0.2222222222222222,
             "#7201a8"
            ],
            [
             0.3333333333333333,
             "#9c179e"
            ],
            [
             0.4444444444444444,
             "#bd3786"
            ],
            [
             0.5555555555555556,
             "#d8576b"
            ],
            [
             0.6666666666666666,
             "#ed7953"
            ],
            [
             0.7777777777777778,
             "#fb9f3a"
            ],
            [
             0.8888888888888888,
             "#fdca26"
            ],
            [
             1,
             "#f0f921"
            ]
           ],
           "sequentialminus": [
            [
             0,
             "#0d0887"
            ],
            [
             0.1111111111111111,
             "#46039f"
            ],
            [
             0.2222222222222222,
             "#7201a8"
            ],
            [
             0.3333333333333333,
             "#9c179e"
            ],
            [
             0.4444444444444444,
             "#bd3786"
            ],
            [
             0.5555555555555556,
             "#d8576b"
            ],
            [
             0.6666666666666666,
             "#ed7953"
            ],
            [
             0.7777777777777778,
             "#fb9f3a"
            ],
            [
             0.8888888888888888,
             "#fdca26"
            ],
            [
             1,
             "#f0f921"
            ]
           ]
          },
          "colorway": [
           "#636efa",
           "#EF553B",
           "#00cc96",
           "#ab63fa",
           "#FFA15A",
           "#19d3f3",
           "#FF6692",
           "#B6E880",
           "#FF97FF",
           "#FECB52"
          ],
          "font": {
           "color": "#2a3f5f"
          },
          "geo": {
           "bgcolor": "white",
           "lakecolor": "white",
           "landcolor": "#E5ECF6",
           "showlakes": true,
           "showland": true,
           "subunitcolor": "white"
          },
          "hoverlabel": {
           "align": "left"
          },
          "hovermode": "closest",
          "mapbox": {
           "style": "light"
          },
          "paper_bgcolor": "white",
          "plot_bgcolor": "#E5ECF6",
          "polar": {
           "angularaxis": {
            "gridcolor": "white",
            "linecolor": "white",
            "ticks": ""
           },
           "bgcolor": "#E5ECF6",
           "radialaxis": {
            "gridcolor": "white",
            "linecolor": "white",
            "ticks": ""
           }
          },
          "scene": {
           "xaxis": {
            "backgroundcolor": "#E5ECF6",
            "gridcolor": "white",
            "gridwidth": 2,
            "linecolor": "white",
            "showbackground": true,
            "ticks": "",
            "zerolinecolor": "white"
           },
           "yaxis": {
            "backgroundcolor": "#E5ECF6",
            "gridcolor": "white",
            "gridwidth": 2,
            "linecolor": "white",
            "showbackground": true,
            "ticks": "",
            "zerolinecolor": "white"
           },
           "zaxis": {
            "backgroundcolor": "#E5ECF6",
            "gridcolor": "white",
            "gridwidth": 2,
            "linecolor": "white",
            "showbackground": true,
            "ticks": "",
            "zerolinecolor": "white"
           }
          },
          "shapedefaults": {
           "line": {
            "color": "#2a3f5f"
           }
          },
          "ternary": {
           "aaxis": {
            "gridcolor": "white",
            "linecolor": "white",
            "ticks": ""
           },
           "baxis": {
            "gridcolor": "white",
            "linecolor": "white",
            "ticks": ""
           },
           "bgcolor": "#E5ECF6",
           "caxis": {
            "gridcolor": "white",
            "linecolor": "white",
            "ticks": ""
           }
          },
          "title": {
           "x": 0.05
          },
          "xaxis": {
           "automargin": true,
           "gridcolor": "white",
           "linecolor": "white",
           "ticks": "",
           "title": {
            "standoff": 15
           },
           "zerolinecolor": "white",
           "zerolinewidth": 2
          },
          "yaxis": {
           "automargin": true,
           "gridcolor": "white",
           "linecolor": "white",
           "ticks": "",
           "title": {
            "standoff": 15
           },
           "zerolinecolor": "white",
           "zerolinewidth": 2
          }
         }
        }
       }
      },
      "text/html": [
       "<div>                            <div id=\"863f8b3e-6e9a-49d4-acb9-9c87197e1558\" class=\"plotly-graph-div\" style=\"height:525px; width:100%;\"></div>            <script type=\"text/javascript\">                require([\"plotly\"], function(Plotly) {                    window.PLOTLYENV=window.PLOTLYENV || {};                                    if (document.getElementById(\"863f8b3e-6e9a-49d4-acb9-9c87197e1558\")) {                    Plotly.newPlot(                        \"863f8b3e-6e9a-49d4-acb9-9c87197e1558\",                        [{\"hovertemplate\":\"PCA1=%{x}<br>PCA2=%{y}<br>PCA3=%{z}<br>property_segments=%{marker.color}<extra></extra>\",\"legendgroup\":\"\",\"marker\":{\"color\":[2,2,2,2,2,2,2,2,2,2,2,2,2,2,2,1,2,2,1,1,0,1,0,0,1,1,0,0,0,0,0,0,1,0,0,1,1,0,1,0,1,1,0,0,0,1,0,1,1,1,0,0,0,0,2,1,1,2],\"coloraxis\":\"coloraxis\",\"symbol\":\"circle\"},\"mode\":\"markers\",\"name\":\"\",\"scene\":\"scene\",\"showlegend\":false,\"x\":[0.4002675793482812,1.7197742967994343,-0.12138804373678597,0.40889371947593456,0.933681424754999,-0.1058199716924791,0.9261925134091201,1.5855275864353515,1.7043899558716655,0.4024743943924322,1.0521605402544258,0.5642282931420338,0.4075051196097363,1.58169047365376,0.4035058078562679,-0.6345994396425803,1.0617408779901303,0.9325056296615922,-1.3220399607173565,-1.5912888758766945,0.2438491761376145,-0.8101717497845975,0.36268611200647605,-0.15287341299366544,-0.8074750800179817,-0.7965820635406384,0.8881492629392752,-0.278107454583612,-0.13030621614605506,-0.24090683886985084,0.24843463218785422,-0.13271156640475498,-0.7934511023072448,-0.27976181180548976,-0.15100237031261127,-1.4489386040718166,-0.797618740286476,0.3766056034185274,-1.332838685795743,-0.2856962931273477,-0.9167478902790082,-0.7862429860430418,-0.27832828109348784,1.0124858714982978,0.23544641263806607,-0.795991794190264,0.38530979682236477,-0.9388386406603529,-0.803128571528791,-0.8132947624276515,-0.2777762186201935,0.87922056558715,-0.29177209532763587,-0.2812361432742697,0.043262921294851396,-0.5958818038838118,-0.46260240507278405,0.6954313069294344],\"y\":[0.8290196910997872,0.08772720579962011,1.1161774670800026,0.8228814623229236,0.5332471003468673,1.105308512663445,0.5390331742481663,0.16860275890457746,0.09877735530541563,0.8269207978284902,0.46388978988157864,0.729213654721934,0.8233763255355369,0.17115041234656694,0.8262099075765124,1.3965669564524332,0.4568131485749735,0.5342270431160658,0.16564610896126963,0.327846304970109,-0.6957120265979054,-0.11477381257645876,-0.7658138570220974,-0.48295802847015057,-0.11529626186926903,-0.1234679032995806,-1.0552048956881304,-0.40800287947050173,-0.49809970608136506,-0.43399932794742,-0.698230984029114,-0.4958355186636803,-0.12569374687445192,-0.4071133490149864,-0.4843708607937654,0.24123722754450255,-0.12322017308176782,-0.773766185486879,0.1734496094778463,-0.4024634760359846,-0.052674504546574734,-0.13069169223948662,-0.4063701283652324,-1.1291252050654739,-0.6894713117843547,-0.12435242031505794,-0.7813020956270056,-0.03585041534919399,-0.11779812531702685,-0.1120083050032348,-0.4082075039328497,-1.0489936034615943,-0.39894640876296156,-0.4057979173952138,0.33479435747980885,0.6919364807930201,0.6119971017437698,-0.03043732460645512],\"z\":[-0.1546535218595943,-0.10555976534420902,-0.20197762559822977,-0.15356213151189546,-0.11015179376314543,-0.1980796490474674,-0.10205933712519782,-0.07839867840579869,-0.10654919108850285,-0.16830737424581002,-0.13010323274849936,-0.11957094226026901,-0.16474603378085825,-0.08619855394621641,-0.1685373655219158,-0.2630186981301303,-0.13476360625786143,-0.11257727605043591,-0.15408581702516114,-0.1117900111130072,0.004708304995564127,-0.11130882211279206,-0.026649260882489176,-0.07337717271352504,-0.0816069056452935,-0.09236280546604685,0.02947702072341307,-0.03717531367707487,-0.05037017187127773,-0.017450893389606946,0.021167739667661754,-0.03248570899165234,-0.09488985104445823,-0.044666485006565754,-0.07266510066534607,-0.13170184597859322,-0.10145998937275365,0.019270827789835486,-0.15313271404143225,-0.03239362143340379,-0.06863712049476084,-0.091882551628685,-0.000938934553081626,0.007862393640932386,0.0028034056890006804,-0.09959486412920382,-0.007700813378879172,-0.043603563879995554,-0.06893716325630588,-0.10186650249391539,-0.035169664512389225,0.028850202697572228,-0.05490241939672385,-0.03673095079389464,1.1127842166017274,1.1176555214133856,1.1024757625703479,1.1412964198449103],\"type\":\"scatter3d\"}],                        {\"template\":{\"data\":{\"histogram2dcontour\":[{\"type\":\"histogram2dcontour\",\"colorbar\":{\"outlinewidth\":0,\"ticks\":\"\"},\"colorscale\":[[0.0,\"#0d0887\"],[0.1111111111111111,\"#46039f\"],[0.2222222222222222,\"#7201a8\"],[0.3333333333333333,\"#9c179e\"],[0.4444444444444444,\"#bd3786\"],[0.5555555555555556,\"#d8576b\"],[0.6666666666666666,\"#ed7953\"],[0.7777777777777778,\"#fb9f3a\"],[0.8888888888888888,\"#fdca26\"],[1.0,\"#f0f921\"]]}],\"choropleth\":[{\"type\":\"choropleth\",\"colorbar\":{\"outlinewidth\":0,\"ticks\":\"\"}}],\"histogram2d\":[{\"type\":\"histogram2d\",\"colorbar\":{\"outlinewidth\":0,\"ticks\":\"\"},\"colorscale\":[[0.0,\"#0d0887\"],[0.1111111111111111,\"#46039f\"],[0.2222222222222222,\"#7201a8\"],[0.3333333333333333,\"#9c179e\"],[0.4444444444444444,\"#bd3786\"],[0.5555555555555556,\"#d8576b\"],[0.6666666666666666,\"#ed7953\"],[0.7777777777777778,\"#fb9f3a\"],[0.8888888888888888,\"#fdca26\"],[1.0,\"#f0f921\"]]}],\"heatmap\":[{\"type\":\"heatmap\",\"colorbar\":{\"outlinewidth\":0,\"ticks\":\"\"},\"colorscale\":[[0.0,\"#0d0887\"],[0.1111111111111111,\"#46039f\"],[0.2222222222222222,\"#7201a8\"],[0.3333333333333333,\"#9c179e\"],[0.4444444444444444,\"#bd3786\"],[0.5555555555555556,\"#d8576b\"],[0.6666666666666666,\"#ed7953\"],[0.7777777777777778,\"#fb9f3a\"],[0.8888888888888888,\"#fdca26\"],[1.0,\"#f0f921\"]]}],\"heatmapgl\":[{\"type\":\"heatmapgl\",\"colorbar\":{\"outlinewidth\":0,\"ticks\":\"\"},\"colorscale\":[[0.0,\"#0d0887\"],[0.1111111111111111,\"#46039f\"],[0.2222222222222222,\"#7201a8\"],[0.3333333333333333,\"#9c179e\"],[0.4444444444444444,\"#bd3786\"],[0.5555555555555556,\"#d8576b\"],[0.6666666666666666,\"#ed7953\"],[0.7777777777777778,\"#fb9f3a\"],[0.8888888888888888,\"#fdca26\"],[1.0,\"#f0f921\"]]}],\"contourcarpet\":[{\"type\":\"contourcarpet\",\"colorbar\":{\"outlinewidth\":0,\"ticks\":\"\"}}],\"contour\":[{\"type\":\"contour\",\"colorbar\":{\"outlinewidth\":0,\"ticks\":\"\"},\"colorscale\":[[0.0,\"#0d0887\"],[0.1111111111111111,\"#46039f\"],[0.2222222222222222,\"#7201a8\"],[0.3333333333333333,\"#9c179e\"],[0.4444444444444444,\"#bd3786\"],[0.5555555555555556,\"#d8576b\"],[0.6666666666666666,\"#ed7953\"],[0.7777777777777778,\"#fb9f3a\"],[0.8888888888888888,\"#fdca26\"],[1.0,\"#f0f921\"]]}],\"surface\":[{\"type\":\"surface\",\"colorbar\":{\"outlinewidth\":0,\"ticks\":\"\"},\"colorscale\":[[0.0,\"#0d0887\"],[0.1111111111111111,\"#46039f\"],[0.2222222222222222,\"#7201a8\"],[0.3333333333333333,\"#9c179e\"],[0.4444444444444444,\"#bd3786\"],[0.5555555555555556,\"#d8576b\"],[0.6666666666666666,\"#ed7953\"],[0.7777777777777778,\"#fb9f3a\"],[0.8888888888888888,\"#fdca26\"],[1.0,\"#f0f921\"]]}],\"mesh3d\":[{\"type\":\"mesh3d\",\"colorbar\":{\"outlinewidth\":0,\"ticks\":\"\"}}],\"scatter\":[{\"fillpattern\":{\"fillmode\":\"overlay\",\"size\":10,\"solidity\":0.2},\"type\":\"scatter\"}],\"parcoords\":[{\"type\":\"parcoords\",\"line\":{\"colorbar\":{\"outlinewidth\":0,\"ticks\":\"\"}}}],\"scatterpolargl\":[{\"type\":\"scatterpolargl\",\"marker\":{\"colorbar\":{\"outlinewidth\":0,\"ticks\":\"\"}}}],\"bar\":[{\"error_x\":{\"color\":\"#2a3f5f\"},\"error_y\":{\"color\":\"#2a3f5f\"},\"marker\":{\"line\":{\"color\":\"#E5ECF6\",\"width\":0.5},\"pattern\":{\"fillmode\":\"overlay\",\"size\":10,\"solidity\":0.2}},\"type\":\"bar\"}],\"scattergeo\":[{\"type\":\"scattergeo\",\"marker\":{\"colorbar\":{\"outlinewidth\":0,\"ticks\":\"\"}}}],\"scatterpolar\":[{\"type\":\"scatterpolar\",\"marker\":{\"colorbar\":{\"outlinewidth\":0,\"ticks\":\"\"}}}],\"histogram\":[{\"marker\":{\"pattern\":{\"fillmode\":\"overlay\",\"size\":10,\"solidity\":0.2}},\"type\":\"histogram\"}],\"scattergl\":[{\"type\":\"scattergl\",\"marker\":{\"colorbar\":{\"outlinewidth\":0,\"ticks\":\"\"}}}],\"scatter3d\":[{\"type\":\"scatter3d\",\"line\":{\"colorbar\":{\"outlinewidth\":0,\"ticks\":\"\"}},\"marker\":{\"colorbar\":{\"outlinewidth\":0,\"ticks\":\"\"}}}],\"scattermapbox\":[{\"type\":\"scattermapbox\",\"marker\":{\"colorbar\":{\"outlinewidth\":0,\"ticks\":\"\"}}}],\"scatterternary\":[{\"type\":\"scatterternary\",\"marker\":{\"colorbar\":{\"outlinewidth\":0,\"ticks\":\"\"}}}],\"scattercarpet\":[{\"type\":\"scattercarpet\",\"marker\":{\"colorbar\":{\"outlinewidth\":0,\"ticks\":\"\"}}}],\"carpet\":[{\"aaxis\":{\"endlinecolor\":\"#2a3f5f\",\"gridcolor\":\"white\",\"linecolor\":\"white\",\"minorgridcolor\":\"white\",\"startlinecolor\":\"#2a3f5f\"},\"baxis\":{\"endlinecolor\":\"#2a3f5f\",\"gridcolor\":\"white\",\"linecolor\":\"white\",\"minorgridcolor\":\"white\",\"startlinecolor\":\"#2a3f5f\"},\"type\":\"carpet\"}],\"table\":[{\"cells\":{\"fill\":{\"color\":\"#EBF0F8\"},\"line\":{\"color\":\"white\"}},\"header\":{\"fill\":{\"color\":\"#C8D4E3\"},\"line\":{\"color\":\"white\"}},\"type\":\"table\"}],\"barpolar\":[{\"marker\":{\"line\":{\"color\":\"#E5ECF6\",\"width\":0.5},\"pattern\":{\"fillmode\":\"overlay\",\"size\":10,\"solidity\":0.2}},\"type\":\"barpolar\"}],\"pie\":[{\"automargin\":true,\"type\":\"pie\"}]},\"layout\":{\"autotypenumbers\":\"strict\",\"colorway\":[\"#636efa\",\"#EF553B\",\"#00cc96\",\"#ab63fa\",\"#FFA15A\",\"#19d3f3\",\"#FF6692\",\"#B6E880\",\"#FF97FF\",\"#FECB52\"],\"font\":{\"color\":\"#2a3f5f\"},\"hovermode\":\"closest\",\"hoverlabel\":{\"align\":\"left\"},\"paper_bgcolor\":\"white\",\"plot_bgcolor\":\"#E5ECF6\",\"polar\":{\"bgcolor\":\"#E5ECF6\",\"angularaxis\":{\"gridcolor\":\"white\",\"linecolor\":\"white\",\"ticks\":\"\"},\"radialaxis\":{\"gridcolor\":\"white\",\"linecolor\":\"white\",\"ticks\":\"\"}},\"ternary\":{\"bgcolor\":\"#E5ECF6\",\"aaxis\":{\"gridcolor\":\"white\",\"linecolor\":\"white\",\"ticks\":\"\"},\"baxis\":{\"gridcolor\":\"white\",\"linecolor\":\"white\",\"ticks\":\"\"},\"caxis\":{\"gridcolor\":\"white\",\"linecolor\":\"white\",\"ticks\":\"\"}},\"coloraxis\":{\"colorbar\":{\"outlinewidth\":0,\"ticks\":\"\"}},\"colorscale\":{\"sequential\":[[0.0,\"#0d0887\"],[0.1111111111111111,\"#46039f\"],[0.2222222222222222,\"#7201a8\"],[0.3333333333333333,\"#9c179e\"],[0.4444444444444444,\"#bd3786\"],[0.5555555555555556,\"#d8576b\"],[0.6666666666666666,\"#ed7953\"],[0.7777777777777778,\"#fb9f3a\"],[0.8888888888888888,\"#fdca26\"],[1.0,\"#f0f921\"]],\"sequentialminus\":[[0.0,\"#0d0887\"],[0.1111111111111111,\"#46039f\"],[0.2222222222222222,\"#7201a8\"],[0.3333333333333333,\"#9c179e\"],[0.4444444444444444,\"#bd3786\"],[0.5555555555555556,\"#d8576b\"],[0.6666666666666666,\"#ed7953\"],[0.7777777777777778,\"#fb9f3a\"],[0.8888888888888888,\"#fdca26\"],[1.0,\"#f0f921\"]],\"diverging\":[[0,\"#8e0152\"],[0.1,\"#c51b7d\"],[0.2,\"#de77ae\"],[0.3,\"#f1b6da\"],[0.4,\"#fde0ef\"],[0.5,\"#f7f7f7\"],[0.6,\"#e6f5d0\"],[0.7,\"#b8e186\"],[0.8,\"#7fbc41\"],[0.9,\"#4d9221\"],[1,\"#276419\"]]},\"xaxis\":{\"gridcolor\":\"white\",\"linecolor\":\"white\",\"ticks\":\"\",\"title\":{\"standoff\":15},\"zerolinecolor\":\"white\",\"automargin\":true,\"zerolinewidth\":2},\"yaxis\":{\"gridcolor\":\"white\",\"linecolor\":\"white\",\"ticks\":\"\",\"title\":{\"standoff\":15},\"zerolinecolor\":\"white\",\"automargin\":true,\"zerolinewidth\":2},\"scene\":{\"xaxis\":{\"backgroundcolor\":\"#E5ECF6\",\"gridcolor\":\"white\",\"linecolor\":\"white\",\"showbackground\":true,\"ticks\":\"\",\"zerolinecolor\":\"white\",\"gridwidth\":2},\"yaxis\":{\"backgroundcolor\":\"#E5ECF6\",\"gridcolor\":\"white\",\"linecolor\":\"white\",\"showbackground\":true,\"ticks\":\"\",\"zerolinecolor\":\"white\",\"gridwidth\":2},\"zaxis\":{\"backgroundcolor\":\"#E5ECF6\",\"gridcolor\":\"white\",\"linecolor\":\"white\",\"showbackground\":true,\"ticks\":\"\",\"zerolinecolor\":\"white\",\"gridwidth\":2}},\"shapedefaults\":{\"line\":{\"color\":\"#2a3f5f\"}},\"annotationdefaults\":{\"arrowcolor\":\"#2a3f5f\",\"arrowhead\":0,\"arrowwidth\":1},\"geo\":{\"bgcolor\":\"white\",\"landcolor\":\"#E5ECF6\",\"subunitcolor\":\"white\",\"showland\":true,\"showlakes\":true,\"lakecolor\":\"white\"},\"title\":{\"x\":0.05},\"mapbox\":{\"style\":\"light\"}}},\"scene\":{\"domain\":{\"x\":[0.0,1.0],\"y\":[0.0,1.0]},\"xaxis\":{\"title\":{\"text\":\"PCA1\"}},\"yaxis\":{\"title\":{\"text\":\"PCA2\"}},\"zaxis\":{\"title\":{\"text\":\"PCA3\"}}},\"coloraxis\":{\"colorbar\":{\"title\":{\"text\":\"property_segments\"}},\"colorscale\":[[0.0,\"#0d0887\"],[0.1111111111111111,\"#46039f\"],[0.2222222222222222,\"#7201a8\"],[0.3333333333333333,\"#9c179e\"],[0.4444444444444444,\"#bd3786\"],[0.5555555555555556,\"#d8576b\"],[0.6666666666666666,\"#ed7953\"],[0.7777777777777778,\"#fb9f3a\"],[0.8888888888888888,\"#fdca26\"],[1.0,\"#f0f921\"]]},\"legend\":{\"tracegroupgap\":0},\"margin\":{\"t\":60}},                        {\"responsive\": true}                    ).then(function(){\n",
       "                            \n",
       "var gd = document.getElementById('863f8b3e-6e9a-49d4-acb9-9c87197e1558');\n",
       "var x = new MutationObserver(function (mutations, observer) {{\n",
       "        var display = window.getComputedStyle(gd).display;\n",
       "        if (!display || display === 'none') {{\n",
       "            console.log([gd, 'removed!']);\n",
       "            Plotly.purge(gd);\n",
       "            observer.disconnect();\n",
       "        }}\n",
       "}});\n",
       "\n",
       "// Listen for the removal of the full notebook cells\n",
       "var notebookContainer = gd.closest('#notebook-container');\n",
       "if (notebookContainer) {{\n",
       "    x.observe(notebookContainer, {childList: true});\n",
       "}}\n",
       "\n",
       "// Listen for the clearing of the current output cell\n",
       "var outputEl = gd.closest('.output');\n",
       "if (outputEl) {{\n",
       "    x.observe(outputEl, {childList: true});\n",
       "}}\n",
       "\n",
       "                        })                };                });            </script>        </div>"
      ]
     },
     "metadata": {},
     "output_type": "display_data"
    }
   ],
   "source": [
    "# Plot the clusters\n",
    "# propertyChi_pca_predictions_df.hvplot.scatter(\n",
    "#     x=\"PCA1\",\n",
    "#     y=\"PCA2\",\n",
    "#     by=\"property_segments\"\n",
    "# )\n",
    "\n",
    "import plotly.express as px\n",
    "\n",
    "fig = px.scatter_3d(propertyOR_pca_predictions_df, x='PCA1', y='PCA2', z='PCA3',\n",
    "              color='property_segments')\n",
    "fig.show()"
   ]
  },
  {
   "cell_type": "code",
   "execution_count": 68,
   "id": "5b53a096",
   "metadata": {},
   "outputs": [
    {
     "name": "stderr",
     "output_type": "stream",
     "text": [
      "/Users/noosh_air/anaconda3/envs/dev/lib/python3.7/site-packages/sklearn/utils/validation.py:1692: FutureWarning:\n",
      "\n",
      "Feature names only support names that are all strings. Got feature names with dtypes: ['int', 'str']. An error will be raised in 1.2.\n",
      "\n",
      "/Users/noosh_air/anaconda3/envs/dev/lib/python3.7/site-packages/sklearn/utils/validation.py:1692: FutureWarning:\n",
      "\n",
      "Feature names only support names that are all strings. Got feature names with dtypes: ['int', 'str']. An error will be raised in 1.2.\n",
      "\n"
     ]
    },
    {
     "data": {
      "text/html": [
       "<div>\n",
       "<style scoped>\n",
       "    .dataframe tbody tr th:only-of-type {\n",
       "        vertical-align: middle;\n",
       "    }\n",
       "\n",
       "    .dataframe tbody tr th {\n",
       "        vertical-align: top;\n",
       "    }\n",
       "\n",
       "    .dataframe thead th {\n",
       "        text-align: right;\n",
       "    }\n",
       "</style>\n",
       "<table border=\"1\" class=\"dataframe\">\n",
       "  <thead>\n",
       "    <tr style=\"text-align: right;\">\n",
       "      <th></th>\n",
       "      <th>Address</th>\n",
       "      <th>City</th>\n",
       "      <th>Zip</th>\n",
       "      <th>SoldDate</th>\n",
       "      <th>Bathrooms</th>\n",
       "      <th>Bedrooms</th>\n",
       "      <th>LivingArea</th>\n",
       "      <th>LandArea</th>\n",
       "      <th>PropPrice</th>\n",
       "      <th>InflationRate</th>\n",
       "      <th>FederalInt</th>\n",
       "      <th>MonthID</th>\n",
       "      <th>property_segments</th>\n",
       "    </tr>\n",
       "  </thead>\n",
       "  <tbody>\n",
       "    <tr>\n",
       "      <th>2094</th>\n",
       "      <td>15842 NW Hackney Dr</td>\n",
       "      <td>Portland</td>\n",
       "      <td>97229</td>\n",
       "      <td>2/20/24</td>\n",
       "      <td>3.0</td>\n",
       "      <td>4</td>\n",
       "      <td>2134</td>\n",
       "      <td>6098.4</td>\n",
       "      <td>660000</td>\n",
       "      <td>3.1</td>\n",
       "      <td>5.33</td>\n",
       "      <td>2</td>\n",
       "      <td>1</td>\n",
       "    </tr>\n",
       "    <tr>\n",
       "      <th>2095</th>\n",
       "      <td>15883 NW Gooderham St #L-96</td>\n",
       "      <td>Portland</td>\n",
       "      <td>97229</td>\n",
       "      <td>2/20/24</td>\n",
       "      <td>5.0</td>\n",
       "      <td>6</td>\n",
       "      <td>4425</td>\n",
       "      <td>5709.0</td>\n",
       "      <td>1494955</td>\n",
       "      <td>3.1</td>\n",
       "      <td>5.33</td>\n",
       "      <td>2</td>\n",
       "      <td>1</td>\n",
       "    </tr>\n",
       "    <tr>\n",
       "      <th>2096</th>\n",
       "      <td>10771 NW Harding Ct</td>\n",
       "      <td>Portland</td>\n",
       "      <td>97229</td>\n",
       "      <td>2/16/24</td>\n",
       "      <td>3.0</td>\n",
       "      <td>3</td>\n",
       "      <td>1650</td>\n",
       "      <td>6534.0</td>\n",
       "      <td>610000</td>\n",
       "      <td>3.1</td>\n",
       "      <td>5.33</td>\n",
       "      <td>2</td>\n",
       "      <td>1</td>\n",
       "    </tr>\n",
       "    <tr>\n",
       "      <th>2097</th>\n",
       "      <td>8577 NW Ryan St</td>\n",
       "      <td>Portland</td>\n",
       "      <td>97229</td>\n",
       "      <td>2/16/24</td>\n",
       "      <td>3.0</td>\n",
       "      <td>4</td>\n",
       "      <td>2594</td>\n",
       "      <td>6534.0</td>\n",
       "      <td>770000</td>\n",
       "      <td>3.1</td>\n",
       "      <td>5.33</td>\n",
       "      <td>2</td>\n",
       "      <td>1</td>\n",
       "    </tr>\n",
       "    <tr>\n",
       "      <th>2098</th>\n",
       "      <td>5124 NW Crady Ln</td>\n",
       "      <td>Portland</td>\n",
       "      <td>97229</td>\n",
       "      <td>2/16/24</td>\n",
       "      <td>3.0</td>\n",
       "      <td>5</td>\n",
       "      <td>3275</td>\n",
       "      <td>5227.2</td>\n",
       "      <td>780000</td>\n",
       "      <td>3.1</td>\n",
       "      <td>5.33</td>\n",
       "      <td>2</td>\n",
       "      <td>1</td>\n",
       "    </tr>\n",
       "  </tbody>\n",
       "</table>\n",
       "</div>"
      ],
      "text/plain": [
       "                          Address      City    Zip SoldDate  Bathrooms  \\\n",
       "2094          15842 NW Hackney Dr  Portland  97229  2/20/24        3.0   \n",
       "2095  15883 NW Gooderham St #L-96  Portland  97229  2/20/24        5.0   \n",
       "2096          10771 NW Harding Ct  Portland  97229  2/16/24        3.0   \n",
       "2097              8577 NW Ryan St  Portland  97229  2/16/24        3.0   \n",
       "2098             5124 NW Crady Ln  Portland  97229  2/16/24        3.0   \n",
       "\n",
       "      Bedrooms  LivingArea  LandArea  PropPrice  InflationRate  FederalInt  \\\n",
       "2094         4        2134    6098.4     660000            3.1        5.33   \n",
       "2095         6        4425    5709.0    1494955            3.1        5.33   \n",
       "2096         3        1650    6534.0     610000            3.1        5.33   \n",
       "2097         4        2594    6534.0     770000            3.1        5.33   \n",
       "2098         5        3275    5227.2     780000            3.1        5.33   \n",
       "\n",
       "      MonthID  property_segments  \n",
       "2094        2                  1  \n",
       "2095        2                  1  \n",
       "2096        2                  1  \n",
       "2097        2                  1  \n",
       "2098        2                  1  "
      ]
     },
     "execution_count": 68,
     "metadata": {},
     "output_type": "execute_result"
    }
   ],
   "source": [
    "# Define the model Kmeans model using k=3 clusters\n",
    "model = KMeans(n_clusters=3, random_state=0)\n",
    "\n",
    "# Fit the model\n",
    "model.fit(df_OR)\n",
    "\n",
    "# Make predictions\n",
    "k_3 = model.predict(df_OR)\n",
    "\n",
    "# Create a copy of the customers_transformed_df DataFrame\n",
    "df_OR_predictions = df_OR.copy()\n",
    "df_OR_Orig_Pred= df_OR_Orig.copy()\n",
    "# Add a class column with the labels\n",
    "df_OR_predictions[\"property_segments\"] = k_3\n",
    "df_OR_Orig_Pred[\"property_segments\"] = k_3\n",
    "df_OR_Orig_Pred.head()"
   ]
  },
  {
   "cell_type": "code",
   "execution_count": 74,
   "id": "25c11d15",
   "metadata": {},
   "outputs": [
    {
     "data": {},
     "metadata": {},
     "output_type": "display_data"
    },
    {
     "data": {
      "application/vnd.holoviews_exec.v0+json": "",
      "text/html": [
       "<div id='2888'>\n",
       "  <div class=\"bk-root\" id=\"cbf323aa-173e-4d6d-ae71-c5ece069487d\" data-root-id=\"2888\"></div>\n",
       "</div>\n",
       "<script type=\"application/javascript\">(function(root) {\n",
       "  function embed_document(root) {\n",
       "    var docs_json = {\"9cdd30a4-812a-4370-804f-35e749b049d4\":{\"defs\":[{\"extends\":null,\"module\":null,\"name\":\"ReactiveHTML1\",\"overrides\":[],\"properties\":[]},{\"extends\":null,\"module\":null,\"name\":\"FlexBox1\",\"overrides\":[],\"properties\":[{\"default\":\"flex-start\",\"kind\":null,\"name\":\"align_content\"},{\"default\":\"flex-start\",\"kind\":null,\"name\":\"align_items\"},{\"default\":\"row\",\"kind\":null,\"name\":\"flex_direction\"},{\"default\":\"wrap\",\"kind\":null,\"name\":\"flex_wrap\"},{\"default\":\"flex-start\",\"kind\":null,\"name\":\"justify_content\"}]},{\"extends\":null,\"module\":null,\"name\":\"GridStack1\",\"overrides\":[],\"properties\":[{\"default\":\"warn\",\"kind\":null,\"name\":\"mode\"},{\"default\":null,\"kind\":null,\"name\":\"ncols\"},{\"default\":null,\"kind\":null,\"name\":\"nrows\"},{\"default\":true,\"kind\":null,\"name\":\"allow_resize\"},{\"default\":true,\"kind\":null,\"name\":\"allow_drag\"},{\"default\":[],\"kind\":null,\"name\":\"state\"}]},{\"extends\":null,\"module\":null,\"name\":\"click1\",\"overrides\":[],\"properties\":[{\"default\":\"\",\"kind\":null,\"name\":\"terminal_output\"},{\"default\":\"\",\"kind\":null,\"name\":\"debug_name\"},{\"default\":0,\"kind\":null,\"name\":\"clears\"}]},{\"extends\":null,\"module\":null,\"name\":\"NotificationAreaBase1\",\"overrides\":[],\"properties\":[{\"default\":\"bottom-right\",\"kind\":null,\"name\":\"position\"},{\"default\":0,\"kind\":null,\"name\":\"_clear\"}]},{\"extends\":null,\"module\":null,\"name\":\"NotificationArea1\",\"overrides\":[],\"properties\":[{\"default\":[],\"kind\":null,\"name\":\"notifications\"},{\"default\":\"bottom-right\",\"kind\":null,\"name\":\"position\"},{\"default\":0,\"kind\":null,\"name\":\"_clear\"},{\"default\":[{\"background\":\"#ffc107\",\"icon\":{\"className\":\"fas fa-exclamation-triangle\",\"color\":\"white\",\"tagName\":\"i\"},\"type\":\"warning\"},{\"background\":\"#007bff\",\"icon\":{\"className\":\"fas fa-info-circle\",\"color\":\"white\",\"tagName\":\"i\"},\"type\":\"info\"}],\"kind\":null,\"name\":\"types\"}]},{\"extends\":null,\"module\":null,\"name\":\"Notification\",\"overrides\":[],\"properties\":[{\"default\":null,\"kind\":null,\"name\":\"background\"},{\"default\":3000,\"kind\":null,\"name\":\"duration\"},{\"default\":null,\"kind\":null,\"name\":\"icon\"},{\"default\":\"\",\"kind\":null,\"name\":\"message\"},{\"default\":null,\"kind\":null,\"name\":\"notification_type\"},{\"default\":false,\"kind\":null,\"name\":\"_destroyed\"}]},{\"extends\":null,\"module\":null,\"name\":\"TemplateActions1\",\"overrides\":[],\"properties\":[{\"default\":0,\"kind\":null,\"name\":\"open_modal\"},{\"default\":0,\"kind\":null,\"name\":\"close_modal\"}]},{\"extends\":null,\"module\":null,\"name\":\"MaterialTemplateActions1\",\"overrides\":[],\"properties\":[{\"default\":0,\"kind\":null,\"name\":\"open_modal\"},{\"default\":0,\"kind\":null,\"name\":\"close_modal\"}]}],\"roots\":{\"references\":[{\"attributes\":{\"click_policy\":\"mute\",\"coordinates\":null,\"group\":null,\"items\":[{\"id\":\"2950\"},{\"id\":\"2972\"},{\"id\":\"2996\"}],\"location\":[0,0],\"title\":\"property_segments\"},\"id\":\"2949\",\"type\":\"Legend\"},{\"attributes\":{},\"id\":\"2969\",\"type\":\"UnionRenderers\"},{\"attributes\":{\"margin\":[5,5,5,5],\"name\":\"HSpacer03111\",\"sizing_mode\":\"stretch_width\"},\"id\":\"3012\",\"type\":\"Spacer\"},{\"attributes\":{\"source\":{\"id\":\"2974\"}},\"id\":\"2981\",\"type\":\"CDSView\"},{\"attributes\":{},\"id\":\"2929\",\"type\":\"BasicTickFormatter\"},{\"attributes\":{\"children\":[{\"id\":\"2889\"},{\"id\":\"2895\"},{\"id\":\"3012\"}],\"margin\":[0,0,0,0],\"name\":\"Row03106\",\"tags\":[\"embedded\"]},\"id\":\"2888\",\"type\":\"Row\"},{\"attributes\":{\"data\":{\"Address\":[\"15842 NW Hackney Dr\",\"15883 NW Gooderham St #L-96\",\"10771 NW Harding Ct\",\"8577 NW Ryan St\",\"5124 NW Crady Ln\",\"4578 NW Tamoshanter Way\",\"14412 NW Whistler Ln\",\"16790 NW Vetter Dr\",\"7899 NW 162nd Ter #L106\",\"7273 NW 167th Ave\",\"12958 NW Ethan Dr\",\"2739 NW Avocet Ln\",\"12581 NW Forest Spring Ln\",\"15858 NW Ridgeline St #L63\",\"15874 NW Raywood Ln\",\"5857 NW Bannister Dr\",\"11974 NW Sadie St\",\"1837 NW Caitlin Ter\",\"13027 NW Hartford St\"],\"MonthID\":[2,2,2,2,2,2,2,2,2,2,2,2,2,2,2,2,2,12,12],\"PropPrice\":[660000,1494955,610000,770000,780000,965000,775000,1130000,1375375,765000,830500,1075000,720000,1237870,825300,940000,1059950,700000,785000],\"SoldDate\":[\"2/20/24\",\"2/20/24\",\"2/16/24\",\"2/16/24\",\"2/16/24\",\"2/15/24\",\"2/15/24\",\"2/15/24\",\"2/15/24\",\"2/13/24\",\"2/12/24\",\"2/9/24\",\"2/9/24\",\"2/9/24\",\"2/8/24\",\"2/6/24\",\"2/6/24\",\"12/29/23\",\"12/29/23\"],\"property_segments\":[1,1,1,1,1,1,1,1,1,1,1,1,1,1,1,1,1,1,1]},\"selected\":{\"id\":\"2953\"},\"selection_policy\":{\"id\":\"2969\"}},\"id\":\"2952\",\"type\":\"ColumnDataSource\"},{\"attributes\":{},\"id\":\"2946\",\"type\":\"UnionRenderers\"},{\"attributes\":{\"fill_color\":{\"value\":\"#30a2da\"},\"hatch_color\":{\"value\":\"#30a2da\"},\"line_color\":{\"value\":\"#30a2da\"},\"size\":{\"value\":5.477225575051661},\"x\":{\"field\":\"MonthID\"},\"y\":{\"field\":\"PropPrice\"}},\"id\":\"2934\",\"type\":\"Scatter\"},{\"attributes\":{},\"id\":\"2909\",\"type\":\"BasicTicker\"},{\"attributes\":{\"bottom_units\":\"screen\",\"coordinates\":null,\"fill_alpha\":0.5,\"fill_color\":\"lightgrey\",\"group\":null,\"left_units\":\"screen\",\"level\":\"overlay\",\"line_alpha\":1.0,\"line_color\":\"black\",\"line_dash\":[4,4],\"line_width\":2,\"right_units\":\"screen\",\"syncable\":false,\"top_units\":\"screen\"},\"id\":\"2917\",\"type\":\"BoxAnnotation\"},{\"attributes\":{\"axis\":{\"id\":\"2908\"},\"coordinates\":null,\"dimension\":1,\"grid_line_color\":null,\"group\":null,\"ticker\":null},\"id\":\"2911\",\"type\":\"Grid\"},{\"attributes\":{\"label\":{\"value\":\"1\"},\"renderers\":[{\"id\":\"2958\"}]},\"id\":\"2972\",\"type\":\"LegendItem\"},{\"attributes\":{\"angle\":{\"value\":0.0},\"fill_alpha\":{\"value\":1.0},\"fill_color\":{\"value\":\"#30a2da\"},\"hatch_alpha\":{\"value\":1.0},\"hatch_color\":{\"value\":\"#30a2da\"},\"hatch_scale\":{\"value\":12.0},\"hatch_weight\":{\"value\":1.0},\"line_alpha\":{\"value\":1.0},\"line_cap\":{\"value\":\"butt\"},\"line_color\":{\"value\":\"#30a2da\"},\"line_dash\":{\"value\":[]},\"line_dash_offset\":{\"value\":0},\"line_join\":{\"value\":\"bevel\"},\"line_width\":{\"value\":1},\"marker\":{\"value\":\"circle\"},\"size\":{\"value\":5.477225575051661},\"x\":{\"field\":\"MonthID\"},\"y\":{\"field\":\"PropPrice\"}},\"id\":\"2951\",\"type\":\"Scatter\"},{\"attributes\":{\"end\":12.471428571428572,\"reset_end\":12.471428571428572,\"reset_start\":0.5285714285714286,\"start\":0.5285714285714286,\"tags\":[[[\"MonthID\",\"MonthID\",null]]]},\"id\":\"2890\",\"type\":\"Range1d\"},{\"attributes\":{\"fill_alpha\":{\"value\":0.2},\"fill_color\":{\"value\":\"#30a2da\"},\"hatch_alpha\":{\"value\":0.2},\"hatch_color\":{\"value\":\"#30a2da\"},\"line_alpha\":{\"value\":0.2},\"line_color\":{\"value\":\"#30a2da\"},\"size\":{\"value\":5.477225575051661},\"x\":{\"field\":\"MonthID\"},\"y\":{\"field\":\"PropPrice\"}},\"id\":\"2936\",\"type\":\"Scatter\"},{\"attributes\":{\"data\":{\"Address\":[\"15714 NW Clubhouse Dr\",\"4792 NW Gannet Ter\",\"1674 NW 143rd Ave\",\"16201 NW Fescue Ct\",\"16885 NW Argyle Way\",\"15898 NW Claremont Dr\",\"15669 NW Saint Andrews Dr\",\"15029 NW Sumida Ln\",\"5654 NW Lark Meadow Ter\",\"15135 NW Nightshade Dr\",\"16162 NW Canterwood Way\",\"4341 NW Tamoshanter Way\",\"12873 NW Milazzo Ln\",\"10260 NW Flotoma Dr\",\"10257 NW Alpenglow Way\",\"3227 NW Banff Dr\",\"11060 NW Cornell Rd\",\"200 NW 101st Ave\"],\"MonthID\":[2,1,1,1,1,1,1,1,1,1,1,1,1,1,1,1,12,12],\"PropPrice\":[505000,561000,335000,380000,600000,855000,1050000,519000,707000,449000,865000,1194000,672500,490000,750000,495000,574000,600000],\"SoldDate\":[\"2/6/24\",\"1/31/24\",\"1/31/24\",\"1/30/24\",\"1/25/24\",\"1/25/24\",\"1/19/24\",\"1/17/24\",\"1/17/24\",\"1/16/24\",\"1/12/24\",\"1/12/24\",\"1/9/24\",\"1/8/24\",\"1/5/24\",\"1/5/24\",\"12/29/23\",\"12/29/23\"],\"property_segments\":[2,2,2,2,2,2,2,2,2,2,2,2,2,2,2,2,2,2]},\"selected\":{\"id\":\"2975\"},\"selection_policy\":{\"id\":\"2993\"}},\"id\":\"2974\",\"type\":\"ColumnDataSource\"},{\"attributes\":{\"end\":1610950.5,\"reset_end\":1610950.5,\"reset_start\":219004.5,\"start\":219004.5,\"tags\":[[[\"PropPrice\",\"PropPrice\",null]]]},\"id\":\"2891\",\"type\":\"Range1d\"},{\"attributes\":{\"source\":{\"id\":\"2952\"}},\"id\":\"2959\",\"type\":\"CDSView\"},{\"attributes\":{\"fill_color\":{\"value\":\"#e5ae38\"},\"hatch_color\":{\"value\":\"#e5ae38\"},\"line_color\":{\"value\":\"#e5ae38\"},\"size\":{\"value\":5.477225575051661},\"x\":{\"field\":\"MonthID\"},\"y\":{\"field\":\"PropPrice\"}},\"id\":\"2977\",\"type\":\"Scatter\"},{\"attributes\":{\"source\":{\"id\":\"2931\"}},\"id\":\"2938\",\"type\":\"CDSView\"},{\"attributes\":{},\"id\":\"2975\",\"type\":\"Selection\"},{\"attributes\":{\"fill_alpha\":{\"value\":0.2},\"fill_color\":{\"value\":\"#fc4f30\"},\"hatch_alpha\":{\"value\":0.2},\"hatch_color\":{\"value\":\"#fc4f30\"},\"line_alpha\":{\"value\":0.2},\"line_color\":{\"value\":\"#fc4f30\"},\"size\":{\"value\":5.477225575051661},\"x\":{\"field\":\"MonthID\"},\"y\":{\"field\":\"PropPrice\"}},\"id\":\"2957\",\"type\":\"Scatter\"},{\"attributes\":{\"coordinates\":null,\"group\":null,\"text_color\":\"black\",\"text_font_size\":\"12pt\"},\"id\":\"2896\",\"type\":\"Title\"},{\"attributes\":{\"fill_alpha\":{\"value\":0.1},\"fill_color\":{\"value\":\"#30a2da\"},\"hatch_alpha\":{\"value\":0.1},\"hatch_color\":{\"value\":\"#30a2da\"},\"line_alpha\":{\"value\":0.1},\"line_color\":{\"value\":\"#30a2da\"},\"size\":{\"value\":5.477225575051661},\"x\":{\"field\":\"MonthID\"},\"y\":{\"field\":\"PropPrice\"}},\"id\":\"2935\",\"type\":\"Scatter\"},{\"attributes\":{},\"id\":\"2953\",\"type\":\"Selection\"},{\"attributes\":{},\"id\":\"2993\",\"type\":\"UnionRenderers\"},{\"attributes\":{},\"id\":\"2900\",\"type\":\"LinearScale\"},{\"attributes\":{\"below\":[{\"id\":\"2904\"}],\"center\":[{\"id\":\"2907\"},{\"id\":\"2911\"}],\"height\":300,\"left\":[{\"id\":\"2908\"}],\"margin\":[5,5,5,5],\"min_border_bottom\":10,\"min_border_left\":10,\"min_border_right\":10,\"min_border_top\":10,\"renderers\":[{\"id\":\"2937\"},{\"id\":\"2958\"},{\"id\":\"2980\"}],\"right\":[{\"id\":\"2949\"}],\"sizing_mode\":\"fixed\",\"title\":{\"id\":\"2896\"},\"toolbar\":{\"id\":\"2918\"},\"width\":700,\"x_range\":{\"id\":\"2890\"},\"x_scale\":{\"id\":\"2900\"},\"y_range\":{\"id\":\"2891\"},\"y_scale\":{\"id\":\"2902\"}},\"id\":\"2895\",\"subtype\":\"Figure\",\"type\":\"Plot\"},{\"attributes\":{\"fill_color\":{\"value\":\"#fc4f30\"},\"hatch_color\":{\"value\":\"#fc4f30\"},\"line_color\":{\"value\":\"#fc4f30\"},\"size\":{\"value\":5.477225575051661},\"x\":{\"field\":\"MonthID\"},\"y\":{\"field\":\"PropPrice\"}},\"id\":\"2955\",\"type\":\"Scatter\"},{\"attributes\":{\"callback\":null,\"renderers\":[{\"id\":\"2937\"},{\"id\":\"2958\"},{\"id\":\"2980\"}],\"tags\":[\"hv_created\"],\"tooltips\":[[\"property_segments\",\"@{property_segments}\"],[\"MonthID\",\"@{MonthID}\"],[\"PropPrice\",\"@{PropPrice}\"],[\"Address\",\"@{Address}\"],[\"SoldDate\",\"@{SoldDate}\"]]},\"id\":\"2892\",\"type\":\"HoverTool\"},{\"attributes\":{},\"id\":\"2930\",\"type\":\"AllLabels\"},{\"attributes\":{\"label\":{\"value\":\"2\"},\"renderers\":[{\"id\":\"2980\"}]},\"id\":\"2996\",\"type\":\"LegendItem\"},{\"attributes\":{},\"id\":\"2926\",\"type\":\"BasicTickFormatter\"},{\"attributes\":{\"fill_alpha\":{\"value\":0.2},\"fill_color\":{\"value\":\"#e5ae38\"},\"hatch_alpha\":{\"value\":0.2},\"hatch_color\":{\"value\":\"#e5ae38\"},\"line_alpha\":{\"value\":0.2},\"line_color\":{\"value\":\"#e5ae38\"},\"size\":{\"value\":5.477225575051661},\"x\":{\"field\":\"MonthID\"},\"y\":{\"field\":\"PropPrice\"}},\"id\":\"2979\",\"type\":\"Scatter\"},{\"attributes\":{\"coordinates\":null,\"data_source\":{\"id\":\"2952\"},\"glyph\":{\"id\":\"2955\"},\"group\":null,\"hover_glyph\":null,\"muted_glyph\":{\"id\":\"2957\"},\"nonselection_glyph\":{\"id\":\"2956\"},\"selection_glyph\":{\"id\":\"2973\"},\"view\":{\"id\":\"2959\"}},\"id\":\"2958\",\"type\":\"GlyphRenderer\"},{\"attributes\":{\"axis_label\":\"PropPrice\",\"coordinates\":null,\"formatter\":{\"id\":\"2929\"},\"group\":null,\"major_label_policy\":{\"id\":\"2930\"},\"ticker\":{\"id\":\"2909\"}},\"id\":\"2908\",\"type\":\"LinearAxis\"},{\"attributes\":{},\"id\":\"2905\",\"type\":\"BasicTicker\"},{\"attributes\":{\"coordinates\":null,\"data_source\":{\"id\":\"2931\"},\"glyph\":{\"id\":\"2934\"},\"group\":null,\"hover_glyph\":null,\"muted_glyph\":{\"id\":\"2936\"},\"nonselection_glyph\":{\"id\":\"2935\"},\"selection_glyph\":{\"id\":\"2951\"},\"view\":{\"id\":\"2938\"}},\"id\":\"2937\",\"type\":\"GlyphRenderer\"},{\"attributes\":{\"margin\":[5,5,5,5],\"name\":\"HSpacer03110\",\"sizing_mode\":\"stretch_width\"},\"id\":\"2889\",\"type\":\"Spacer\"},{\"attributes\":{\"tools\":[{\"id\":\"2892\"},{\"id\":\"2912\"},{\"id\":\"2913\"},{\"id\":\"2914\"},{\"id\":\"2915\"},{\"id\":\"2916\"}]},\"id\":\"2918\",\"type\":\"Toolbar\"},{\"attributes\":{\"angle\":{\"value\":0.0},\"fill_alpha\":{\"value\":1.0},\"fill_color\":{\"value\":\"#fc4f30\"},\"hatch_alpha\":{\"value\":1.0},\"hatch_color\":{\"value\":\"#fc4f30\"},\"hatch_scale\":{\"value\":12.0},\"hatch_weight\":{\"value\":1.0},\"line_alpha\":{\"value\":1.0},\"line_cap\":{\"value\":\"butt\"},\"line_color\":{\"value\":\"#fc4f30\"},\"line_dash\":{\"value\":[]},\"line_dash_offset\":{\"value\":0},\"line_join\":{\"value\":\"bevel\"},\"line_width\":{\"value\":1},\"marker\":{\"value\":\"circle\"},\"size\":{\"value\":5.477225575051661},\"x\":{\"field\":\"MonthID\"},\"y\":{\"field\":\"PropPrice\"}},\"id\":\"2973\",\"type\":\"Scatter\"},{\"attributes\":{},\"id\":\"2913\",\"type\":\"PanTool\"},{\"attributes\":{},\"id\":\"2912\",\"type\":\"SaveTool\"},{\"attributes\":{},\"id\":\"2916\",\"type\":\"ResetTool\"},{\"attributes\":{\"angle\":{\"value\":0.0},\"fill_alpha\":{\"value\":1.0},\"fill_color\":{\"value\":\"#e5ae38\"},\"hatch_alpha\":{\"value\":1.0},\"hatch_color\":{\"value\":\"#e5ae38\"},\"hatch_scale\":{\"value\":12.0},\"hatch_weight\":{\"value\":1.0},\"line_alpha\":{\"value\":1.0},\"line_cap\":{\"value\":\"butt\"},\"line_color\":{\"value\":\"#e5ae38\"},\"line_dash\":{\"value\":[]},\"line_dash_offset\":{\"value\":0},\"line_join\":{\"value\":\"bevel\"},\"line_width\":{\"value\":1},\"marker\":{\"value\":\"circle\"},\"size\":{\"value\":5.477225575051661},\"x\":{\"field\":\"MonthID\"},\"y\":{\"field\":\"PropPrice\"}},\"id\":\"2997\",\"type\":\"Scatter\"},{\"attributes\":{\"label\":{\"value\":\"0\"},\"renderers\":[{\"id\":\"2937\"}]},\"id\":\"2950\",\"type\":\"LegendItem\"},{\"attributes\":{},\"id\":\"2902\",\"type\":\"LinearScale\"},{\"attributes\":{\"axis_label\":\"MonthID\",\"coordinates\":null,\"formatter\":{\"id\":\"2926\"},\"group\":null,\"major_label_policy\":{\"id\":\"2927\"},\"ticker\":{\"id\":\"2905\"}},\"id\":\"2904\",\"type\":\"LinearAxis\"},{\"attributes\":{\"data\":{\"Address\":[\"5273 NW 127th Ter\",\"7233 NW Dusty Ter\",\"15854 NW Holman Way #L2\",\"15675 NW Ridgeline St #L33\",\"13819 NW Falconridge Ln\",\"3762 NW Devoto Ln\",\"4015 NW Devoto Ln\",\"13473 NW Greenwood Dr\",\"3036 NW Bauer Woods Dr\",\"14590 NW Delia St\",\"1787 NW Larkin Ter\",\"14813 NW Joseph Ct\",\"16709 NW Waterford Way\",\"6329 NW Gerber Ter\",\"17119 NW Tristan St\",\"15818 NW Gooderham St #L41\",\"6436 NW Dingo Dr\",\"10022 NW Engleman St\",\"7205 NW 168th Ave\",\"15073 NW Olive St\",\"5469 NW Meadowlands Ter\"],\"MonthID\":[1,1,1,1,1,1,1,1,1,1,1,1,1,1,1,1,1,1,1,1,1],\"PropPrice\":[800000,850000,931070,1099995,875000,1295000,1150000,945000,995000,880000,830000,1125000,650000,795000,865000,1058255,1050000,815000,785000,715000,765000],\"SoldDate\":[\"1/31/24\",\"1/30/24\",\"1/26/24\",\"1/24/24\",\"1/23/24\",\"1/23/24\",\"1/22/24\",\"1/22/24\",\"1/19/24\",\"1/19/24\",\"1/19/24\",\"1/16/24\",\"1/12/24\",\"1/12/24\",\"1/11/24\",\"1/11/24\",\"1/9/24\",\"1/5/24\",\"1/5/24\",\"1/4/24\",\"1/2/24\"],\"property_segments\":[0,0,0,0,0,0,0,0,0,0,0,0,0,0,0,0,0,0,0,0,0]},\"selected\":{\"id\":\"2932\"},\"selection_policy\":{\"id\":\"2946\"}},\"id\":\"2931\",\"type\":\"ColumnDataSource\"},{\"attributes\":{},\"id\":\"2914\",\"type\":\"WheelZoomTool\"},{\"attributes\":{\"coordinates\":null,\"data_source\":{\"id\":\"2974\"},\"glyph\":{\"id\":\"2977\"},\"group\":null,\"hover_glyph\":null,\"muted_glyph\":{\"id\":\"2979\"},\"nonselection_glyph\":{\"id\":\"2978\"},\"selection_glyph\":{\"id\":\"2997\"},\"view\":{\"id\":\"2981\"}},\"id\":\"2980\",\"type\":\"GlyphRenderer\"},{\"attributes\":{\"fill_alpha\":{\"value\":0.1},\"fill_color\":{\"value\":\"#e5ae38\"},\"hatch_alpha\":{\"value\":0.1},\"hatch_color\":{\"value\":\"#e5ae38\"},\"line_alpha\":{\"value\":0.1},\"line_color\":{\"value\":\"#e5ae38\"},\"size\":{\"value\":5.477225575051661},\"x\":{\"field\":\"MonthID\"},\"y\":{\"field\":\"PropPrice\"}},\"id\":\"2978\",\"type\":\"Scatter\"},{\"attributes\":{\"overlay\":{\"id\":\"2917\"}},\"id\":\"2915\",\"type\":\"BoxZoomTool\"},{\"attributes\":{},\"id\":\"2927\",\"type\":\"AllLabels\"},{\"attributes\":{\"axis\":{\"id\":\"2904\"},\"coordinates\":null,\"grid_line_color\":null,\"group\":null,\"ticker\":null},\"id\":\"2907\",\"type\":\"Grid\"},{\"attributes\":{},\"id\":\"2932\",\"type\":\"Selection\"},{\"attributes\":{\"fill_alpha\":{\"value\":0.1},\"fill_color\":{\"value\":\"#fc4f30\"},\"hatch_alpha\":{\"value\":0.1},\"hatch_color\":{\"value\":\"#fc4f30\"},\"line_alpha\":{\"value\":0.1},\"line_color\":{\"value\":\"#fc4f30\"},\"size\":{\"value\":5.477225575051661},\"x\":{\"field\":\"MonthID\"},\"y\":{\"field\":\"PropPrice\"}},\"id\":\"2956\",\"type\":\"Scatter\"}],\"root_ids\":[\"2888\"]},\"title\":\"Bokeh Application\",\"version\":\"2.4.3\"}};\n",
       "    var render_items = [{\"docid\":\"9cdd30a4-812a-4370-804f-35e749b049d4\",\"root_ids\":[\"2888\"],\"roots\":{\"2888\":\"cbf323aa-173e-4d6d-ae71-c5ece069487d\"}}];\n",
       "    root.Bokeh.embed.embed_items_notebook(docs_json, render_items);\n",
       "  }\n",
       "  if (root.Bokeh !== undefined && root.Bokeh.Panel !== undefined) {\n",
       "    embed_document(root);\n",
       "  } else {\n",
       "    var attempts = 0;\n",
       "    var timer = setInterval(function(root) {\n",
       "      if (root.Bokeh !== undefined && root.Bokeh.Panel !== undefined) {\n",
       "        clearInterval(timer);\n",
       "        embed_document(root);\n",
       "      } else if (document.readyState == \"complete\") {\n",
       "        attempts++;\n",
       "        if (attempts > 200) {\n",
       "          clearInterval(timer);\n",
       "          console.log(\"Bokeh: ERROR: Unable to run BokehJS code because BokehJS library is missing\");\n",
       "        }\n",
       "      }\n",
       "    }, 25, root)\n",
       "  }\n",
       "})(window);</script>"
      ],
      "text/plain": [
       ":NdOverlay   [property_segments]\n",
       "   :Scatter   [MonthID]   (PropPrice,Address,SoldDate)"
      ]
     },
     "execution_count": 74,
     "metadata": {
      "application/vnd.holoviews_exec.v0+json": {
       "id": "2888"
      }
     },
     "output_type": "execute_result"
    }
   ],
   "source": [
    "# Plot the clusters per 2 features from the LA dataframe against property price\n",
    "df_OR_Orig_Pred.hvplot.scatter(\n",
    "    x=\"MonthID\",\n",
    "    y=\"PropPrice\",\n",
    "    by=\"property_segments\",\n",
    "    hover_cols=['Address', 'SoldDate']\n",
    ")\n",
    "#conclusion for this visual: Certain cluster of Properties are more desireable in Feb   "
   ]
  },
  {
   "cell_type": "code",
   "execution_count": 44,
   "id": "84e8de29",
   "metadata": {},
   "outputs": [
    {
     "data": {
      "application/vnd.plotly.v1+json": {
       "config": {
        "plotlyServerURL": "https://plot.ly"
       },
       "data": [
        {
         "hovertemplate": "LandArea=%{x}<br>PropPrice=%{y}<br>Bedrooms=%{z}<br>property_segments=%{marker.color}<extra></extra>",
         "legendgroup": "",
         "marker": {
          "color": [
           2,
           2,
           2,
           2,
           2,
           2,
           2,
           2,
           2,
           2,
           0,
           2,
           2,
           2,
           2,
           2,
           3,
           2,
           2,
           3,
           3,
           1,
           3,
           1,
           1,
           3,
           3,
           1,
           1,
           1,
           1,
           1,
           1,
           3,
           1,
           1,
           3,
           3,
           1,
           3,
           1,
           3,
           3,
           1,
           1,
           1,
           3,
           1,
           3,
           3,
           3,
           1,
           1,
           1,
           1,
           2,
           3,
           3,
           2
          ],
          "coloraxis": "coloraxis",
          "symbol": "circle"
         },
         "mode": "markers",
         "name": "",
         "scene": "scene",
         "showlegend": false,
         "type": "scatter3d",
         "x": [
          6098.4,
          5709,
          6534,
          6534,
          5227.2,
          7840.8,
          6969.6,
          6534,
          5190,
          3049.2,
          197762.4,
          5662.8,
          20037.600000000002,
          3920.4,
          4739,
          3042,
          3920.4,
          4792,
          4792,
          2613.6,
          1742,
          5227.2,
          871.2,
          3049.2,
          3779,
          7840.8,
          5662.8,
          4791.6,
          6969.6,
          9583.2,
          12196.800000000001,
          9147.6,
          13503.6,
          5227,
          5227.2,
          3920.4,
          2613.6,
          3484.8,
          13939.2,
          2613.6,
          7840.8,
          6098.4,
          6098,
          15245.999999999998,
          4791.6,
          4791.6,
          3920.4,
          7840.8,
          11325.6,
          10890,
          3049.2,
          7405.2,
          4356,
          2613.6,
          6969.6,
          8712,
          16117.199999999999,
          17859.6,
          9147.6
         ],
         "y": [
          660000,
          1494955,
          610000,
          770000,
          780000,
          965000,
          775000,
          1130000,
          1375375,
          765000,
          1125000,
          830500,
          1075000,
          720000,
          1237870,
          825300,
          505000,
          940000,
          1059950,
          561000,
          335000,
          800000,
          380000,
          850000,
          931070,
          600000,
          855000,
          1099995,
          875000,
          1295000,
          1150000,
          945000,
          995000,
          1050000,
          880000,
          830000,
          519000,
          707000,
          1125000,
          449000,
          650000,
          865000,
          1194000,
          795000,
          865000,
          1058255,
          672500,
          1050000,
          490000,
          750000,
          495000,
          815000,
          785000,
          715000,
          765000,
          700000,
          574000,
          600000,
          785000
         ],
         "z": [
          4,
          6,
          3,
          4,
          5,
          3,
          5,
          6,
          6,
          4,
          4,
          5,
          4,
          4,
          6,
          4,
          2,
          5,
          5,
          2,
          2,
          5,
          3,
          5,
          4,
          3,
          3,
          6,
          4,
          4,
          4,
          5,
          4,
          3,
          4,
          4,
          2,
          3,
          5,
          2,
          4,
          3,
          3,
          4,
          6,
          5,
          3,
          5,
          3,
          3,
          3,
          4,
          6,
          4,
          4,
          4,
          3,
          3,
          5
         ]
        }
       ],
       "layout": {
        "coloraxis": {
         "colorbar": {
          "title": {
           "text": "property_segments"
          }
         },
         "colorscale": [
          [
           0,
           "#0d0887"
          ],
          [
           0.1111111111111111,
           "#46039f"
          ],
          [
           0.2222222222222222,
           "#7201a8"
          ],
          [
           0.3333333333333333,
           "#9c179e"
          ],
          [
           0.4444444444444444,
           "#bd3786"
          ],
          [
           0.5555555555555556,
           "#d8576b"
          ],
          [
           0.6666666666666666,
           "#ed7953"
          ],
          [
           0.7777777777777778,
           "#fb9f3a"
          ],
          [
           0.8888888888888888,
           "#fdca26"
          ],
          [
           1,
           "#f0f921"
          ]
         ]
        },
        "legend": {
         "tracegroupgap": 0
        },
        "margin": {
         "t": 60
        },
        "scene": {
         "domain": {
          "x": [
           0,
           1
          ],
          "y": [
           0,
           1
          ]
         },
         "xaxis": {
          "title": {
           "text": "LandArea"
          }
         },
         "yaxis": {
          "title": {
           "text": "PropPrice"
          }
         },
         "zaxis": {
          "title": {
           "text": "Bedrooms"
          }
         }
        },
        "template": {
         "data": {
          "bar": [
           {
            "error_x": {
             "color": "#2a3f5f"
            },
            "error_y": {
             "color": "#2a3f5f"
            },
            "marker": {
             "line": {
              "color": "#E5ECF6",
              "width": 0.5
             },
             "pattern": {
              "fillmode": "overlay",
              "size": 10,
              "solidity": 0.2
             }
            },
            "type": "bar"
           }
          ],
          "barpolar": [
           {
            "marker": {
             "line": {
              "color": "#E5ECF6",
              "width": 0.5
             },
             "pattern": {
              "fillmode": "overlay",
              "size": 10,
              "solidity": 0.2
             }
            },
            "type": "barpolar"
           }
          ],
          "carpet": [
           {
            "aaxis": {
             "endlinecolor": "#2a3f5f",
             "gridcolor": "white",
             "linecolor": "white",
             "minorgridcolor": "white",
             "startlinecolor": "#2a3f5f"
            },
            "baxis": {
             "endlinecolor": "#2a3f5f",
             "gridcolor": "white",
             "linecolor": "white",
             "minorgridcolor": "white",
             "startlinecolor": "#2a3f5f"
            },
            "type": "carpet"
           }
          ],
          "choropleth": [
           {
            "colorbar": {
             "outlinewidth": 0,
             "ticks": ""
            },
            "type": "choropleth"
           }
          ],
          "contour": [
           {
            "colorbar": {
             "outlinewidth": 0,
             "ticks": ""
            },
            "colorscale": [
             [
              0,
              "#0d0887"
             ],
             [
              0.1111111111111111,
              "#46039f"
             ],
             [
              0.2222222222222222,
              "#7201a8"
             ],
             [
              0.3333333333333333,
              "#9c179e"
             ],
             [
              0.4444444444444444,
              "#bd3786"
             ],
             [
              0.5555555555555556,
              "#d8576b"
             ],
             [
              0.6666666666666666,
              "#ed7953"
             ],
             [
              0.7777777777777778,
              "#fb9f3a"
             ],
             [
              0.8888888888888888,
              "#fdca26"
             ],
             [
              1,
              "#f0f921"
             ]
            ],
            "type": "contour"
           }
          ],
          "contourcarpet": [
           {
            "colorbar": {
             "outlinewidth": 0,
             "ticks": ""
            },
            "type": "contourcarpet"
           }
          ],
          "heatmap": [
           {
            "colorbar": {
             "outlinewidth": 0,
             "ticks": ""
            },
            "colorscale": [
             [
              0,
              "#0d0887"
             ],
             [
              0.1111111111111111,
              "#46039f"
             ],
             [
              0.2222222222222222,
              "#7201a8"
             ],
             [
              0.3333333333333333,
              "#9c179e"
             ],
             [
              0.4444444444444444,
              "#bd3786"
             ],
             [
              0.5555555555555556,
              "#d8576b"
             ],
             [
              0.6666666666666666,
              "#ed7953"
             ],
             [
              0.7777777777777778,
              "#fb9f3a"
             ],
             [
              0.8888888888888888,
              "#fdca26"
             ],
             [
              1,
              "#f0f921"
             ]
            ],
            "type": "heatmap"
           }
          ],
          "heatmapgl": [
           {
            "colorbar": {
             "outlinewidth": 0,
             "ticks": ""
            },
            "colorscale": [
             [
              0,
              "#0d0887"
             ],
             [
              0.1111111111111111,
              "#46039f"
             ],
             [
              0.2222222222222222,
              "#7201a8"
             ],
             [
              0.3333333333333333,
              "#9c179e"
             ],
             [
              0.4444444444444444,
              "#bd3786"
             ],
             [
              0.5555555555555556,
              "#d8576b"
             ],
             [
              0.6666666666666666,
              "#ed7953"
             ],
             [
              0.7777777777777778,
              "#fb9f3a"
             ],
             [
              0.8888888888888888,
              "#fdca26"
             ],
             [
              1,
              "#f0f921"
             ]
            ],
            "type": "heatmapgl"
           }
          ],
          "histogram": [
           {
            "marker": {
             "pattern": {
              "fillmode": "overlay",
              "size": 10,
              "solidity": 0.2
             }
            },
            "type": "histogram"
           }
          ],
          "histogram2d": [
           {
            "colorbar": {
             "outlinewidth": 0,
             "ticks": ""
            },
            "colorscale": [
             [
              0,
              "#0d0887"
             ],
             [
              0.1111111111111111,
              "#46039f"
             ],
             [
              0.2222222222222222,
              "#7201a8"
             ],
             [
              0.3333333333333333,
              "#9c179e"
             ],
             [
              0.4444444444444444,
              "#bd3786"
             ],
             [
              0.5555555555555556,
              "#d8576b"
             ],
             [
              0.6666666666666666,
              "#ed7953"
             ],
             [
              0.7777777777777778,
              "#fb9f3a"
             ],
             [
              0.8888888888888888,
              "#fdca26"
             ],
             [
              1,
              "#f0f921"
             ]
            ],
            "type": "histogram2d"
           }
          ],
          "histogram2dcontour": [
           {
            "colorbar": {
             "outlinewidth": 0,
             "ticks": ""
            },
            "colorscale": [
             [
              0,
              "#0d0887"
             ],
             [
              0.1111111111111111,
              "#46039f"
             ],
             [
              0.2222222222222222,
              "#7201a8"
             ],
             [
              0.3333333333333333,
              "#9c179e"
             ],
             [
              0.4444444444444444,
              "#bd3786"
             ],
             [
              0.5555555555555556,
              "#d8576b"
             ],
             [
              0.6666666666666666,
              "#ed7953"
             ],
             [
              0.7777777777777778,
              "#fb9f3a"
             ],
             [
              0.8888888888888888,
              "#fdca26"
             ],
             [
              1,
              "#f0f921"
             ]
            ],
            "type": "histogram2dcontour"
           }
          ],
          "mesh3d": [
           {
            "colorbar": {
             "outlinewidth": 0,
             "ticks": ""
            },
            "type": "mesh3d"
           }
          ],
          "parcoords": [
           {
            "line": {
             "colorbar": {
              "outlinewidth": 0,
              "ticks": ""
             }
            },
            "type": "parcoords"
           }
          ],
          "pie": [
           {
            "automargin": true,
            "type": "pie"
           }
          ],
          "scatter": [
           {
            "fillpattern": {
             "fillmode": "overlay",
             "size": 10,
             "solidity": 0.2
            },
            "type": "scatter"
           }
          ],
          "scatter3d": [
           {
            "line": {
             "colorbar": {
              "outlinewidth": 0,
              "ticks": ""
             }
            },
            "marker": {
             "colorbar": {
              "outlinewidth": 0,
              "ticks": ""
             }
            },
            "type": "scatter3d"
           }
          ],
          "scattercarpet": [
           {
            "marker": {
             "colorbar": {
              "outlinewidth": 0,
              "ticks": ""
             }
            },
            "type": "scattercarpet"
           }
          ],
          "scattergeo": [
           {
            "marker": {
             "colorbar": {
              "outlinewidth": 0,
              "ticks": ""
             }
            },
            "type": "scattergeo"
           }
          ],
          "scattergl": [
           {
            "marker": {
             "colorbar": {
              "outlinewidth": 0,
              "ticks": ""
             }
            },
            "type": "scattergl"
           }
          ],
          "scattermapbox": [
           {
            "marker": {
             "colorbar": {
              "outlinewidth": 0,
              "ticks": ""
             }
            },
            "type": "scattermapbox"
           }
          ],
          "scatterpolar": [
           {
            "marker": {
             "colorbar": {
              "outlinewidth": 0,
              "ticks": ""
             }
            },
            "type": "scatterpolar"
           }
          ],
          "scatterpolargl": [
           {
            "marker": {
             "colorbar": {
              "outlinewidth": 0,
              "ticks": ""
             }
            },
            "type": "scatterpolargl"
           }
          ],
          "scatterternary": [
           {
            "marker": {
             "colorbar": {
              "outlinewidth": 0,
              "ticks": ""
             }
            },
            "type": "scatterternary"
           }
          ],
          "surface": [
           {
            "colorbar": {
             "outlinewidth": 0,
             "ticks": ""
            },
            "colorscale": [
             [
              0,
              "#0d0887"
             ],
             [
              0.1111111111111111,
              "#46039f"
             ],
             [
              0.2222222222222222,
              "#7201a8"
             ],
             [
              0.3333333333333333,
              "#9c179e"
             ],
             [
              0.4444444444444444,
              "#bd3786"
             ],
             [
              0.5555555555555556,
              "#d8576b"
             ],
             [
              0.6666666666666666,
              "#ed7953"
             ],
             [
              0.7777777777777778,
              "#fb9f3a"
             ],
             [
              0.8888888888888888,
              "#fdca26"
             ],
             [
              1,
              "#f0f921"
             ]
            ],
            "type": "surface"
           }
          ],
          "table": [
           {
            "cells": {
             "fill": {
              "color": "#EBF0F8"
             },
             "line": {
              "color": "white"
             }
            },
            "header": {
             "fill": {
              "color": "#C8D4E3"
             },
             "line": {
              "color": "white"
             }
            },
            "type": "table"
           }
          ]
         },
         "layout": {
          "annotationdefaults": {
           "arrowcolor": "#2a3f5f",
           "arrowhead": 0,
           "arrowwidth": 1
          },
          "autotypenumbers": "strict",
          "coloraxis": {
           "colorbar": {
            "outlinewidth": 0,
            "ticks": ""
           }
          },
          "colorscale": {
           "diverging": [
            [
             0,
             "#8e0152"
            ],
            [
             0.1,
             "#c51b7d"
            ],
            [
             0.2,
             "#de77ae"
            ],
            [
             0.3,
             "#f1b6da"
            ],
            [
             0.4,
             "#fde0ef"
            ],
            [
             0.5,
             "#f7f7f7"
            ],
            [
             0.6,
             "#e6f5d0"
            ],
            [
             0.7,
             "#b8e186"
            ],
            [
             0.8,
             "#7fbc41"
            ],
            [
             0.9,
             "#4d9221"
            ],
            [
             1,
             "#276419"
            ]
           ],
           "sequential": [
            [
             0,
             "#0d0887"
            ],
            [
             0.1111111111111111,
             "#46039f"
            ],
            [
             0.2222222222222222,
             "#7201a8"
            ],
            [
             0.3333333333333333,
             "#9c179e"
            ],
            [
             0.4444444444444444,
             "#bd3786"
            ],
            [
             0.5555555555555556,
             "#d8576b"
            ],
            [
             0.6666666666666666,
             "#ed7953"
            ],
            [
             0.7777777777777778,
             "#fb9f3a"
            ],
            [
             0.8888888888888888,
             "#fdca26"
            ],
            [
             1,
             "#f0f921"
            ]
           ],
           "sequentialminus": [
            [
             0,
             "#0d0887"
            ],
            [
             0.1111111111111111,
             "#46039f"
            ],
            [
             0.2222222222222222,
             "#7201a8"
            ],
            [
             0.3333333333333333,
             "#9c179e"
            ],
            [
             0.4444444444444444,
             "#bd3786"
            ],
            [
             0.5555555555555556,
             "#d8576b"
            ],
            [
             0.6666666666666666,
             "#ed7953"
            ],
            [
             0.7777777777777778,
             "#fb9f3a"
            ],
            [
             0.8888888888888888,
             "#fdca26"
            ],
            [
             1,
             "#f0f921"
            ]
           ]
          },
          "colorway": [
           "#636efa",
           "#EF553B",
           "#00cc96",
           "#ab63fa",
           "#FFA15A",
           "#19d3f3",
           "#FF6692",
           "#B6E880",
           "#FF97FF",
           "#FECB52"
          ],
          "font": {
           "color": "#2a3f5f"
          },
          "geo": {
           "bgcolor": "white",
           "lakecolor": "white",
           "landcolor": "#E5ECF6",
           "showlakes": true,
           "showland": true,
           "subunitcolor": "white"
          },
          "hoverlabel": {
           "align": "left"
          },
          "hovermode": "closest",
          "mapbox": {
           "style": "light"
          },
          "paper_bgcolor": "white",
          "plot_bgcolor": "#E5ECF6",
          "polar": {
           "angularaxis": {
            "gridcolor": "white",
            "linecolor": "white",
            "ticks": ""
           },
           "bgcolor": "#E5ECF6",
           "radialaxis": {
            "gridcolor": "white",
            "linecolor": "white",
            "ticks": ""
           }
          },
          "scene": {
           "xaxis": {
            "backgroundcolor": "#E5ECF6",
            "gridcolor": "white",
            "gridwidth": 2,
            "linecolor": "white",
            "showbackground": true,
            "ticks": "",
            "zerolinecolor": "white"
           },
           "yaxis": {
            "backgroundcolor": "#E5ECF6",
            "gridcolor": "white",
            "gridwidth": 2,
            "linecolor": "white",
            "showbackground": true,
            "ticks": "",
            "zerolinecolor": "white"
           },
           "zaxis": {
            "backgroundcolor": "#E5ECF6",
            "gridcolor": "white",
            "gridwidth": 2,
            "linecolor": "white",
            "showbackground": true,
            "ticks": "",
            "zerolinecolor": "white"
           }
          },
          "shapedefaults": {
           "line": {
            "color": "#2a3f5f"
           }
          },
          "ternary": {
           "aaxis": {
            "gridcolor": "white",
            "linecolor": "white",
            "ticks": ""
           },
           "baxis": {
            "gridcolor": "white",
            "linecolor": "white",
            "ticks": ""
           },
           "bgcolor": "#E5ECF6",
           "caxis": {
            "gridcolor": "white",
            "linecolor": "white",
            "ticks": ""
           }
          },
          "title": {
           "x": 0.05
          },
          "xaxis": {
           "automargin": true,
           "gridcolor": "white",
           "linecolor": "white",
           "ticks": "",
           "title": {
            "standoff": 15
           },
           "zerolinecolor": "white",
           "zerolinewidth": 2
          },
          "yaxis": {
           "automargin": true,
           "gridcolor": "white",
           "linecolor": "white",
           "ticks": "",
           "title": {
            "standoff": 15
           },
           "zerolinecolor": "white",
           "zerolinewidth": 2
          }
         }
        }
       }
      },
      "text/html": [
       "<div>                            <div id=\"ec09514a-5986-4bba-9fe9-75c7297082b6\" class=\"plotly-graph-div\" style=\"height:525px; width:100%;\"></div>            <script type=\"text/javascript\">                require([\"plotly\"], function(Plotly) {                    window.PLOTLYENV=window.PLOTLYENV || {};                                    if (document.getElementById(\"ec09514a-5986-4bba-9fe9-75c7297082b6\")) {                    Plotly.newPlot(                        \"ec09514a-5986-4bba-9fe9-75c7297082b6\",                        [{\"hovertemplate\":\"LandArea=%{x}<br>PropPrice=%{y}<br>Bedrooms=%{z}<br>property_segments=%{marker.color}<extra></extra>\",\"legendgroup\":\"\",\"marker\":{\"color\":[2,2,2,2,2,2,2,2,2,2,0,2,2,2,2,2,3,2,2,3,3,1,3,1,1,3,3,1,1,1,1,1,1,3,1,1,3,3,1,3,1,3,3,1,1,1,3,1,3,3,3,1,1,1,1,2,3,3,2],\"coloraxis\":\"coloraxis\",\"symbol\":\"circle\"},\"mode\":\"markers\",\"name\":\"\",\"scene\":\"scene\",\"showlegend\":false,\"x\":[6098.4,5709.0,6534.0,6534.0,5227.2,7840.8,6969.6,6534.0,5190.0,3049.2,197762.4,5662.8,20037.600000000002,3920.4,4739.0,3042.0,3920.4,4792.0,4792.0,2613.6,1742.0,5227.2,871.2,3049.2,3779.0,7840.8,5662.8,4791.6,6969.6,9583.2,12196.800000000001,9147.6,13503.6,5227.0,5227.2,3920.4,2613.6,3484.8,13939.2,2613.6,7840.8,6098.4,6098.0,15245.999999999998,4791.6,4791.6,3920.4,7840.8,11325.6,10890.0,3049.2,7405.2,4356.0,2613.6,6969.6,8712.0,16117.199999999999,17859.6,9147.6],\"y\":[660000,1494955,610000,770000,780000,965000,775000,1130000,1375375,765000,1125000,830500,1075000,720000,1237870,825300,505000,940000,1059950,561000,335000,800000,380000,850000,931070,600000,855000,1099995,875000,1295000,1150000,945000,995000,1050000,880000,830000,519000,707000,1125000,449000,650000,865000,1194000,795000,865000,1058255,672500,1050000,490000,750000,495000,815000,785000,715000,765000,700000,574000,600000,785000],\"z\":[4,6,3,4,5,3,5,6,6,4,4,5,4,4,6,4,2,5,5,2,2,5,3,5,4,3,3,6,4,4,4,5,4,3,4,4,2,3,5,2,4,3,3,4,6,5,3,5,3,3,3,4,6,4,4,4,3,3,5],\"type\":\"scatter3d\"}],                        {\"template\":{\"data\":{\"histogram2dcontour\":[{\"type\":\"histogram2dcontour\",\"colorbar\":{\"outlinewidth\":0,\"ticks\":\"\"},\"colorscale\":[[0.0,\"#0d0887\"],[0.1111111111111111,\"#46039f\"],[0.2222222222222222,\"#7201a8\"],[0.3333333333333333,\"#9c179e\"],[0.4444444444444444,\"#bd3786\"],[0.5555555555555556,\"#d8576b\"],[0.6666666666666666,\"#ed7953\"],[0.7777777777777778,\"#fb9f3a\"],[0.8888888888888888,\"#fdca26\"],[1.0,\"#f0f921\"]]}],\"choropleth\":[{\"type\":\"choropleth\",\"colorbar\":{\"outlinewidth\":0,\"ticks\":\"\"}}],\"histogram2d\":[{\"type\":\"histogram2d\",\"colorbar\":{\"outlinewidth\":0,\"ticks\":\"\"},\"colorscale\":[[0.0,\"#0d0887\"],[0.1111111111111111,\"#46039f\"],[0.2222222222222222,\"#7201a8\"],[0.3333333333333333,\"#9c179e\"],[0.4444444444444444,\"#bd3786\"],[0.5555555555555556,\"#d8576b\"],[0.6666666666666666,\"#ed7953\"],[0.7777777777777778,\"#fb9f3a\"],[0.8888888888888888,\"#fdca26\"],[1.0,\"#f0f921\"]]}],\"heatmap\":[{\"type\":\"heatmap\",\"colorbar\":{\"outlinewidth\":0,\"ticks\":\"\"},\"colorscale\":[[0.0,\"#0d0887\"],[0.1111111111111111,\"#46039f\"],[0.2222222222222222,\"#7201a8\"],[0.3333333333333333,\"#9c179e\"],[0.4444444444444444,\"#bd3786\"],[0.5555555555555556,\"#d8576b\"],[0.6666666666666666,\"#ed7953\"],[0.7777777777777778,\"#fb9f3a\"],[0.8888888888888888,\"#fdca26\"],[1.0,\"#f0f921\"]]}],\"heatmapgl\":[{\"type\":\"heatmapgl\",\"colorbar\":{\"outlinewidth\":0,\"ticks\":\"\"},\"colorscale\":[[0.0,\"#0d0887\"],[0.1111111111111111,\"#46039f\"],[0.2222222222222222,\"#7201a8\"],[0.3333333333333333,\"#9c179e\"],[0.4444444444444444,\"#bd3786\"],[0.5555555555555556,\"#d8576b\"],[0.6666666666666666,\"#ed7953\"],[0.7777777777777778,\"#fb9f3a\"],[0.8888888888888888,\"#fdca26\"],[1.0,\"#f0f921\"]]}],\"contourcarpet\":[{\"type\":\"contourcarpet\",\"colorbar\":{\"outlinewidth\":0,\"ticks\":\"\"}}],\"contour\":[{\"type\":\"contour\",\"colorbar\":{\"outlinewidth\":0,\"ticks\":\"\"},\"colorscale\":[[0.0,\"#0d0887\"],[0.1111111111111111,\"#46039f\"],[0.2222222222222222,\"#7201a8\"],[0.3333333333333333,\"#9c179e\"],[0.4444444444444444,\"#bd3786\"],[0.5555555555555556,\"#d8576b\"],[0.6666666666666666,\"#ed7953\"],[0.7777777777777778,\"#fb9f3a\"],[0.8888888888888888,\"#fdca26\"],[1.0,\"#f0f921\"]]}],\"surface\":[{\"type\":\"surface\",\"colorbar\":{\"outlinewidth\":0,\"ticks\":\"\"},\"colorscale\":[[0.0,\"#0d0887\"],[0.1111111111111111,\"#46039f\"],[0.2222222222222222,\"#7201a8\"],[0.3333333333333333,\"#9c179e\"],[0.4444444444444444,\"#bd3786\"],[0.5555555555555556,\"#d8576b\"],[0.6666666666666666,\"#ed7953\"],[0.7777777777777778,\"#fb9f3a\"],[0.8888888888888888,\"#fdca26\"],[1.0,\"#f0f921\"]]}],\"mesh3d\":[{\"type\":\"mesh3d\",\"colorbar\":{\"outlinewidth\":0,\"ticks\":\"\"}}],\"scatter\":[{\"fillpattern\":{\"fillmode\":\"overlay\",\"size\":10,\"solidity\":0.2},\"type\":\"scatter\"}],\"parcoords\":[{\"type\":\"parcoords\",\"line\":{\"colorbar\":{\"outlinewidth\":0,\"ticks\":\"\"}}}],\"scatterpolargl\":[{\"type\":\"scatterpolargl\",\"marker\":{\"colorbar\":{\"outlinewidth\":0,\"ticks\":\"\"}}}],\"bar\":[{\"error_x\":{\"color\":\"#2a3f5f\"},\"error_y\":{\"color\":\"#2a3f5f\"},\"marker\":{\"line\":{\"color\":\"#E5ECF6\",\"width\":0.5},\"pattern\":{\"fillmode\":\"overlay\",\"size\":10,\"solidity\":0.2}},\"type\":\"bar\"}],\"scattergeo\":[{\"type\":\"scattergeo\",\"marker\":{\"colorbar\":{\"outlinewidth\":0,\"ticks\":\"\"}}}],\"scatterpolar\":[{\"type\":\"scatterpolar\",\"marker\":{\"colorbar\":{\"outlinewidth\":0,\"ticks\":\"\"}}}],\"histogram\":[{\"marker\":{\"pattern\":{\"fillmode\":\"overlay\",\"size\":10,\"solidity\":0.2}},\"type\":\"histogram\"}],\"scattergl\":[{\"type\":\"scattergl\",\"marker\":{\"colorbar\":{\"outlinewidth\":0,\"ticks\":\"\"}}}],\"scatter3d\":[{\"type\":\"scatter3d\",\"line\":{\"colorbar\":{\"outlinewidth\":0,\"ticks\":\"\"}},\"marker\":{\"colorbar\":{\"outlinewidth\":0,\"ticks\":\"\"}}}],\"scattermapbox\":[{\"type\":\"scattermapbox\",\"marker\":{\"colorbar\":{\"outlinewidth\":0,\"ticks\":\"\"}}}],\"scatterternary\":[{\"type\":\"scatterternary\",\"marker\":{\"colorbar\":{\"outlinewidth\":0,\"ticks\":\"\"}}}],\"scattercarpet\":[{\"type\":\"scattercarpet\",\"marker\":{\"colorbar\":{\"outlinewidth\":0,\"ticks\":\"\"}}}],\"carpet\":[{\"aaxis\":{\"endlinecolor\":\"#2a3f5f\",\"gridcolor\":\"white\",\"linecolor\":\"white\",\"minorgridcolor\":\"white\",\"startlinecolor\":\"#2a3f5f\"},\"baxis\":{\"endlinecolor\":\"#2a3f5f\",\"gridcolor\":\"white\",\"linecolor\":\"white\",\"minorgridcolor\":\"white\",\"startlinecolor\":\"#2a3f5f\"},\"type\":\"carpet\"}],\"table\":[{\"cells\":{\"fill\":{\"color\":\"#EBF0F8\"},\"line\":{\"color\":\"white\"}},\"header\":{\"fill\":{\"color\":\"#C8D4E3\"},\"line\":{\"color\":\"white\"}},\"type\":\"table\"}],\"barpolar\":[{\"marker\":{\"line\":{\"color\":\"#E5ECF6\",\"width\":0.5},\"pattern\":{\"fillmode\":\"overlay\",\"size\":10,\"solidity\":0.2}},\"type\":\"barpolar\"}],\"pie\":[{\"automargin\":true,\"type\":\"pie\"}]},\"layout\":{\"autotypenumbers\":\"strict\",\"colorway\":[\"#636efa\",\"#EF553B\",\"#00cc96\",\"#ab63fa\",\"#FFA15A\",\"#19d3f3\",\"#FF6692\",\"#B6E880\",\"#FF97FF\",\"#FECB52\"],\"font\":{\"color\":\"#2a3f5f\"},\"hovermode\":\"closest\",\"hoverlabel\":{\"align\":\"left\"},\"paper_bgcolor\":\"white\",\"plot_bgcolor\":\"#E5ECF6\",\"polar\":{\"bgcolor\":\"#E5ECF6\",\"angularaxis\":{\"gridcolor\":\"white\",\"linecolor\":\"white\",\"ticks\":\"\"},\"radialaxis\":{\"gridcolor\":\"white\",\"linecolor\":\"white\",\"ticks\":\"\"}},\"ternary\":{\"bgcolor\":\"#E5ECF6\",\"aaxis\":{\"gridcolor\":\"white\",\"linecolor\":\"white\",\"ticks\":\"\"},\"baxis\":{\"gridcolor\":\"white\",\"linecolor\":\"white\",\"ticks\":\"\"},\"caxis\":{\"gridcolor\":\"white\",\"linecolor\":\"white\",\"ticks\":\"\"}},\"coloraxis\":{\"colorbar\":{\"outlinewidth\":0,\"ticks\":\"\"}},\"colorscale\":{\"sequential\":[[0.0,\"#0d0887\"],[0.1111111111111111,\"#46039f\"],[0.2222222222222222,\"#7201a8\"],[0.3333333333333333,\"#9c179e\"],[0.4444444444444444,\"#bd3786\"],[0.5555555555555556,\"#d8576b\"],[0.6666666666666666,\"#ed7953\"],[0.7777777777777778,\"#fb9f3a\"],[0.8888888888888888,\"#fdca26\"],[1.0,\"#f0f921\"]],\"sequentialminus\":[[0.0,\"#0d0887\"],[0.1111111111111111,\"#46039f\"],[0.2222222222222222,\"#7201a8\"],[0.3333333333333333,\"#9c179e\"],[0.4444444444444444,\"#bd3786\"],[0.5555555555555556,\"#d8576b\"],[0.6666666666666666,\"#ed7953\"],[0.7777777777777778,\"#fb9f3a\"],[0.8888888888888888,\"#fdca26\"],[1.0,\"#f0f921\"]],\"diverging\":[[0,\"#8e0152\"],[0.1,\"#c51b7d\"],[0.2,\"#de77ae\"],[0.3,\"#f1b6da\"],[0.4,\"#fde0ef\"],[0.5,\"#f7f7f7\"],[0.6,\"#e6f5d0\"],[0.7,\"#b8e186\"],[0.8,\"#7fbc41\"],[0.9,\"#4d9221\"],[1,\"#276419\"]]},\"xaxis\":{\"gridcolor\":\"white\",\"linecolor\":\"white\",\"ticks\":\"\",\"title\":{\"standoff\":15},\"zerolinecolor\":\"white\",\"automargin\":true,\"zerolinewidth\":2},\"yaxis\":{\"gridcolor\":\"white\",\"linecolor\":\"white\",\"ticks\":\"\",\"title\":{\"standoff\":15},\"zerolinecolor\":\"white\",\"automargin\":true,\"zerolinewidth\":2},\"scene\":{\"xaxis\":{\"backgroundcolor\":\"#E5ECF6\",\"gridcolor\":\"white\",\"linecolor\":\"white\",\"showbackground\":true,\"ticks\":\"\",\"zerolinecolor\":\"white\",\"gridwidth\":2},\"yaxis\":{\"backgroundcolor\":\"#E5ECF6\",\"gridcolor\":\"white\",\"linecolor\":\"white\",\"showbackground\":true,\"ticks\":\"\",\"zerolinecolor\":\"white\",\"gridwidth\":2},\"zaxis\":{\"backgroundcolor\":\"#E5ECF6\",\"gridcolor\":\"white\",\"linecolor\":\"white\",\"showbackground\":true,\"ticks\":\"\",\"zerolinecolor\":\"white\",\"gridwidth\":2}},\"shapedefaults\":{\"line\":{\"color\":\"#2a3f5f\"}},\"annotationdefaults\":{\"arrowcolor\":\"#2a3f5f\",\"arrowhead\":0,\"arrowwidth\":1},\"geo\":{\"bgcolor\":\"white\",\"landcolor\":\"#E5ECF6\",\"subunitcolor\":\"white\",\"showland\":true,\"showlakes\":true,\"lakecolor\":\"white\"},\"title\":{\"x\":0.05},\"mapbox\":{\"style\":\"light\"}}},\"scene\":{\"domain\":{\"x\":[0.0,1.0],\"y\":[0.0,1.0]},\"xaxis\":{\"title\":{\"text\":\"LandArea\"}},\"yaxis\":{\"title\":{\"text\":\"PropPrice\"}},\"zaxis\":{\"title\":{\"text\":\"Bedrooms\"}}},\"coloraxis\":{\"colorbar\":{\"title\":{\"text\":\"property_segments\"}},\"colorscale\":[[0.0,\"#0d0887\"],[0.1111111111111111,\"#46039f\"],[0.2222222222222222,\"#7201a8\"],[0.3333333333333333,\"#9c179e\"],[0.4444444444444444,\"#bd3786\"],[0.5555555555555556,\"#d8576b\"],[0.6666666666666666,\"#ed7953\"],[0.7777777777777778,\"#fb9f3a\"],[0.8888888888888888,\"#fdca26\"],[1.0,\"#f0f921\"]]},\"legend\":{\"tracegroupgap\":0},\"margin\":{\"t\":60}},                        {\"responsive\": true}                    ).then(function(){\n",
       "                            \n",
       "var gd = document.getElementById('ec09514a-5986-4bba-9fe9-75c7297082b6');\n",
       "var x = new MutationObserver(function (mutations, observer) {{\n",
       "        var display = window.getComputedStyle(gd).display;\n",
       "        if (!display || display === 'none') {{\n",
       "            console.log([gd, 'removed!']);\n",
       "            Plotly.purge(gd);\n",
       "            observer.disconnect();\n",
       "        }}\n",
       "}});\n",
       "\n",
       "// Listen for the removal of the full notebook cells\n",
       "var notebookContainer = gd.closest('#notebook-container');\n",
       "if (notebookContainer) {{\n",
       "    x.observe(notebookContainer, {childList: true});\n",
       "}}\n",
       "\n",
       "// Listen for the clearing of the current output cell\n",
       "var outputEl = gd.closest('.output');\n",
       "if (outputEl) {{\n",
       "    x.observe(outputEl, {childList: true});\n",
       "}}\n",
       "\n",
       "                        })                };                });            </script>        </div>"
      ]
     },
     "metadata": {},
     "output_type": "display_data"
    }
   ],
   "source": [
    "import plotly.express as px\n",
    "\n",
    "fig = px.scatter_3d(df_OR_Orig_Pred, x='LandArea', y='PropPrice', z='Bedrooms',\n",
    "              color='property_segments')\n",
    "fig.show()"
   ]
  },
  {
   "cell_type": "code",
   "execution_count": null,
   "id": "604af638",
   "metadata": {},
   "outputs": [],
   "source": []
  }
 ],
 "metadata": {
  "kernelspec": {
   "display_name": "Python 3 (ipykernel)",
   "language": "python",
   "name": "python3"
  },
  "language_info": {
   "codemirror_mode": {
    "name": "ipython",
    "version": 3
   },
   "file_extension": ".py",
   "mimetype": "text/x-python",
   "name": "python",
   "nbconvert_exporter": "python",
   "pygments_lexer": "ipython3",
   "version": "3.7.13"
  }
 },
 "nbformat": 4,
 "nbformat_minor": 5
}
