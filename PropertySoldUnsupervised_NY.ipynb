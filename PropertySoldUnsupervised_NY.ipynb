{
 "cells": [
  {
   "cell_type": "code",
   "execution_count": 79,
   "id": "f253147c",
   "metadata": {},
   "outputs": [],
   "source": [
    "# Import the modules\n",
    "import numpy as np\n",
    "import pandas as pd\n",
    "from pathlib import Path\n",
    "from sklearn.preprocessing import StandardScaler\n",
    "from sklearn.metrics import balanced_accuracy_score, confusion_matrix, classification_report"
   ]
  },
  {
   "cell_type": "code",
   "execution_count": 80,
   "id": "acc6c197",
   "metadata": {},
   "outputs": [
    {
     "data": {
      "text/html": [
       "<div>\n",
       "<style scoped>\n",
       "    .dataframe tbody tr th:only-of-type {\n",
       "        vertical-align: middle;\n",
       "    }\n",
       "\n",
       "    .dataframe tbody tr th {\n",
       "        vertical-align: top;\n",
       "    }\n",
       "\n",
       "    .dataframe thead th {\n",
       "        text-align: right;\n",
       "    }\n",
       "</style>\n",
       "<table border=\"1\" class=\"dataframe\">\n",
       "  <thead>\n",
       "    <tr style=\"text-align: right;\">\n",
       "      <th></th>\n",
       "      <th>Address</th>\n",
       "      <th>City</th>\n",
       "      <th>Zip</th>\n",
       "      <th>SoldDate</th>\n",
       "      <th>Bathrooms</th>\n",
       "      <th>Bedrooms</th>\n",
       "      <th>LivingArea</th>\n",
       "      <th>LandArea</th>\n",
       "      <th>PropPrice</th>\n",
       "      <th>InflationRate</th>\n",
       "      <th>FederalInt</th>\n",
       "      <th>MonthID</th>\n",
       "    </tr>\n",
       "  </thead>\n",
       "  <tbody>\n",
       "    <tr>\n",
       "      <th>0</th>\n",
       "      <td>244 N Delaware St</td>\n",
       "      <td>Chandler</td>\n",
       "      <td>85225</td>\n",
       "      <td>2/19/24</td>\n",
       "      <td>3.0</td>\n",
       "      <td>4</td>\n",
       "      <td>1272</td>\n",
       "      <td>7532.0</td>\n",
       "      <td>275000</td>\n",
       "      <td>3.1</td>\n",
       "      <td>5.33</td>\n",
       "      <td>2</td>\n",
       "    </tr>\n",
       "    <tr>\n",
       "      <th>1</th>\n",
       "      <td>923 W Mesquite St</td>\n",
       "      <td>Chandler</td>\n",
       "      <td>85225</td>\n",
       "      <td>2/16/24</td>\n",
       "      <td>2.0</td>\n",
       "      <td>3</td>\n",
       "      <td>1480</td>\n",
       "      <td>7492.0</td>\n",
       "      <td>428000</td>\n",
       "      <td>3.1</td>\n",
       "      <td>5.33</td>\n",
       "      <td>2</td>\n",
       "    </tr>\n",
       "    <tr>\n",
       "      <th>2</th>\n",
       "      <td>304 W El Prado Rd</td>\n",
       "      <td>Chandler</td>\n",
       "      <td>85225</td>\n",
       "      <td>2/16/24</td>\n",
       "      <td>2.0</td>\n",
       "      <td>3</td>\n",
       "      <td>1300</td>\n",
       "      <td>8024.0</td>\n",
       "      <td>419000</td>\n",
       "      <td>3.1</td>\n",
       "      <td>5.33</td>\n",
       "      <td>2</td>\n",
       "    </tr>\n",
       "    <tr>\n",
       "      <th>3</th>\n",
       "      <td>1412 E Ironwood Dr</td>\n",
       "      <td>Chandler</td>\n",
       "      <td>85225</td>\n",
       "      <td>2/16/24</td>\n",
       "      <td>2.0</td>\n",
       "      <td>3</td>\n",
       "      <td>1308</td>\n",
       "      <td>7823.0</td>\n",
       "      <td>435300</td>\n",
       "      <td>3.1</td>\n",
       "      <td>5.33</td>\n",
       "      <td>2</td>\n",
       "    </tr>\n",
       "    <tr>\n",
       "      <th>4</th>\n",
       "      <td>663 E Manor Dr</td>\n",
       "      <td>Chandler</td>\n",
       "      <td>85225</td>\n",
       "      <td>2/16/24</td>\n",
       "      <td>2.0</td>\n",
       "      <td>3</td>\n",
       "      <td>1415</td>\n",
       "      <td>8407.0</td>\n",
       "      <td>494000</td>\n",
       "      <td>3.1</td>\n",
       "      <td>5.33</td>\n",
       "      <td>2</td>\n",
       "    </tr>\n",
       "  </tbody>\n",
       "</table>\n",
       "</div>"
      ],
      "text/plain": [
       "              Address      City    Zip SoldDate  Bathrooms  Bedrooms  \\\n",
       "0   244 N Delaware St  Chandler  85225  2/19/24        3.0         4   \n",
       "1   923 W Mesquite St  Chandler  85225  2/16/24        2.0         3   \n",
       "2   304 W El Prado Rd  Chandler  85225  2/16/24        2.0         3   \n",
       "3  1412 E Ironwood Dr  Chandler  85225  2/16/24        2.0         3   \n",
       "4      663 E Manor Dr  Chandler  85225  2/16/24        2.0         3   \n",
       "\n",
       "   LivingArea  LandArea  PropPrice  InflationRate  FederalInt  MonthID  \n",
       "0        1272    7532.0     275000            3.1        5.33        2  \n",
       "1        1480    7492.0     428000            3.1        5.33        2  \n",
       "2        1300    8024.0     419000            3.1        5.33        2  \n",
       "3        1308    7823.0     435300            3.1        5.33        2  \n",
       "4        1415    8407.0     494000            3.1        5.33        2  "
      ]
     },
     "execution_count": 80,
     "metadata": {},
     "output_type": "execute_result"
    }
   ],
   "source": [
    "# Read the CSV file from folder into a Pandas DataFrame\n",
    "#Removed 11250 Northern Blvd and 9722 42nd after previous analysis showed there was likely a typo Land Area\n",
    "file_path = Path(\"Sold_Inflation_M1_12.csv\")\n",
    "df_Sold_Inflation = pd.read_csv(file_path)\n",
    "\n",
    "\n",
    "# Review the DataFrame\n",
    "df_Sold_Inflation.head()"
   ]
  },
  {
   "cell_type": "code",
   "execution_count": 81,
   "id": "3af1317f",
   "metadata": {},
   "outputs": [
    {
     "data": {
      "text/html": [
       "<div>\n",
       "<style scoped>\n",
       "    .dataframe tbody tr th:only-of-type {\n",
       "        vertical-align: middle;\n",
       "    }\n",
       "\n",
       "    .dataframe tbody tr th {\n",
       "        vertical-align: top;\n",
       "    }\n",
       "\n",
       "    .dataframe thead th {\n",
       "        text-align: right;\n",
       "    }\n",
       "</style>\n",
       "<table border=\"1\" class=\"dataframe\">\n",
       "  <thead>\n",
       "    <tr style=\"text-align: right;\">\n",
       "      <th></th>\n",
       "      <th>Address</th>\n",
       "      <th>City</th>\n",
       "      <th>Zip</th>\n",
       "      <th>SoldDate</th>\n",
       "      <th>Bathrooms</th>\n",
       "      <th>Bedrooms</th>\n",
       "      <th>LivingArea</th>\n",
       "      <th>LandArea</th>\n",
       "      <th>PropPrice</th>\n",
       "      <th>InflationRate</th>\n",
       "      <th>FederalInt</th>\n",
       "      <th>MonthID</th>\n",
       "    </tr>\n",
       "  </thead>\n",
       "  <tbody>\n",
       "    <tr>\n",
       "      <th>0</th>\n",
       "      <td>244 N Delaware St</td>\n",
       "      <td>Chandler</td>\n",
       "      <td>85225</td>\n",
       "      <td>2/19/24</td>\n",
       "      <td>3.0</td>\n",
       "      <td>4</td>\n",
       "      <td>1272</td>\n",
       "      <td>7532.0</td>\n",
       "      <td>275000</td>\n",
       "      <td>3.10</td>\n",
       "      <td>5.33</td>\n",
       "      <td>2</td>\n",
       "    </tr>\n",
       "    <tr>\n",
       "      <th>1</th>\n",
       "      <td>923 W Mesquite St</td>\n",
       "      <td>Chandler</td>\n",
       "      <td>85225</td>\n",
       "      <td>2/16/24</td>\n",
       "      <td>2.0</td>\n",
       "      <td>3</td>\n",
       "      <td>1480</td>\n",
       "      <td>7492.0</td>\n",
       "      <td>428000</td>\n",
       "      <td>3.10</td>\n",
       "      <td>5.33</td>\n",
       "      <td>2</td>\n",
       "    </tr>\n",
       "    <tr>\n",
       "      <th>2</th>\n",
       "      <td>304 W El Prado Rd</td>\n",
       "      <td>Chandler</td>\n",
       "      <td>85225</td>\n",
       "      <td>2/16/24</td>\n",
       "      <td>2.0</td>\n",
       "      <td>3</td>\n",
       "      <td>1300</td>\n",
       "      <td>8024.0</td>\n",
       "      <td>419000</td>\n",
       "      <td>3.10</td>\n",
       "      <td>5.33</td>\n",
       "      <td>2</td>\n",
       "    </tr>\n",
       "    <tr>\n",
       "      <th>3</th>\n",
       "      <td>1412 E Ironwood Dr</td>\n",
       "      <td>Chandler</td>\n",
       "      <td>85225</td>\n",
       "      <td>2/16/24</td>\n",
       "      <td>2.0</td>\n",
       "      <td>3</td>\n",
       "      <td>1308</td>\n",
       "      <td>7823.0</td>\n",
       "      <td>435300</td>\n",
       "      <td>3.10</td>\n",
       "      <td>5.33</td>\n",
       "      <td>2</td>\n",
       "    </tr>\n",
       "    <tr>\n",
       "      <th>4</th>\n",
       "      <td>663 E Manor Dr</td>\n",
       "      <td>Chandler</td>\n",
       "      <td>85225</td>\n",
       "      <td>2/16/24</td>\n",
       "      <td>2.0</td>\n",
       "      <td>3</td>\n",
       "      <td>1415</td>\n",
       "      <td>8407.0</td>\n",
       "      <td>494000</td>\n",
       "      <td>3.10</td>\n",
       "      <td>5.33</td>\n",
       "      <td>2</td>\n",
       "    </tr>\n",
       "    <tr>\n",
       "      <th>...</th>\n",
       "      <td>...</td>\n",
       "      <td>...</td>\n",
       "      <td>...</td>\n",
       "      <td>...</td>\n",
       "      <td>...</td>\n",
       "      <td>...</td>\n",
       "      <td>...</td>\n",
       "      <td>...</td>\n",
       "      <td>...</td>\n",
       "      <td>...</td>\n",
       "      <td>...</td>\n",
       "      <td>...</td>\n",
       "    </tr>\n",
       "    <tr>\n",
       "      <th>2144</th>\n",
       "      <td>5469 NW Meadowlands Ter</td>\n",
       "      <td>Portland</td>\n",
       "      <td>97229</td>\n",
       "      <td>1/2/24</td>\n",
       "      <td>3.0</td>\n",
       "      <td>4</td>\n",
       "      <td>2592</td>\n",
       "      <td>6969.6</td>\n",
       "      <td>765000</td>\n",
       "      <td>3.09</td>\n",
       "      <td>5.33</td>\n",
       "      <td>1</td>\n",
       "    </tr>\n",
       "    <tr>\n",
       "      <th>2145</th>\n",
       "      <td>1837 NW Caitlin Ter</td>\n",
       "      <td>Portland</td>\n",
       "      <td>97229</td>\n",
       "      <td>12/29/23</td>\n",
       "      <td>3.0</td>\n",
       "      <td>4</td>\n",
       "      <td>2146</td>\n",
       "      <td>8712.0</td>\n",
       "      <td>700000</td>\n",
       "      <td>3.35</td>\n",
       "      <td>5.33</td>\n",
       "      <td>12</td>\n",
       "    </tr>\n",
       "    <tr>\n",
       "      <th>2146</th>\n",
       "      <td>11060 NW Cornell Rd</td>\n",
       "      <td>Portland</td>\n",
       "      <td>97229</td>\n",
       "      <td>12/29/23</td>\n",
       "      <td>2.0</td>\n",
       "      <td>3</td>\n",
       "      <td>2048</td>\n",
       "      <td>16117.2</td>\n",
       "      <td>574000</td>\n",
       "      <td>3.35</td>\n",
       "      <td>5.33</td>\n",
       "      <td>12</td>\n",
       "    </tr>\n",
       "    <tr>\n",
       "      <th>2147</th>\n",
       "      <td>200 NW 101st Ave</td>\n",
       "      <td>Portland</td>\n",
       "      <td>97229</td>\n",
       "      <td>12/29/23</td>\n",
       "      <td>3.0</td>\n",
       "      <td>3</td>\n",
       "      <td>2520</td>\n",
       "      <td>17859.6</td>\n",
       "      <td>600000</td>\n",
       "      <td>3.35</td>\n",
       "      <td>5.33</td>\n",
       "      <td>12</td>\n",
       "    </tr>\n",
       "    <tr>\n",
       "      <th>2148</th>\n",
       "      <td>13027 NW Hartford St</td>\n",
       "      <td>Portland</td>\n",
       "      <td>97229</td>\n",
       "      <td>12/29/23</td>\n",
       "      <td>4.0</td>\n",
       "      <td>5</td>\n",
       "      <td>2947</td>\n",
       "      <td>9147.6</td>\n",
       "      <td>785000</td>\n",
       "      <td>3.35</td>\n",
       "      <td>5.33</td>\n",
       "      <td>12</td>\n",
       "    </tr>\n",
       "  </tbody>\n",
       "</table>\n",
       "<p>2149 rows × 12 columns</p>\n",
       "</div>"
      ],
      "text/plain": [
       "                      Address      City    Zip  SoldDate  Bathrooms  Bedrooms  \\\n",
       "0           244 N Delaware St  Chandler  85225   2/19/24        3.0         4   \n",
       "1           923 W Mesquite St  Chandler  85225   2/16/24        2.0         3   \n",
       "2           304 W El Prado Rd  Chandler  85225   2/16/24        2.0         3   \n",
       "3          1412 E Ironwood Dr  Chandler  85225   2/16/24        2.0         3   \n",
       "4              663 E Manor Dr  Chandler  85225   2/16/24        2.0         3   \n",
       "...                       ...       ...    ...       ...        ...       ...   \n",
       "2144  5469 NW Meadowlands Ter  Portland  97229    1/2/24        3.0         4   \n",
       "2145      1837 NW Caitlin Ter  Portland  97229  12/29/23        3.0         4   \n",
       "2146      11060 NW Cornell Rd  Portland  97229  12/29/23        2.0         3   \n",
       "2147         200 NW 101st Ave  Portland  97229  12/29/23        3.0         3   \n",
       "2148     13027 NW Hartford St  Portland  97229  12/29/23        4.0         5   \n",
       "\n",
       "      LivingArea  LandArea  PropPrice  InflationRate  FederalInt  MonthID  \n",
       "0           1272    7532.0     275000           3.10        5.33        2  \n",
       "1           1480    7492.0     428000           3.10        5.33        2  \n",
       "2           1300    8024.0     419000           3.10        5.33        2  \n",
       "3           1308    7823.0     435300           3.10        5.33        2  \n",
       "4           1415    8407.0     494000           3.10        5.33        2  \n",
       "...          ...       ...        ...            ...         ...      ...  \n",
       "2144        2592    6969.6     765000           3.09        5.33        1  \n",
       "2145        2146    8712.0     700000           3.35        5.33       12  \n",
       "2146        2048   16117.2     574000           3.35        5.33       12  \n",
       "2147        2520   17859.6     600000           3.35        5.33       12  \n",
       "2148        2947    9147.6     785000           3.35        5.33       12  \n",
       "\n",
       "[2149 rows x 12 columns]"
      ]
     },
     "execution_count": 81,
     "metadata": {},
     "output_type": "execute_result"
    }
   ],
   "source": [
    "#convert LandArea reported in acres to sqft (anything less than a value of 50)\n",
    "df_Sold_Inflation['LandArea'] = df_Sold_Inflation['LandArea'].astype(float)\n",
    "for index, row in df_Sold_Inflation.iterrows():\n",
    "    if row['LandArea'] < 50:\n",
    "        df_Sold_Inflation.at[index, 'LandArea'] *= 43560\n",
    "\n",
    "df_Sold_Inflation_new=df_Sold_Inflation\n",
    "df_Sold_Inflation_new"
   ]
  },
  {
   "cell_type": "code",
   "execution_count": 82,
   "id": "a80ad71d",
   "metadata": {},
   "outputs": [
    {
     "data": {
      "text/html": [
       "<div>\n",
       "<style scoped>\n",
       "    .dataframe tbody tr th:only-of-type {\n",
       "        vertical-align: middle;\n",
       "    }\n",
       "\n",
       "    .dataframe tbody tr th {\n",
       "        vertical-align: top;\n",
       "    }\n",
       "\n",
       "    .dataframe thead th {\n",
       "        text-align: right;\n",
       "    }\n",
       "</style>\n",
       "<table border=\"1\" class=\"dataframe\">\n",
       "  <thead>\n",
       "    <tr style=\"text-align: right;\">\n",
       "      <th></th>\n",
       "      <th>Address</th>\n",
       "      <th>City</th>\n",
       "      <th>Zip</th>\n",
       "      <th>SoldDate</th>\n",
       "      <th>Bathrooms</th>\n",
       "      <th>Bedrooms</th>\n",
       "      <th>LivingArea</th>\n",
       "      <th>LandArea</th>\n",
       "      <th>PropPrice</th>\n",
       "      <th>InflationRate</th>\n",
       "      <th>FederalInt</th>\n",
       "      <th>MonthID</th>\n",
       "    </tr>\n",
       "  </thead>\n",
       "  <tbody>\n",
       "    <tr>\n",
       "      <th>0</th>\n",
       "      <td>244 N Delaware St</td>\n",
       "      <td>Chandler</td>\n",
       "      <td>85225</td>\n",
       "      <td>2/19/24</td>\n",
       "      <td>3.0</td>\n",
       "      <td>4</td>\n",
       "      <td>1272</td>\n",
       "      <td>7532.0</td>\n",
       "      <td>275000</td>\n",
       "      <td>3.10</td>\n",
       "      <td>5.33</td>\n",
       "      <td>2</td>\n",
       "    </tr>\n",
       "    <tr>\n",
       "      <th>1</th>\n",
       "      <td>923 W Mesquite St</td>\n",
       "      <td>Chandler</td>\n",
       "      <td>85225</td>\n",
       "      <td>2/16/24</td>\n",
       "      <td>2.0</td>\n",
       "      <td>3</td>\n",
       "      <td>1480</td>\n",
       "      <td>7492.0</td>\n",
       "      <td>428000</td>\n",
       "      <td>3.10</td>\n",
       "      <td>5.33</td>\n",
       "      <td>2</td>\n",
       "    </tr>\n",
       "    <tr>\n",
       "      <th>2</th>\n",
       "      <td>304 W El Prado Rd</td>\n",
       "      <td>Chandler</td>\n",
       "      <td>85225</td>\n",
       "      <td>2/16/24</td>\n",
       "      <td>2.0</td>\n",
       "      <td>3</td>\n",
       "      <td>1300</td>\n",
       "      <td>8024.0</td>\n",
       "      <td>419000</td>\n",
       "      <td>3.10</td>\n",
       "      <td>5.33</td>\n",
       "      <td>2</td>\n",
       "    </tr>\n",
       "    <tr>\n",
       "      <th>3</th>\n",
       "      <td>1412 E Ironwood Dr</td>\n",
       "      <td>Chandler</td>\n",
       "      <td>85225</td>\n",
       "      <td>2/16/24</td>\n",
       "      <td>2.0</td>\n",
       "      <td>3</td>\n",
       "      <td>1308</td>\n",
       "      <td>7823.0</td>\n",
       "      <td>435300</td>\n",
       "      <td>3.10</td>\n",
       "      <td>5.33</td>\n",
       "      <td>2</td>\n",
       "    </tr>\n",
       "    <tr>\n",
       "      <th>4</th>\n",
       "      <td>663 E Manor Dr</td>\n",
       "      <td>Chandler</td>\n",
       "      <td>85225</td>\n",
       "      <td>2/16/24</td>\n",
       "      <td>2.0</td>\n",
       "      <td>3</td>\n",
       "      <td>1415</td>\n",
       "      <td>8407.0</td>\n",
       "      <td>494000</td>\n",
       "      <td>3.10</td>\n",
       "      <td>5.33</td>\n",
       "      <td>2</td>\n",
       "    </tr>\n",
       "    <tr>\n",
       "      <th>...</th>\n",
       "      <td>...</td>\n",
       "      <td>...</td>\n",
       "      <td>...</td>\n",
       "      <td>...</td>\n",
       "      <td>...</td>\n",
       "      <td>...</td>\n",
       "      <td>...</td>\n",
       "      <td>...</td>\n",
       "      <td>...</td>\n",
       "      <td>...</td>\n",
       "      <td>...</td>\n",
       "      <td>...</td>\n",
       "    </tr>\n",
       "    <tr>\n",
       "      <th>2144</th>\n",
       "      <td>5469 NW Meadowlands Ter</td>\n",
       "      <td>Portland</td>\n",
       "      <td>97229</td>\n",
       "      <td>1/2/24</td>\n",
       "      <td>3.0</td>\n",
       "      <td>4</td>\n",
       "      <td>2592</td>\n",
       "      <td>6969.6</td>\n",
       "      <td>765000</td>\n",
       "      <td>3.09</td>\n",
       "      <td>5.33</td>\n",
       "      <td>1</td>\n",
       "    </tr>\n",
       "    <tr>\n",
       "      <th>2145</th>\n",
       "      <td>1837 NW Caitlin Ter</td>\n",
       "      <td>Portland</td>\n",
       "      <td>97229</td>\n",
       "      <td>12/29/23</td>\n",
       "      <td>3.0</td>\n",
       "      <td>4</td>\n",
       "      <td>2146</td>\n",
       "      <td>8712.0</td>\n",
       "      <td>700000</td>\n",
       "      <td>3.35</td>\n",
       "      <td>5.33</td>\n",
       "      <td>12</td>\n",
       "    </tr>\n",
       "    <tr>\n",
       "      <th>2146</th>\n",
       "      <td>11060 NW Cornell Rd</td>\n",
       "      <td>Portland</td>\n",
       "      <td>97229</td>\n",
       "      <td>12/29/23</td>\n",
       "      <td>2.0</td>\n",
       "      <td>3</td>\n",
       "      <td>2048</td>\n",
       "      <td>16117.2</td>\n",
       "      <td>574000</td>\n",
       "      <td>3.35</td>\n",
       "      <td>5.33</td>\n",
       "      <td>12</td>\n",
       "    </tr>\n",
       "    <tr>\n",
       "      <th>2147</th>\n",
       "      <td>200 NW 101st Ave</td>\n",
       "      <td>Portland</td>\n",
       "      <td>97229</td>\n",
       "      <td>12/29/23</td>\n",
       "      <td>3.0</td>\n",
       "      <td>3</td>\n",
       "      <td>2520</td>\n",
       "      <td>17859.6</td>\n",
       "      <td>600000</td>\n",
       "      <td>3.35</td>\n",
       "      <td>5.33</td>\n",
       "      <td>12</td>\n",
       "    </tr>\n",
       "    <tr>\n",
       "      <th>2148</th>\n",
       "      <td>13027 NW Hartford St</td>\n",
       "      <td>Portland</td>\n",
       "      <td>97229</td>\n",
       "      <td>12/29/23</td>\n",
       "      <td>4.0</td>\n",
       "      <td>5</td>\n",
       "      <td>2947</td>\n",
       "      <td>9147.6</td>\n",
       "      <td>785000</td>\n",
       "      <td>3.35</td>\n",
       "      <td>5.33</td>\n",
       "      <td>12</td>\n",
       "    </tr>\n",
       "  </tbody>\n",
       "</table>\n",
       "<p>2149 rows × 12 columns</p>\n",
       "</div>"
      ],
      "text/plain": [
       "                      Address      City    Zip  SoldDate  Bathrooms  Bedrooms  \\\n",
       "0           244 N Delaware St  Chandler  85225   2/19/24        3.0         4   \n",
       "1           923 W Mesquite St  Chandler  85225   2/16/24        2.0         3   \n",
       "2           304 W El Prado Rd  Chandler  85225   2/16/24        2.0         3   \n",
       "3          1412 E Ironwood Dr  Chandler  85225   2/16/24        2.0         3   \n",
       "4              663 E Manor Dr  Chandler  85225   2/16/24        2.0         3   \n",
       "...                       ...       ...    ...       ...        ...       ...   \n",
       "2144  5469 NW Meadowlands Ter  Portland  97229    1/2/24        3.0         4   \n",
       "2145      1837 NW Caitlin Ter  Portland  97229  12/29/23        3.0         4   \n",
       "2146      11060 NW Cornell Rd  Portland  97229  12/29/23        2.0         3   \n",
       "2147         200 NW 101st Ave  Portland  97229  12/29/23        3.0         3   \n",
       "2148     13027 NW Hartford St  Portland  97229  12/29/23        4.0         5   \n",
       "\n",
       "      LivingArea  LandArea  PropPrice  InflationRate  FederalInt  MonthID  \n",
       "0           1272    7532.0     275000           3.10        5.33        2  \n",
       "1           1480    7492.0     428000           3.10        5.33        2  \n",
       "2           1300    8024.0     419000           3.10        5.33        2  \n",
       "3           1308    7823.0     435300           3.10        5.33        2  \n",
       "4           1415    8407.0     494000           3.10        5.33        2  \n",
       "...          ...       ...        ...            ...         ...      ...  \n",
       "2144        2592    6969.6     765000           3.09        5.33        1  \n",
       "2145        2146    8712.0     700000           3.35        5.33       12  \n",
       "2146        2048   16117.2     574000           3.35        5.33       12  \n",
       "2147        2520   17859.6     600000           3.35        5.33       12  \n",
       "2148        2947    9147.6     785000           3.35        5.33       12  \n",
       "\n",
       "[2149 rows x 12 columns]"
      ]
     },
     "execution_count": 82,
     "metadata": {},
     "output_type": "execute_result"
    }
   ],
   "source": [
    "df_Sold_Inflation_new['Zip'] = df_Sold_Inflation_new['Zip'].astype(str)\n",
    "df_Sold_Inflation_new"
   ]
  },
  {
   "cell_type": "code",
   "execution_count": 83,
   "id": "8745d21d",
   "metadata": {},
   "outputs": [],
   "source": [
    "# Encode (convert to dummy variables) the EnergyType column\n",
    "df_zip_dummies = pd.get_dummies(df_Sold_Inflation_new[\"Zip\"])\n",
    "df_month_dummies = pd.get_dummies(df_Sold_Inflation_new[\"MonthID\"])"
   ]
  },
  {
   "cell_type": "code",
   "execution_count": 84,
   "id": "e4422525",
   "metadata": {},
   "outputs": [
    {
     "data": {
      "text/html": [
       "<div>\n",
       "<style scoped>\n",
       "    .dataframe tbody tr th:only-of-type {\n",
       "        vertical-align: middle;\n",
       "    }\n",
       "\n",
       "    .dataframe tbody tr th {\n",
       "        vertical-align: top;\n",
       "    }\n",
       "\n",
       "    .dataframe thead th {\n",
       "        text-align: right;\n",
       "    }\n",
       "</style>\n",
       "<table border=\"1\" class=\"dataframe\">\n",
       "  <thead>\n",
       "    <tr style=\"text-align: right;\">\n",
       "      <th></th>\n",
       "      <th>Bathrooms</th>\n",
       "      <th>Bedrooms</th>\n",
       "      <th>LivingArea</th>\n",
       "      <th>LandArea</th>\n",
       "      <th>PropPrice</th>\n",
       "      <th>InflationRate</th>\n",
       "    </tr>\n",
       "  </thead>\n",
       "  <tbody>\n",
       "    <tr>\n",
       "      <th>0</th>\n",
       "      <td>-0.103040</td>\n",
       "      <td>0.013159</td>\n",
       "      <td>-0.519985</td>\n",
       "      <td>-0.150507</td>\n",
       "      <td>-0.407218</td>\n",
       "      <td>-1.042619</td>\n",
       "    </tr>\n",
       "    <tr>\n",
       "      <th>1</th>\n",
       "      <td>-0.545243</td>\n",
       "      <td>-0.615242</td>\n",
       "      <td>-0.447988</td>\n",
       "      <td>-0.151883</td>\n",
       "      <td>-0.382662</td>\n",
       "      <td>-1.042619</td>\n",
       "    </tr>\n",
       "    <tr>\n",
       "      <th>2</th>\n",
       "      <td>-0.545243</td>\n",
       "      <td>-0.615242</td>\n",
       "      <td>-0.510293</td>\n",
       "      <td>-0.133586</td>\n",
       "      <td>-0.384107</td>\n",
       "      <td>-1.042619</td>\n",
       "    </tr>\n",
       "    <tr>\n",
       "      <th>3</th>\n",
       "      <td>-0.545243</td>\n",
       "      <td>-0.615242</td>\n",
       "      <td>-0.507524</td>\n",
       "      <td>-0.140499</td>\n",
       "      <td>-0.381491</td>\n",
       "      <td>-1.042619</td>\n",
       "    </tr>\n",
       "    <tr>\n",
       "      <th>4</th>\n",
       "      <td>-0.545243</td>\n",
       "      <td>-0.615242</td>\n",
       "      <td>-0.470487</td>\n",
       "      <td>-0.120414</td>\n",
       "      <td>-0.372070</td>\n",
       "      <td>-1.042619</td>\n",
       "    </tr>\n",
       "    <tr>\n",
       "      <th>...</th>\n",
       "      <td>...</td>\n",
       "      <td>...</td>\n",
       "      <td>...</td>\n",
       "      <td>...</td>\n",
       "      <td>...</td>\n",
       "      <td>...</td>\n",
       "    </tr>\n",
       "    <tr>\n",
       "      <th>2144</th>\n",
       "      <td>-0.103040</td>\n",
       "      <td>0.013159</td>\n",
       "      <td>-0.063082</td>\n",
       "      <td>-0.169849</td>\n",
       "      <td>-0.328577</td>\n",
       "      <td>-1.047437</td>\n",
       "    </tr>\n",
       "    <tr>\n",
       "      <th>2145</th>\n",
       "      <td>-0.103040</td>\n",
       "      <td>0.013159</td>\n",
       "      <td>-0.217460</td>\n",
       "      <td>-0.109924</td>\n",
       "      <td>-0.339009</td>\n",
       "      <td>-0.922184</td>\n",
       "    </tr>\n",
       "    <tr>\n",
       "      <th>2146</th>\n",
       "      <td>-0.545243</td>\n",
       "      <td>-0.615242</td>\n",
       "      <td>-0.251381</td>\n",
       "      <td>0.144756</td>\n",
       "      <td>-0.359231</td>\n",
       "      <td>-0.922184</td>\n",
       "    </tr>\n",
       "    <tr>\n",
       "      <th>2147</th>\n",
       "      <td>-0.103040</td>\n",
       "      <td>-0.615242</td>\n",
       "      <td>-0.088004</td>\n",
       "      <td>0.204681</td>\n",
       "      <td>-0.355058</td>\n",
       "      <td>-0.922184</td>\n",
       "    </tr>\n",
       "    <tr>\n",
       "      <th>2148</th>\n",
       "      <td>0.339163</td>\n",
       "      <td>0.641559</td>\n",
       "      <td>0.059797</td>\n",
       "      <td>-0.094943</td>\n",
       "      <td>-0.325367</td>\n",
       "      <td>-0.922184</td>\n",
       "    </tr>\n",
       "  </tbody>\n",
       "</table>\n",
       "<p>2149 rows × 6 columns</p>\n",
       "</div>"
      ],
      "text/plain": [
       "      Bathrooms  Bedrooms  LivingArea  LandArea  PropPrice  InflationRate\n",
       "0     -0.103040  0.013159   -0.519985 -0.150507  -0.407218      -1.042619\n",
       "1     -0.545243 -0.615242   -0.447988 -0.151883  -0.382662      -1.042619\n",
       "2     -0.545243 -0.615242   -0.510293 -0.133586  -0.384107      -1.042619\n",
       "3     -0.545243 -0.615242   -0.507524 -0.140499  -0.381491      -1.042619\n",
       "4     -0.545243 -0.615242   -0.470487 -0.120414  -0.372070      -1.042619\n",
       "...         ...       ...         ...       ...        ...            ...\n",
       "2144  -0.103040  0.013159   -0.063082 -0.169849  -0.328577      -1.047437\n",
       "2145  -0.103040  0.013159   -0.217460 -0.109924  -0.339009      -0.922184\n",
       "2146  -0.545243 -0.615242   -0.251381  0.144756  -0.359231      -0.922184\n",
       "2147  -0.103040 -0.615242   -0.088004  0.204681  -0.355058      -0.922184\n",
       "2148   0.339163  0.641559    0.059797 -0.094943  -0.325367      -0.922184\n",
       "\n",
       "[2149 rows x 6 columns]"
      ]
     },
     "execution_count": 84,
     "metadata": {},
     "output_type": "execute_result"
    }
   ],
   "source": [
    "# Scaling the numeric columns\n",
    "df_Sold_Inflation_scaled = StandardScaler().fit_transform(df_Sold_Inflation_new[[\"Bathrooms\", \"Bedrooms\", \"LivingArea\",\"LandArea\",\"PropPrice\",\"InflationRate\"]])\n",
    "\n",
    "# Creating a DataFrame with with the scaled data\n",
    "df_sold_transformed = pd.DataFrame(df_Sold_Inflation_scaled, columns=[\"Bathrooms\", \"Bedrooms\", \"LivingArea\",\"LandArea\",\"PropPrice\",\"InflationRate\"])\n",
    "\n",
    "# # Display sample data\n",
    "df_sold_transformed"
   ]
  },
  {
   "cell_type": "code",
   "execution_count": 85,
   "id": "044b7ec8",
   "metadata": {},
   "outputs": [
    {
     "data": {
      "text/html": [
       "<div>\n",
       "<style scoped>\n",
       "    .dataframe tbody tr th:only-of-type {\n",
       "        vertical-align: middle;\n",
       "    }\n",
       "\n",
       "    .dataframe tbody tr th {\n",
       "        vertical-align: top;\n",
       "    }\n",
       "\n",
       "    .dataframe thead th {\n",
       "        text-align: right;\n",
       "    }\n",
       "</style>\n",
       "<table border=\"1\" class=\"dataframe\">\n",
       "  <thead>\n",
       "    <tr style=\"text-align: right;\">\n",
       "      <th></th>\n",
       "      <th>Bathrooms</th>\n",
       "      <th>Bedrooms</th>\n",
       "      <th>LivingArea</th>\n",
       "      <th>LandArea</th>\n",
       "      <th>PropPrice</th>\n",
       "      <th>InflationRate</th>\n",
       "      <th>Zip</th>\n",
       "    </tr>\n",
       "  </thead>\n",
       "  <tbody>\n",
       "    <tr>\n",
       "      <th>0</th>\n",
       "      <td>-0.103040</td>\n",
       "      <td>0.013159</td>\n",
       "      <td>-0.519985</td>\n",
       "      <td>-0.150507</td>\n",
       "      <td>-0.407218</td>\n",
       "      <td>-1.042619</td>\n",
       "      <td>85225</td>\n",
       "    </tr>\n",
       "    <tr>\n",
       "      <th>1</th>\n",
       "      <td>-0.545243</td>\n",
       "      <td>-0.615242</td>\n",
       "      <td>-0.447988</td>\n",
       "      <td>-0.151883</td>\n",
       "      <td>-0.382662</td>\n",
       "      <td>-1.042619</td>\n",
       "      <td>85225</td>\n",
       "    </tr>\n",
       "    <tr>\n",
       "      <th>2</th>\n",
       "      <td>-0.545243</td>\n",
       "      <td>-0.615242</td>\n",
       "      <td>-0.510293</td>\n",
       "      <td>-0.133586</td>\n",
       "      <td>-0.384107</td>\n",
       "      <td>-1.042619</td>\n",
       "      <td>85225</td>\n",
       "    </tr>\n",
       "    <tr>\n",
       "      <th>3</th>\n",
       "      <td>-0.545243</td>\n",
       "      <td>-0.615242</td>\n",
       "      <td>-0.507524</td>\n",
       "      <td>-0.140499</td>\n",
       "      <td>-0.381491</td>\n",
       "      <td>-1.042619</td>\n",
       "      <td>85225</td>\n",
       "    </tr>\n",
       "    <tr>\n",
       "      <th>4</th>\n",
       "      <td>-0.545243</td>\n",
       "      <td>-0.615242</td>\n",
       "      <td>-0.470487</td>\n",
       "      <td>-0.120414</td>\n",
       "      <td>-0.372070</td>\n",
       "      <td>-1.042619</td>\n",
       "      <td>85225</td>\n",
       "    </tr>\n",
       "    <tr>\n",
       "      <th>...</th>\n",
       "      <td>...</td>\n",
       "      <td>...</td>\n",
       "      <td>...</td>\n",
       "      <td>...</td>\n",
       "      <td>...</td>\n",
       "      <td>...</td>\n",
       "      <td>...</td>\n",
       "    </tr>\n",
       "    <tr>\n",
       "      <th>2144</th>\n",
       "      <td>-0.103040</td>\n",
       "      <td>0.013159</td>\n",
       "      <td>-0.063082</td>\n",
       "      <td>-0.169849</td>\n",
       "      <td>-0.328577</td>\n",
       "      <td>-1.047437</td>\n",
       "      <td>97229</td>\n",
       "    </tr>\n",
       "    <tr>\n",
       "      <th>2145</th>\n",
       "      <td>-0.103040</td>\n",
       "      <td>0.013159</td>\n",
       "      <td>-0.217460</td>\n",
       "      <td>-0.109924</td>\n",
       "      <td>-0.339009</td>\n",
       "      <td>-0.922184</td>\n",
       "      <td>97229</td>\n",
       "    </tr>\n",
       "    <tr>\n",
       "      <th>2146</th>\n",
       "      <td>-0.545243</td>\n",
       "      <td>-0.615242</td>\n",
       "      <td>-0.251381</td>\n",
       "      <td>0.144756</td>\n",
       "      <td>-0.359231</td>\n",
       "      <td>-0.922184</td>\n",
       "      <td>97229</td>\n",
       "    </tr>\n",
       "    <tr>\n",
       "      <th>2147</th>\n",
       "      <td>-0.103040</td>\n",
       "      <td>-0.615242</td>\n",
       "      <td>-0.088004</td>\n",
       "      <td>0.204681</td>\n",
       "      <td>-0.355058</td>\n",
       "      <td>-0.922184</td>\n",
       "      <td>97229</td>\n",
       "    </tr>\n",
       "    <tr>\n",
       "      <th>2148</th>\n",
       "      <td>0.339163</td>\n",
       "      <td>0.641559</td>\n",
       "      <td>0.059797</td>\n",
       "      <td>-0.094943</td>\n",
       "      <td>-0.325367</td>\n",
       "      <td>-0.922184</td>\n",
       "      <td>97229</td>\n",
       "    </tr>\n",
       "  </tbody>\n",
       "</table>\n",
       "<p>2149 rows × 7 columns</p>\n",
       "</div>"
      ],
      "text/plain": [
       "      Bathrooms  Bedrooms  LivingArea  LandArea  PropPrice  InflationRate  \\\n",
       "0     -0.103040  0.013159   -0.519985 -0.150507  -0.407218      -1.042619   \n",
       "1     -0.545243 -0.615242   -0.447988 -0.151883  -0.382662      -1.042619   \n",
       "2     -0.545243 -0.615242   -0.510293 -0.133586  -0.384107      -1.042619   \n",
       "3     -0.545243 -0.615242   -0.507524 -0.140499  -0.381491      -1.042619   \n",
       "4     -0.545243 -0.615242   -0.470487 -0.120414  -0.372070      -1.042619   \n",
       "...         ...       ...         ...       ...        ...            ...   \n",
       "2144  -0.103040  0.013159   -0.063082 -0.169849  -0.328577      -1.047437   \n",
       "2145  -0.103040  0.013159   -0.217460 -0.109924  -0.339009      -0.922184   \n",
       "2146  -0.545243 -0.615242   -0.251381  0.144756  -0.359231      -0.922184   \n",
       "2147  -0.103040 -0.615242   -0.088004  0.204681  -0.355058      -0.922184   \n",
       "2148   0.339163  0.641559    0.059797 -0.094943  -0.325367      -0.922184   \n",
       "\n",
       "        Zip  \n",
       "0     85225  \n",
       "1     85225  \n",
       "2     85225  \n",
       "3     85225  \n",
       "4     85225  \n",
       "...     ...  \n",
       "2144  97229  \n",
       "2145  97229  \n",
       "2146  97229  \n",
       "2147  97229  \n",
       "2148  97229  \n",
       "\n",
       "[2149 rows x 7 columns]"
      ]
     },
     "execution_count": 85,
     "metadata": {},
     "output_type": "execute_result"
    }
   ],
   "source": [
    "# Concatenate the df_zip_dummies and the df_month_dummies DataFrames\n",
    "df_sold_transformed = pd.concat([df_sold_transformed, df_Sold_Inflation_new['Zip']], axis=1)\n",
    "\n",
    "# Display sample data\n",
    "df_sold_transformed"
   ]
  },
  {
   "cell_type": "code",
   "execution_count": 86,
   "id": "97028b53",
   "metadata": {},
   "outputs": [],
   "source": [
    "#Split above dataframe by zip\n",
    "df_Az=df_sold_transformed[df_sold_transformed['Zip']=='85225']\n",
    "df_Chi=df_sold_transformed[df_sold_transformed['Zip']=='60629']\n",
    "df_LA=df_sold_transformed[df_sold_transformed['Zip']=='90210']\n",
    "df_Fl=df_sold_transformed[df_sold_transformed['Zip']=='33186']\n",
    "df_NY=df_sold_transformed[df_sold_transformed['Zip']=='11368']\n",
    "df_OR=df_sold_transformed[df_sold_transformed['Zip']=='97229']\n"
   ]
  },
  {
   "cell_type": "code",
   "execution_count": 87,
   "id": "507a5ceb",
   "metadata": {},
   "outputs": [
    {
     "data": {
      "text/html": [
       "<div>\n",
       "<style scoped>\n",
       "    .dataframe tbody tr th:only-of-type {\n",
       "        vertical-align: middle;\n",
       "    }\n",
       "\n",
       "    .dataframe tbody tr th {\n",
       "        vertical-align: top;\n",
       "    }\n",
       "\n",
       "    .dataframe thead th {\n",
       "        text-align: right;\n",
       "    }\n",
       "</style>\n",
       "<table border=\"1\" class=\"dataframe\">\n",
       "  <thead>\n",
       "    <tr style=\"text-align: right;\">\n",
       "      <th></th>\n",
       "      <th>Address</th>\n",
       "      <th>City</th>\n",
       "      <th>Zip</th>\n",
       "      <th>SoldDate</th>\n",
       "      <th>Bathrooms</th>\n",
       "      <th>Bedrooms</th>\n",
       "      <th>LivingArea</th>\n",
       "      <th>LandArea</th>\n",
       "      <th>PropPrice</th>\n",
       "      <th>InflationRate</th>\n",
       "      <th>FederalInt</th>\n",
       "      <th>MonthID</th>\n",
       "    </tr>\n",
       "  </thead>\n",
       "  <tbody>\n",
       "    <tr>\n",
       "      <th>736</th>\n",
       "      <td>1850 Coldwater Canyon Dr</td>\n",
       "      <td>Beverly Hills</td>\n",
       "      <td>90210</td>\n",
       "      <td>2/16/24</td>\n",
       "      <td>3.0</td>\n",
       "      <td>3</td>\n",
       "      <td>2408</td>\n",
       "      <td>10153.84</td>\n",
       "      <td>2055000</td>\n",
       "      <td>3.10</td>\n",
       "      <td>5.33</td>\n",
       "      <td>2</td>\n",
       "    </tr>\n",
       "    <tr>\n",
       "      <th>737</th>\n",
       "      <td>9618 Highland Gorge Dr</td>\n",
       "      <td>Beverly Hills</td>\n",
       "      <td>90210</td>\n",
       "      <td>2/16/24</td>\n",
       "      <td>2.0</td>\n",
       "      <td>2</td>\n",
       "      <td>1264</td>\n",
       "      <td>6655.00</td>\n",
       "      <td>1280000</td>\n",
       "      <td>3.10</td>\n",
       "      <td>5.33</td>\n",
       "      <td>2</td>\n",
       "    </tr>\n",
       "    <tr>\n",
       "      <th>738</th>\n",
       "      <td>9249 Burton Way UNIT 302</td>\n",
       "      <td>Beverly Hills</td>\n",
       "      <td>90210</td>\n",
       "      <td>2/15/24</td>\n",
       "      <td>3.0</td>\n",
       "      <td>2</td>\n",
       "      <td>1963</td>\n",
       "      <td>20908.80</td>\n",
       "      <td>1925000</td>\n",
       "      <td>3.10</td>\n",
       "      <td>5.33</td>\n",
       "      <td>2</td>\n",
       "    </tr>\n",
       "    <tr>\n",
       "      <th>739</th>\n",
       "      <td>441 N Oakhurst Dr APT 402</td>\n",
       "      <td>Beverly Hills</td>\n",
       "      <td>90210</td>\n",
       "      <td>2/14/24</td>\n",
       "      <td>3.0</td>\n",
       "      <td>3</td>\n",
       "      <td>2126</td>\n",
       "      <td>22651.20</td>\n",
       "      <td>1375000</td>\n",
       "      <td>3.10</td>\n",
       "      <td>5.33</td>\n",
       "      <td>2</td>\n",
       "    </tr>\n",
       "    <tr>\n",
       "      <th>740</th>\n",
       "      <td>1099 N Hillcrest Rd</td>\n",
       "      <td>Beverly Hills</td>\n",
       "      <td>90210</td>\n",
       "      <td>2/14/24</td>\n",
       "      <td>5.0</td>\n",
       "      <td>5</td>\n",
       "      <td>4777</td>\n",
       "      <td>20037.60</td>\n",
       "      <td>7200000</td>\n",
       "      <td>3.10</td>\n",
       "      <td>5.33</td>\n",
       "      <td>2</td>\n",
       "    </tr>\n",
       "    <tr>\n",
       "      <th>...</th>\n",
       "      <td>...</td>\n",
       "      <td>...</td>\n",
       "      <td>...</td>\n",
       "      <td>...</td>\n",
       "      <td>...</td>\n",
       "      <td>...</td>\n",
       "      <td>...</td>\n",
       "      <td>...</td>\n",
       "      <td>...</td>\n",
       "      <td>...</td>\n",
       "      <td>...</td>\n",
       "      <td>...</td>\n",
       "    </tr>\n",
       "    <tr>\n",
       "      <th>1422</th>\n",
       "      <td>61 Beverly Park Ln</td>\n",
       "      <td>Beverly Hills</td>\n",
       "      <td>90210</td>\n",
       "      <td>9/29/21</td>\n",
       "      <td>13.0</td>\n",
       "      <td>10</td>\n",
       "      <td>22408</td>\n",
       "      <td>87555.60</td>\n",
       "      <td>3540000</td>\n",
       "      <td>5.39</td>\n",
       "      <td>0.08</td>\n",
       "      <td>9</td>\n",
       "    </tr>\n",
       "    <tr>\n",
       "      <th>1423</th>\n",
       "      <td>1244 Benedict Canyon Dr</td>\n",
       "      <td>Beverly Hills</td>\n",
       "      <td>90210</td>\n",
       "      <td>9/28/21</td>\n",
       "      <td>4.0</td>\n",
       "      <td>3</td>\n",
       "      <td>3281</td>\n",
       "      <td>15246.00</td>\n",
       "      <td>4300500</td>\n",
       "      <td>5.39</td>\n",
       "      <td>0.08</td>\n",
       "      <td>9</td>\n",
       "    </tr>\n",
       "    <tr>\n",
       "      <th>1424</th>\n",
       "      <td>203 N Rexford Dr</td>\n",
       "      <td>Beverly Hills</td>\n",
       "      <td>90210</td>\n",
       "      <td>9/27/21</td>\n",
       "      <td>3.0</td>\n",
       "      <td>4</td>\n",
       "      <td>2300</td>\n",
       "      <td>7562.00</td>\n",
       "      <td>3300000</td>\n",
       "      <td>5.39</td>\n",
       "      <td>0.08</td>\n",
       "      <td>9</td>\n",
       "    </tr>\n",
       "    <tr>\n",
       "      <th>1425</th>\n",
       "      <td>713 N Hillcrest Rd</td>\n",
       "      <td>Beverly Hills</td>\n",
       "      <td>90210</td>\n",
       "      <td>9/24/21</td>\n",
       "      <td>5.5</td>\n",
       "      <td>4</td>\n",
       "      <td>5514</td>\n",
       "      <td>27878.40</td>\n",
       "      <td>23000000</td>\n",
       "      <td>5.39</td>\n",
       "      <td>0.08</td>\n",
       "      <td>9</td>\n",
       "    </tr>\n",
       "    <tr>\n",
       "      <th>1426</th>\n",
       "      <td>527 N Palm Dr</td>\n",
       "      <td>Beverly Hills</td>\n",
       "      <td>90210</td>\n",
       "      <td>9/24/21</td>\n",
       "      <td>10.0</td>\n",
       "      <td>6</td>\n",
       "      <td>11438</td>\n",
       "      <td>13503.60</td>\n",
       "      <td>17400000</td>\n",
       "      <td>5.39</td>\n",
       "      <td>0.08</td>\n",
       "      <td>9</td>\n",
       "    </tr>\n",
       "  </tbody>\n",
       "</table>\n",
       "<p>691 rows × 12 columns</p>\n",
       "</div>"
      ],
      "text/plain": [
       "                        Address           City    Zip SoldDate  Bathrooms  \\\n",
       "736    1850 Coldwater Canyon Dr  Beverly Hills  90210  2/16/24        3.0   \n",
       "737      9618 Highland Gorge Dr  Beverly Hills  90210  2/16/24        2.0   \n",
       "738    9249 Burton Way UNIT 302  Beverly Hills  90210  2/15/24        3.0   \n",
       "739   441 N Oakhurst Dr APT 402  Beverly Hills  90210  2/14/24        3.0   \n",
       "740         1099 N Hillcrest Rd  Beverly Hills  90210  2/14/24        5.0   \n",
       "...                         ...            ...    ...      ...        ...   \n",
       "1422         61 Beverly Park Ln  Beverly Hills  90210  9/29/21       13.0   \n",
       "1423    1244 Benedict Canyon Dr  Beverly Hills  90210  9/28/21        4.0   \n",
       "1424           203 N Rexford Dr  Beverly Hills  90210  9/27/21        3.0   \n",
       "1425         713 N Hillcrest Rd  Beverly Hills  90210  9/24/21        5.5   \n",
       "1426              527 N Palm Dr  Beverly Hills  90210  9/24/21       10.0   \n",
       "\n",
       "      Bedrooms  LivingArea  LandArea  PropPrice  InflationRate  FederalInt  \\\n",
       "736          3        2408  10153.84    2055000           3.10        5.33   \n",
       "737          2        1264   6655.00    1280000           3.10        5.33   \n",
       "738          2        1963  20908.80    1925000           3.10        5.33   \n",
       "739          3        2126  22651.20    1375000           3.10        5.33   \n",
       "740          5        4777  20037.60    7200000           3.10        5.33   \n",
       "...        ...         ...       ...        ...            ...         ...   \n",
       "1422        10       22408  87555.60    3540000           5.39        0.08   \n",
       "1423         3        3281  15246.00    4300500           5.39        0.08   \n",
       "1424         4        2300   7562.00    3300000           5.39        0.08   \n",
       "1425         4        5514  27878.40   23000000           5.39        0.08   \n",
       "1426         6       11438  13503.60   17400000           5.39        0.08   \n",
       "\n",
       "      MonthID  \n",
       "736         2  \n",
       "737         2  \n",
       "738         2  \n",
       "739         2  \n",
       "740         2  \n",
       "...       ...  \n",
       "1422        9  \n",
       "1423        9  \n",
       "1424        9  \n",
       "1425        9  \n",
       "1426        9  \n",
       "\n",
       "[691 rows x 12 columns]"
      ]
     },
     "execution_count": 87,
     "metadata": {},
     "output_type": "execute_result"
    }
   ],
   "source": [
    "#Split original dataframe (without transformations) by zip\n",
    "df_Az_Orig=df_Sold_Inflation_new[df_Sold_Inflation_new['Zip']=='85225']\n",
    "df_Chi_Orig=df_Sold_Inflation_new[df_Sold_Inflation_new['Zip']=='60629']\n",
    "df_LA_Orig=df_Sold_Inflation_new[df_Sold_Inflation_new['Zip']=='90210']\n",
    "df_Fl_Orig=df_Sold_Inflation_new[df_Sold_Inflation_new['Zip']=='33186']\n",
    "df_NY_Orig=df_Sold_Inflation_new[df_Sold_Inflation_new['Zip']=='11368']\n",
    "df_OR_Orig=df_Sold_Inflation_new[df_Sold_Inflation_new['Zip']=='97229']\n",
    "df_LA_Orig"
   ]
  },
  {
   "cell_type": "code",
   "execution_count": 88,
   "id": "64993054",
   "metadata": {},
   "outputs": [],
   "source": [
    "# Import the PCA module\n",
    "# Import the modules\n",
    "import hvplot.pandas\n",
    "from sklearn.cluster import KMeans\n",
    "from sklearn.decomposition import PCA"
   ]
  },
  {
   "cell_type": "code",
   "execution_count": 89,
   "id": "b476581e",
   "metadata": {},
   "outputs": [],
   "source": [
    "# Instantiate the PCA instance and declare the number of PCA variables\n",
    "pca=PCA(n_components=3)"
   ]
  },
  {
   "cell_type": "code",
   "execution_count": 90,
   "id": "e85a4880",
   "metadata": {},
   "outputs": [
    {
     "data": {
      "text/plain": [
       "array([[ 0.9059872 ,  1.63304502,  1.19622817],\n",
       "       [ 2.82501047,  1.48041673,  0.90005133],\n",
       "       [ 0.15617311,  1.69538721, -0.55161314],\n",
       "       [-2.18232264,  1.88744328,  0.37020425],\n",
       "       [-2.9658826 ,  1.95380653,  0.17493433]])"
      ]
     },
     "execution_count": 90,
     "metadata": {},
     "output_type": "execute_result"
    }
   ],
   "source": [
    "# Fit the PCA model on the transformed credit card DataFrame\n",
    "propertyNY_pca = pca.fit_transform(df_NY)\n",
    "\n",
    "# Review the first 5 rows of the array of list data\n",
    "propertyNY_pca[:5]"
   ]
  },
  {
   "cell_type": "code",
   "execution_count": 91,
   "id": "31bcdafe",
   "metadata": {},
   "outputs": [
    {
     "data": {
      "text/plain": [
       "(0.9825512487409791, array([0.63314788, 0.27940737, 0.069996  ]))"
      ]
     },
     "execution_count": 91,
     "metadata": {},
     "output_type": "execute_result"
    }
   ],
   "source": [
    "# Calculate the PCA explained variance ratio\n",
    "sum(pca.explained_variance_ratio_), pca.explained_variance_ratio_"
   ]
  },
  {
   "cell_type": "code",
   "execution_count": 92,
   "id": "c55784a3",
   "metadata": {},
   "outputs": [
    {
     "data": {
      "text/html": [
       "<div>\n",
       "<style scoped>\n",
       "    .dataframe tbody tr th:only-of-type {\n",
       "        vertical-align: middle;\n",
       "    }\n",
       "\n",
       "    .dataframe tbody tr th {\n",
       "        vertical-align: top;\n",
       "    }\n",
       "\n",
       "    .dataframe thead th {\n",
       "        text-align: right;\n",
       "    }\n",
       "</style>\n",
       "<table border=\"1\" class=\"dataframe\">\n",
       "  <thead>\n",
       "    <tr style=\"text-align: right;\">\n",
       "      <th></th>\n",
       "      <th>PCA1</th>\n",
       "      <th>PCA2</th>\n",
       "      <th>PCA3</th>\n",
       "    </tr>\n",
       "  </thead>\n",
       "  <tbody>\n",
       "    <tr>\n",
       "      <th>0</th>\n",
       "      <td>0.905987</td>\n",
       "      <td>1.633045</td>\n",
       "      <td>1.196228</td>\n",
       "    </tr>\n",
       "    <tr>\n",
       "      <th>1</th>\n",
       "      <td>2.825010</td>\n",
       "      <td>1.480417</td>\n",
       "      <td>0.900051</td>\n",
       "    </tr>\n",
       "    <tr>\n",
       "      <th>2</th>\n",
       "      <td>0.156173</td>\n",
       "      <td>1.695387</td>\n",
       "      <td>-0.551613</td>\n",
       "    </tr>\n",
       "    <tr>\n",
       "      <th>3</th>\n",
       "      <td>-2.182323</td>\n",
       "      <td>1.887443</td>\n",
       "      <td>0.370204</td>\n",
       "    </tr>\n",
       "    <tr>\n",
       "      <th>4</th>\n",
       "      <td>-2.965883</td>\n",
       "      <td>1.953807</td>\n",
       "      <td>0.174934</td>\n",
       "    </tr>\n",
       "  </tbody>\n",
       "</table>\n",
       "</div>"
      ],
      "text/plain": [
       "       PCA1      PCA2      PCA3\n",
       "0  0.905987  1.633045  1.196228\n",
       "1  2.825010  1.480417  0.900051\n",
       "2  0.156173  1.695387 -0.551613\n",
       "3 -2.182323  1.887443  0.370204\n",
       "4 -2.965883  1.953807  0.174934"
      ]
     },
     "execution_count": 92,
     "metadata": {},
     "output_type": "execute_result"
    }
   ],
   "source": [
    "# Create the PCA DataFrame\n",
    "propertyNY_pca_df = pd.DataFrame(\n",
    "    propertyNY_pca,\n",
    "    columns=[\"PCA1\", \"PCA2\",\"PCA3\"]\n",
    ")\n",
    "\n",
    "# Review the PCA DataFrame\n",
    "propertyNY_pca_df.head()"
   ]
  },
  {
   "cell_type": "code",
   "execution_count": 93,
   "id": "45d325e8",
   "metadata": {},
   "outputs": [],
   "source": [
    "# Create a a list to store inertia values and the values of k\n",
    "inertia = []\n",
    "k = list(range(1, 11))"
   ]
  },
  {
   "cell_type": "code",
   "execution_count": 94,
   "id": "3e23e66a",
   "metadata": {},
   "outputs": [],
   "source": [
    "# Create a for-loop where each value of k is evaluated using the K-means algorithm\n",
    "# Fit the model using the service_ratings DataFrame\n",
    "# Append the value of the computed inertia from the `inertia_` attribute of the KMeans model instance\n",
    "for i in k:\n",
    "    k_model = KMeans(n_clusters=i, random_state=0)\n",
    "    k_model.fit(propertyNY_pca_df)\n",
    "    inertia.append(k_model.inertia_)"
   ]
  },
  {
   "cell_type": "code",
   "execution_count": 95,
   "id": "6d3185ab",
   "metadata": {},
   "outputs": [
    {
     "data": {
      "text/html": [
       "<div>\n",
       "<style scoped>\n",
       "    .dataframe tbody tr th:only-of-type {\n",
       "        vertical-align: middle;\n",
       "    }\n",
       "\n",
       "    .dataframe tbody tr th {\n",
       "        vertical-align: top;\n",
       "    }\n",
       "\n",
       "    .dataframe thead th {\n",
       "        text-align: right;\n",
       "    }\n",
       "</style>\n",
       "<table border=\"1\" class=\"dataframe\">\n",
       "  <thead>\n",
       "    <tr style=\"text-align: right;\">\n",
       "      <th></th>\n",
       "      <th>k</th>\n",
       "      <th>inertia</th>\n",
       "    </tr>\n",
       "  </thead>\n",
       "  <tbody>\n",
       "    <tr>\n",
       "      <th>0</th>\n",
       "      <td>1</td>\n",
       "      <td>789.061666</td>\n",
       "    </tr>\n",
       "    <tr>\n",
       "      <th>1</th>\n",
       "      <td>2</td>\n",
       "      <td>469.829790</td>\n",
       "    </tr>\n",
       "    <tr>\n",
       "      <th>2</th>\n",
       "      <td>3</td>\n",
       "      <td>343.264056</td>\n",
       "    </tr>\n",
       "    <tr>\n",
       "      <th>3</th>\n",
       "      <td>4</td>\n",
       "      <td>238.463752</td>\n",
       "    </tr>\n",
       "    <tr>\n",
       "      <th>4</th>\n",
       "      <td>5</td>\n",
       "      <td>195.703699</td>\n",
       "    </tr>\n",
       "  </tbody>\n",
       "</table>\n",
       "</div>"
      ],
      "text/plain": [
       "   k     inertia\n",
       "0  1  789.061666\n",
       "1  2  469.829790\n",
       "2  3  343.264056\n",
       "3  4  238.463752\n",
       "4  5  195.703699"
      ]
     },
     "execution_count": 95,
     "metadata": {},
     "output_type": "execute_result"
    }
   ],
   "source": [
    "# Define a DataFrame to hold the values for k and the corresponding inertia\n",
    "elbow_data = {\"k\": k, \"inertia\": inertia}\n",
    "\n",
    "# Create the DataFrame from the elbow data\n",
    "df_elbow = pd.DataFrame(elbow_data)\n",
    "\n",
    "# Review the DataFrame\n",
    "df_elbow.head()"
   ]
  },
  {
   "cell_type": "code",
   "execution_count": 96,
   "id": "435f010e",
   "metadata": {},
   "outputs": [
    {
     "data": {},
     "metadata": {},
     "output_type": "display_data"
    },
    {
     "data": {
      "application/vnd.holoviews_exec.v0+json": "",
      "text/html": [
       "<div id='1503'>\n",
       "  <div class=\"bk-root\" id=\"9fb82fc5-fa90-4adc-9a66-6f6eb37bb486\" data-root-id=\"1503\"></div>\n",
       "</div>\n",
       "<script type=\"application/javascript\">(function(root) {\n",
       "  function embed_document(root) {\n",
       "    var docs_json = {\"47ac3030-8744-4217-ab4e-ec2d6b543102\":{\"defs\":[{\"extends\":null,\"module\":null,\"name\":\"ReactiveHTML1\",\"overrides\":[],\"properties\":[]},{\"extends\":null,\"module\":null,\"name\":\"FlexBox1\",\"overrides\":[],\"properties\":[{\"default\":\"flex-start\",\"kind\":null,\"name\":\"align_content\"},{\"default\":\"flex-start\",\"kind\":null,\"name\":\"align_items\"},{\"default\":\"row\",\"kind\":null,\"name\":\"flex_direction\"},{\"default\":\"wrap\",\"kind\":null,\"name\":\"flex_wrap\"},{\"default\":\"flex-start\",\"kind\":null,\"name\":\"justify_content\"}]},{\"extends\":null,\"module\":null,\"name\":\"GridStack1\",\"overrides\":[],\"properties\":[{\"default\":\"warn\",\"kind\":null,\"name\":\"mode\"},{\"default\":null,\"kind\":null,\"name\":\"ncols\"},{\"default\":null,\"kind\":null,\"name\":\"nrows\"},{\"default\":true,\"kind\":null,\"name\":\"allow_resize\"},{\"default\":true,\"kind\":null,\"name\":\"allow_drag\"},{\"default\":[],\"kind\":null,\"name\":\"state\"}]},{\"extends\":null,\"module\":null,\"name\":\"click1\",\"overrides\":[],\"properties\":[{\"default\":\"\",\"kind\":null,\"name\":\"terminal_output\"},{\"default\":\"\",\"kind\":null,\"name\":\"debug_name\"},{\"default\":0,\"kind\":null,\"name\":\"clears\"}]},{\"extends\":null,\"module\":null,\"name\":\"NotificationAreaBase1\",\"overrides\":[],\"properties\":[{\"default\":\"bottom-right\",\"kind\":null,\"name\":\"position\"},{\"default\":0,\"kind\":null,\"name\":\"_clear\"}]},{\"extends\":null,\"module\":null,\"name\":\"NotificationArea1\",\"overrides\":[],\"properties\":[{\"default\":[],\"kind\":null,\"name\":\"notifications\"},{\"default\":\"bottom-right\",\"kind\":null,\"name\":\"position\"},{\"default\":0,\"kind\":null,\"name\":\"_clear\"},{\"default\":[{\"background\":\"#ffc107\",\"icon\":{\"className\":\"fas fa-exclamation-triangle\",\"color\":\"white\",\"tagName\":\"i\"},\"type\":\"warning\"},{\"background\":\"#007bff\",\"icon\":{\"className\":\"fas fa-info-circle\",\"color\":\"white\",\"tagName\":\"i\"},\"type\":\"info\"}],\"kind\":null,\"name\":\"types\"}]},{\"extends\":null,\"module\":null,\"name\":\"Notification\",\"overrides\":[],\"properties\":[{\"default\":null,\"kind\":null,\"name\":\"background\"},{\"default\":3000,\"kind\":null,\"name\":\"duration\"},{\"default\":null,\"kind\":null,\"name\":\"icon\"},{\"default\":\"\",\"kind\":null,\"name\":\"message\"},{\"default\":null,\"kind\":null,\"name\":\"notification_type\"},{\"default\":false,\"kind\":null,\"name\":\"_destroyed\"}]},{\"extends\":null,\"module\":null,\"name\":\"TemplateActions1\",\"overrides\":[],\"properties\":[{\"default\":0,\"kind\":null,\"name\":\"open_modal\"},{\"default\":0,\"kind\":null,\"name\":\"close_modal\"}]},{\"extends\":null,\"module\":null,\"name\":\"MaterialTemplateActions1\",\"overrides\":[],\"properties\":[{\"default\":0,\"kind\":null,\"name\":\"open_modal\"},{\"default\":0,\"kind\":null,\"name\":\"close_modal\"}]}],\"roots\":{\"references\":[{\"attributes\":{\"axis\":{\"id\":\"1521\"},\"coordinates\":null,\"dimension\":1,\"grid_line_color\":null,\"group\":null,\"ticker\":null},\"id\":\"1524\",\"type\":\"Grid\"},{\"attributes\":{},\"id\":\"1522\",\"type\":\"BasicTicker\"},{\"attributes\":{\"line_alpha\":0.1,\"line_color\":\"#30a2da\",\"line_width\":2,\"x\":{\"field\":\"k\"},\"y\":{\"field\":\"inertia\"}},\"id\":\"1542\",\"type\":\"Line\"},{\"attributes\":{\"coordinates\":null,\"data_source\":{\"id\":\"1538\"},\"glyph\":{\"id\":\"1541\"},\"group\":null,\"hover_glyph\":null,\"muted_glyph\":{\"id\":\"1543\"},\"nonselection_glyph\":{\"id\":\"1542\"},\"selection_glyph\":{\"id\":\"1546\"},\"view\":{\"id\":\"1545\"}},\"id\":\"1544\",\"type\":\"GlyphRenderer\"},{\"attributes\":{},\"id\":\"1529\",\"type\":\"ResetTool\"},{\"attributes\":{},\"id\":\"1550\",\"type\":\"AllLabels\"},{\"attributes\":{},\"id\":\"1513\",\"type\":\"LinearScale\"},{\"attributes\":{\"margin\":[5,5,5,5],\"name\":\"HSpacer01450\",\"sizing_mode\":\"stretch_width\"},\"id\":\"1565\",\"type\":\"Spacer\"},{\"attributes\":{\"ticks\":[1,2,3,4,5,6,7,8,9,10]},\"id\":\"1547\",\"type\":\"FixedTicker\"},{\"attributes\":{},\"id\":\"1562\",\"type\":\"UnionRenderers\"},{\"attributes\":{},\"id\":\"1549\",\"type\":\"BasicTickFormatter\"},{\"attributes\":{\"overlay\":{\"id\":\"1530\"}},\"id\":\"1528\",\"type\":\"BoxZoomTool\"},{\"attributes\":{\"source\":{\"id\":\"1538\"}},\"id\":\"1545\",\"type\":\"CDSView\"},{\"attributes\":{\"below\":[{\"id\":\"1517\"}],\"center\":[{\"id\":\"1520\"},{\"id\":\"1524\"}],\"height\":300,\"left\":[{\"id\":\"1521\"}],\"margin\":[5,5,5,5],\"min_border_bottom\":10,\"min_border_left\":10,\"min_border_right\":10,\"min_border_top\":10,\"renderers\":[{\"id\":\"1544\"}],\"sizing_mode\":\"fixed\",\"title\":{\"id\":\"1509\"},\"toolbar\":{\"id\":\"1531\"},\"width\":700,\"x_range\":{\"id\":\"1505\"},\"x_scale\":{\"id\":\"1513\"},\"y_range\":{\"id\":\"1506\"},\"y_scale\":{\"id\":\"1515\"}},\"id\":\"1508\",\"subtype\":\"Figure\",\"type\":\"Plot\"},{\"attributes\":{\"axis_label\":\"inertia\",\"coordinates\":null,\"formatter\":{\"id\":\"1554\"},\"group\":null,\"major_label_policy\":{\"id\":\"1555\"},\"ticker\":{\"id\":\"1522\"}},\"id\":\"1521\",\"type\":\"LinearAxis\"},{\"attributes\":{\"callback\":null,\"renderers\":[{\"id\":\"1544\"}],\"tags\":[\"hv_created\"],\"tooltips\":[[\"k\",\"@{k}\"],[\"inertia\",\"@{inertia}\"]]},\"id\":\"1507\",\"type\":\"HoverTool\"},{\"attributes\":{\"data\":{\"inertia\":{\"__ndarray__\":\"sKbQSn6oiEA2Y0TSRl19QCNVN5M5dHVAaG1ODtfObUDJ/M60hHZoQEwvVVE+KmRAG/3KpmkpYUCKwtOb/hheQHJFpygbxVpATVncTRRlWEA=\",\"dtype\":\"float64\",\"order\":\"little\",\"shape\":[10]},\"k\":[1,2,3,4,5,6,7,8,9,10]},\"selected\":{\"id\":\"1539\"},\"selection_policy\":{\"id\":\"1562\"}},\"id\":\"1538\",\"type\":\"ColumnDataSource\"},{\"attributes\":{\"line_color\":\"#30a2da\",\"line_width\":2,\"x\":{\"field\":\"k\"},\"y\":{\"field\":\"inertia\"}},\"id\":\"1546\",\"type\":\"Line\"},{\"attributes\":{\"bottom_units\":\"screen\",\"coordinates\":null,\"fill_alpha\":0.5,\"fill_color\":\"lightgrey\",\"group\":null,\"left_units\":\"screen\",\"level\":\"overlay\",\"line_alpha\":1.0,\"line_color\":\"black\",\"line_dash\":[4,4],\"line_width\":2,\"right_units\":\"screen\",\"syncable\":false,\"top_units\":\"screen\"},\"id\":\"1530\",\"type\":\"BoxAnnotation\"},{\"attributes\":{\"children\":[{\"id\":\"1504\"},{\"id\":\"1508\"},{\"id\":\"1565\"}],\"margin\":[0,0,0,0],\"name\":\"Row01445\",\"tags\":[\"embedded\"]},\"id\":\"1503\",\"type\":\"Row\"},{\"attributes\":{\"axis\":{\"id\":\"1517\"},\"coordinates\":null,\"grid_line_color\":null,\"group\":null,\"ticker\":null},\"id\":\"1520\",\"type\":\"Grid\"},{\"attributes\":{\"coordinates\":null,\"group\":null,\"text\":\"Elbow Curve\",\"text_color\":\"black\",\"text_font_size\":\"12pt\"},\"id\":\"1509\",\"type\":\"Title\"},{\"attributes\":{},\"id\":\"1526\",\"type\":\"PanTool\"},{\"attributes\":{\"end\":10.0,\"reset_end\":10.0,\"reset_start\":1.0,\"start\":1.0,\"tags\":[[[\"k\",\"k\",null]]]},\"id\":\"1505\",\"type\":\"Range1d\"},{\"attributes\":{},\"id\":\"1527\",\"type\":\"WheelZoomTool\"},{\"attributes\":{\"axis_label\":\"k\",\"coordinates\":null,\"formatter\":{\"id\":\"1549\"},\"group\":null,\"major_label_policy\":{\"id\":\"1550\"},\"ticker\":{\"id\":\"1547\"}},\"id\":\"1517\",\"type\":\"LinearAxis\"},{\"attributes\":{\"end\":858.2098963228008,\"reset_end\":858.2098963228008,\"reset_start\":28.431134079641495,\"start\":28.431134079641495,\"tags\":[[[\"inertia\",\"inertia\",null]]]},\"id\":\"1506\",\"type\":\"Range1d\"},{\"attributes\":{\"margin\":[5,5,5,5],\"name\":\"HSpacer01449\",\"sizing_mode\":\"stretch_width\"},\"id\":\"1504\",\"type\":\"Spacer\"},{\"attributes\":{\"tools\":[{\"id\":\"1507\"},{\"id\":\"1525\"},{\"id\":\"1526\"},{\"id\":\"1527\"},{\"id\":\"1528\"},{\"id\":\"1529\"}]},\"id\":\"1531\",\"type\":\"Toolbar\"},{\"attributes\":{},\"id\":\"1554\",\"type\":\"BasicTickFormatter\"},{\"attributes\":{},\"id\":\"1539\",\"type\":\"Selection\"},{\"attributes\":{\"line_alpha\":0.2,\"line_color\":\"#30a2da\",\"line_width\":2,\"x\":{\"field\":\"k\"},\"y\":{\"field\":\"inertia\"}},\"id\":\"1543\",\"type\":\"Line\"},{\"attributes\":{},\"id\":\"1525\",\"type\":\"SaveTool\"},{\"attributes\":{},\"id\":\"1555\",\"type\":\"AllLabels\"},{\"attributes\":{\"line_color\":\"#30a2da\",\"line_width\":2,\"x\":{\"field\":\"k\"},\"y\":{\"field\":\"inertia\"}},\"id\":\"1541\",\"type\":\"Line\"},{\"attributes\":{},\"id\":\"1515\",\"type\":\"LinearScale\"}],\"root_ids\":[\"1503\"]},\"title\":\"Bokeh Application\",\"version\":\"2.4.3\"}};\n",
       "    var render_items = [{\"docid\":\"47ac3030-8744-4217-ab4e-ec2d6b543102\",\"root_ids\":[\"1503\"],\"roots\":{\"1503\":\"9fb82fc5-fa90-4adc-9a66-6f6eb37bb486\"}}];\n",
       "    root.Bokeh.embed.embed_items_notebook(docs_json, render_items);\n",
       "  }\n",
       "  if (root.Bokeh !== undefined && root.Bokeh.Panel !== undefined) {\n",
       "    embed_document(root);\n",
       "  } else {\n",
       "    var attempts = 0;\n",
       "    var timer = setInterval(function(root) {\n",
       "      if (root.Bokeh !== undefined && root.Bokeh.Panel !== undefined) {\n",
       "        clearInterval(timer);\n",
       "        embed_document(root);\n",
       "      } else if (document.readyState == \"complete\") {\n",
       "        attempts++;\n",
       "        if (attempts > 200) {\n",
       "          clearInterval(timer);\n",
       "          console.log(\"Bokeh: ERROR: Unable to run BokehJS code because BokehJS library is missing\");\n",
       "        }\n",
       "      }\n",
       "    }, 25, root)\n",
       "  }\n",
       "})(window);</script>"
      ],
      "text/plain": [
       ":Curve   [k]   (inertia)"
      ]
     },
     "execution_count": 96,
     "metadata": {
      "application/vnd.holoviews_exec.v0+json": {
       "id": "1503"
      }
     },
     "output_type": "execute_result"
    }
   ],
   "source": [
    "# Plot the DataFrame\n",
    "df_elbow.hvplot.line(\n",
    "    x=\"k\", \n",
    "    y=\"inertia\", \n",
    "    title=\"Elbow Curve\", \n",
    "    xticks=k\n",
    ")"
   ]
  },
  {
   "cell_type": "code",
   "execution_count": 98,
   "id": "e9ec6a56",
   "metadata": {},
   "outputs": [],
   "source": [
    "# Define the model Kmeans model using the optimal value of k for the number of clusters.\n",
    "model = KMeans(n_clusters=4, random_state=0)\n",
    "\n",
    "# Fit the model\n",
    "model.fit(propertyNY_pca_df)\n",
    "\n",
    "# Make predictions\n",
    "k_4 = model.predict(propertyNY_pca_df)\n",
    "\n",
    "# Create a copy of the customers_pca_df DataFrame\n",
    "propertyNY_pca_predictions_df = propertyNY_pca_df.copy()\n",
    "\n",
    "# Add a class column with the labels\n",
    "propertyNY_pca_predictions_df[\"property_segments\"] = k_4"
   ]
  },
  {
   "cell_type": "code",
   "execution_count": 99,
   "id": "d8451abd",
   "metadata": {},
   "outputs": [
    {
     "data": {
      "application/vnd.plotly.v1+json": {
       "config": {
        "plotlyServerURL": "https://plot.ly"
       },
       "data": [
        {
         "hovertemplate": "PCA1=%{x}<br>PCA2=%{y}<br>PCA3=%{z}<br>property_segments=%{marker.color}<extra></extra>",
         "legendgroup": "",
         "marker": {
          "color": [
           3,
           1,
           3,
           2,
           2,
           3,
           3,
           3,
           3,
           3,
           3,
           3,
           3,
           3,
           3,
           3,
           3,
           3,
           3,
           3,
           3,
           3,
           3,
           3,
           3,
           1,
           3,
           3,
           3,
           3,
           1,
           2,
           1,
           1,
           1,
           3,
           3,
           3,
           3,
           3,
           1,
           3,
           3,
           2,
           3,
           3,
           3,
           3,
           1,
           1,
           3,
           2,
           1,
           1,
           2,
           3,
           3,
           2,
           2,
           3,
           1,
           3,
           3,
           0,
           2,
           2,
           2,
           0,
           1,
           2,
           2,
           0,
           0,
           2,
           0,
           1,
           1,
           0,
           0,
           2,
           2,
           0,
           0,
           1,
           2,
           0,
           0,
           0,
           0,
           0,
           0,
           0,
           0,
           1,
           0,
           2,
           2,
           0,
           0,
           0,
           0,
           0,
           0,
           2,
           0,
           2,
           2,
           0,
           0,
           2,
           2,
           0,
           0,
           2,
           0,
           2,
           0,
           0,
           0,
           0,
           0,
           2,
           0,
           2,
           0,
           0,
           0,
           0,
           0,
           2,
           0,
           2,
           0,
           2,
           0,
           0,
           2,
           1,
           1,
           2,
           1,
           2,
           0,
           2,
           0,
           0,
           0,
           2,
           2,
           0,
           0,
           0,
           2,
           0,
           2,
           1,
           1,
           0,
           2,
           0,
           2,
           0,
           2,
           0,
           2,
           0,
           0,
           1,
           2,
           2,
           2,
           1,
           0,
           1,
           0,
           0,
           0,
           2,
           0,
           0,
           0,
           0,
           1,
           0,
           2,
           2,
           0,
           0,
           0,
           2,
           0,
           0,
           0,
           2,
           0,
           0,
           0,
           0,
           0,
           0,
           0,
           2,
           0,
           0,
           0,
           0,
           2,
           0,
           0,
           2
          ],
          "coloraxis": "coloraxis",
          "symbol": "circle"
         },
         "mode": "markers",
         "name": "",
         "scene": "scene",
         "showlegend": false,
         "type": "scatter3d",
         "x": [
          0.9059871994780082,
          2.8250104688472932,
          0.15617310910090992,
          -2.1823226389846355,
          -2.9658826046249676,
          1.515174378165234,
          -1.0221213055564105,
          1.474766801671249,
          0.13937108322650868,
          -0.25278474410030394,
          0.13937108322650868,
          -0.3988676570413562,
          0.3457631709634951,
          1.4334836363898227,
          0.15988649266717475,
          0.7464521324186448,
          0.2376526286125229,
          0.13903483431180452,
          0.27910593537930717,
          -0.23620625598400785,
          -0.261535002691372,
          -1.6420735306274892,
          0.7695877406959483,
          0.8989621525534736,
          -1.037299660424683,
          1.8759162497791164,
          -0.27589456237938803,
          0.32291289850632127,
          -0.3841781358021185,
          0.28532499308078413,
          3.9108965090925754,
          -2.3077358988094265,
          3.9208014989191016,
          2.9568697059569784,
          2.4334898759938466,
          1.33923665257668,
          -1.6151649431844883,
          0.8764425928931064,
          1.5262175193660843,
          -0.9231856197827399,
          2.4334898759938466,
          -0.8165312318130291,
          0.8764425928931064,
          -2.354627057198806,
          -0.8399314738071971,
          0.921368224286178,
          -1.4131167249799634,
          -0.8298530253729036,
          3.3556795610121313,
          4.355053863989897,
          -1.548435753716792,
          -2.402999342026113,
          2.216190197802461,
          2.01459564267379,
          -2.402890928583696,
          0.8270014569359723,
          -0.49716230273231093,
          -1.5829419464210555,
          -1.6735114169401775,
          -0.5037465391486832,
          2.1525076133489365,
          -0.49722139950322536,
          -0.49405858620049975,
          0.7776866479984682,
          -2.3041854965910726,
          -1.5494847399250173,
          -1.1407143870787053,
          -0.48892992256944257,
          1.765372454601042,
          -0.9784906824634303,
          -1.7397800059278177,
          -0.060704208565996086,
          1.1766428696563644,
          -1.8852567525306858,
          0.44086625903772747,
          3.86335010877461,
          3.863309531766411,
          0.21154628495834507,
          -0.5688062723507775,
          -1.7572987199088943,
          -2.353099800658282,
          1.1535841985155229,
          0.024651661169047764,
          3.348319664197679,
          -3.0537605563848174,
          -0.6038185347992062,
          1.129066367172066,
          1.3136905914628303,
          -0.017604957369427132,
          0.7938118665873618,
          -0.6097097593085685,
          0.7351754300537683,
          -0.6429145916802429,
          2.285297547725909,
          0.7514435658231048,
          -1.3976742772018185,
          -1.6347119285351681,
          1.6718795759475182,
          0.494624295856169,
          0.548600059038567,
          -0.07021675770850548,
          -0.6365322697084493,
          -0.42545775542121606,
          -1.0716344035984982,
          -0.04311939278579709,
          -1.1884770285359598,
          -1.2043341308843976,
          0.12539682474867694,
          0.6635935507153485,
          -1.652432858246004,
          -1.1768991930518176,
          0.5154345181646091,
          -0.41689294966265195,
          -1.774971671267968,
          0.9419026066046774,
          -2.5021884057780173,
          1.0861306266252744,
          -0.4169715025887792,
          -0.6227433623564756,
          -0.08979248091330735,
          1.4292845995579,
          -1.3502360733011431,
          0.10629710985030345,
          -1.0451731958886554,
          -0.46714437690976435,
          0.8717019552858796,
          0.10605086683830345,
          0.10521582775336057,
          1.4273521425077063,
          -1.6429986643287842,
          0.6995230455901519,
          -2.5743820147853373,
          1.0234853385241258,
          -1.2304785036321078,
          1.85156264362994,
          0.8541038916322469,
          -2.5710448622996998,
          2.011108839133399,
          3.7492119025699147,
          -2.600646812761995,
          2.1078997555922996,
          -1.1199463778100147,
          0.5128000922733111,
          -3.1008994381010715,
          -0.06516917722861276,
          -0.06764107646221879,
          0.6796194981123255,
          -1.8078503565824922,
          -2.5766406083464353,
          -0.2431366409912992,
          0.004902950207711459,
          -0.4638597128891391,
          -1.974328255744186,
          1.0863665958649915,
          -2.379334188975945,
          2.5971326676147815,
          3.2809324616497975,
          0.9365431449843054,
          -2.415400432165431,
          -0.4417916810360849,
          -1.8716899642183031,
          -0.005675176021496431,
          -1.0202572504448797,
          -0.424779384024641,
          -1.9821579598177077,
          0.7269863481496381,
          1.135642149485602,
          1.8499411963215446,
          -1.697411789393397,
          -2.4941324654010364,
          -1.9486705459347646,
          2.040865601764448,
          -0.4398399370282221,
          3.168704282594382,
          -0.04821848809581969,
          0.10225569034037361,
          -0.29865537528099423,
          -1.8137038887548893,
          0.13957365833122037,
          1.0844028786368234,
          0.1324697755505596,
          0.5283371765350701,
          2.0609833247797558,
          0.7155611279911287,
          -1.1702848989650092,
          -1.947827782328349,
          0.15195389919972807,
          0.7413540546674494,
          0.565066314114816,
          -1.7661370833022063,
          0.9201164341930399,
          -0.5804385342221956,
          0.5003995264377201,
          -1.5785253556955554,
          0.16889414539210387,
          0.40040115376438296,
          1.214787151632249,
          -0.3647952842394286,
          1.3825139363856058,
          0.3521677221381767,
          -0.36414829707971036,
          -1.9269342146554624,
          1.133720296186922,
          -0.40322525080417937,
          0.9387164245708578,
          -0.4231465762104216,
          -2.4883704244818197,
          0.3341114314200087,
          0.608514267153264,
          -2.3481143554836748
         ],
         "y": [
          1.6330450244141688,
          1.4804167287229584,
          1.6953872118064428,
          1.8874432763038023,
          1.9538065292957436,
          1.4643136817865339,
          1.6689785952323304,
          1.4704410974541413,
          1.57646025387403,
          1.606586127931047,
          1.57646025387403,
          1.7179938460214257,
          1.6601199098593329,
          1.5746883026494736,
          1.6754650793418666,
          1.6279350933667733,
          1.6723686119780916,
          1.6267722927614414,
          1.6208359966953814,
          1.6581829569976019,
          1.6615669868343899,
          1.55096860351625,
          1.3530016871655737,
          1.3460298467674432,
          1.5007649490386006,
          1.264825541170237,
          1.440411710812634,
          1.4062665318321357,
          1.4600075375105845,
          1.4115042902423007,
          1.1216215066413677,
          1.618683024056157,
          1.1201744545065169,
          1.4373229173706819,
          1.4746298389012862,
          1.5610510210038362,
          1.7996660854590703,
          1.6015947304421787,
          1.545667279600156,
          1.7367017297233511,
          1.4746298389012862,
          1.7330723669935564,
          1.6015947304421787,
          1.8567362085002996,
          1.8387047679246689,
          1.6966941669129252,
          1.883565586793461,
          1.8369606238791014,
          1.5038144170863654,
          1.4239187702123686,
          1.8927962475970506,
          1.4421676206723608,
          1.0721762619961617,
          1.0898767833663763,
          1.4421404025163274,
          0.758659910474404,
          0.8633610213852602,
          0.9453261702778413,
          0.958715888875168,
          0.8643401754656718,
          0.6538510033441047,
          0.8633758581536158,
          0.8387846272249291,
          0.22786783892233806,
          0.47283610154194744,
          0.41256608033217157,
          0.3674094580285124,
          0.32206380668039497,
          0.1445188376481281,
          0.18776782400074554,
          0.2480072269400933,
          0.11059997832375949,
          0.011826738345670908,
          0.2582090979668731,
          0.049897840225771053,
          -0.22229904032787323,
          -0.2222888531101641,
          0.07165467454066109,
          -0.1851513797058984,
          -0.0877474739875453,
          -0.03995192385929712,
          -0.32118176155340494,
          -0.5439238588949455,
          -0.8032250071291227,
          -0.3002154478955882,
          -0.4911092800998124,
          -0.628491080249972,
          -0.6470535221781405,
          -0.537993131215194,
          -0.6068401263939992,
          -0.4901480791077626,
          -0.6008228412806421,
          -0.7040587423050464,
          -0.9427715138379166,
          -0.8191753593798047,
          -0.643936929930282,
          -0.6246817837319731,
          -0.8915657754530825,
          -0.7959224675732804,
          -0.8302137647944828,
          -0.77775230025108,
          -0.7339292582180182,
          -0.7529869879826332,
          -0.7035391271380349,
          -0.7817867446794292,
          -0.6921800605305138,
          -0.6895281161045494,
          -0.7949157623279662,
          -0.8378588560999225,
          -0.6508630892911613,
          -0.693910252426168,
          -0.8289276694770396,
          -0.7546362568590562,
          -0.6449043315779444,
          -0.8639350509083897,
          -0.5892159015024717,
          -0.8736731017427913,
          -0.7546165354504144,
          -0.8624930465668326,
          -0.9012423035200698,
          -1.0224496236739766,
          -0.8054552842260874,
          -0.918616460204991,
          -0.8262513709854954,
          -0.8733473846548395,
          -0.9800900995572729,
          -0.9184249589348448,
          -0.9181232928349967,
          -1.0225783480641921,
          -0.7783189696654934,
          -0.9666397443643451,
          -0.7045741221671784,
          -0.990023570596699,
          -0.8128778676946977,
          -1.0578101795241859,
          -0.9775237312832913,
          -0.7044852446222004,
          -1.3315994697182183,
          -1.4770026260925453,
          -0.9612086184150525,
          -1.3344021254073652,
          -1.0785815979068016,
          -1.213485101370308,
          -0.9292767314656522,
          -1.167848741408234,
          -1.167428226484463,
          -1.2261708595682577,
          -0.8004125894903389,
          -0.7333840045479746,
          -0.9236148427855898,
          -0.9451297635076927,
          -0.9029459346381565,
          -0.7826302040961843,
          -1.0255228261301574,
          -0.7505583324335278,
          -1.1489918840998425,
          -1.198494902071593,
          -1.0186379787702715,
          -0.744757611516595,
          -0.9061701061884369,
          -0.6431279751560325,
          -0.787795968807289,
          -0.7049540155984386,
          -0.7532987679862329,
          -0.6255684184946363,
          -0.8444643434425866,
          -0.8772051561410477,
          -0.9344177822892885,
          -0.6571541762665151,
          -0.5907536167623536,
          -0.6311750753136137,
          -0.9513055987776061,
          -0.8857546844363144,
          -1.1710592687617138,
          -0.9171229717519477,
          -0.9276623477869341,
          -0.8960588963093125,
          -0.7750976934865823,
          -0.9329351591330259,
          -1.0089807058893294,
          -0.9324489129245471,
          -0.9630734464662314,
          -1.0866229722825886,
          -0.6531724771663318,
          -0.5050039566152398,
          -0.44249324945966684,
          -0.6090456039859219,
          -0.6569344464699374,
          -0.6431638402869827,
          -0.4567782770764361,
          -0.48223738227138574,
          -0.36372354314929567,
          -0.447294662469432,
          -0.29662190519697473,
          -0.42267931944637144,
          -0.4446829788690253,
          -0.5102002457640785,
          -0.3829483984214829,
          -0.30884874111470567,
          -0.22383946076166408,
          -0.16971369562578328,
          -0.04166225742003193,
          -0.2877590233365693,
          -0.16358108888952597,
          -0.27108602932934583,
          -0.16073085379328111,
          0.11323537441443703,
          -0.10927901268410613,
          -0.1379936133557727,
          0.10513577517294741
         ],
         "z": [
          1.196228170779663,
          0.9000513332208894,
          -0.551613140839144,
          0.3702042450023626,
          0.17493432985361299,
          -0.5553691534550038,
          -0.08924456350671003,
          -0.6279079543568136,
          -0.5646678713271831,
          0.11118944502899858,
          -0.5646678713271831,
          -0.26626184944519005,
          -0.10919634892046484,
          0.8630972799663892,
          -0.5419295041721706,
          -0.7697520343289714,
          1.2766325416017927,
          1.0095802692761109,
          -0.22410561495147935,
          0.1348782701222679,
          0.08786274404638747,
          0.10123589651728171,
          -0.6880197202744164,
          -0.3563471340691805,
          -0.0946011570175822,
          0.31557071890819827,
          0.09415340601822023,
          -0.1121998548135574,
          -0.19858227259963776,
          -0.1808579623021383,
          0.32626738804945477,
          0.13612867647785518,
          0.3442031226195472,
          -0.339454438894818,
          0.0008001705074433672,
          -0.9820650513635175,
          0.11414247159001441,
          -0.4339211270264903,
          -0.5452641223301176,
          0.07771116312845006,
          0.0008001705074433672,
          0.36770617885614454,
          -0.4339211270264903,
          -0.03282772059574667,
          0.3114830368212992,
          -0.3680360491953228,
          0.5625735652677324,
          0.3291876749286506,
          0.561290876954195,
          -0.3033196973131872,
          0.22249322559132426,
          -0.05713029616009222,
          -0.4294793919642113,
          -0.8918400149108093,
          -0.057136097228049125,
          -0.4027362938649223,
          -0.31895172991677584,
          0.29415939972325916,
          0.13054687138973511,
          -0.33036725889001783,
          -0.48401061724399713,
          -0.31894856772234254,
          -0.3095499110567878,
          -0.4132140361174886,
          0.35746961918050674,
          0.5272499396286272,
          -0.21485898424683414,
          -0.2299092088630451,
          0.2781440657993819,
          0.29713275885049123,
          0.11010536123798226,
          2.442623614946782,
          0.5261216641237185,
          -0.24975064096308514,
          0.390550989516221,
          0.4311772520306869,
          0.431179423255738,
          -0.12256240843997743,
          -0.29893440341851957,
          0.13029491331492912,
          0.34085457451442086,
          -1.047750198661042,
          -0.46787451396180246,
          0.9795805159342349,
          0.30358701707732355,
          -0.3188352848235525,
          -1.0479888118549199,
          0.964974304460437,
          -0.5460029445785048,
          -0.26923713424725154,
          -0.3282572488683986,
          1.207420339422381,
          -0.3569195367168549,
          0.07797235364271082,
          -0.31589123817066866,
          -0.5326259725794077,
          0.5216211769668169,
          0.25668998382990843,
          0.7046448701942387,
          -0.7748964364932451,
          -0.6026866528656811,
          -0.34199691616219896,
          0.13792959147754882,
          0.20747804958509986,
          -0.5562669139296537,
          -0.05250298220127909,
          -0.08108728295930293,
          -0.15276088528750195,
          1.1127369503989517,
          0.4942047014993927,
          -0.031034968579601464,
          0.7455797457391058,
          0.15223314323447293,
          0.1747463308902119,
          0.1336834074819096,
          0.0500912113810664,
          0.4897608807768167,
          0.152237346503482,
          -0.29952318140632683,
          -0.623694822610241,
          -0.2560587753912044,
          -0.422388752797556,
          -0.17066879566849644,
          0.325188127068706,
          0.08012186515075677,
          0.022992638283868338,
          -0.17142379262672916,
          -0.17290919134373395,
          -0.2599525252633779,
          0.5299300185236931,
          -0.3860079743548586,
          -0.06200289620331878,
          0.39641286929878483,
          -0.1120130802373442,
          -0.8786145558667724,
          -0.009420429943834204,
          -0.04871006758345537,
          -0.4549701528585518,
          1.986272419046666,
          -0.041528314068340406,
          -0.18311693818149832,
          0.22376227072561397,
          -0.784201547498477,
          0.3097088510982338,
          -0.5426465726646921,
          -0.5462540080110271,
          -0.38513936123274223,
          0.09078474243536849,
          -0.061842746650110594,
          0.5869701435568344,
          -0.44855639117135615,
          0.09069553007294913,
          -0.26017458241063834,
          -1.0680240254752311,
          0.3929265843293883,
          0.866219088582606,
          0.9113011058254895,
          0.1444108976707516,
          0.3286853148028007,
          0.12972188418720482,
          -0.09828045428626825,
          -0.48872742282141524,
          0.34935651209195084,
          0.13873129970489562,
          -0.29558146251143663,
          -0.35434398261166494,
          -1.0007335929705268,
          0.6818067639895236,
          0.3134825063293991,
          0.06439484152308216,
          -0.23590391747727324,
          1.1230420922046254,
          0.13350492618609325,
          -0.9735485638925616,
          -0.545496737716768,
          -0.17632005561379951,
          0.484081697382716,
          0.12487086834311246,
          -0.10900837330107087,
          0.5068639226563398,
          -0.12310584426017662,
          -0.7918778900870512,
          -0.4007388912991729,
          -0.40169100517766837,
          -0.045503837796469715,
          -0.2630517162640501,
          -0.13219900474331978,
          -0.3548755757552939,
          -0.7718781518525777,
          0.16394098003307653,
          0.038904699210082105,
          -0.29489590419708467,
          0.6658995370827598,
          0.4733204492623236,
          -0.12955503429805318,
          0.3865758144695788,
          -0.9126889569019079,
          0.19437187273489032,
          -0.5405886117616775,
          0.26806794148395113,
          0.16370047808026036,
          -0.28117413197202556,
          0.4918466972952668,
          0.09302076450966366,
          0.04204006988378335,
          0.057703830306774014,
          -0.02524536431664481,
          0.22172780487390792,
          0.8142065769157018,
          0.32823105394245095
         ]
        }
       ],
       "layout": {
        "coloraxis": {
         "colorbar": {
          "title": {
           "text": "property_segments"
          }
         },
         "colorscale": [
          [
           0,
           "#0d0887"
          ],
          [
           0.1111111111111111,
           "#46039f"
          ],
          [
           0.2222222222222222,
           "#7201a8"
          ],
          [
           0.3333333333333333,
           "#9c179e"
          ],
          [
           0.4444444444444444,
           "#bd3786"
          ],
          [
           0.5555555555555556,
           "#d8576b"
          ],
          [
           0.6666666666666666,
           "#ed7953"
          ],
          [
           0.7777777777777778,
           "#fb9f3a"
          ],
          [
           0.8888888888888888,
           "#fdca26"
          ],
          [
           1,
           "#f0f921"
          ]
         ]
        },
        "legend": {
         "tracegroupgap": 0
        },
        "margin": {
         "t": 60
        },
        "scene": {
         "domain": {
          "x": [
           0,
           1
          ],
          "y": [
           0,
           1
          ]
         },
         "xaxis": {
          "title": {
           "text": "PCA1"
          }
         },
         "yaxis": {
          "title": {
           "text": "PCA2"
          }
         },
         "zaxis": {
          "title": {
           "text": "PCA3"
          }
         }
        },
        "template": {
         "data": {
          "bar": [
           {
            "error_x": {
             "color": "#2a3f5f"
            },
            "error_y": {
             "color": "#2a3f5f"
            },
            "marker": {
             "line": {
              "color": "#E5ECF6",
              "width": 0.5
             },
             "pattern": {
              "fillmode": "overlay",
              "size": 10,
              "solidity": 0.2
             }
            },
            "type": "bar"
           }
          ],
          "barpolar": [
           {
            "marker": {
             "line": {
              "color": "#E5ECF6",
              "width": 0.5
             },
             "pattern": {
              "fillmode": "overlay",
              "size": 10,
              "solidity": 0.2
             }
            },
            "type": "barpolar"
           }
          ],
          "carpet": [
           {
            "aaxis": {
             "endlinecolor": "#2a3f5f",
             "gridcolor": "white",
             "linecolor": "white",
             "minorgridcolor": "white",
             "startlinecolor": "#2a3f5f"
            },
            "baxis": {
             "endlinecolor": "#2a3f5f",
             "gridcolor": "white",
             "linecolor": "white",
             "minorgridcolor": "white",
             "startlinecolor": "#2a3f5f"
            },
            "type": "carpet"
           }
          ],
          "choropleth": [
           {
            "colorbar": {
             "outlinewidth": 0,
             "ticks": ""
            },
            "type": "choropleth"
           }
          ],
          "contour": [
           {
            "colorbar": {
             "outlinewidth": 0,
             "ticks": ""
            },
            "colorscale": [
             [
              0,
              "#0d0887"
             ],
             [
              0.1111111111111111,
              "#46039f"
             ],
             [
              0.2222222222222222,
              "#7201a8"
             ],
             [
              0.3333333333333333,
              "#9c179e"
             ],
             [
              0.4444444444444444,
              "#bd3786"
             ],
             [
              0.5555555555555556,
              "#d8576b"
             ],
             [
              0.6666666666666666,
              "#ed7953"
             ],
             [
              0.7777777777777778,
              "#fb9f3a"
             ],
             [
              0.8888888888888888,
              "#fdca26"
             ],
             [
              1,
              "#f0f921"
             ]
            ],
            "type": "contour"
           }
          ],
          "contourcarpet": [
           {
            "colorbar": {
             "outlinewidth": 0,
             "ticks": ""
            },
            "type": "contourcarpet"
           }
          ],
          "heatmap": [
           {
            "colorbar": {
             "outlinewidth": 0,
             "ticks": ""
            },
            "colorscale": [
             [
              0,
              "#0d0887"
             ],
             [
              0.1111111111111111,
              "#46039f"
             ],
             [
              0.2222222222222222,
              "#7201a8"
             ],
             [
              0.3333333333333333,
              "#9c179e"
             ],
             [
              0.4444444444444444,
              "#bd3786"
             ],
             [
              0.5555555555555556,
              "#d8576b"
             ],
             [
              0.6666666666666666,
              "#ed7953"
             ],
             [
              0.7777777777777778,
              "#fb9f3a"
             ],
             [
              0.8888888888888888,
              "#fdca26"
             ],
             [
              1,
              "#f0f921"
             ]
            ],
            "type": "heatmap"
           }
          ],
          "heatmapgl": [
           {
            "colorbar": {
             "outlinewidth": 0,
             "ticks": ""
            },
            "colorscale": [
             [
              0,
              "#0d0887"
             ],
             [
              0.1111111111111111,
              "#46039f"
             ],
             [
              0.2222222222222222,
              "#7201a8"
             ],
             [
              0.3333333333333333,
              "#9c179e"
             ],
             [
              0.4444444444444444,
              "#bd3786"
             ],
             [
              0.5555555555555556,
              "#d8576b"
             ],
             [
              0.6666666666666666,
              "#ed7953"
             ],
             [
              0.7777777777777778,
              "#fb9f3a"
             ],
             [
              0.8888888888888888,
              "#fdca26"
             ],
             [
              1,
              "#f0f921"
             ]
            ],
            "type": "heatmapgl"
           }
          ],
          "histogram": [
           {
            "marker": {
             "pattern": {
              "fillmode": "overlay",
              "size": 10,
              "solidity": 0.2
             }
            },
            "type": "histogram"
           }
          ],
          "histogram2d": [
           {
            "colorbar": {
             "outlinewidth": 0,
             "ticks": ""
            },
            "colorscale": [
             [
              0,
              "#0d0887"
             ],
             [
              0.1111111111111111,
              "#46039f"
             ],
             [
              0.2222222222222222,
              "#7201a8"
             ],
             [
              0.3333333333333333,
              "#9c179e"
             ],
             [
              0.4444444444444444,
              "#bd3786"
             ],
             [
              0.5555555555555556,
              "#d8576b"
             ],
             [
              0.6666666666666666,
              "#ed7953"
             ],
             [
              0.7777777777777778,
              "#fb9f3a"
             ],
             [
              0.8888888888888888,
              "#fdca26"
             ],
             [
              1,
              "#f0f921"
             ]
            ],
            "type": "histogram2d"
           }
          ],
          "histogram2dcontour": [
           {
            "colorbar": {
             "outlinewidth": 0,
             "ticks": ""
            },
            "colorscale": [
             [
              0,
              "#0d0887"
             ],
             [
              0.1111111111111111,
              "#46039f"
             ],
             [
              0.2222222222222222,
              "#7201a8"
             ],
             [
              0.3333333333333333,
              "#9c179e"
             ],
             [
              0.4444444444444444,
              "#bd3786"
             ],
             [
              0.5555555555555556,
              "#d8576b"
             ],
             [
              0.6666666666666666,
              "#ed7953"
             ],
             [
              0.7777777777777778,
              "#fb9f3a"
             ],
             [
              0.8888888888888888,
              "#fdca26"
             ],
             [
              1,
              "#f0f921"
             ]
            ],
            "type": "histogram2dcontour"
           }
          ],
          "mesh3d": [
           {
            "colorbar": {
             "outlinewidth": 0,
             "ticks": ""
            },
            "type": "mesh3d"
           }
          ],
          "parcoords": [
           {
            "line": {
             "colorbar": {
              "outlinewidth": 0,
              "ticks": ""
             }
            },
            "type": "parcoords"
           }
          ],
          "pie": [
           {
            "automargin": true,
            "type": "pie"
           }
          ],
          "scatter": [
           {
            "fillpattern": {
             "fillmode": "overlay",
             "size": 10,
             "solidity": 0.2
            },
            "type": "scatter"
           }
          ],
          "scatter3d": [
           {
            "line": {
             "colorbar": {
              "outlinewidth": 0,
              "ticks": ""
             }
            },
            "marker": {
             "colorbar": {
              "outlinewidth": 0,
              "ticks": ""
             }
            },
            "type": "scatter3d"
           }
          ],
          "scattercarpet": [
           {
            "marker": {
             "colorbar": {
              "outlinewidth": 0,
              "ticks": ""
             }
            },
            "type": "scattercarpet"
           }
          ],
          "scattergeo": [
           {
            "marker": {
             "colorbar": {
              "outlinewidth": 0,
              "ticks": ""
             }
            },
            "type": "scattergeo"
           }
          ],
          "scattergl": [
           {
            "marker": {
             "colorbar": {
              "outlinewidth": 0,
              "ticks": ""
             }
            },
            "type": "scattergl"
           }
          ],
          "scattermapbox": [
           {
            "marker": {
             "colorbar": {
              "outlinewidth": 0,
              "ticks": ""
             }
            },
            "type": "scattermapbox"
           }
          ],
          "scatterpolar": [
           {
            "marker": {
             "colorbar": {
              "outlinewidth": 0,
              "ticks": ""
             }
            },
            "type": "scatterpolar"
           }
          ],
          "scatterpolargl": [
           {
            "marker": {
             "colorbar": {
              "outlinewidth": 0,
              "ticks": ""
             }
            },
            "type": "scatterpolargl"
           }
          ],
          "scatterternary": [
           {
            "marker": {
             "colorbar": {
              "outlinewidth": 0,
              "ticks": ""
             }
            },
            "type": "scatterternary"
           }
          ],
          "surface": [
           {
            "colorbar": {
             "outlinewidth": 0,
             "ticks": ""
            },
            "colorscale": [
             [
              0,
              "#0d0887"
             ],
             [
              0.1111111111111111,
              "#46039f"
             ],
             [
              0.2222222222222222,
              "#7201a8"
             ],
             [
              0.3333333333333333,
              "#9c179e"
             ],
             [
              0.4444444444444444,
              "#bd3786"
             ],
             [
              0.5555555555555556,
              "#d8576b"
             ],
             [
              0.6666666666666666,
              "#ed7953"
             ],
             [
              0.7777777777777778,
              "#fb9f3a"
             ],
             [
              0.8888888888888888,
              "#fdca26"
             ],
             [
              1,
              "#f0f921"
             ]
            ],
            "type": "surface"
           }
          ],
          "table": [
           {
            "cells": {
             "fill": {
              "color": "#EBF0F8"
             },
             "line": {
              "color": "white"
             }
            },
            "header": {
             "fill": {
              "color": "#C8D4E3"
             },
             "line": {
              "color": "white"
             }
            },
            "type": "table"
           }
          ]
         },
         "layout": {
          "annotationdefaults": {
           "arrowcolor": "#2a3f5f",
           "arrowhead": 0,
           "arrowwidth": 1
          },
          "autotypenumbers": "strict",
          "coloraxis": {
           "colorbar": {
            "outlinewidth": 0,
            "ticks": ""
           }
          },
          "colorscale": {
           "diverging": [
            [
             0,
             "#8e0152"
            ],
            [
             0.1,
             "#c51b7d"
            ],
            [
             0.2,
             "#de77ae"
            ],
            [
             0.3,
             "#f1b6da"
            ],
            [
             0.4,
             "#fde0ef"
            ],
            [
             0.5,
             "#f7f7f7"
            ],
            [
             0.6,
             "#e6f5d0"
            ],
            [
             0.7,
             "#b8e186"
            ],
            [
             0.8,
             "#7fbc41"
            ],
            [
             0.9,
             "#4d9221"
            ],
            [
             1,
             "#276419"
            ]
           ],
           "sequential": [
            [
             0,
             "#0d0887"
            ],
            [
             0.1111111111111111,
             "#46039f"
            ],
            [
             0.2222222222222222,
             "#7201a8"
            ],
            [
             0.3333333333333333,
             "#9c179e"
            ],
            [
             0.4444444444444444,
             "#bd3786"
            ],
            [
             0.5555555555555556,
             "#d8576b"
            ],
            [
             0.6666666666666666,
             "#ed7953"
            ],
            [
             0.7777777777777778,
             "#fb9f3a"
            ],
            [
             0.8888888888888888,
             "#fdca26"
            ],
            [
             1,
             "#f0f921"
            ]
           ],
           "sequentialminus": [
            [
             0,
             "#0d0887"
            ],
            [
             0.1111111111111111,
             "#46039f"
            ],
            [
             0.2222222222222222,
             "#7201a8"
            ],
            [
             0.3333333333333333,
             "#9c179e"
            ],
            [
             0.4444444444444444,
             "#bd3786"
            ],
            [
             0.5555555555555556,
             "#d8576b"
            ],
            [
             0.6666666666666666,
             "#ed7953"
            ],
            [
             0.7777777777777778,
             "#fb9f3a"
            ],
            [
             0.8888888888888888,
             "#fdca26"
            ],
            [
             1,
             "#f0f921"
            ]
           ]
          },
          "colorway": [
           "#636efa",
           "#EF553B",
           "#00cc96",
           "#ab63fa",
           "#FFA15A",
           "#19d3f3",
           "#FF6692",
           "#B6E880",
           "#FF97FF",
           "#FECB52"
          ],
          "font": {
           "color": "#2a3f5f"
          },
          "geo": {
           "bgcolor": "white",
           "lakecolor": "white",
           "landcolor": "#E5ECF6",
           "showlakes": true,
           "showland": true,
           "subunitcolor": "white"
          },
          "hoverlabel": {
           "align": "left"
          },
          "hovermode": "closest",
          "mapbox": {
           "style": "light"
          },
          "paper_bgcolor": "white",
          "plot_bgcolor": "#E5ECF6",
          "polar": {
           "angularaxis": {
            "gridcolor": "white",
            "linecolor": "white",
            "ticks": ""
           },
           "bgcolor": "#E5ECF6",
           "radialaxis": {
            "gridcolor": "white",
            "linecolor": "white",
            "ticks": ""
           }
          },
          "scene": {
           "xaxis": {
            "backgroundcolor": "#E5ECF6",
            "gridcolor": "white",
            "gridwidth": 2,
            "linecolor": "white",
            "showbackground": true,
            "ticks": "",
            "zerolinecolor": "white"
           },
           "yaxis": {
            "backgroundcolor": "#E5ECF6",
            "gridcolor": "white",
            "gridwidth": 2,
            "linecolor": "white",
            "showbackground": true,
            "ticks": "",
            "zerolinecolor": "white"
           },
           "zaxis": {
            "backgroundcolor": "#E5ECF6",
            "gridcolor": "white",
            "gridwidth": 2,
            "linecolor": "white",
            "showbackground": true,
            "ticks": "",
            "zerolinecolor": "white"
           }
          },
          "shapedefaults": {
           "line": {
            "color": "#2a3f5f"
           }
          },
          "ternary": {
           "aaxis": {
            "gridcolor": "white",
            "linecolor": "white",
            "ticks": ""
           },
           "baxis": {
            "gridcolor": "white",
            "linecolor": "white",
            "ticks": ""
           },
           "bgcolor": "#E5ECF6",
           "caxis": {
            "gridcolor": "white",
            "linecolor": "white",
            "ticks": ""
           }
          },
          "title": {
           "x": 0.05
          },
          "xaxis": {
           "automargin": true,
           "gridcolor": "white",
           "linecolor": "white",
           "ticks": "",
           "title": {
            "standoff": 15
           },
           "zerolinecolor": "white",
           "zerolinewidth": 2
          },
          "yaxis": {
           "automargin": true,
           "gridcolor": "white",
           "linecolor": "white",
           "ticks": "",
           "title": {
            "standoff": 15
           },
           "zerolinecolor": "white",
           "zerolinewidth": 2
          }
         }
        }
       }
      },
      "text/html": [
       "<div>                            <div id=\"2797a8b3-19fa-44fd-94f8-626f5809cd90\" class=\"plotly-graph-div\" style=\"height:525px; width:100%;\"></div>            <script type=\"text/javascript\">                require([\"plotly\"], function(Plotly) {                    window.PLOTLYENV=window.PLOTLYENV || {};                                    if (document.getElementById(\"2797a8b3-19fa-44fd-94f8-626f5809cd90\")) {                    Plotly.newPlot(                        \"2797a8b3-19fa-44fd-94f8-626f5809cd90\",                        [{\"hovertemplate\":\"PCA1=%{x}<br>PCA2=%{y}<br>PCA3=%{z}<br>property_segments=%{marker.color}<extra></extra>\",\"legendgroup\":\"\",\"marker\":{\"color\":[3,1,3,2,2,3,3,3,3,3,3,3,3,3,3,3,3,3,3,3,3,3,3,3,3,1,3,3,3,3,1,2,1,1,1,3,3,3,3,3,1,3,3,2,3,3,3,3,1,1,3,2,1,1,2,3,3,2,2,3,1,3,3,0,2,2,2,0,1,2,2,0,0,2,0,1,1,0,0,2,2,0,0,1,2,0,0,0,0,0,0,0,0,1,0,2,2,0,0,0,0,0,0,2,0,2,2,0,0,2,2,0,0,2,0,2,0,0,0,0,0,2,0,2,0,0,0,0,0,2,0,2,0,2,0,0,2,1,1,2,1,2,0,2,0,0,0,2,2,0,0,0,2,0,2,1,1,0,2,0,2,0,2,0,2,0,0,1,2,2,2,1,0,1,0,0,0,2,0,0,0,0,1,0,2,2,0,0,0,2,0,0,0,2,0,0,0,0,0,0,0,2,0,0,0,0,2,0,0,2],\"coloraxis\":\"coloraxis\",\"symbol\":\"circle\"},\"mode\":\"markers\",\"name\":\"\",\"scene\":\"scene\",\"showlegend\":false,\"x\":[0.9059871994780082,2.8250104688472932,0.15617310910090992,-2.1823226389846355,-2.9658826046249676,1.515174378165234,-1.0221213055564105,1.474766801671249,0.13937108322650868,-0.25278474410030394,0.13937108322650868,-0.3988676570413562,0.3457631709634951,1.4334836363898227,0.15988649266717475,0.7464521324186448,0.2376526286125229,0.13903483431180452,0.27910593537930717,-0.23620625598400785,-0.261535002691372,-1.6420735306274892,0.7695877406959483,0.8989621525534736,-1.037299660424683,1.8759162497791164,-0.27589456237938803,0.32291289850632127,-0.3841781358021185,0.28532499308078413,3.9108965090925754,-2.3077358988094265,3.9208014989191016,2.9568697059569784,2.4334898759938466,1.33923665257668,-1.6151649431844883,0.8764425928931064,1.5262175193660843,-0.9231856197827399,2.4334898759938466,-0.8165312318130291,0.8764425928931064,-2.354627057198806,-0.8399314738071971,0.921368224286178,-1.4131167249799634,-0.8298530253729036,3.3556795610121313,4.355053863989897,-1.548435753716792,-2.402999342026113,2.216190197802461,2.01459564267379,-2.402890928583696,0.8270014569359723,-0.49716230273231093,-1.5829419464210555,-1.6735114169401775,-0.5037465391486832,2.1525076133489365,-0.49722139950322536,-0.49405858620049975,0.7776866479984682,-2.3041854965910726,-1.5494847399250173,-1.1407143870787053,-0.48892992256944257,1.765372454601042,-0.9784906824634303,-1.7397800059278177,-0.060704208565996086,1.1766428696563644,-1.8852567525306858,0.44086625903772747,3.86335010877461,3.863309531766411,0.21154628495834507,-0.5688062723507775,-1.7572987199088943,-2.353099800658282,1.1535841985155229,0.024651661169047764,3.348319664197679,-3.0537605563848174,-0.6038185347992062,1.129066367172066,1.3136905914628303,-0.017604957369427132,0.7938118665873618,-0.6097097593085685,0.7351754300537683,-0.6429145916802429,2.285297547725909,0.7514435658231048,-1.3976742772018185,-1.6347119285351681,1.6718795759475182,0.494624295856169,0.548600059038567,-0.07021675770850548,-0.6365322697084493,-0.42545775542121606,-1.0716344035984982,-0.04311939278579709,-1.1884770285359598,-1.2043341308843976,0.12539682474867694,0.6635935507153485,-1.652432858246004,-1.1768991930518176,0.5154345181646091,-0.41689294966265195,-1.774971671267968,0.9419026066046774,-2.5021884057780173,1.0861306266252744,-0.4169715025887792,-0.6227433623564756,-0.08979248091330735,1.4292845995579,-1.3502360733011431,0.10629710985030345,-1.0451731958886554,-0.46714437690976435,0.8717019552858796,0.10605086683830345,0.10521582775336057,1.4273521425077063,-1.6429986643287842,0.6995230455901519,-2.5743820147853373,1.0234853385241258,-1.2304785036321078,1.85156264362994,0.8541038916322469,-2.5710448622996998,2.011108839133399,3.7492119025699147,-2.600646812761995,2.1078997555922996,-1.1199463778100147,0.5128000922733111,-3.1008994381010715,-0.06516917722861276,-0.06764107646221879,0.6796194981123255,-1.8078503565824922,-2.5766406083464353,-0.2431366409912992,0.004902950207711459,-0.4638597128891391,-1.974328255744186,1.0863665958649915,-2.379334188975945,2.5971326676147815,3.2809324616497975,0.9365431449843054,-2.415400432165431,-0.4417916810360849,-1.8716899642183031,-0.005675176021496431,-1.0202572504448797,-0.424779384024641,-1.9821579598177077,0.7269863481496381,1.135642149485602,1.8499411963215446,-1.697411789393397,-2.4941324654010364,-1.9486705459347646,2.040865601764448,-0.4398399370282221,3.168704282594382,-0.04821848809581969,0.10225569034037361,-0.29865537528099423,-1.8137038887548893,0.13957365833122037,1.0844028786368234,0.1324697755505596,0.5283371765350701,2.0609833247797558,0.7155611279911287,-1.1702848989650092,-1.947827782328349,0.15195389919972807,0.7413540546674494,0.565066314114816,-1.7661370833022063,0.9201164341930399,-0.5804385342221956,0.5003995264377201,-1.5785253556955554,0.16889414539210387,0.40040115376438296,1.214787151632249,-0.3647952842394286,1.3825139363856058,0.3521677221381767,-0.36414829707971036,-1.9269342146554624,1.133720296186922,-0.40322525080417937,0.9387164245708578,-0.4231465762104216,-2.4883704244818197,0.3341114314200087,0.608514267153264,-2.3481143554836748],\"y\":[1.6330450244141688,1.4804167287229584,1.6953872118064428,1.8874432763038023,1.9538065292957436,1.4643136817865339,1.6689785952323304,1.4704410974541413,1.57646025387403,1.606586127931047,1.57646025387403,1.7179938460214257,1.6601199098593329,1.5746883026494736,1.6754650793418666,1.6279350933667733,1.6723686119780916,1.6267722927614414,1.6208359966953814,1.6581829569976019,1.6615669868343899,1.55096860351625,1.3530016871655737,1.3460298467674432,1.5007649490386006,1.264825541170237,1.440411710812634,1.4062665318321357,1.4600075375105845,1.4115042902423007,1.1216215066413677,1.618683024056157,1.1201744545065169,1.4373229173706819,1.4746298389012862,1.5610510210038362,1.7996660854590703,1.6015947304421787,1.545667279600156,1.7367017297233511,1.4746298389012862,1.7330723669935564,1.6015947304421787,1.8567362085002996,1.8387047679246689,1.6966941669129252,1.883565586793461,1.8369606238791014,1.5038144170863654,1.4239187702123686,1.8927962475970506,1.4421676206723608,1.0721762619961617,1.0898767833663763,1.4421404025163274,0.758659910474404,0.8633610213852602,0.9453261702778413,0.958715888875168,0.8643401754656718,0.6538510033441047,0.8633758581536158,0.8387846272249291,0.22786783892233806,0.47283610154194744,0.41256608033217157,0.3674094580285124,0.32206380668039497,0.1445188376481281,0.18776782400074554,0.2480072269400933,0.11059997832375949,0.011826738345670908,0.2582090979668731,0.049897840225771053,-0.22229904032787323,-0.2222888531101641,0.07165467454066109,-0.1851513797058984,-0.0877474739875453,-0.03995192385929712,-0.32118176155340494,-0.5439238588949455,-0.8032250071291227,-0.3002154478955882,-0.4911092800998124,-0.628491080249972,-0.6470535221781405,-0.537993131215194,-0.6068401263939992,-0.4901480791077626,-0.6008228412806421,-0.7040587423050464,-0.9427715138379166,-0.8191753593798047,-0.643936929930282,-0.6246817837319731,-0.8915657754530825,-0.7959224675732804,-0.8302137647944828,-0.77775230025108,-0.7339292582180182,-0.7529869879826332,-0.7035391271380349,-0.7817867446794292,-0.6921800605305138,-0.6895281161045494,-0.7949157623279662,-0.8378588560999225,-0.6508630892911613,-0.693910252426168,-0.8289276694770396,-0.7546362568590562,-0.6449043315779444,-0.8639350509083897,-0.5892159015024717,-0.8736731017427913,-0.7546165354504144,-0.8624930465668326,-0.9012423035200698,-1.0224496236739766,-0.8054552842260874,-0.918616460204991,-0.8262513709854954,-0.8733473846548395,-0.9800900995572729,-0.9184249589348448,-0.9181232928349967,-1.0225783480641921,-0.7783189696654934,-0.9666397443643451,-0.7045741221671784,-0.990023570596699,-0.8128778676946977,-1.0578101795241859,-0.9775237312832913,-0.7044852446222004,-1.3315994697182183,-1.4770026260925453,-0.9612086184150525,-1.3344021254073652,-1.0785815979068016,-1.213485101370308,-0.9292767314656522,-1.167848741408234,-1.167428226484463,-1.2261708595682577,-0.8004125894903389,-0.7333840045479746,-0.9236148427855898,-0.9451297635076927,-0.9029459346381565,-0.7826302040961843,-1.0255228261301574,-0.7505583324335278,-1.1489918840998425,-1.198494902071593,-1.0186379787702715,-0.744757611516595,-0.9061701061884369,-0.6431279751560325,-0.787795968807289,-0.7049540155984386,-0.7532987679862329,-0.6255684184946363,-0.8444643434425866,-0.8772051561410477,-0.9344177822892885,-0.6571541762665151,-0.5907536167623536,-0.6311750753136137,-0.9513055987776061,-0.8857546844363144,-1.1710592687617138,-0.9171229717519477,-0.9276623477869341,-0.8960588963093125,-0.7750976934865823,-0.9329351591330259,-1.0089807058893294,-0.9324489129245471,-0.9630734464662314,-1.0866229722825886,-0.6531724771663318,-0.5050039566152398,-0.44249324945966684,-0.6090456039859219,-0.6569344464699374,-0.6431638402869827,-0.4567782770764361,-0.48223738227138574,-0.36372354314929567,-0.447294662469432,-0.29662190519697473,-0.42267931944637144,-0.4446829788690253,-0.5102002457640785,-0.3829483984214829,-0.30884874111470567,-0.22383946076166408,-0.16971369562578328,-0.04166225742003193,-0.2877590233365693,-0.16358108888952597,-0.27108602932934583,-0.16073085379328111,0.11323537441443703,-0.10927901268410613,-0.1379936133557727,0.10513577517294741],\"z\":[1.196228170779663,0.9000513332208894,-0.551613140839144,0.3702042450023626,0.17493432985361299,-0.5553691534550038,-0.08924456350671003,-0.6279079543568136,-0.5646678713271831,0.11118944502899858,-0.5646678713271831,-0.26626184944519005,-0.10919634892046484,0.8630972799663892,-0.5419295041721706,-0.7697520343289714,1.2766325416017927,1.0095802692761109,-0.22410561495147935,0.1348782701222679,0.08786274404638747,0.10123589651728171,-0.6880197202744164,-0.3563471340691805,-0.0946011570175822,0.31557071890819827,0.09415340601822023,-0.1121998548135574,-0.19858227259963776,-0.1808579623021383,0.32626738804945477,0.13612867647785518,0.3442031226195472,-0.339454438894818,0.0008001705074433672,-0.9820650513635175,0.11414247159001441,-0.4339211270264903,-0.5452641223301176,0.07771116312845006,0.0008001705074433672,0.36770617885614454,-0.4339211270264903,-0.03282772059574667,0.3114830368212992,-0.3680360491953228,0.5625735652677324,0.3291876749286506,0.561290876954195,-0.3033196973131872,0.22249322559132426,-0.05713029616009222,-0.4294793919642113,-0.8918400149108093,-0.057136097228049125,-0.4027362938649223,-0.31895172991677584,0.29415939972325916,0.13054687138973511,-0.33036725889001783,-0.48401061724399713,-0.31894856772234254,-0.3095499110567878,-0.4132140361174886,0.35746961918050674,0.5272499396286272,-0.21485898424683414,-0.2299092088630451,0.2781440657993819,0.29713275885049123,0.11010536123798226,2.442623614946782,0.5261216641237185,-0.24975064096308514,0.390550989516221,0.4311772520306869,0.431179423255738,-0.12256240843997743,-0.29893440341851957,0.13029491331492912,0.34085457451442086,-1.047750198661042,-0.46787451396180246,0.9795805159342349,0.30358701707732355,-0.3188352848235525,-1.0479888118549199,0.964974304460437,-0.5460029445785048,-0.26923713424725154,-0.3282572488683986,1.207420339422381,-0.3569195367168549,0.07797235364271082,-0.31589123817066866,-0.5326259725794077,0.5216211769668169,0.25668998382990843,0.7046448701942387,-0.7748964364932451,-0.6026866528656811,-0.34199691616219896,0.13792959147754882,0.20747804958509986,-0.5562669139296537,-0.05250298220127909,-0.08108728295930293,-0.15276088528750195,1.1127369503989517,0.4942047014993927,-0.031034968579601464,0.7455797457391058,0.15223314323447293,0.1747463308902119,0.1336834074819096,0.0500912113810664,0.4897608807768167,0.152237346503482,-0.29952318140632683,-0.623694822610241,-0.2560587753912044,-0.422388752797556,-0.17066879566849644,0.325188127068706,0.08012186515075677,0.022992638283868338,-0.17142379262672916,-0.17290919134373395,-0.2599525252633779,0.5299300185236931,-0.3860079743548586,-0.06200289620331878,0.39641286929878483,-0.1120130802373442,-0.8786145558667724,-0.009420429943834204,-0.04871006758345537,-0.4549701528585518,1.986272419046666,-0.041528314068340406,-0.18311693818149832,0.22376227072561397,-0.784201547498477,0.3097088510982338,-0.5426465726646921,-0.5462540080110271,-0.38513936123274223,0.09078474243536849,-0.061842746650110594,0.5869701435568344,-0.44855639117135615,0.09069553007294913,-0.26017458241063834,-1.0680240254752311,0.3929265843293883,0.866219088582606,0.9113011058254895,0.1444108976707516,0.3286853148028007,0.12972188418720482,-0.09828045428626825,-0.48872742282141524,0.34935651209195084,0.13873129970489562,-0.29558146251143663,-0.35434398261166494,-1.0007335929705268,0.6818067639895236,0.3134825063293991,0.06439484152308216,-0.23590391747727324,1.1230420922046254,0.13350492618609325,-0.9735485638925616,-0.545496737716768,-0.17632005561379951,0.484081697382716,0.12487086834311246,-0.10900837330107087,0.5068639226563398,-0.12310584426017662,-0.7918778900870512,-0.4007388912991729,-0.40169100517766837,-0.045503837796469715,-0.2630517162640501,-0.13219900474331978,-0.3548755757552939,-0.7718781518525777,0.16394098003307653,0.038904699210082105,-0.29489590419708467,0.6658995370827598,0.4733204492623236,-0.12955503429805318,0.3865758144695788,-0.9126889569019079,0.19437187273489032,-0.5405886117616775,0.26806794148395113,0.16370047808026036,-0.28117413197202556,0.4918466972952668,0.09302076450966366,0.04204006988378335,0.057703830306774014,-0.02524536431664481,0.22172780487390792,0.8142065769157018,0.32823105394245095],\"type\":\"scatter3d\"}],                        {\"template\":{\"data\":{\"histogram2dcontour\":[{\"type\":\"histogram2dcontour\",\"colorbar\":{\"outlinewidth\":0,\"ticks\":\"\"},\"colorscale\":[[0.0,\"#0d0887\"],[0.1111111111111111,\"#46039f\"],[0.2222222222222222,\"#7201a8\"],[0.3333333333333333,\"#9c179e\"],[0.4444444444444444,\"#bd3786\"],[0.5555555555555556,\"#d8576b\"],[0.6666666666666666,\"#ed7953\"],[0.7777777777777778,\"#fb9f3a\"],[0.8888888888888888,\"#fdca26\"],[1.0,\"#f0f921\"]]}],\"choropleth\":[{\"type\":\"choropleth\",\"colorbar\":{\"outlinewidth\":0,\"ticks\":\"\"}}],\"histogram2d\":[{\"type\":\"histogram2d\",\"colorbar\":{\"outlinewidth\":0,\"ticks\":\"\"},\"colorscale\":[[0.0,\"#0d0887\"],[0.1111111111111111,\"#46039f\"],[0.2222222222222222,\"#7201a8\"],[0.3333333333333333,\"#9c179e\"],[0.4444444444444444,\"#bd3786\"],[0.5555555555555556,\"#d8576b\"],[0.6666666666666666,\"#ed7953\"],[0.7777777777777778,\"#fb9f3a\"],[0.8888888888888888,\"#fdca26\"],[1.0,\"#f0f921\"]]}],\"heatmap\":[{\"type\":\"heatmap\",\"colorbar\":{\"outlinewidth\":0,\"ticks\":\"\"},\"colorscale\":[[0.0,\"#0d0887\"],[0.1111111111111111,\"#46039f\"],[0.2222222222222222,\"#7201a8\"],[0.3333333333333333,\"#9c179e\"],[0.4444444444444444,\"#bd3786\"],[0.5555555555555556,\"#d8576b\"],[0.6666666666666666,\"#ed7953\"],[0.7777777777777778,\"#fb9f3a\"],[0.8888888888888888,\"#fdca26\"],[1.0,\"#f0f921\"]]}],\"heatmapgl\":[{\"type\":\"heatmapgl\",\"colorbar\":{\"outlinewidth\":0,\"ticks\":\"\"},\"colorscale\":[[0.0,\"#0d0887\"],[0.1111111111111111,\"#46039f\"],[0.2222222222222222,\"#7201a8\"],[0.3333333333333333,\"#9c179e\"],[0.4444444444444444,\"#bd3786\"],[0.5555555555555556,\"#d8576b\"],[0.6666666666666666,\"#ed7953\"],[0.7777777777777778,\"#fb9f3a\"],[0.8888888888888888,\"#fdca26\"],[1.0,\"#f0f921\"]]}],\"contourcarpet\":[{\"type\":\"contourcarpet\",\"colorbar\":{\"outlinewidth\":0,\"ticks\":\"\"}}],\"contour\":[{\"type\":\"contour\",\"colorbar\":{\"outlinewidth\":0,\"ticks\":\"\"},\"colorscale\":[[0.0,\"#0d0887\"],[0.1111111111111111,\"#46039f\"],[0.2222222222222222,\"#7201a8\"],[0.3333333333333333,\"#9c179e\"],[0.4444444444444444,\"#bd3786\"],[0.5555555555555556,\"#d8576b\"],[0.6666666666666666,\"#ed7953\"],[0.7777777777777778,\"#fb9f3a\"],[0.8888888888888888,\"#fdca26\"],[1.0,\"#f0f921\"]]}],\"surface\":[{\"type\":\"surface\",\"colorbar\":{\"outlinewidth\":0,\"ticks\":\"\"},\"colorscale\":[[0.0,\"#0d0887\"],[0.1111111111111111,\"#46039f\"],[0.2222222222222222,\"#7201a8\"],[0.3333333333333333,\"#9c179e\"],[0.4444444444444444,\"#bd3786\"],[0.5555555555555556,\"#d8576b\"],[0.6666666666666666,\"#ed7953\"],[0.7777777777777778,\"#fb9f3a\"],[0.8888888888888888,\"#fdca26\"],[1.0,\"#f0f921\"]]}],\"mesh3d\":[{\"type\":\"mesh3d\",\"colorbar\":{\"outlinewidth\":0,\"ticks\":\"\"}}],\"scatter\":[{\"fillpattern\":{\"fillmode\":\"overlay\",\"size\":10,\"solidity\":0.2},\"type\":\"scatter\"}],\"parcoords\":[{\"type\":\"parcoords\",\"line\":{\"colorbar\":{\"outlinewidth\":0,\"ticks\":\"\"}}}],\"scatterpolargl\":[{\"type\":\"scatterpolargl\",\"marker\":{\"colorbar\":{\"outlinewidth\":0,\"ticks\":\"\"}}}],\"bar\":[{\"error_x\":{\"color\":\"#2a3f5f\"},\"error_y\":{\"color\":\"#2a3f5f\"},\"marker\":{\"line\":{\"color\":\"#E5ECF6\",\"width\":0.5},\"pattern\":{\"fillmode\":\"overlay\",\"size\":10,\"solidity\":0.2}},\"type\":\"bar\"}],\"scattergeo\":[{\"type\":\"scattergeo\",\"marker\":{\"colorbar\":{\"outlinewidth\":0,\"ticks\":\"\"}}}],\"scatterpolar\":[{\"type\":\"scatterpolar\",\"marker\":{\"colorbar\":{\"outlinewidth\":0,\"ticks\":\"\"}}}],\"histogram\":[{\"marker\":{\"pattern\":{\"fillmode\":\"overlay\",\"size\":10,\"solidity\":0.2}},\"type\":\"histogram\"}],\"scattergl\":[{\"type\":\"scattergl\",\"marker\":{\"colorbar\":{\"outlinewidth\":0,\"ticks\":\"\"}}}],\"scatter3d\":[{\"type\":\"scatter3d\",\"line\":{\"colorbar\":{\"outlinewidth\":0,\"ticks\":\"\"}},\"marker\":{\"colorbar\":{\"outlinewidth\":0,\"ticks\":\"\"}}}],\"scattermapbox\":[{\"type\":\"scattermapbox\",\"marker\":{\"colorbar\":{\"outlinewidth\":0,\"ticks\":\"\"}}}],\"scatterternary\":[{\"type\":\"scatterternary\",\"marker\":{\"colorbar\":{\"outlinewidth\":0,\"ticks\":\"\"}}}],\"scattercarpet\":[{\"type\":\"scattercarpet\",\"marker\":{\"colorbar\":{\"outlinewidth\":0,\"ticks\":\"\"}}}],\"carpet\":[{\"aaxis\":{\"endlinecolor\":\"#2a3f5f\",\"gridcolor\":\"white\",\"linecolor\":\"white\",\"minorgridcolor\":\"white\",\"startlinecolor\":\"#2a3f5f\"},\"baxis\":{\"endlinecolor\":\"#2a3f5f\",\"gridcolor\":\"white\",\"linecolor\":\"white\",\"minorgridcolor\":\"white\",\"startlinecolor\":\"#2a3f5f\"},\"type\":\"carpet\"}],\"table\":[{\"cells\":{\"fill\":{\"color\":\"#EBF0F8\"},\"line\":{\"color\":\"white\"}},\"header\":{\"fill\":{\"color\":\"#C8D4E3\"},\"line\":{\"color\":\"white\"}},\"type\":\"table\"}],\"barpolar\":[{\"marker\":{\"line\":{\"color\":\"#E5ECF6\",\"width\":0.5},\"pattern\":{\"fillmode\":\"overlay\",\"size\":10,\"solidity\":0.2}},\"type\":\"barpolar\"}],\"pie\":[{\"automargin\":true,\"type\":\"pie\"}]},\"layout\":{\"autotypenumbers\":\"strict\",\"colorway\":[\"#636efa\",\"#EF553B\",\"#00cc96\",\"#ab63fa\",\"#FFA15A\",\"#19d3f3\",\"#FF6692\",\"#B6E880\",\"#FF97FF\",\"#FECB52\"],\"font\":{\"color\":\"#2a3f5f\"},\"hovermode\":\"closest\",\"hoverlabel\":{\"align\":\"left\"},\"paper_bgcolor\":\"white\",\"plot_bgcolor\":\"#E5ECF6\",\"polar\":{\"bgcolor\":\"#E5ECF6\",\"angularaxis\":{\"gridcolor\":\"white\",\"linecolor\":\"white\",\"ticks\":\"\"},\"radialaxis\":{\"gridcolor\":\"white\",\"linecolor\":\"white\",\"ticks\":\"\"}},\"ternary\":{\"bgcolor\":\"#E5ECF6\",\"aaxis\":{\"gridcolor\":\"white\",\"linecolor\":\"white\",\"ticks\":\"\"},\"baxis\":{\"gridcolor\":\"white\",\"linecolor\":\"white\",\"ticks\":\"\"},\"caxis\":{\"gridcolor\":\"white\",\"linecolor\":\"white\",\"ticks\":\"\"}},\"coloraxis\":{\"colorbar\":{\"outlinewidth\":0,\"ticks\":\"\"}},\"colorscale\":{\"sequential\":[[0.0,\"#0d0887\"],[0.1111111111111111,\"#46039f\"],[0.2222222222222222,\"#7201a8\"],[0.3333333333333333,\"#9c179e\"],[0.4444444444444444,\"#bd3786\"],[0.5555555555555556,\"#d8576b\"],[0.6666666666666666,\"#ed7953\"],[0.7777777777777778,\"#fb9f3a\"],[0.8888888888888888,\"#fdca26\"],[1.0,\"#f0f921\"]],\"sequentialminus\":[[0.0,\"#0d0887\"],[0.1111111111111111,\"#46039f\"],[0.2222222222222222,\"#7201a8\"],[0.3333333333333333,\"#9c179e\"],[0.4444444444444444,\"#bd3786\"],[0.5555555555555556,\"#d8576b\"],[0.6666666666666666,\"#ed7953\"],[0.7777777777777778,\"#fb9f3a\"],[0.8888888888888888,\"#fdca26\"],[1.0,\"#f0f921\"]],\"diverging\":[[0,\"#8e0152\"],[0.1,\"#c51b7d\"],[0.2,\"#de77ae\"],[0.3,\"#f1b6da\"],[0.4,\"#fde0ef\"],[0.5,\"#f7f7f7\"],[0.6,\"#e6f5d0\"],[0.7,\"#b8e186\"],[0.8,\"#7fbc41\"],[0.9,\"#4d9221\"],[1,\"#276419\"]]},\"xaxis\":{\"gridcolor\":\"white\",\"linecolor\":\"white\",\"ticks\":\"\",\"title\":{\"standoff\":15},\"zerolinecolor\":\"white\",\"automargin\":true,\"zerolinewidth\":2},\"yaxis\":{\"gridcolor\":\"white\",\"linecolor\":\"white\",\"ticks\":\"\",\"title\":{\"standoff\":15},\"zerolinecolor\":\"white\",\"automargin\":true,\"zerolinewidth\":2},\"scene\":{\"xaxis\":{\"backgroundcolor\":\"#E5ECF6\",\"gridcolor\":\"white\",\"linecolor\":\"white\",\"showbackground\":true,\"ticks\":\"\",\"zerolinecolor\":\"white\",\"gridwidth\":2},\"yaxis\":{\"backgroundcolor\":\"#E5ECF6\",\"gridcolor\":\"white\",\"linecolor\":\"white\",\"showbackground\":true,\"ticks\":\"\",\"zerolinecolor\":\"white\",\"gridwidth\":2},\"zaxis\":{\"backgroundcolor\":\"#E5ECF6\",\"gridcolor\":\"white\",\"linecolor\":\"white\",\"showbackground\":true,\"ticks\":\"\",\"zerolinecolor\":\"white\",\"gridwidth\":2}},\"shapedefaults\":{\"line\":{\"color\":\"#2a3f5f\"}},\"annotationdefaults\":{\"arrowcolor\":\"#2a3f5f\",\"arrowhead\":0,\"arrowwidth\":1},\"geo\":{\"bgcolor\":\"white\",\"landcolor\":\"#E5ECF6\",\"subunitcolor\":\"white\",\"showland\":true,\"showlakes\":true,\"lakecolor\":\"white\"},\"title\":{\"x\":0.05},\"mapbox\":{\"style\":\"light\"}}},\"scene\":{\"domain\":{\"x\":[0.0,1.0],\"y\":[0.0,1.0]},\"xaxis\":{\"title\":{\"text\":\"PCA1\"}},\"yaxis\":{\"title\":{\"text\":\"PCA2\"}},\"zaxis\":{\"title\":{\"text\":\"PCA3\"}}},\"coloraxis\":{\"colorbar\":{\"title\":{\"text\":\"property_segments\"}},\"colorscale\":[[0.0,\"#0d0887\"],[0.1111111111111111,\"#46039f\"],[0.2222222222222222,\"#7201a8\"],[0.3333333333333333,\"#9c179e\"],[0.4444444444444444,\"#bd3786\"],[0.5555555555555556,\"#d8576b\"],[0.6666666666666666,\"#ed7953\"],[0.7777777777777778,\"#fb9f3a\"],[0.8888888888888888,\"#fdca26\"],[1.0,\"#f0f921\"]]},\"legend\":{\"tracegroupgap\":0},\"margin\":{\"t\":60}},                        {\"responsive\": true}                    ).then(function(){\n",
       "                            \n",
       "var gd = document.getElementById('2797a8b3-19fa-44fd-94f8-626f5809cd90');\n",
       "var x = new MutationObserver(function (mutations, observer) {{\n",
       "        var display = window.getComputedStyle(gd).display;\n",
       "        if (!display || display === 'none') {{\n",
       "            console.log([gd, 'removed!']);\n",
       "            Plotly.purge(gd);\n",
       "            observer.disconnect();\n",
       "        }}\n",
       "}});\n",
       "\n",
       "// Listen for the removal of the full notebook cells\n",
       "var notebookContainer = gd.closest('#notebook-container');\n",
       "if (notebookContainer) {{\n",
       "    x.observe(notebookContainer, {childList: true});\n",
       "}}\n",
       "\n",
       "// Listen for the clearing of the current output cell\n",
       "var outputEl = gd.closest('.output');\n",
       "if (outputEl) {{\n",
       "    x.observe(outputEl, {childList: true});\n",
       "}}\n",
       "\n",
       "                        })                };                });            </script>        </div>"
      ]
     },
     "metadata": {},
     "output_type": "display_data"
    }
   ],
   "source": [
    "# Plot the clusters\n",
    "# propertyChi_pca_predictions_df.hvplot.scatter(\n",
    "#     x=\"PCA1\",\n",
    "#     y=\"PCA2\",\n",
    "#     by=\"property_segments\"\n",
    "# )\n",
    "\n",
    "import plotly.express as px\n",
    "\n",
    "fig = px.scatter_3d(propertyNY_pca_predictions_df, x='PCA1', y='PCA2', z='PCA3',\n",
    "              color='property_segments')\n",
    "fig.show()"
   ]
  },
  {
   "cell_type": "code",
   "execution_count": 100,
   "id": "5b53a096",
   "metadata": {},
   "outputs": [
    {
     "data": {
      "text/html": [
       "<div>\n",
       "<style scoped>\n",
       "    .dataframe tbody tr th:only-of-type {\n",
       "        vertical-align: middle;\n",
       "    }\n",
       "\n",
       "    .dataframe tbody tr th {\n",
       "        vertical-align: top;\n",
       "    }\n",
       "\n",
       "    .dataframe thead th {\n",
       "        text-align: right;\n",
       "    }\n",
       "</style>\n",
       "<table border=\"1\" class=\"dataframe\">\n",
       "  <thead>\n",
       "    <tr style=\"text-align: right;\">\n",
       "      <th></th>\n",
       "      <th>Address</th>\n",
       "      <th>City</th>\n",
       "      <th>Zip</th>\n",
       "      <th>SoldDate</th>\n",
       "      <th>Bathrooms</th>\n",
       "      <th>Bedrooms</th>\n",
       "      <th>LivingArea</th>\n",
       "      <th>LandArea</th>\n",
       "      <th>PropPrice</th>\n",
       "      <th>InflationRate</th>\n",
       "      <th>FederalInt</th>\n",
       "      <th>MonthID</th>\n",
       "      <th>property_segments</th>\n",
       "    </tr>\n",
       "  </thead>\n",
       "  <tbody>\n",
       "    <tr>\n",
       "      <th>1881</th>\n",
       "      <td>58-37 Waldron Street</td>\n",
       "      <td>Corona</td>\n",
       "      <td>11368</td>\n",
       "      <td>2/15/24</td>\n",
       "      <td>6.0</td>\n",
       "      <td>6</td>\n",
       "      <td>3980</td>\n",
       "      <td>3000.0</td>\n",
       "      <td>1115000</td>\n",
       "      <td>3.10</td>\n",
       "      <td>5.33</td>\n",
       "      <td>2</td>\n",
       "      <td>2</td>\n",
       "    </tr>\n",
       "    <tr>\n",
       "      <th>1882</th>\n",
       "      <td>110-44 Corona Avenue</td>\n",
       "      <td>Flushing</td>\n",
       "      <td>11368</td>\n",
       "      <td>2/12/24</td>\n",
       "      <td>7.0</td>\n",
       "      <td>9</td>\n",
       "      <td>4590</td>\n",
       "      <td>1920.0</td>\n",
       "      <td>1100000</td>\n",
       "      <td>3.10</td>\n",
       "      <td>5.33</td>\n",
       "      <td>2</td>\n",
       "      <td>1</td>\n",
       "    </tr>\n",
       "    <tr>\n",
       "      <th>1883</th>\n",
       "      <td>108-34 50th Avenue</td>\n",
       "      <td>Flushing</td>\n",
       "      <td>11368</td>\n",
       "      <td>2/6/24</td>\n",
       "      <td>2.0</td>\n",
       "      <td>6</td>\n",
       "      <td>1890</td>\n",
       "      <td>2500.0</td>\n",
       "      <td>998000</td>\n",
       "      <td>3.10</td>\n",
       "      <td>5.33</td>\n",
       "      <td>2</td>\n",
       "      <td>2</td>\n",
       "    </tr>\n",
       "    <tr>\n",
       "      <th>1884</th>\n",
       "      <td>10440 Alstyne Ave</td>\n",
       "      <td>Flushing</td>\n",
       "      <td>11368</td>\n",
       "      <td>1/26/24</td>\n",
       "      <td>2.0</td>\n",
       "      <td>2</td>\n",
       "      <td>1162</td>\n",
       "      <td>2450.0</td>\n",
       "      <td>870000</td>\n",
       "      <td>3.09</td>\n",
       "      <td>5.33</td>\n",
       "      <td>1</td>\n",
       "      <td>3</td>\n",
       "    </tr>\n",
       "    <tr>\n",
       "      <th>1885</th>\n",
       "      <td>99-02 Christie Avenue UNIT 1A</td>\n",
       "      <td>Flushing</td>\n",
       "      <td>11368</td>\n",
       "      <td>1/10/24</td>\n",
       "      <td>1.0</td>\n",
       "      <td>1</td>\n",
       "      <td>597</td>\n",
       "      <td>33976.8</td>\n",
       "      <td>325000</td>\n",
       "      <td>3.09</td>\n",
       "      <td>5.33</td>\n",
       "      <td>1</td>\n",
       "      <td>3</td>\n",
       "    </tr>\n",
       "  </tbody>\n",
       "</table>\n",
       "</div>"
      ],
      "text/plain": [
       "                            Address      City    Zip SoldDate  Bathrooms  \\\n",
       "1881           58-37 Waldron Street    Corona  11368  2/15/24        6.0   \n",
       "1882           110-44 Corona Avenue  Flushing  11368  2/12/24        7.0   \n",
       "1883             108-34 50th Avenue  Flushing  11368   2/6/24        2.0   \n",
       "1884              10440 Alstyne Ave  Flushing  11368  1/26/24        2.0   \n",
       "1885  99-02 Christie Avenue UNIT 1A  Flushing  11368  1/10/24        1.0   \n",
       "\n",
       "      Bedrooms  LivingArea  LandArea  PropPrice  InflationRate  FederalInt  \\\n",
       "1881         6        3980    3000.0    1115000           3.10        5.33   \n",
       "1882         9        4590    1920.0    1100000           3.10        5.33   \n",
       "1883         6        1890    2500.0     998000           3.10        5.33   \n",
       "1884         2        1162    2450.0     870000           3.09        5.33   \n",
       "1885         1         597   33976.8     325000           3.09        5.33   \n",
       "\n",
       "      MonthID  property_segments  \n",
       "1881        2                  2  \n",
       "1882        2                  1  \n",
       "1883        2                  2  \n",
       "1884        1                  3  \n",
       "1885        1                  3  "
      ]
     },
     "execution_count": 100,
     "metadata": {},
     "output_type": "execute_result"
    }
   ],
   "source": [
    "# Define the model Kmeans model using k=3 clusters\n",
    "model = KMeans(n_clusters=4, random_state=0)\n",
    "\n",
    "# Fit the model\n",
    "model.fit(df_NY)\n",
    "\n",
    "# Make predictions\n",
    "k_4 = model.predict(df_NY)\n",
    "\n",
    "# Create a copy of the customers_transformed_df DataFrame\n",
    "df_NY_predictions = df_NY.copy()\n",
    "df_NY_Orig_Pred= df_NY_Orig.copy()\n",
    "# Add a class column with the labels\n",
    "df_NY_predictions[\"property_segments\"] = k_4\n",
    "df_NY_Orig_Pred[\"property_segments\"] = k_4\n",
    "df_NY_Orig_Pred.head()"
   ]
  },
  {
   "cell_type": "code",
   "execution_count": 106,
   "id": "25c11d15",
   "metadata": {},
   "outputs": [
    {
     "data": {},
     "metadata": {},
     "output_type": "display_data"
    },
    {
     "data": {
      "application/vnd.holoviews_exec.v0+json": "",
      "text/html": [
       "<div id='2552'>\n",
       "  <div class=\"bk-root\" id=\"242cc9e5-c1f0-4749-8690-88d3c0494223\" data-root-id=\"2552\"></div>\n",
       "</div>\n",
       "<script type=\"application/javascript\">(function(root) {\n",
       "  function embed_document(root) {\n",
       "    var docs_json = {\"7acc5799-5799-4ab7-b0b9-7a6036c28892\":{\"defs\":[{\"extends\":null,\"module\":null,\"name\":\"ReactiveHTML1\",\"overrides\":[],\"properties\":[]},{\"extends\":null,\"module\":null,\"name\":\"FlexBox1\",\"overrides\":[],\"properties\":[{\"default\":\"flex-start\",\"kind\":null,\"name\":\"align_content\"},{\"default\":\"flex-start\",\"kind\":null,\"name\":\"align_items\"},{\"default\":\"row\",\"kind\":null,\"name\":\"flex_direction\"},{\"default\":\"wrap\",\"kind\":null,\"name\":\"flex_wrap\"},{\"default\":\"flex-start\",\"kind\":null,\"name\":\"justify_content\"}]},{\"extends\":null,\"module\":null,\"name\":\"GridStack1\",\"overrides\":[],\"properties\":[{\"default\":\"warn\",\"kind\":null,\"name\":\"mode\"},{\"default\":null,\"kind\":null,\"name\":\"ncols\"},{\"default\":null,\"kind\":null,\"name\":\"nrows\"},{\"default\":true,\"kind\":null,\"name\":\"allow_resize\"},{\"default\":true,\"kind\":null,\"name\":\"allow_drag\"},{\"default\":[],\"kind\":null,\"name\":\"state\"}]},{\"extends\":null,\"module\":null,\"name\":\"click1\",\"overrides\":[],\"properties\":[{\"default\":\"\",\"kind\":null,\"name\":\"terminal_output\"},{\"default\":\"\",\"kind\":null,\"name\":\"debug_name\"},{\"default\":0,\"kind\":null,\"name\":\"clears\"}]},{\"extends\":null,\"module\":null,\"name\":\"NotificationAreaBase1\",\"overrides\":[],\"properties\":[{\"default\":\"bottom-right\",\"kind\":null,\"name\":\"position\"},{\"default\":0,\"kind\":null,\"name\":\"_clear\"}]},{\"extends\":null,\"module\":null,\"name\":\"NotificationArea1\",\"overrides\":[],\"properties\":[{\"default\":[],\"kind\":null,\"name\":\"notifications\"},{\"default\":\"bottom-right\",\"kind\":null,\"name\":\"position\"},{\"default\":0,\"kind\":null,\"name\":\"_clear\"},{\"default\":[{\"background\":\"#ffc107\",\"icon\":{\"className\":\"fas fa-exclamation-triangle\",\"color\":\"white\",\"tagName\":\"i\"},\"type\":\"warning\"},{\"background\":\"#007bff\",\"icon\":{\"className\":\"fas fa-info-circle\",\"color\":\"white\",\"tagName\":\"i\"},\"type\":\"info\"}],\"kind\":null,\"name\":\"types\"}]},{\"extends\":null,\"module\":null,\"name\":\"Notification\",\"overrides\":[],\"properties\":[{\"default\":null,\"kind\":null,\"name\":\"background\"},{\"default\":3000,\"kind\":null,\"name\":\"duration\"},{\"default\":null,\"kind\":null,\"name\":\"icon\"},{\"default\":\"\",\"kind\":null,\"name\":\"message\"},{\"default\":null,\"kind\":null,\"name\":\"notification_type\"},{\"default\":false,\"kind\":null,\"name\":\"_destroyed\"}]},{\"extends\":null,\"module\":null,\"name\":\"TemplateActions1\",\"overrides\":[],\"properties\":[{\"default\":0,\"kind\":null,\"name\":\"open_modal\"},{\"default\":0,\"kind\":null,\"name\":\"close_modal\"}]},{\"extends\":null,\"module\":null,\"name\":\"MaterialTemplateActions1\",\"overrides\":[],\"properties\":[{\"default\":0,\"kind\":null,\"name\":\"open_modal\"},{\"default\":0,\"kind\":null,\"name\":\"close_modal\"}]}],\"roots\":{\"references\":[{\"attributes\":{},\"id\":\"2574\",\"type\":\"BasicTicker\"},{\"attributes\":{\"source\":{\"id\":\"2617\"}},\"id\":\"2624\",\"type\":\"CDSView\"},{\"attributes\":{\"axis\":{\"id\":\"2573\"},\"coordinates\":null,\"dimension\":1,\"grid_line_color\":null,\"group\":null,\"ticker\":null},\"id\":\"2576\",\"type\":\"Grid\"},{\"attributes\":{},\"id\":\"2634\",\"type\":\"UnionRenderers\"},{\"attributes\":{\"data\":{\"Address\":[\"10440 Alstyne Ave\",\"99-02 Christie Avenue UNIT 1A\",\"11219 39th Ave #4B\",\"5516 108th St\",\"10005 37th Ave APT 2A\",\"100-05 37th Avenue UNIT 2A\",\"5520 98th St\",\"4714 Junction Blvd\",\"10607 Northern Blvd #5B\",\"4712 99th St\",\"5631 Van Doren St\",\"10441 37th Rd\",\"5803 Waldron St\",\"10111 Martense Ave\",\"5733 Xenia St\",\"108-31 50th Avenue UNIT 2A\",\"108-70 48th Avenue\",\"10821 37th Dr\",\"3416 111th St\",\"4048 Junction Blvd\",\"4009 97th St\",\"50-21 102 Street\",\"108-21 37th Drive\",\"34-22 110 Street\",\"5812 Van Cleef St\",\"37-41 97th Street\",\"10236 47th Ave\",\"9718 43rd Ave\",\"10818 34th Ave\",\"11157 41st Ave\",\"5524 98th St\",\"107-16 37th Avenue UNIT 4B\",\"5108 101st St\",\"45-30 National Street\",\"10370 52nd Ave\",\"5829 Van Cleef St\",\"111-57 41st Avenue\",\"108-21 44 Avenue\",\"112-25 38th Avenue\",\"112-19 39th Avenue UNIT 4A\",\"3827 99th St\",\"5322 97th Street\",\"10869 49th Ave\",\"10854 48th Ave\",\"10467 39th Ave\",\"112-27 39 Avenue\",\"111-31 42nd Avenue\",\"10012 34th Ave\",\"3721 101st St\",\"5038 96th St\",\"5614 Van Cleef St\",\"11185 41st Ave\",\"10854 45th Ave\",\"104-64 39th Avenue UNIT 2B\"],\"Bedrooms\":[2,1,2,2,2,2,3,3,2,3,4,4,3,3,3,2,1,4,3,4,4,4,3,4,3,2,4,4,3,2,4,2,2,4,1,3,2,3,2,2,3,4,3,3,2,3,3,4,3,3,3,3,2,2],\"PropPrice\":[870000,325000,413000,1200000,438000,438000,330000,200000,530000,722000,1230000,980000,1450000,765000,10,585000,1550000,795000,1125000,1301000,1125000,812000,795000,1189000,900000,999000,98000,10,621000,660000,1560000,499500,555000,720000,1220000,20000,660000,575000,830000,380000,1379000,1138000,170000,1685000,1328000,800000,795000,810000,1320000,936790,2550000,726000,880000,452000],\"SoldDate\":[\"1/26/24\",\"1/10/24\",\"8/4/23\",\"7/3/23\",\"5/30/23\",\"5/11/23\",\"4/20/23\",\"4/20/23\",\"2/21/23\",\"2/9/23\",\"2/8/23\",\"1/25/23\",\"1/19/23\",\"1/6/23\",\"11/14/22\",\"11/3/22\",\"10/28/22\",\"9/9/22\",\"9/7/22\",\"8/17/22\",\"8/16/22\",\"8/16/22\",\"8/15/22\",\"8/12/22\",\"8/8/22\",\"8/5/22\",\"7/18/22\",\"7/15/22\",\"7/7/22\",\"7/7/22\",\"7/5/22\",\"7/1/22\",\"6/22/22\",\"6/13/22\",\"6/10/22\",\"5/31/22\",\"5/31/22\",\"5/25/22\",\"5/23/22\",\"5/9/22\",\"4/29/22\",\"4/28/22\",\"4/25/22\",\"4/14/22\",\"4/7/22\",\"4/5/22\",\"3/8/22\",\"2/17/22\",\"2/15/22\",\"2/2/22\",\"1/13/22\",\"12/23/21\",\"11/18/21\",\"11/16/21\"],\"property_segments\":[3,3,3,3,3,3,3,3,3,3,3,3,3,3,3,3,3,3,3,3,3,3,3,3,3,3,3,3,3,3,3,3,3,3,3,3,3,3,3,3,3,3,3,3,3,3,3,3,3,3,3,3,3,3]},\"selected\":{\"id\":\"2664\"},\"selection_policy\":{\"id\":\"2684\"}},\"id\":\"2663\",\"type\":\"ColumnDataSource\"},{\"attributes\":{},\"id\":\"2597\",\"type\":\"Selection\"},{\"attributes\":{\"label\":{\"value\":\"1\"},\"renderers\":[{\"id\":\"2623\"}]},\"id\":\"2637\",\"type\":\"LegendItem\"},{\"attributes\":{\"end\":12.471428571428572,\"reset_end\":12.471428571428572,\"reset_start\":0.5285714285714286,\"start\":0.5285714285714286,\"tags\":[[[\"Bedrooms\",\"Bedrooms\",null]]]},\"id\":\"2554\",\"type\":\"Range1d\"},{\"attributes\":{\"callback\":null,\"renderers\":[{\"id\":\"2602\"},{\"id\":\"2623\"},{\"id\":\"2645\"},{\"id\":\"2669\"}],\"tags\":[\"hv_created\"],\"tooltips\":[[\"property_segments\",\"@{property_segments}\"],[\"Bedrooms\",\"@{Bedrooms}\"],[\"PropPrice\",\"@{PropPrice}\"],[\"Address\",\"@{Address}\"],[\"SoldDate\",\"@{SoldDate}\"]]},\"id\":\"2556\",\"type\":\"HoverTool\"},{\"attributes\":{},\"id\":\"2595\",\"type\":\"AllLabels\"},{\"attributes\":{},\"id\":\"2592\",\"type\":\"AllLabels\"},{\"attributes\":{\"fill_alpha\":{\"value\":0.2},\"fill_color\":{\"value\":\"#30a2da\"},\"hatch_alpha\":{\"value\":0.2},\"hatch_color\":{\"value\":\"#30a2da\"},\"line_alpha\":{\"value\":0.2},\"line_color\":{\"value\":\"#30a2da\"},\"size\":{\"value\":5.477225575051661},\"x\":{\"field\":\"Bedrooms\"},\"y\":{\"field\":\"PropPrice\"}},\"id\":\"2601\",\"type\":\"Scatter\"},{\"attributes\":{\"angle\":{\"value\":0.0},\"fill_alpha\":{\"value\":1.0},\"fill_color\":{\"value\":\"#fc4f30\"},\"hatch_alpha\":{\"value\":1.0},\"hatch_color\":{\"value\":\"#fc4f30\"},\"hatch_scale\":{\"value\":12.0},\"hatch_weight\":{\"value\":1.0},\"line_alpha\":{\"value\":1.0},\"line_cap\":{\"value\":\"butt\"},\"line_color\":{\"value\":\"#fc4f30\"},\"line_dash\":{\"value\":[]},\"line_dash_offset\":{\"value\":0},\"line_join\":{\"value\":\"bevel\"},\"line_width\":{\"value\":1},\"marker\":{\"value\":\"circle\"},\"size\":{\"value\":5.477225575051661},\"x\":{\"field\":\"Bedrooms\"},\"y\":{\"field\":\"PropPrice\"}},\"id\":\"2638\",\"type\":\"Scatter\"},{\"attributes\":{},\"id\":\"2577\",\"type\":\"SaveTool\"},{\"attributes\":{\"end\":3189999.0,\"reset_end\":3189999.0,\"reset_start\":-289989.0,\"start\":-289989.0,\"tags\":[[[\"PropPrice\",\"PropPrice\",null]]]},\"id\":\"2555\",\"type\":\"Range1d\"},{\"attributes\":{\"angle\":{\"value\":0.0},\"fill_alpha\":{\"value\":1.0},\"fill_color\":{\"value\":\"#6d904f\"},\"hatch_alpha\":{\"value\":1.0},\"hatch_color\":{\"value\":\"#6d904f\"},\"hatch_scale\":{\"value\":12.0},\"hatch_weight\":{\"value\":1.0},\"line_alpha\":{\"value\":1.0},\"line_cap\":{\"value\":\"butt\"},\"line_color\":{\"value\":\"#6d904f\"},\"line_dash\":{\"value\":[]},\"line_dash_offset\":{\"value\":0},\"line_join\":{\"value\":\"bevel\"},\"line_width\":{\"value\":1},\"marker\":{\"value\":\"circle\"},\"size\":{\"value\":5.477225575051661},\"x\":{\"field\":\"Bedrooms\"},\"y\":{\"field\":\"PropPrice\"}},\"id\":\"2688\",\"type\":\"Scatter\"},{\"attributes\":{},\"id\":\"2578\",\"type\":\"PanTool\"},{\"attributes\":{},\"id\":\"2640\",\"type\":\"Selection\"},{\"attributes\":{\"fill_color\":{\"value\":\"#e5ae38\"},\"hatch_color\":{\"value\":\"#e5ae38\"},\"line_color\":{\"value\":\"#e5ae38\"},\"size\":{\"value\":5.477225575051661},\"x\":{\"field\":\"Bedrooms\"},\"y\":{\"field\":\"PropPrice\"}},\"id\":\"2642\",\"type\":\"Scatter\"},{\"attributes\":{\"margin\":[5,5,5,5],\"name\":\"HSpacer02765\",\"sizing_mode\":\"stretch_width\"},\"id\":\"2553\",\"type\":\"Spacer\"},{\"attributes\":{\"margin\":[5,5,5,5],\"name\":\"HSpacer02766\",\"sizing_mode\":\"stretch_width\"},\"id\":\"2705\",\"type\":\"Spacer\"},{\"attributes\":{},\"id\":\"2579\",\"type\":\"WheelZoomTool\"},{\"attributes\":{},\"id\":\"2658\",\"type\":\"UnionRenderers\"},{\"attributes\":{\"tools\":[{\"id\":\"2556\"},{\"id\":\"2577\"},{\"id\":\"2578\"},{\"id\":\"2579\"},{\"id\":\"2580\"},{\"id\":\"2581\"}]},\"id\":\"2583\",\"type\":\"Toolbar\"},{\"attributes\":{\"source\":{\"id\":\"2639\"}},\"id\":\"2646\",\"type\":\"CDSView\"},{\"attributes\":{\"overlay\":{\"id\":\"2582\"}},\"id\":\"2580\",\"type\":\"BoxZoomTool\"},{\"attributes\":{\"fill_alpha\":{\"value\":0.1},\"fill_color\":{\"value\":\"#e5ae38\"},\"hatch_alpha\":{\"value\":0.1},\"hatch_color\":{\"value\":\"#e5ae38\"},\"line_alpha\":{\"value\":0.1},\"line_color\":{\"value\":\"#e5ae38\"},\"size\":{\"value\":5.477225575051661},\"x\":{\"field\":\"Bedrooms\"},\"y\":{\"field\":\"PropPrice\"}},\"id\":\"2643\",\"type\":\"Scatter\"},{\"attributes\":{\"fill_alpha\":{\"value\":0.2},\"fill_color\":{\"value\":\"#e5ae38\"},\"hatch_alpha\":{\"value\":0.2},\"hatch_color\":{\"value\":\"#e5ae38\"},\"line_alpha\":{\"value\":0.2},\"line_color\":{\"value\":\"#e5ae38\"},\"size\":{\"value\":5.477225575051661},\"x\":{\"field\":\"Bedrooms\"},\"y\":{\"field\":\"PropPrice\"}},\"id\":\"2644\",\"type\":\"Scatter\"},{\"attributes\":{},\"id\":\"2581\",\"type\":\"ResetTool\"},{\"attributes\":{},\"id\":\"2591\",\"type\":\"BasicTickFormatter\"},{\"attributes\":{\"bottom_units\":\"screen\",\"coordinates\":null,\"fill_alpha\":0.5,\"fill_color\":\"lightgrey\",\"group\":null,\"left_units\":\"screen\",\"level\":\"overlay\",\"line_alpha\":1.0,\"line_color\":\"black\",\"line_dash\":[4,4],\"line_width\":2,\"right_units\":\"screen\",\"syncable\":false,\"top_units\":\"screen\"},\"id\":\"2582\",\"type\":\"BoxAnnotation\"},{\"attributes\":{\"children\":[{\"id\":\"2553\"},{\"id\":\"2560\"},{\"id\":\"2705\"}],\"margin\":[0,0,0,0],\"name\":\"Row02761\",\"tags\":[\"embedded\"]},\"id\":\"2552\",\"type\":\"Row\"},{\"attributes\":{},\"id\":\"2611\",\"type\":\"UnionRenderers\"},{\"attributes\":{\"coordinates\":null,\"data_source\":{\"id\":\"2639\"},\"glyph\":{\"id\":\"2642\"},\"group\":null,\"hover_glyph\":null,\"muted_glyph\":{\"id\":\"2644\"},\"nonselection_glyph\":{\"id\":\"2643\"},\"selection_glyph\":{\"id\":\"2662\"},\"view\":{\"id\":\"2646\"}},\"id\":\"2645\",\"type\":\"GlyphRenderer\"},{\"attributes\":{\"label\":{\"value\":\"2\"},\"renderers\":[{\"id\":\"2645\"}]},\"id\":\"2661\",\"type\":\"LegendItem\"},{\"attributes\":{\"fill_color\":{\"value\":\"#30a2da\"},\"hatch_color\":{\"value\":\"#30a2da\"},\"line_color\":{\"value\":\"#30a2da\"},\"size\":{\"value\":5.477225575051661},\"x\":{\"field\":\"Bedrooms\"},\"y\":{\"field\":\"PropPrice\"}},\"id\":\"2599\",\"type\":\"Scatter\"},{\"attributes\":{\"fill_alpha\":{\"value\":0.1},\"fill_color\":{\"value\":\"#30a2da\"},\"hatch_alpha\":{\"value\":0.1},\"hatch_color\":{\"value\":\"#30a2da\"},\"line_alpha\":{\"value\":0.1},\"line_color\":{\"value\":\"#30a2da\"},\"size\":{\"value\":5.477225575051661},\"x\":{\"field\":\"Bedrooms\"},\"y\":{\"field\":\"PropPrice\"}},\"id\":\"2600\",\"type\":\"Scatter\"},{\"attributes\":{\"angle\":{\"value\":0.0},\"fill_alpha\":{\"value\":1.0},\"fill_color\":{\"value\":\"#e5ae38\"},\"hatch_alpha\":{\"value\":1.0},\"hatch_color\":{\"value\":\"#e5ae38\"},\"hatch_scale\":{\"value\":12.0},\"hatch_weight\":{\"value\":1.0},\"line_alpha\":{\"value\":1.0},\"line_cap\":{\"value\":\"butt\"},\"line_color\":{\"value\":\"#e5ae38\"},\"line_dash\":{\"value\":[]},\"line_dash_offset\":{\"value\":0},\"line_join\":{\"value\":\"bevel\"},\"line_width\":{\"value\":1},\"marker\":{\"value\":\"circle\"},\"size\":{\"value\":5.477225575051661},\"x\":{\"field\":\"Bedrooms\"},\"y\":{\"field\":\"PropPrice\"}},\"id\":\"2662\",\"type\":\"Scatter\"},{\"attributes\":{\"fill_alpha\":{\"value\":0.2},\"fill_color\":{\"value\":\"#fc4f30\"},\"hatch_alpha\":{\"value\":0.2},\"hatch_color\":{\"value\":\"#fc4f30\"},\"line_alpha\":{\"value\":0.2},\"line_color\":{\"value\":\"#fc4f30\"},\"size\":{\"value\":5.477225575051661},\"x\":{\"field\":\"Bedrooms\"},\"y\":{\"field\":\"PropPrice\"}},\"id\":\"2622\",\"type\":\"Scatter\"},{\"attributes\":{},\"id\":\"2664\",\"type\":\"Selection\"},{\"attributes\":{\"source\":{\"id\":\"2596\"}},\"id\":\"2603\",\"type\":\"CDSView\"},{\"attributes\":{\"data\":{\"Address\":[\"110-44 Corona Avenue\",\"54-13 102 Street\",\"10869 53rd Ave\",\"108-69 53rd Avenue\",\"10002 37th Ave\",\"11024 55th Ave\",\"110-24 55th Avenue\",\"50-32 97th Street\",\"3475 111th St\",\"40-48 100th Street\",\"56-33 Waldron Street\",\"3763 100th Street\",\"10856 50th Ave\",\"3751 108th St\",\"37-51 108th Street\",\"5729 Van Doren St\",\"57-14 Xenia Street\",\"10948 Corona Ave\",\"3425 101st St\",\"9604 50th Ave\",\"111-13 38 Avenue\",\"34-10 111th St\",\"111-61 44th Avenue\",\"5203 102nd St\",\"10342 51st Ave\",\"10320 Corona Ave\",\"3727 103rd St\",\"104-36 37th Drive\"],\"Bedrooms\":[9,8,11,11,10,9,9,10,12,9,9,9,8,11,11,10,9,8,9,9,10,9,9,10,8,8,11,9],\"PropPrice\":[1100000,1480000,1580000,1580000,1080000,1500000,1500000,1850000,1325000,1300000,1235000,1450000,1320814,1950000,1950000,150000,1930000,1720000,1355000,1350000,2300000,1770000,1800000,1800000,1320000,2000000,1550000,1660000],\"SoldDate\":[\"2/12/24\",\"9/20/23\",\"8/11/23\",\"8/3/23\",\"7/31/23\",\"7/27/23\",\"7/11/23\",\"6/14/23\",\"6/9/23\",\"5/24/23\",\"5/23/23\",\"4/19/23\",\"2/2/23\",\"12/15/22\",\"12/8/22\",\"10/28/22\",\"9/21/22\",\"9/2/22\",\"7/1/22\",\"6/29/22\",\"6/24/22\",\"6/14/22\",\"5/19/22\",\"5/12/22\",\"4/15/22\",\"4/5/22\",\"3/28/22\",\"3/1/22\"],\"property_segments\":[1,1,1,1,1,1,1,1,1,1,1,1,1,1,1,1,1,1,1,1,1,1,1,1,1,1,1,1]},\"selected\":{\"id\":\"2618\"},\"selection_policy\":{\"id\":\"2634\"}},\"id\":\"2617\",\"type\":\"ColumnDataSource\"},{\"attributes\":{\"source\":{\"id\":\"2663\"}},\"id\":\"2670\",\"type\":\"CDSView\"},{\"attributes\":{\"fill_alpha\":{\"value\":0.2},\"fill_color\":{\"value\":\"#6d904f\"},\"hatch_alpha\":{\"value\":0.2},\"hatch_color\":{\"value\":\"#6d904f\"},\"line_alpha\":{\"value\":0.2},\"line_color\":{\"value\":\"#6d904f\"},\"size\":{\"value\":5.477225575051661},\"x\":{\"field\":\"Bedrooms\"},\"y\":{\"field\":\"PropPrice\"}},\"id\":\"2668\",\"type\":\"Scatter\"},{\"attributes\":{\"coordinates\":null,\"data_source\":{\"id\":\"2596\"},\"glyph\":{\"id\":\"2599\"},\"group\":null,\"hover_glyph\":null,\"muted_glyph\":{\"id\":\"2601\"},\"nonselection_glyph\":{\"id\":\"2600\"},\"selection_glyph\":{\"id\":\"2616\"},\"view\":{\"id\":\"2603\"}},\"id\":\"2602\",\"type\":\"GlyphRenderer\"},{\"attributes\":{\"fill_alpha\":{\"value\":0.1},\"fill_color\":{\"value\":\"#6d904f\"},\"hatch_alpha\":{\"value\":0.1},\"hatch_color\":{\"value\":\"#6d904f\"},\"line_alpha\":{\"value\":0.1},\"line_color\":{\"value\":\"#6d904f\"},\"size\":{\"value\":5.477225575051661},\"x\":{\"field\":\"Bedrooms\"},\"y\":{\"field\":\"PropPrice\"}},\"id\":\"2667\",\"type\":\"Scatter\"},{\"attributes\":{},\"id\":\"2594\",\"type\":\"BasicTickFormatter\"},{\"attributes\":{\"click_policy\":\"mute\",\"coordinates\":null,\"group\":null,\"items\":[{\"id\":\"2615\"},{\"id\":\"2637\"},{\"id\":\"2661\"},{\"id\":\"2687\"}],\"location\":[0,0],\"title\":\"property_segments\"},\"id\":\"2614\",\"type\":\"Legend\"},{\"attributes\":{\"fill_color\":{\"value\":\"#6d904f\"},\"hatch_color\":{\"value\":\"#6d904f\"},\"line_color\":{\"value\":\"#6d904f\"},\"size\":{\"value\":5.477225575051661},\"x\":{\"field\":\"Bedrooms\"},\"y\":{\"field\":\"PropPrice\"}},\"id\":\"2666\",\"type\":\"Scatter\"},{\"attributes\":{\"axis\":{\"id\":\"2569\"},\"coordinates\":null,\"grid_line_color\":null,\"group\":null,\"ticker\":null},\"id\":\"2572\",\"type\":\"Grid\"},{\"attributes\":{\"below\":[{\"id\":\"2569\"}],\"center\":[{\"id\":\"2572\"},{\"id\":\"2576\"}],\"height\":300,\"left\":[{\"id\":\"2573\"}],\"margin\":[5,5,5,5],\"min_border_bottom\":10,\"min_border_left\":10,\"min_border_right\":10,\"min_border_top\":10,\"renderers\":[{\"id\":\"2602\"},{\"id\":\"2623\"},{\"id\":\"2645\"},{\"id\":\"2669\"}],\"right\":[{\"id\":\"2614\"}],\"sizing_mode\":\"fixed\",\"title\":{\"id\":\"2561\"},\"toolbar\":{\"id\":\"2583\"},\"width\":700,\"x_range\":{\"id\":\"2554\"},\"x_scale\":{\"id\":\"2565\"},\"y_range\":{\"id\":\"2555\"},\"y_scale\":{\"id\":\"2567\"}},\"id\":\"2560\",\"subtype\":\"Figure\",\"type\":\"Plot\"},{\"attributes\":{},\"id\":\"2565\",\"type\":\"LinearScale\"},{\"attributes\":{\"label\":{\"value\":\"0\"},\"renderers\":[{\"id\":\"2602\"}]},\"id\":\"2615\",\"type\":\"LegendItem\"},{\"attributes\":{\"axis_label\":\"PropPrice\",\"coordinates\":null,\"formatter\":{\"id\":\"2594\"},\"group\":null,\"major_label_policy\":{\"id\":\"2595\"},\"ticker\":{\"id\":\"2574\"}},\"id\":\"2573\",\"type\":\"LinearAxis\"},{\"attributes\":{\"coordinates\":null,\"group\":null,\"text_color\":\"black\",\"text_font_size\":\"12pt\"},\"id\":\"2561\",\"type\":\"Title\"},{\"attributes\":{\"coordinates\":null,\"data_source\":{\"id\":\"2663\"},\"glyph\":{\"id\":\"2666\"},\"group\":null,\"hover_glyph\":null,\"muted_glyph\":{\"id\":\"2668\"},\"nonselection_glyph\":{\"id\":\"2667\"},\"selection_glyph\":{\"id\":\"2688\"},\"view\":{\"id\":\"2670\"}},\"id\":\"2669\",\"type\":\"GlyphRenderer\"},{\"attributes\":{\"angle\":{\"value\":0.0},\"fill_alpha\":{\"value\":1.0},\"fill_color\":{\"value\":\"#30a2da\"},\"hatch_alpha\":{\"value\":1.0},\"hatch_color\":{\"value\":\"#30a2da\"},\"hatch_scale\":{\"value\":12.0},\"hatch_weight\":{\"value\":1.0},\"line_alpha\":{\"value\":1.0},\"line_cap\":{\"value\":\"butt\"},\"line_color\":{\"value\":\"#30a2da\"},\"line_dash\":{\"value\":[]},\"line_dash_offset\":{\"value\":0},\"line_join\":{\"value\":\"bevel\"},\"line_width\":{\"value\":1},\"marker\":{\"value\":\"circle\"},\"size\":{\"value\":5.477225575051661},\"x\":{\"field\":\"Bedrooms\"},\"y\":{\"field\":\"PropPrice\"}},\"id\":\"2616\",\"type\":\"Scatter\"},{\"attributes\":{\"label\":{\"value\":\"3\"},\"renderers\":[{\"id\":\"2669\"}]},\"id\":\"2687\",\"type\":\"LegendItem\"},{\"attributes\":{\"axis_label\":\"Bedrooms\",\"coordinates\":null,\"formatter\":{\"id\":\"2591\"},\"group\":null,\"major_label_policy\":{\"id\":\"2592\"},\"ticker\":{\"id\":\"2570\"}},\"id\":\"2569\",\"type\":\"LinearAxis\"},{\"attributes\":{\"fill_color\":{\"value\":\"#fc4f30\"},\"hatch_color\":{\"value\":\"#fc4f30\"},\"line_color\":{\"value\":\"#fc4f30\"},\"size\":{\"value\":5.477225575051661},\"x\":{\"field\":\"Bedrooms\"},\"y\":{\"field\":\"PropPrice\"}},\"id\":\"2620\",\"type\":\"Scatter\"},{\"attributes\":{},\"id\":\"2567\",\"type\":\"LinearScale\"},{\"attributes\":{\"fill_alpha\":{\"value\":0.1},\"fill_color\":{\"value\":\"#fc4f30\"},\"hatch_alpha\":{\"value\":0.1},\"hatch_color\":{\"value\":\"#fc4f30\"},\"line_alpha\":{\"value\":0.1},\"line_color\":{\"value\":\"#fc4f30\"},\"size\":{\"value\":5.477225575051661},\"x\":{\"field\":\"Bedrooms\"},\"y\":{\"field\":\"PropPrice\"}},\"id\":\"2621\",\"type\":\"Scatter\"},{\"attributes\":{\"coordinates\":null,\"data_source\":{\"id\":\"2617\"},\"glyph\":{\"id\":\"2620\"},\"group\":null,\"hover_glyph\":null,\"muted_glyph\":{\"id\":\"2622\"},\"nonselection_glyph\":{\"id\":\"2621\"},\"selection_glyph\":{\"id\":\"2638\"},\"view\":{\"id\":\"2624\"}},\"id\":\"2623\",\"type\":\"GlyphRenderer\"},{\"attributes\":{},\"id\":\"2618\",\"type\":\"Selection\"},{\"attributes\":{},\"id\":\"2570\",\"type\":\"BasicTicker\"},{\"attributes\":{},\"id\":\"2684\",\"type\":\"UnionRenderers\"},{\"attributes\":{\"data\":{\"Address\":[\"58-37 Waldron Street\",\"108-34 50th Avenue\",\"5503 102nd St\",\"11129 41st Ave\",\"5312 96th St\",\"9607 46th Ave\",\"108-79 41st Avenue\",\"96-07 46th Avenue\",\"10428 Roosevelt Ave\",\"10603 Otis Ave\",\"55-01 96th Street\",\"10851 52nd Ave\",\"3716 101st St\",\"108-19 35th Avenue\",\"50-40 96th Street\",\"10829 Roosevelt Ave\",\"9808 34th Ave\",\"3348 101st St\",\"57-69 Xenia Street\",\"10449 38th Ave\",\"33-19 99th Street\",\"37-26 112th Street\",\"3329 104th St\",\"98-08 34th Avenue\",\"11113 39th Ave\",\"102-20 45th Avenue\",\"4309 104 Street\",\"104-49 46th Avenue\",\"10858 52nd Ave\",\"11236 38th Ave\",\"5412 111th St\",\"48-19 98th Street\",\"108-58 52nd Avenue\",\"45-07 97th Pl\",\"108-43 43rd Avenue\",\"4717 104th St\",\"34-30 112th Street\",\"10318 Martense Ave\",\"35-45 99th Street\",\"5718 Waldron St\",\"104-53 39th Avenue\",\"57-18 Waldron Street\",\"9811 34th Ave\"],\"Bedrooms\":[6,6,8,4,8,6,5,6,5,6,7,6,7,5,5,6,5,5,3,7,7,4,5,6,5,6,8,3,7,8,4,4,7,4,7,3,4,3,7,5,5,5,5],\"PropPrice\":[1115000,998000,1150000,840000,970000,947000,1240000,947000,1300000,906000,1500000,960000,1380000,1270000,1000000,1271416,750000,990000,745000,990000,890000,1125000,829000,750000,10,960000,940000,720000,1150000,880000,1200000,1049000,1150000,890000,1430000,1100000,1120000,10,1210000,890000,900789,890000,750000],\"SoldDate\":[\"2/15/24\",\"2/6/24\",\"12/15/23\",\"12/29/23\",\"12/27/23\",\"12/22/23\",\"12/18/23\",\"12/11/23\",\"11/21/23\",\"11/16/23\",\"11/9/23\",\"11/8/23\",\"11/6/23\",\"11/3/23\",\"10/30/23\",\"10/18/23\",\"10/16/23\",\"10/11/23\",\"9/29/23\",\"9/22/23\",\"9/20/23\",\"9/20/23\",\"9/7/23\",\"8/31/23\",\"8/22/23\",\"8/15/23\",\"7/26/23\",\"7/24/23\",\"7/17/23\",\"7/14/23\",\"7/11/23\",\"7/6/23\",\"7/5/23\",\"6/28/23\",\"6/28/23\",\"6/15/23\",\"6/15/23\",\"6/5/23\",\"4/28/23\",\"4/27/23\",\"4/20/23\",\"4/7/23\",\"3/9/23\"],\"property_segments\":[2,2,2,2,2,2,2,2,2,2,2,2,2,2,2,2,2,2,2,2,2,2,2,2,2,2,2,2,2,2,2,2,2,2,2,2,2,2,2,2,2,2,2]},\"selected\":{\"id\":\"2640\"},\"selection_policy\":{\"id\":\"2658\"}},\"id\":\"2639\",\"type\":\"ColumnDataSource\"},{\"attributes\":{\"data\":{\"Address\":[\"10817 36th Ave\",\"37-78 103rd Street\",\"4052 Junction Blvd\",\"49-05 & 07 104 Street\",\"3511 98th St\",\"40-51 97th Street\",\"5611 Waldron St\",\"9723 Alstyne Ave\",\"35-07 100 Street\",\"4501 98th St\",\"97-23 Alstyne Avenue\",\"3543 97th St\",\"105-07 Martense Avenue\",\"104-47 47 Avenue\",\"35-33 99th Street\",\"108-53 43rd Avenue UNIT 1F\",\"55-29 96th St\",\"111-10 37th Avenue\",\"10939 46th Ave\",\"4203 111th St\",\"10859 49th Ave\",\"3514 97th St\",\"3741 97th St\",\"3529 101st St\",\"11111 43rd Ave\",\"4029 102nd St\",\"50-32 102 Street\",\"4044 100th St\",\"3313 102nd St\",\"108-26 42nd Avenue\",\"40-44 100th Street\",\"40-09 97th Street\",\"10837 37th Dr\",\"4719 98th St\",\"4113 111th St\",\"3509 108th St\",\"3725 103rd St\",\"5527 97th Place\",\"5712 Xenia St\",\"10426 47th Ave\",\"10819 53rd Ave\",\"3721 100th St\",\"10423 37th Dr\",\"47-19 Junction Boulevard\",\"104-23 37th Drive\",\"104-26 47 Ave\",\"3775 102nd St\",\"108-12 49th Avenue\",\"96-10 40th Road UNIT 1\",\"45-14 Junction Boulevard\",\"43-12 Junction Boulevard\",\"35-11 109 Street\",\"5319 103rd St\",\"108-28 39 Avenue\",\"4710 108th St\",\"110-11 56th Avenue\",\"97-17 35th Avenue\",\"10819 52nd Ave\",\"35-21 105 Street\",\"108-43 38th Avenue\",\"109-44 Saultell Avenue\",\"11157 44th Ave\",\"57-40 Van Doren Street\",\"105-26 Otis Avenue\",\"10853 50th Ave\",\"3415 96th St\",\"3719 101st St\",\"34-15A 96th Street\",\"37-30 100th Street\",\"10830 38th Ave\",\"10706 37th Dr\",\"9835 Corona Ave\",\"37-21 101st Street\",\"9803 Northern Blvd\",\"3502 108th St\",\"10942 Saultell Ave\",\"3764 104th St\",\"10475 48th Ave\",\"3729 99th St\",\"57-62 Xenia Street\",\"103-35 51st Avenue\",\"102-26 Nicolls Avenue\",\"10840 37th Ave\",\"108-13 37 Avenue\",\"5754 Xenia St\"],\"Bedrooms\":[7,5,4,7,6,6,5,8,6,5,8,7,6,7,5,6,5,7,6,7,6,5,5,6,6,6,6,5,7,7,5,5,6,8,6,5,7,6,6,8,7,7,7,7,6,6,7,5,6,5,8,7,5,6,5,7,8,5,6,6,5,6,7,6,7,7,6,7,7,7,5,6,6,6,8,5,8,6,5,7,5,7,5,6,6],\"PropPrice\":[180000,1610000,2900000,1590000,1250000,1150000,860000,1180000,775000,998000,1180000,1400000,920000,1620000,969000,1100000,1150000,1500000,886320,1300000,820000,910000,970000,750000,1120075,850000,1620000,1285000,1300000,1635000,1285000,1125000,680000,919000,1235000,1100000,1325000,1070000,900000,1290000,1220000,990000,1300000,1210000,1300000,1290000,1320000,1292000,1520000,1100000,1260000,1250000,1050000,1250000,1150000,1320000,1200000,10,850000,1175000,1300000,990000,1250000,1450000,1135000,1168000,800000,1168000,1300000,1585000,1350000,1180000,1320000,1300000,1438000,990000,1229900,1200000,1300000,1420000,900000,1450000,998000,1132500,1465000],\"SoldDate\":[\"2/21/23\",\"2/6/23\",\"1/17/23\",\"1/11/23\",\"12/28/22\",\"12/8/22\",\"11/29/22\",\"11/1/22\",\"10/31/22\",\"10/26/22\",\"10/19/22\",\"10/18/22\",\"10/14/22\",\"10/14/22\",\"10/13/22\",\"10/5/22\",\"9/29/22\",\"9/20/22\",\"9/2/22\",\"8/29/22\",\"8/25/22\",\"8/24/22\",\"8/24/22\",\"8/17/22\",\"8/16/22\",\"8/15/22\",\"8/10/22\",\"8/8/22\",\"8/5/22\",\"8/5/22\",\"8/2/22\",\"7/25/22\",\"7/20/22\",\"7/19/22\",\"7/18/22\",\"7/13/22\",\"7/13/22\",\"7/13/22\",\"7/11/22\",\"7/8/22\",\"7/7/22\",\"7/6/22\",\"7/1/22\",\"6/10/22\",\"6/10/22\",\"6/7/22\",\"6/2/22\",\"5/27/22\",\"5/26/22\",\"5/25/22\",\"5/24/22\",\"5/12/22\",\"5/3/22\",\"4/29/22\",\"4/27/22\",\"4/19/22\",\"4/19/22\",\"3/30/22\",\"3/21/22\",\"3/16/22\",\"3/11/22\",\"3/7/22\",\"3/7/22\",\"3/3/22\",\"3/2/22\",\"2/23/22\",\"2/11/22\",\"2/7/22\",\"2/2/22\",\"1/24/22\",\"1/19/22\",\"1/13/22\",\"1/13/22\",\"1/10/22\",\"1/7/22\",\"1/6/22\",\"12/29/21\",\"12/29/21\",\"12/23/21\",\"12/20/21\",\"12/15/21\",\"12/10/21\",\"12/6/21\",\"11/17/21\",\"11/16/21\"],\"property_segments\":[0,0,0,0,0,0,0,0,0,0,0,0,0,0,0,0,0,0,0,0,0,0,0,0,0,0,0,0,0,0,0,0,0,0,0,0,0,0,0,0,0,0,0,0,0,0,0,0,0,0,0,0,0,0,0,0,0,0,0,0,0,0,0,0,0,0,0,0,0,0,0,0,0,0,0,0,0,0,0,0,0,0,0,0,0]},\"selected\":{\"id\":\"2597\"},\"selection_policy\":{\"id\":\"2611\"}},\"id\":\"2596\",\"type\":\"ColumnDataSource\"}],\"root_ids\":[\"2552\"]},\"title\":\"Bokeh Application\",\"version\":\"2.4.3\"}};\n",
       "    var render_items = [{\"docid\":\"7acc5799-5799-4ab7-b0b9-7a6036c28892\",\"root_ids\":[\"2552\"],\"roots\":{\"2552\":\"242cc9e5-c1f0-4749-8690-88d3c0494223\"}}];\n",
       "    root.Bokeh.embed.embed_items_notebook(docs_json, render_items);\n",
       "  }\n",
       "  if (root.Bokeh !== undefined && root.Bokeh.Panel !== undefined) {\n",
       "    embed_document(root);\n",
       "  } else {\n",
       "    var attempts = 0;\n",
       "    var timer = setInterval(function(root) {\n",
       "      if (root.Bokeh !== undefined && root.Bokeh.Panel !== undefined) {\n",
       "        clearInterval(timer);\n",
       "        embed_document(root);\n",
       "      } else if (document.readyState == \"complete\") {\n",
       "        attempts++;\n",
       "        if (attempts > 200) {\n",
       "          clearInterval(timer);\n",
       "          console.log(\"Bokeh: ERROR: Unable to run BokehJS code because BokehJS library is missing\");\n",
       "        }\n",
       "      }\n",
       "    }, 25, root)\n",
       "  }\n",
       "})(window);</script>"
      ],
      "text/plain": [
       ":NdOverlay   [property_segments]\n",
       "   :Scatter   [Bedrooms]   (PropPrice,Address,SoldDate)"
      ]
     },
     "execution_count": 106,
     "metadata": {
      "application/vnd.holoviews_exec.v0+json": {
       "id": "2552"
      }
     },
     "output_type": "execute_result"
    }
   ],
   "source": [
    "# Plot the clusters per 2 features from the LA dataframe against property price\n",
    "df_NY_Orig_Pred.hvplot.scatter(\n",
    "    x=\"Bedrooms\",\n",
    "    y=\"PropPrice\",\n",
    "    by=\"property_segments\",\n",
    "    hover_cols=['Address', 'SoldDate']\n",
    ")\n",
    "#conclusion for this visual: General  "
   ]
  },
  {
   "cell_type": "code",
   "execution_count": 103,
   "id": "84e8de29",
   "metadata": {},
   "outputs": [
    {
     "data": {
      "application/vnd.plotly.v1+json": {
       "config": {
        "plotlyServerURL": "https://plot.ly"
       },
       "data": [
        {
         "hovertemplate": "InflationRate=%{x}<br>PropPrice=%{y}<br>Bedrooms=%{z}<br>property_segments=%{marker.color}<extra></extra>",
         "legendgroup": "",
         "marker": {
          "color": [
           2,
           1,
           2,
           3,
           3,
           2,
           2,
           2,
           2,
           2,
           2,
           2,
           2,
           2,
           2,
           2,
           2,
           2,
           2,
           2,
           2,
           2,
           2,
           2,
           2,
           1,
           2,
           2,
           2,
           2,
           1,
           3,
           1,
           1,
           1,
           2,
           2,
           2,
           2,
           2,
           1,
           2,
           2,
           3,
           2,
           2,
           2,
           2,
           1,
           1,
           2,
           3,
           1,
           1,
           3,
           2,
           2,
           3,
           3,
           2,
           1,
           2,
           2,
           0,
           3,
           3,
           3,
           0,
           1,
           3,
           3,
           0,
           0,
           3,
           0,
           1,
           1,
           0,
           0,
           3,
           3,
           0,
           0,
           1,
           3,
           0,
           0,
           0,
           0,
           0,
           0,
           0,
           0,
           1,
           0,
           3,
           3,
           1,
           0,
           0,
           0,
           0,
           0,
           3,
           0,
           3,
           3,
           0,
           0,
           3,
           3,
           0,
           0,
           3,
           0,
           3,
           0,
           0,
           0,
           0,
           0,
           3,
           0,
           3,
           0,
           0,
           0,
           0,
           0,
           3,
           0,
           3,
           0,
           3,
           1,
           0,
           3,
           1,
           1,
           3,
           1,
           3,
           0,
           3,
           0,
           0,
           0,
           3,
           3,
           0,
           0,
           0,
           3,
           0,
           3,
           1,
           1,
           0,
           3,
           0,
           3,
           0,
           3,
           0,
           3,
           0,
           0,
           1,
           3,
           3,
           3,
           1,
           0,
           1,
           0,
           0,
           0,
           3,
           0,
           0,
           0,
           0,
           1,
           0,
           3,
           3,
           0,
           0,
           0,
           3,
           0,
           0,
           0,
           3,
           0,
           0,
           0,
           0,
           0,
           0,
           0,
           3,
           0,
           0,
           0,
           0,
           3,
           0,
           0,
           3
          ],
          "coloraxis": "coloraxis",
          "symbol": "circle"
         },
         "mode": "markers",
         "name": "",
         "scene": "scene",
         "showlegend": false,
         "type": "scatter3d",
         "x": [
          3.1,
          3.1,
          3.1,
          3.09,
          3.09,
          3.35,
          3.35,
          3.35,
          3.35,
          3.35,
          3.35,
          3.14,
          3.14,
          3.14,
          3.14,
          3.14,
          3.14,
          3.24,
          3.24,
          3.24,
          3.24,
          3.7,
          3.7,
          3.7,
          3.7,
          3.7,
          3.7,
          3.67,
          3.67,
          3.67,
          3.67,
          3.67,
          3.67,
          3.18,
          3.18,
          3.18,
          3.18,
          3.18,
          3.18,
          3.18,
          3.18,
          3.18,
          3.18,
          3.18,
          2.97,
          2.97,
          2.97,
          2.97,
          2.97,
          2.97,
          2.97,
          4.05,
          4.05,
          4.05,
          4.05,
          4.93,
          4.93,
          4.93,
          4.93,
          4.93,
          4.93,
          4.93,
          4.98,
          6.04,
          6.04,
          6.04,
          6.04,
          6.04,
          6.04,
          6.41,
          6.41,
          6.41,
          6.41,
          6.41,
          6.45,
          6.45,
          6.45,
          6.45,
          7.11,
          7.11,
          7.11,
          7.11,
          7.75,
          7.75,
          7.75,
          7.75,
          7.75,
          7.75,
          7.75,
          7.75,
          7.75,
          7.75,
          8.2,
          8.2,
          8.2,
          8.2,
          8.2,
          8.2,
          8.2,
          8.26,
          8.26,
          8.26,
          8.26,
          8.26,
          8.26,
          8.26,
          8.26,
          8.26,
          8.26,
          8.26,
          8.26,
          8.26,
          8.26,
          8.26,
          8.26,
          8.26,
          8.26,
          8.26,
          8.52,
          8.52,
          8.52,
          8.52,
          8.52,
          8.52,
          8.52,
          8.52,
          8.52,
          8.52,
          8.52,
          8.52,
          8.52,
          8.52,
          8.52,
          8.52,
          8.52,
          8.52,
          8.52,
          9.06,
          9.06,
          9.06,
          9.06,
          9.06,
          9.06,
          9.06,
          9.06,
          9.06,
          9.06,
          8.58,
          8.58,
          8.58,
          8.58,
          8.58,
          8.58,
          8.58,
          8.58,
          8.58,
          8.58,
          8.58,
          8.58,
          8.58,
          8.26,
          8.26,
          8.26,
          8.26,
          8.26,
          8.26,
          8.26,
          8.26,
          8.26,
          8.26,
          8.26,
          8.26,
          8.54,
          8.54,
          8.54,
          8.54,
          8.54,
          8.54,
          8.54,
          8.54,
          8.54,
          8.54,
          8.54,
          7.87,
          7.87,
          7.87,
          7.87,
          7.87,
          7.87,
          7.87,
          7.48,
          7.48,
          7.48,
          7.48,
          7.48,
          7.48,
          7.48,
          7.48,
          7.04,
          7.04,
          7.04,
          7.04,
          7.04,
          7.04,
          7.04,
          7.04,
          6.81,
          6.81,
          6.81,
          6.81
         ],
         "y": [
          1115000,
          1100000,
          998000,
          870000,
          325000,
          1150000,
          840000,
          970000,
          947000,
          1240000,
          947000,
          1300000,
          906000,
          1500000,
          960000,
          1380000,
          1270000,
          1000000,
          1271416,
          750000,
          990000,
          745000,
          990000,
          890000,
          1125000,
          1480000,
          829000,
          750000,
          10,
          960000,
          1580000,
          413000,
          1580000,
          1080000,
          1500000,
          940000,
          720000,
          1150000,
          880000,
          1200000,
          1500000,
          1049000,
          1150000,
          1200000,
          890000,
          1430000,
          1100000,
          1120000,
          1850000,
          1325000,
          10,
          438000,
          1300000,
          1235000,
          438000,
          1210000,
          890000,
          330000,
          200000,
          900789,
          1450000,
          890000,
          750000,
          180000,
          530000,
          722000,
          1230000,
          1610000,
          1320814,
          980000,
          1450000,
          2900000,
          1590000,
          765000,
          1250000,
          1950000,
          1950000,
          1150000,
          860000,
          10,
          585000,
          1180000,
          775000,
          150000,
          1550000,
          998000,
          1180000,
          1400000,
          920000,
          1620000,
          969000,
          1100000,
          1150000,
          1930000,
          1500000,
          795000,
          1125000,
          1720000,
          886320,
          1300000,
          820000,
          910000,
          970000,
          1301000,
          750000,
          1125000,
          812000,
          1120075,
          850000,
          795000,
          1189000,
          1620000,
          1285000,
          900000,
          1300000,
          999000,
          1635000,
          1285000,
          1125000,
          680000,
          919000,
          98000,
          1235000,
          10,
          1100000,
          1325000,
          1070000,
          900000,
          1290000,
          621000,
          1220000,
          660000,
          990000,
          1560000,
          1355000,
          1300000,
          499500,
          1350000,
          2300000,
          555000,
          1770000,
          720000,
          1210000,
          1220000,
          1300000,
          1290000,
          1320000,
          20000,
          660000,
          1292000,
          1520000,
          1100000,
          575000,
          1260000,
          830000,
          1800000,
          1800000,
          1250000,
          380000,
          1050000,
          1379000,
          1250000,
          1138000,
          1150000,
          170000,
          1320000,
          1200000,
          1320000,
          1685000,
          1328000,
          800000,
          2000000,
          10,
          1550000,
          850000,
          1175000,
          1300000,
          795000,
          990000,
          1250000,
          1450000,
          1135000,
          1660000,
          1168000,
          810000,
          1320000,
          800000,
          1168000,
          1300000,
          936790,
          1585000,
          1350000,
          1180000,
          2550000,
          1320000,
          1300000,
          1438000,
          990000,
          1229900,
          1200000,
          1300000,
          726000,
          1420000,
          900000,
          1450000,
          998000,
          880000,
          1132500,
          1465000,
          452000
         ],
         "z": [
          6,
          9,
          6,
          2,
          1,
          8,
          4,
          8,
          6,
          5,
          6,
          5,
          6,
          7,
          6,
          7,
          5,
          5,
          6,
          5,
          5,
          3,
          7,
          7,
          4,
          8,
          5,
          6,
          5,
          6,
          11,
          2,
          11,
          10,
          9,
          8,
          3,
          7,
          8,
          4,
          9,
          4,
          7,
          2,
          4,
          7,
          3,
          4,
          10,
          12,
          3,
          2,
          9,
          9,
          2,
          7,
          5,
          3,
          3,
          5,
          9,
          5,
          5,
          7,
          2,
          3,
          4,
          5,
          8,
          4,
          3,
          4,
          7,
          3,
          6,
          11,
          11,
          6,
          5,
          3,
          2,
          8,
          6,
          10,
          1,
          5,
          8,
          7,
          6,
          7,
          5,
          6,
          5,
          9,
          7,
          4,
          3,
          8,
          6,
          7,
          6,
          5,
          5,
          4,
          6,
          4,
          4,
          6,
          6,
          3,
          4,
          6,
          5,
          3,
          7,
          2,
          7,
          5,
          5,
          6,
          8,
          4,
          6,
          4,
          5,
          7,
          6,
          6,
          8,
          3,
          7,
          2,
          7,
          4,
          9,
          7,
          2,
          9,
          10,
          2,
          9,
          4,
          7,
          1,
          6,
          6,
          7,
          3,
          2,
          5,
          6,
          5,
          3,
          8,
          2,
          9,
          10,
          7,
          2,
          5,
          3,
          6,
          4,
          5,
          3,
          7,
          8,
          8,
          3,
          2,
          3,
          8,
          5,
          11,
          6,
          6,
          5,
          3,
          6,
          7,
          6,
          7,
          9,
          7,
          4,
          3,
          6,
          7,
          7,
          3,
          7,
          5,
          6,
          3,
          6,
          6,
          8,
          5,
          8,
          6,
          5,
          3,
          7,
          5,
          7,
          5,
          2,
          6,
          6,
          2
         ]
        }
       ],
       "layout": {
        "coloraxis": {
         "colorbar": {
          "title": {
           "text": "property_segments"
          }
         },
         "colorscale": [
          [
           0,
           "#0d0887"
          ],
          [
           0.1111111111111111,
           "#46039f"
          ],
          [
           0.2222222222222222,
           "#7201a8"
          ],
          [
           0.3333333333333333,
           "#9c179e"
          ],
          [
           0.4444444444444444,
           "#bd3786"
          ],
          [
           0.5555555555555556,
           "#d8576b"
          ],
          [
           0.6666666666666666,
           "#ed7953"
          ],
          [
           0.7777777777777778,
           "#fb9f3a"
          ],
          [
           0.8888888888888888,
           "#fdca26"
          ],
          [
           1,
           "#f0f921"
          ]
         ]
        },
        "legend": {
         "tracegroupgap": 0
        },
        "margin": {
         "t": 60
        },
        "scene": {
         "domain": {
          "x": [
           0,
           1
          ],
          "y": [
           0,
           1
          ]
         },
         "xaxis": {
          "title": {
           "text": "InflationRate"
          }
         },
         "yaxis": {
          "title": {
           "text": "PropPrice"
          }
         },
         "zaxis": {
          "title": {
           "text": "Bedrooms"
          }
         }
        },
        "template": {
         "data": {
          "bar": [
           {
            "error_x": {
             "color": "#2a3f5f"
            },
            "error_y": {
             "color": "#2a3f5f"
            },
            "marker": {
             "line": {
              "color": "#E5ECF6",
              "width": 0.5
             },
             "pattern": {
              "fillmode": "overlay",
              "size": 10,
              "solidity": 0.2
             }
            },
            "type": "bar"
           }
          ],
          "barpolar": [
           {
            "marker": {
             "line": {
              "color": "#E5ECF6",
              "width": 0.5
             },
             "pattern": {
              "fillmode": "overlay",
              "size": 10,
              "solidity": 0.2
             }
            },
            "type": "barpolar"
           }
          ],
          "carpet": [
           {
            "aaxis": {
             "endlinecolor": "#2a3f5f",
             "gridcolor": "white",
             "linecolor": "white",
             "minorgridcolor": "white",
             "startlinecolor": "#2a3f5f"
            },
            "baxis": {
             "endlinecolor": "#2a3f5f",
             "gridcolor": "white",
             "linecolor": "white",
             "minorgridcolor": "white",
             "startlinecolor": "#2a3f5f"
            },
            "type": "carpet"
           }
          ],
          "choropleth": [
           {
            "colorbar": {
             "outlinewidth": 0,
             "ticks": ""
            },
            "type": "choropleth"
           }
          ],
          "contour": [
           {
            "colorbar": {
             "outlinewidth": 0,
             "ticks": ""
            },
            "colorscale": [
             [
              0,
              "#0d0887"
             ],
             [
              0.1111111111111111,
              "#46039f"
             ],
             [
              0.2222222222222222,
              "#7201a8"
             ],
             [
              0.3333333333333333,
              "#9c179e"
             ],
             [
              0.4444444444444444,
              "#bd3786"
             ],
             [
              0.5555555555555556,
              "#d8576b"
             ],
             [
              0.6666666666666666,
              "#ed7953"
             ],
             [
              0.7777777777777778,
              "#fb9f3a"
             ],
             [
              0.8888888888888888,
              "#fdca26"
             ],
             [
              1,
              "#f0f921"
             ]
            ],
            "type": "contour"
           }
          ],
          "contourcarpet": [
           {
            "colorbar": {
             "outlinewidth": 0,
             "ticks": ""
            },
            "type": "contourcarpet"
           }
          ],
          "heatmap": [
           {
            "colorbar": {
             "outlinewidth": 0,
             "ticks": ""
            },
            "colorscale": [
             [
              0,
              "#0d0887"
             ],
             [
              0.1111111111111111,
              "#46039f"
             ],
             [
              0.2222222222222222,
              "#7201a8"
             ],
             [
              0.3333333333333333,
              "#9c179e"
             ],
             [
              0.4444444444444444,
              "#bd3786"
             ],
             [
              0.5555555555555556,
              "#d8576b"
             ],
             [
              0.6666666666666666,
              "#ed7953"
             ],
             [
              0.7777777777777778,
              "#fb9f3a"
             ],
             [
              0.8888888888888888,
              "#fdca26"
             ],
             [
              1,
              "#f0f921"
             ]
            ],
            "type": "heatmap"
           }
          ],
          "heatmapgl": [
           {
            "colorbar": {
             "outlinewidth": 0,
             "ticks": ""
            },
            "colorscale": [
             [
              0,
              "#0d0887"
             ],
             [
              0.1111111111111111,
              "#46039f"
             ],
             [
              0.2222222222222222,
              "#7201a8"
             ],
             [
              0.3333333333333333,
              "#9c179e"
             ],
             [
              0.4444444444444444,
              "#bd3786"
             ],
             [
              0.5555555555555556,
              "#d8576b"
             ],
             [
              0.6666666666666666,
              "#ed7953"
             ],
             [
              0.7777777777777778,
              "#fb9f3a"
             ],
             [
              0.8888888888888888,
              "#fdca26"
             ],
             [
              1,
              "#f0f921"
             ]
            ],
            "type": "heatmapgl"
           }
          ],
          "histogram": [
           {
            "marker": {
             "pattern": {
              "fillmode": "overlay",
              "size": 10,
              "solidity": 0.2
             }
            },
            "type": "histogram"
           }
          ],
          "histogram2d": [
           {
            "colorbar": {
             "outlinewidth": 0,
             "ticks": ""
            },
            "colorscale": [
             [
              0,
              "#0d0887"
             ],
             [
              0.1111111111111111,
              "#46039f"
             ],
             [
              0.2222222222222222,
              "#7201a8"
             ],
             [
              0.3333333333333333,
              "#9c179e"
             ],
             [
              0.4444444444444444,
              "#bd3786"
             ],
             [
              0.5555555555555556,
              "#d8576b"
             ],
             [
              0.6666666666666666,
              "#ed7953"
             ],
             [
              0.7777777777777778,
              "#fb9f3a"
             ],
             [
              0.8888888888888888,
              "#fdca26"
             ],
             [
              1,
              "#f0f921"
             ]
            ],
            "type": "histogram2d"
           }
          ],
          "histogram2dcontour": [
           {
            "colorbar": {
             "outlinewidth": 0,
             "ticks": ""
            },
            "colorscale": [
             [
              0,
              "#0d0887"
             ],
             [
              0.1111111111111111,
              "#46039f"
             ],
             [
              0.2222222222222222,
              "#7201a8"
             ],
             [
              0.3333333333333333,
              "#9c179e"
             ],
             [
              0.4444444444444444,
              "#bd3786"
             ],
             [
              0.5555555555555556,
              "#d8576b"
             ],
             [
              0.6666666666666666,
              "#ed7953"
             ],
             [
              0.7777777777777778,
              "#fb9f3a"
             ],
             [
              0.8888888888888888,
              "#fdca26"
             ],
             [
              1,
              "#f0f921"
             ]
            ],
            "type": "histogram2dcontour"
           }
          ],
          "mesh3d": [
           {
            "colorbar": {
             "outlinewidth": 0,
             "ticks": ""
            },
            "type": "mesh3d"
           }
          ],
          "parcoords": [
           {
            "line": {
             "colorbar": {
              "outlinewidth": 0,
              "ticks": ""
             }
            },
            "type": "parcoords"
           }
          ],
          "pie": [
           {
            "automargin": true,
            "type": "pie"
           }
          ],
          "scatter": [
           {
            "fillpattern": {
             "fillmode": "overlay",
             "size": 10,
             "solidity": 0.2
            },
            "type": "scatter"
           }
          ],
          "scatter3d": [
           {
            "line": {
             "colorbar": {
              "outlinewidth": 0,
              "ticks": ""
             }
            },
            "marker": {
             "colorbar": {
              "outlinewidth": 0,
              "ticks": ""
             }
            },
            "type": "scatter3d"
           }
          ],
          "scattercarpet": [
           {
            "marker": {
             "colorbar": {
              "outlinewidth": 0,
              "ticks": ""
             }
            },
            "type": "scattercarpet"
           }
          ],
          "scattergeo": [
           {
            "marker": {
             "colorbar": {
              "outlinewidth": 0,
              "ticks": ""
             }
            },
            "type": "scattergeo"
           }
          ],
          "scattergl": [
           {
            "marker": {
             "colorbar": {
              "outlinewidth": 0,
              "ticks": ""
             }
            },
            "type": "scattergl"
           }
          ],
          "scattermapbox": [
           {
            "marker": {
             "colorbar": {
              "outlinewidth": 0,
              "ticks": ""
             }
            },
            "type": "scattermapbox"
           }
          ],
          "scatterpolar": [
           {
            "marker": {
             "colorbar": {
              "outlinewidth": 0,
              "ticks": ""
             }
            },
            "type": "scatterpolar"
           }
          ],
          "scatterpolargl": [
           {
            "marker": {
             "colorbar": {
              "outlinewidth": 0,
              "ticks": ""
             }
            },
            "type": "scatterpolargl"
           }
          ],
          "scatterternary": [
           {
            "marker": {
             "colorbar": {
              "outlinewidth": 0,
              "ticks": ""
             }
            },
            "type": "scatterternary"
           }
          ],
          "surface": [
           {
            "colorbar": {
             "outlinewidth": 0,
             "ticks": ""
            },
            "colorscale": [
             [
              0,
              "#0d0887"
             ],
             [
              0.1111111111111111,
              "#46039f"
             ],
             [
              0.2222222222222222,
              "#7201a8"
             ],
             [
              0.3333333333333333,
              "#9c179e"
             ],
             [
              0.4444444444444444,
              "#bd3786"
             ],
             [
              0.5555555555555556,
              "#d8576b"
             ],
             [
              0.6666666666666666,
              "#ed7953"
             ],
             [
              0.7777777777777778,
              "#fb9f3a"
             ],
             [
              0.8888888888888888,
              "#fdca26"
             ],
             [
              1,
              "#f0f921"
             ]
            ],
            "type": "surface"
           }
          ],
          "table": [
           {
            "cells": {
             "fill": {
              "color": "#EBF0F8"
             },
             "line": {
              "color": "white"
             }
            },
            "header": {
             "fill": {
              "color": "#C8D4E3"
             },
             "line": {
              "color": "white"
             }
            },
            "type": "table"
           }
          ]
         },
         "layout": {
          "annotationdefaults": {
           "arrowcolor": "#2a3f5f",
           "arrowhead": 0,
           "arrowwidth": 1
          },
          "autotypenumbers": "strict",
          "coloraxis": {
           "colorbar": {
            "outlinewidth": 0,
            "ticks": ""
           }
          },
          "colorscale": {
           "diverging": [
            [
             0,
             "#8e0152"
            ],
            [
             0.1,
             "#c51b7d"
            ],
            [
             0.2,
             "#de77ae"
            ],
            [
             0.3,
             "#f1b6da"
            ],
            [
             0.4,
             "#fde0ef"
            ],
            [
             0.5,
             "#f7f7f7"
            ],
            [
             0.6,
             "#e6f5d0"
            ],
            [
             0.7,
             "#b8e186"
            ],
            [
             0.8,
             "#7fbc41"
            ],
            [
             0.9,
             "#4d9221"
            ],
            [
             1,
             "#276419"
            ]
           ],
           "sequential": [
            [
             0,
             "#0d0887"
            ],
            [
             0.1111111111111111,
             "#46039f"
            ],
            [
             0.2222222222222222,
             "#7201a8"
            ],
            [
             0.3333333333333333,
             "#9c179e"
            ],
            [
             0.4444444444444444,
             "#bd3786"
            ],
            [
             0.5555555555555556,
             "#d8576b"
            ],
            [
             0.6666666666666666,
             "#ed7953"
            ],
            [
             0.7777777777777778,
             "#fb9f3a"
            ],
            [
             0.8888888888888888,
             "#fdca26"
            ],
            [
             1,
             "#f0f921"
            ]
           ],
           "sequentialminus": [
            [
             0,
             "#0d0887"
            ],
            [
             0.1111111111111111,
             "#46039f"
            ],
            [
             0.2222222222222222,
             "#7201a8"
            ],
            [
             0.3333333333333333,
             "#9c179e"
            ],
            [
             0.4444444444444444,
             "#bd3786"
            ],
            [
             0.5555555555555556,
             "#d8576b"
            ],
            [
             0.6666666666666666,
             "#ed7953"
            ],
            [
             0.7777777777777778,
             "#fb9f3a"
            ],
            [
             0.8888888888888888,
             "#fdca26"
            ],
            [
             1,
             "#f0f921"
            ]
           ]
          },
          "colorway": [
           "#636efa",
           "#EF553B",
           "#00cc96",
           "#ab63fa",
           "#FFA15A",
           "#19d3f3",
           "#FF6692",
           "#B6E880",
           "#FF97FF",
           "#FECB52"
          ],
          "font": {
           "color": "#2a3f5f"
          },
          "geo": {
           "bgcolor": "white",
           "lakecolor": "white",
           "landcolor": "#E5ECF6",
           "showlakes": true,
           "showland": true,
           "subunitcolor": "white"
          },
          "hoverlabel": {
           "align": "left"
          },
          "hovermode": "closest",
          "mapbox": {
           "style": "light"
          },
          "paper_bgcolor": "white",
          "plot_bgcolor": "#E5ECF6",
          "polar": {
           "angularaxis": {
            "gridcolor": "white",
            "linecolor": "white",
            "ticks": ""
           },
           "bgcolor": "#E5ECF6",
           "radialaxis": {
            "gridcolor": "white",
            "linecolor": "white",
            "ticks": ""
           }
          },
          "scene": {
           "xaxis": {
            "backgroundcolor": "#E5ECF6",
            "gridcolor": "white",
            "gridwidth": 2,
            "linecolor": "white",
            "showbackground": true,
            "ticks": "",
            "zerolinecolor": "white"
           },
           "yaxis": {
            "backgroundcolor": "#E5ECF6",
            "gridcolor": "white",
            "gridwidth": 2,
            "linecolor": "white",
            "showbackground": true,
            "ticks": "",
            "zerolinecolor": "white"
           },
           "zaxis": {
            "backgroundcolor": "#E5ECF6",
            "gridcolor": "white",
            "gridwidth": 2,
            "linecolor": "white",
            "showbackground": true,
            "ticks": "",
            "zerolinecolor": "white"
           }
          },
          "shapedefaults": {
           "line": {
            "color": "#2a3f5f"
           }
          },
          "ternary": {
           "aaxis": {
            "gridcolor": "white",
            "linecolor": "white",
            "ticks": ""
           },
           "baxis": {
            "gridcolor": "white",
            "linecolor": "white",
            "ticks": ""
           },
           "bgcolor": "#E5ECF6",
           "caxis": {
            "gridcolor": "white",
            "linecolor": "white",
            "ticks": ""
           }
          },
          "title": {
           "x": 0.05
          },
          "xaxis": {
           "automargin": true,
           "gridcolor": "white",
           "linecolor": "white",
           "ticks": "",
           "title": {
            "standoff": 15
           },
           "zerolinecolor": "white",
           "zerolinewidth": 2
          },
          "yaxis": {
           "automargin": true,
           "gridcolor": "white",
           "linecolor": "white",
           "ticks": "",
           "title": {
            "standoff": 15
           },
           "zerolinecolor": "white",
           "zerolinewidth": 2
          }
         }
        }
       }
      },
      "text/html": [
       "<div>                            <div id=\"28d45ce5-81b3-4847-8eeb-86be684c8492\" class=\"plotly-graph-div\" style=\"height:525px; width:100%;\"></div>            <script type=\"text/javascript\">                require([\"plotly\"], function(Plotly) {                    window.PLOTLYENV=window.PLOTLYENV || {};                                    if (document.getElementById(\"28d45ce5-81b3-4847-8eeb-86be684c8492\")) {                    Plotly.newPlot(                        \"28d45ce5-81b3-4847-8eeb-86be684c8492\",                        [{\"hovertemplate\":\"InflationRate=%{x}<br>PropPrice=%{y}<br>Bedrooms=%{z}<br>property_segments=%{marker.color}<extra></extra>\",\"legendgroup\":\"\",\"marker\":{\"color\":[2,1,2,3,3,2,2,2,2,2,2,2,2,2,2,2,2,2,2,2,2,2,2,2,2,1,2,2,2,2,1,3,1,1,1,2,2,2,2,2,1,2,2,3,2,2,2,2,1,1,2,3,1,1,3,2,2,3,3,2,1,2,2,0,3,3,3,0,1,3,3,0,0,3,0,1,1,0,0,3,3,0,0,1,3,0,0,0,0,0,0,0,0,1,0,3,3,1,0,0,0,0,0,3,0,3,3,0,0,3,3,0,0,3,0,3,0,0,0,0,0,3,0,3,0,0,0,0,0,3,0,3,0,3,1,0,3,1,1,3,1,3,0,3,0,0,0,3,3,0,0,0,3,0,3,1,1,0,3,0,3,0,3,0,3,0,0,1,3,3,3,1,0,1,0,0,0,3,0,0,0,0,1,0,3,3,0,0,0,3,0,0,0,3,0,0,0,0,0,0,0,3,0,0,0,0,3,0,0,3],\"coloraxis\":\"coloraxis\",\"symbol\":\"circle\"},\"mode\":\"markers\",\"name\":\"\",\"scene\":\"scene\",\"showlegend\":false,\"x\":[3.1,3.1,3.1,3.09,3.09,3.35,3.35,3.35,3.35,3.35,3.35,3.14,3.14,3.14,3.14,3.14,3.14,3.24,3.24,3.24,3.24,3.7,3.7,3.7,3.7,3.7,3.7,3.67,3.67,3.67,3.67,3.67,3.67,3.18,3.18,3.18,3.18,3.18,3.18,3.18,3.18,3.18,3.18,3.18,2.97,2.97,2.97,2.97,2.97,2.97,2.97,4.05,4.05,4.05,4.05,4.93,4.93,4.93,4.93,4.93,4.93,4.93,4.98,6.04,6.04,6.04,6.04,6.04,6.04,6.41,6.41,6.41,6.41,6.41,6.45,6.45,6.45,6.45,7.11,7.11,7.11,7.11,7.75,7.75,7.75,7.75,7.75,7.75,7.75,7.75,7.75,7.75,8.2,8.2,8.2,8.2,8.2,8.2,8.2,8.26,8.26,8.26,8.26,8.26,8.26,8.26,8.26,8.26,8.26,8.26,8.26,8.26,8.26,8.26,8.26,8.26,8.26,8.26,8.52,8.52,8.52,8.52,8.52,8.52,8.52,8.52,8.52,8.52,8.52,8.52,8.52,8.52,8.52,8.52,8.52,8.52,8.52,9.06,9.06,9.06,9.06,9.06,9.06,9.06,9.06,9.06,9.06,8.58,8.58,8.58,8.58,8.58,8.58,8.58,8.58,8.58,8.58,8.58,8.58,8.58,8.26,8.26,8.26,8.26,8.26,8.26,8.26,8.26,8.26,8.26,8.26,8.26,8.54,8.54,8.54,8.54,8.54,8.54,8.54,8.54,8.54,8.54,8.54,7.87,7.87,7.87,7.87,7.87,7.87,7.87,7.48,7.48,7.48,7.48,7.48,7.48,7.48,7.48,7.04,7.04,7.04,7.04,7.04,7.04,7.04,7.04,6.81,6.81,6.81,6.81],\"y\":[1115000,1100000,998000,870000,325000,1150000,840000,970000,947000,1240000,947000,1300000,906000,1500000,960000,1380000,1270000,1000000,1271416,750000,990000,745000,990000,890000,1125000,1480000,829000,750000,10,960000,1580000,413000,1580000,1080000,1500000,940000,720000,1150000,880000,1200000,1500000,1049000,1150000,1200000,890000,1430000,1100000,1120000,1850000,1325000,10,438000,1300000,1235000,438000,1210000,890000,330000,200000,900789,1450000,890000,750000,180000,530000,722000,1230000,1610000,1320814,980000,1450000,2900000,1590000,765000,1250000,1950000,1950000,1150000,860000,10,585000,1180000,775000,150000,1550000,998000,1180000,1400000,920000,1620000,969000,1100000,1150000,1930000,1500000,795000,1125000,1720000,886320,1300000,820000,910000,970000,1301000,750000,1125000,812000,1120075,850000,795000,1189000,1620000,1285000,900000,1300000,999000,1635000,1285000,1125000,680000,919000,98000,1235000,10,1100000,1325000,1070000,900000,1290000,621000,1220000,660000,990000,1560000,1355000,1300000,499500,1350000,2300000,555000,1770000,720000,1210000,1220000,1300000,1290000,1320000,20000,660000,1292000,1520000,1100000,575000,1260000,830000,1800000,1800000,1250000,380000,1050000,1379000,1250000,1138000,1150000,170000,1320000,1200000,1320000,1685000,1328000,800000,2000000,10,1550000,850000,1175000,1300000,795000,990000,1250000,1450000,1135000,1660000,1168000,810000,1320000,800000,1168000,1300000,936790,1585000,1350000,1180000,2550000,1320000,1300000,1438000,990000,1229900,1200000,1300000,726000,1420000,900000,1450000,998000,880000,1132500,1465000,452000],\"z\":[6,9,6,2,1,8,4,8,6,5,6,5,6,7,6,7,5,5,6,5,5,3,7,7,4,8,5,6,5,6,11,2,11,10,9,8,3,7,8,4,9,4,7,2,4,7,3,4,10,12,3,2,9,9,2,7,5,3,3,5,9,5,5,7,2,3,4,5,8,4,3,4,7,3,6,11,11,6,5,3,2,8,6,10,1,5,8,7,6,7,5,6,5,9,7,4,3,8,6,7,6,5,5,4,6,4,4,6,6,3,4,6,5,3,7,2,7,5,5,6,8,4,6,4,5,7,6,6,8,3,7,2,7,4,9,7,2,9,10,2,9,4,7,1,6,6,7,3,2,5,6,5,3,8,2,9,10,7,2,5,3,6,4,5,3,7,8,8,3,2,3,8,5,11,6,6,5,3,6,7,6,7,9,7,4,3,6,7,7,3,7,5,6,3,6,6,8,5,8,6,5,3,7,5,7,5,2,6,6,2],\"type\":\"scatter3d\"}],                        {\"template\":{\"data\":{\"histogram2dcontour\":[{\"type\":\"histogram2dcontour\",\"colorbar\":{\"outlinewidth\":0,\"ticks\":\"\"},\"colorscale\":[[0.0,\"#0d0887\"],[0.1111111111111111,\"#46039f\"],[0.2222222222222222,\"#7201a8\"],[0.3333333333333333,\"#9c179e\"],[0.4444444444444444,\"#bd3786\"],[0.5555555555555556,\"#d8576b\"],[0.6666666666666666,\"#ed7953\"],[0.7777777777777778,\"#fb9f3a\"],[0.8888888888888888,\"#fdca26\"],[1.0,\"#f0f921\"]]}],\"choropleth\":[{\"type\":\"choropleth\",\"colorbar\":{\"outlinewidth\":0,\"ticks\":\"\"}}],\"histogram2d\":[{\"type\":\"histogram2d\",\"colorbar\":{\"outlinewidth\":0,\"ticks\":\"\"},\"colorscale\":[[0.0,\"#0d0887\"],[0.1111111111111111,\"#46039f\"],[0.2222222222222222,\"#7201a8\"],[0.3333333333333333,\"#9c179e\"],[0.4444444444444444,\"#bd3786\"],[0.5555555555555556,\"#d8576b\"],[0.6666666666666666,\"#ed7953\"],[0.7777777777777778,\"#fb9f3a\"],[0.8888888888888888,\"#fdca26\"],[1.0,\"#f0f921\"]]}],\"heatmap\":[{\"type\":\"heatmap\",\"colorbar\":{\"outlinewidth\":0,\"ticks\":\"\"},\"colorscale\":[[0.0,\"#0d0887\"],[0.1111111111111111,\"#46039f\"],[0.2222222222222222,\"#7201a8\"],[0.3333333333333333,\"#9c179e\"],[0.4444444444444444,\"#bd3786\"],[0.5555555555555556,\"#d8576b\"],[0.6666666666666666,\"#ed7953\"],[0.7777777777777778,\"#fb9f3a\"],[0.8888888888888888,\"#fdca26\"],[1.0,\"#f0f921\"]]}],\"heatmapgl\":[{\"type\":\"heatmapgl\",\"colorbar\":{\"outlinewidth\":0,\"ticks\":\"\"},\"colorscale\":[[0.0,\"#0d0887\"],[0.1111111111111111,\"#46039f\"],[0.2222222222222222,\"#7201a8\"],[0.3333333333333333,\"#9c179e\"],[0.4444444444444444,\"#bd3786\"],[0.5555555555555556,\"#d8576b\"],[0.6666666666666666,\"#ed7953\"],[0.7777777777777778,\"#fb9f3a\"],[0.8888888888888888,\"#fdca26\"],[1.0,\"#f0f921\"]]}],\"contourcarpet\":[{\"type\":\"contourcarpet\",\"colorbar\":{\"outlinewidth\":0,\"ticks\":\"\"}}],\"contour\":[{\"type\":\"contour\",\"colorbar\":{\"outlinewidth\":0,\"ticks\":\"\"},\"colorscale\":[[0.0,\"#0d0887\"],[0.1111111111111111,\"#46039f\"],[0.2222222222222222,\"#7201a8\"],[0.3333333333333333,\"#9c179e\"],[0.4444444444444444,\"#bd3786\"],[0.5555555555555556,\"#d8576b\"],[0.6666666666666666,\"#ed7953\"],[0.7777777777777778,\"#fb9f3a\"],[0.8888888888888888,\"#fdca26\"],[1.0,\"#f0f921\"]]}],\"surface\":[{\"type\":\"surface\",\"colorbar\":{\"outlinewidth\":0,\"ticks\":\"\"},\"colorscale\":[[0.0,\"#0d0887\"],[0.1111111111111111,\"#46039f\"],[0.2222222222222222,\"#7201a8\"],[0.3333333333333333,\"#9c179e\"],[0.4444444444444444,\"#bd3786\"],[0.5555555555555556,\"#d8576b\"],[0.6666666666666666,\"#ed7953\"],[0.7777777777777778,\"#fb9f3a\"],[0.8888888888888888,\"#fdca26\"],[1.0,\"#f0f921\"]]}],\"mesh3d\":[{\"type\":\"mesh3d\",\"colorbar\":{\"outlinewidth\":0,\"ticks\":\"\"}}],\"scatter\":[{\"fillpattern\":{\"fillmode\":\"overlay\",\"size\":10,\"solidity\":0.2},\"type\":\"scatter\"}],\"parcoords\":[{\"type\":\"parcoords\",\"line\":{\"colorbar\":{\"outlinewidth\":0,\"ticks\":\"\"}}}],\"scatterpolargl\":[{\"type\":\"scatterpolargl\",\"marker\":{\"colorbar\":{\"outlinewidth\":0,\"ticks\":\"\"}}}],\"bar\":[{\"error_x\":{\"color\":\"#2a3f5f\"},\"error_y\":{\"color\":\"#2a3f5f\"},\"marker\":{\"line\":{\"color\":\"#E5ECF6\",\"width\":0.5},\"pattern\":{\"fillmode\":\"overlay\",\"size\":10,\"solidity\":0.2}},\"type\":\"bar\"}],\"scattergeo\":[{\"type\":\"scattergeo\",\"marker\":{\"colorbar\":{\"outlinewidth\":0,\"ticks\":\"\"}}}],\"scatterpolar\":[{\"type\":\"scatterpolar\",\"marker\":{\"colorbar\":{\"outlinewidth\":0,\"ticks\":\"\"}}}],\"histogram\":[{\"marker\":{\"pattern\":{\"fillmode\":\"overlay\",\"size\":10,\"solidity\":0.2}},\"type\":\"histogram\"}],\"scattergl\":[{\"type\":\"scattergl\",\"marker\":{\"colorbar\":{\"outlinewidth\":0,\"ticks\":\"\"}}}],\"scatter3d\":[{\"type\":\"scatter3d\",\"line\":{\"colorbar\":{\"outlinewidth\":0,\"ticks\":\"\"}},\"marker\":{\"colorbar\":{\"outlinewidth\":0,\"ticks\":\"\"}}}],\"scattermapbox\":[{\"type\":\"scattermapbox\",\"marker\":{\"colorbar\":{\"outlinewidth\":0,\"ticks\":\"\"}}}],\"scatterternary\":[{\"type\":\"scatterternary\",\"marker\":{\"colorbar\":{\"outlinewidth\":0,\"ticks\":\"\"}}}],\"scattercarpet\":[{\"type\":\"scattercarpet\",\"marker\":{\"colorbar\":{\"outlinewidth\":0,\"ticks\":\"\"}}}],\"carpet\":[{\"aaxis\":{\"endlinecolor\":\"#2a3f5f\",\"gridcolor\":\"white\",\"linecolor\":\"white\",\"minorgridcolor\":\"white\",\"startlinecolor\":\"#2a3f5f\"},\"baxis\":{\"endlinecolor\":\"#2a3f5f\",\"gridcolor\":\"white\",\"linecolor\":\"white\",\"minorgridcolor\":\"white\",\"startlinecolor\":\"#2a3f5f\"},\"type\":\"carpet\"}],\"table\":[{\"cells\":{\"fill\":{\"color\":\"#EBF0F8\"},\"line\":{\"color\":\"white\"}},\"header\":{\"fill\":{\"color\":\"#C8D4E3\"},\"line\":{\"color\":\"white\"}},\"type\":\"table\"}],\"barpolar\":[{\"marker\":{\"line\":{\"color\":\"#E5ECF6\",\"width\":0.5},\"pattern\":{\"fillmode\":\"overlay\",\"size\":10,\"solidity\":0.2}},\"type\":\"barpolar\"}],\"pie\":[{\"automargin\":true,\"type\":\"pie\"}]},\"layout\":{\"autotypenumbers\":\"strict\",\"colorway\":[\"#636efa\",\"#EF553B\",\"#00cc96\",\"#ab63fa\",\"#FFA15A\",\"#19d3f3\",\"#FF6692\",\"#B6E880\",\"#FF97FF\",\"#FECB52\"],\"font\":{\"color\":\"#2a3f5f\"},\"hovermode\":\"closest\",\"hoverlabel\":{\"align\":\"left\"},\"paper_bgcolor\":\"white\",\"plot_bgcolor\":\"#E5ECF6\",\"polar\":{\"bgcolor\":\"#E5ECF6\",\"angularaxis\":{\"gridcolor\":\"white\",\"linecolor\":\"white\",\"ticks\":\"\"},\"radialaxis\":{\"gridcolor\":\"white\",\"linecolor\":\"white\",\"ticks\":\"\"}},\"ternary\":{\"bgcolor\":\"#E5ECF6\",\"aaxis\":{\"gridcolor\":\"white\",\"linecolor\":\"white\",\"ticks\":\"\"},\"baxis\":{\"gridcolor\":\"white\",\"linecolor\":\"white\",\"ticks\":\"\"},\"caxis\":{\"gridcolor\":\"white\",\"linecolor\":\"white\",\"ticks\":\"\"}},\"coloraxis\":{\"colorbar\":{\"outlinewidth\":0,\"ticks\":\"\"}},\"colorscale\":{\"sequential\":[[0.0,\"#0d0887\"],[0.1111111111111111,\"#46039f\"],[0.2222222222222222,\"#7201a8\"],[0.3333333333333333,\"#9c179e\"],[0.4444444444444444,\"#bd3786\"],[0.5555555555555556,\"#d8576b\"],[0.6666666666666666,\"#ed7953\"],[0.7777777777777778,\"#fb9f3a\"],[0.8888888888888888,\"#fdca26\"],[1.0,\"#f0f921\"]],\"sequentialminus\":[[0.0,\"#0d0887\"],[0.1111111111111111,\"#46039f\"],[0.2222222222222222,\"#7201a8\"],[0.3333333333333333,\"#9c179e\"],[0.4444444444444444,\"#bd3786\"],[0.5555555555555556,\"#d8576b\"],[0.6666666666666666,\"#ed7953\"],[0.7777777777777778,\"#fb9f3a\"],[0.8888888888888888,\"#fdca26\"],[1.0,\"#f0f921\"]],\"diverging\":[[0,\"#8e0152\"],[0.1,\"#c51b7d\"],[0.2,\"#de77ae\"],[0.3,\"#f1b6da\"],[0.4,\"#fde0ef\"],[0.5,\"#f7f7f7\"],[0.6,\"#e6f5d0\"],[0.7,\"#b8e186\"],[0.8,\"#7fbc41\"],[0.9,\"#4d9221\"],[1,\"#276419\"]]},\"xaxis\":{\"gridcolor\":\"white\",\"linecolor\":\"white\",\"ticks\":\"\",\"title\":{\"standoff\":15},\"zerolinecolor\":\"white\",\"automargin\":true,\"zerolinewidth\":2},\"yaxis\":{\"gridcolor\":\"white\",\"linecolor\":\"white\",\"ticks\":\"\",\"title\":{\"standoff\":15},\"zerolinecolor\":\"white\",\"automargin\":true,\"zerolinewidth\":2},\"scene\":{\"xaxis\":{\"backgroundcolor\":\"#E5ECF6\",\"gridcolor\":\"white\",\"linecolor\":\"white\",\"showbackground\":true,\"ticks\":\"\",\"zerolinecolor\":\"white\",\"gridwidth\":2},\"yaxis\":{\"backgroundcolor\":\"#E5ECF6\",\"gridcolor\":\"white\",\"linecolor\":\"white\",\"showbackground\":true,\"ticks\":\"\",\"zerolinecolor\":\"white\",\"gridwidth\":2},\"zaxis\":{\"backgroundcolor\":\"#E5ECF6\",\"gridcolor\":\"white\",\"linecolor\":\"white\",\"showbackground\":true,\"ticks\":\"\",\"zerolinecolor\":\"white\",\"gridwidth\":2}},\"shapedefaults\":{\"line\":{\"color\":\"#2a3f5f\"}},\"annotationdefaults\":{\"arrowcolor\":\"#2a3f5f\",\"arrowhead\":0,\"arrowwidth\":1},\"geo\":{\"bgcolor\":\"white\",\"landcolor\":\"#E5ECF6\",\"subunitcolor\":\"white\",\"showland\":true,\"showlakes\":true,\"lakecolor\":\"white\"},\"title\":{\"x\":0.05},\"mapbox\":{\"style\":\"light\"}}},\"scene\":{\"domain\":{\"x\":[0.0,1.0],\"y\":[0.0,1.0]},\"xaxis\":{\"title\":{\"text\":\"InflationRate\"}},\"yaxis\":{\"title\":{\"text\":\"PropPrice\"}},\"zaxis\":{\"title\":{\"text\":\"Bedrooms\"}}},\"coloraxis\":{\"colorbar\":{\"title\":{\"text\":\"property_segments\"}},\"colorscale\":[[0.0,\"#0d0887\"],[0.1111111111111111,\"#46039f\"],[0.2222222222222222,\"#7201a8\"],[0.3333333333333333,\"#9c179e\"],[0.4444444444444444,\"#bd3786\"],[0.5555555555555556,\"#d8576b\"],[0.6666666666666666,\"#ed7953\"],[0.7777777777777778,\"#fb9f3a\"],[0.8888888888888888,\"#fdca26\"],[1.0,\"#f0f921\"]]},\"legend\":{\"tracegroupgap\":0},\"margin\":{\"t\":60}},                        {\"responsive\": true}                    ).then(function(){\n",
       "                            \n",
       "var gd = document.getElementById('28d45ce5-81b3-4847-8eeb-86be684c8492');\n",
       "var x = new MutationObserver(function (mutations, observer) {{\n",
       "        var display = window.getComputedStyle(gd).display;\n",
       "        if (!display || display === 'none') {{\n",
       "            console.log([gd, 'removed!']);\n",
       "            Plotly.purge(gd);\n",
       "            observer.disconnect();\n",
       "        }}\n",
       "}});\n",
       "\n",
       "// Listen for the removal of the full notebook cells\n",
       "var notebookContainer = gd.closest('#notebook-container');\n",
       "if (notebookContainer) {{\n",
       "    x.observe(notebookContainer, {childList: true});\n",
       "}}\n",
       "\n",
       "// Listen for the clearing of the current output cell\n",
       "var outputEl = gd.closest('.output');\n",
       "if (outputEl) {{\n",
       "    x.observe(outputEl, {childList: true});\n",
       "}}\n",
       "\n",
       "                        })                };                });            </script>        </div>"
      ]
     },
     "metadata": {},
     "output_type": "display_data"
    }
   ],
   "source": [
    "import plotly.express as px\n",
    "\n",
    "fig = px.scatter_3d(df_NY_Orig_Pred, x='InflationRate', y='PropPrice', z='Bedrooms',\n",
    "              color='property_segments')\n",
    "fig.show()"
   ]
  },
  {
   "cell_type": "code",
   "execution_count": null,
   "id": "604af638",
   "metadata": {},
   "outputs": [],
   "source": []
  }
 ],
 "metadata": {
  "kernelspec": {
   "display_name": "Python 3 (ipykernel)",
   "language": "python",
   "name": "python3"
  },
  "language_info": {
   "codemirror_mode": {
    "name": "ipython",
    "version": 3
   },
   "file_extension": ".py",
   "mimetype": "text/x-python",
   "name": "python",
   "nbconvert_exporter": "python",
   "pygments_lexer": "ipython3",
   "version": "3.7.13"
  }
 },
 "nbformat": 4,
 "nbformat_minor": 5
}
