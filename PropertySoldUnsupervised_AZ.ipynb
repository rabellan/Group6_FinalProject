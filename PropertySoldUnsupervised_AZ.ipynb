{
 "cells": [
  {
   "cell_type": "code",
   "execution_count": 48,
   "id": "f253147c",
   "metadata": {},
   "outputs": [],
   "source": [
    "# Import the modules\n",
    "import numpy as np\n",
    "import pandas as pd\n",
    "from pathlib import Path\n",
    "from sklearn.preprocessing import StandardScaler\n",
    "from sklearn.metrics import balanced_accuracy_score, confusion_matrix, classification_report"
   ]
  },
  {
   "cell_type": "code",
   "execution_count": 49,
   "id": "acc6c197",
   "metadata": {},
   "outputs": [
    {
     "data": {
      "text/html": [
       "<div>\n",
       "<style scoped>\n",
       "    .dataframe tbody tr th:only-of-type {\n",
       "        vertical-align: middle;\n",
       "    }\n",
       "\n",
       "    .dataframe tbody tr th {\n",
       "        vertical-align: top;\n",
       "    }\n",
       "\n",
       "    .dataframe thead th {\n",
       "        text-align: right;\n",
       "    }\n",
       "</style>\n",
       "<table border=\"1\" class=\"dataframe\">\n",
       "  <thead>\n",
       "    <tr style=\"text-align: right;\">\n",
       "      <th></th>\n",
       "      <th>Address</th>\n",
       "      <th>City</th>\n",
       "      <th>Zip</th>\n",
       "      <th>SoldDate</th>\n",
       "      <th>Bathrooms</th>\n",
       "      <th>Bedrooms</th>\n",
       "      <th>LivingArea</th>\n",
       "      <th>LandArea</th>\n",
       "      <th>PropPrice</th>\n",
       "      <th>InflationRate</th>\n",
       "      <th>FederalInt</th>\n",
       "      <th>MonthID</th>\n",
       "    </tr>\n",
       "  </thead>\n",
       "  <tbody>\n",
       "    <tr>\n",
       "      <th>0</th>\n",
       "      <td>244 N Delaware St</td>\n",
       "      <td>Chandler</td>\n",
       "      <td>85225</td>\n",
       "      <td>2/19/24</td>\n",
       "      <td>3.0</td>\n",
       "      <td>4</td>\n",
       "      <td>1272</td>\n",
       "      <td>7532.0</td>\n",
       "      <td>275000</td>\n",
       "      <td>3.1</td>\n",
       "      <td>5.33</td>\n",
       "      <td>2</td>\n",
       "    </tr>\n",
       "    <tr>\n",
       "      <th>1</th>\n",
       "      <td>923 W Mesquite St</td>\n",
       "      <td>Chandler</td>\n",
       "      <td>85225</td>\n",
       "      <td>2/16/24</td>\n",
       "      <td>2.0</td>\n",
       "      <td>3</td>\n",
       "      <td>1480</td>\n",
       "      <td>7492.0</td>\n",
       "      <td>428000</td>\n",
       "      <td>3.1</td>\n",
       "      <td>5.33</td>\n",
       "      <td>2</td>\n",
       "    </tr>\n",
       "    <tr>\n",
       "      <th>2</th>\n",
       "      <td>304 W El Prado Rd</td>\n",
       "      <td>Chandler</td>\n",
       "      <td>85225</td>\n",
       "      <td>2/16/24</td>\n",
       "      <td>2.0</td>\n",
       "      <td>3</td>\n",
       "      <td>1300</td>\n",
       "      <td>8024.0</td>\n",
       "      <td>419000</td>\n",
       "      <td>3.1</td>\n",
       "      <td>5.33</td>\n",
       "      <td>2</td>\n",
       "    </tr>\n",
       "    <tr>\n",
       "      <th>3</th>\n",
       "      <td>1412 E Ironwood Dr</td>\n",
       "      <td>Chandler</td>\n",
       "      <td>85225</td>\n",
       "      <td>2/16/24</td>\n",
       "      <td>2.0</td>\n",
       "      <td>3</td>\n",
       "      <td>1308</td>\n",
       "      <td>7823.0</td>\n",
       "      <td>435300</td>\n",
       "      <td>3.1</td>\n",
       "      <td>5.33</td>\n",
       "      <td>2</td>\n",
       "    </tr>\n",
       "    <tr>\n",
       "      <th>4</th>\n",
       "      <td>663 E Manor Dr</td>\n",
       "      <td>Chandler</td>\n",
       "      <td>85225</td>\n",
       "      <td>2/16/24</td>\n",
       "      <td>2.0</td>\n",
       "      <td>3</td>\n",
       "      <td>1415</td>\n",
       "      <td>8407.0</td>\n",
       "      <td>494000</td>\n",
       "      <td>3.1</td>\n",
       "      <td>5.33</td>\n",
       "      <td>2</td>\n",
       "    </tr>\n",
       "  </tbody>\n",
       "</table>\n",
       "</div>"
      ],
      "text/plain": [
       "              Address      City    Zip SoldDate  Bathrooms  Bedrooms  \\\n",
       "0   244 N Delaware St  Chandler  85225  2/19/24        3.0         4   \n",
       "1   923 W Mesquite St  Chandler  85225  2/16/24        2.0         3   \n",
       "2   304 W El Prado Rd  Chandler  85225  2/16/24        2.0         3   \n",
       "3  1412 E Ironwood Dr  Chandler  85225  2/16/24        2.0         3   \n",
       "4      663 E Manor Dr  Chandler  85225  2/16/24        2.0         3   \n",
       "\n",
       "   LivingArea  LandArea  PropPrice  InflationRate  FederalInt  MonthID  \n",
       "0        1272    7532.0     275000            3.1        5.33        2  \n",
       "1        1480    7492.0     428000            3.1        5.33        2  \n",
       "2        1300    8024.0     419000            3.1        5.33        2  \n",
       "3        1308    7823.0     435300            3.1        5.33        2  \n",
       "4        1415    8407.0     494000            3.1        5.33        2  "
      ]
     },
     "execution_count": 49,
     "metadata": {},
     "output_type": "execute_result"
    }
   ],
   "source": [
    "# Read the CSV file from folder into a Pandas DataFrame\n",
    "#Removed 1731 E Camino Ct property after previous analysis showed there was likely a typo in number of Bathrooms\n",
    "file_path = Path(\"Sold_Inflation_M1_12.csv\")\n",
    "df_Sold_Inflation = pd.read_csv(file_path)\n",
    "\n",
    "\n",
    "# Review the DataFrame\n",
    "df_Sold_Inflation.head()"
   ]
  },
  {
   "cell_type": "code",
   "execution_count": 50,
   "id": "3af1317f",
   "metadata": {},
   "outputs": [
    {
     "data": {
      "text/html": [
       "<div>\n",
       "<style scoped>\n",
       "    .dataframe tbody tr th:only-of-type {\n",
       "        vertical-align: middle;\n",
       "    }\n",
       "\n",
       "    .dataframe tbody tr th {\n",
       "        vertical-align: top;\n",
       "    }\n",
       "\n",
       "    .dataframe thead th {\n",
       "        text-align: right;\n",
       "    }\n",
       "</style>\n",
       "<table border=\"1\" class=\"dataframe\">\n",
       "  <thead>\n",
       "    <tr style=\"text-align: right;\">\n",
       "      <th></th>\n",
       "      <th>Address</th>\n",
       "      <th>City</th>\n",
       "      <th>Zip</th>\n",
       "      <th>SoldDate</th>\n",
       "      <th>Bathrooms</th>\n",
       "      <th>Bedrooms</th>\n",
       "      <th>LivingArea</th>\n",
       "      <th>LandArea</th>\n",
       "      <th>PropPrice</th>\n",
       "      <th>InflationRate</th>\n",
       "      <th>FederalInt</th>\n",
       "      <th>MonthID</th>\n",
       "    </tr>\n",
       "  </thead>\n",
       "  <tbody>\n",
       "    <tr>\n",
       "      <th>0</th>\n",
       "      <td>244 N Delaware St</td>\n",
       "      <td>Chandler</td>\n",
       "      <td>85225</td>\n",
       "      <td>2/19/24</td>\n",
       "      <td>3.0</td>\n",
       "      <td>4</td>\n",
       "      <td>1272</td>\n",
       "      <td>7532.0</td>\n",
       "      <td>275000</td>\n",
       "      <td>3.10</td>\n",
       "      <td>5.33</td>\n",
       "      <td>2</td>\n",
       "    </tr>\n",
       "    <tr>\n",
       "      <th>1</th>\n",
       "      <td>923 W Mesquite St</td>\n",
       "      <td>Chandler</td>\n",
       "      <td>85225</td>\n",
       "      <td>2/16/24</td>\n",
       "      <td>2.0</td>\n",
       "      <td>3</td>\n",
       "      <td>1480</td>\n",
       "      <td>7492.0</td>\n",
       "      <td>428000</td>\n",
       "      <td>3.10</td>\n",
       "      <td>5.33</td>\n",
       "      <td>2</td>\n",
       "    </tr>\n",
       "    <tr>\n",
       "      <th>2</th>\n",
       "      <td>304 W El Prado Rd</td>\n",
       "      <td>Chandler</td>\n",
       "      <td>85225</td>\n",
       "      <td>2/16/24</td>\n",
       "      <td>2.0</td>\n",
       "      <td>3</td>\n",
       "      <td>1300</td>\n",
       "      <td>8024.0</td>\n",
       "      <td>419000</td>\n",
       "      <td>3.10</td>\n",
       "      <td>5.33</td>\n",
       "      <td>2</td>\n",
       "    </tr>\n",
       "    <tr>\n",
       "      <th>3</th>\n",
       "      <td>1412 E Ironwood Dr</td>\n",
       "      <td>Chandler</td>\n",
       "      <td>85225</td>\n",
       "      <td>2/16/24</td>\n",
       "      <td>2.0</td>\n",
       "      <td>3</td>\n",
       "      <td>1308</td>\n",
       "      <td>7823.0</td>\n",
       "      <td>435300</td>\n",
       "      <td>3.10</td>\n",
       "      <td>5.33</td>\n",
       "      <td>2</td>\n",
       "    </tr>\n",
       "    <tr>\n",
       "      <th>4</th>\n",
       "      <td>663 E Manor Dr</td>\n",
       "      <td>Chandler</td>\n",
       "      <td>85225</td>\n",
       "      <td>2/16/24</td>\n",
       "      <td>2.0</td>\n",
       "      <td>3</td>\n",
       "      <td>1415</td>\n",
       "      <td>8407.0</td>\n",
       "      <td>494000</td>\n",
       "      <td>3.10</td>\n",
       "      <td>5.33</td>\n",
       "      <td>2</td>\n",
       "    </tr>\n",
       "    <tr>\n",
       "      <th>...</th>\n",
       "      <td>...</td>\n",
       "      <td>...</td>\n",
       "      <td>...</td>\n",
       "      <td>...</td>\n",
       "      <td>...</td>\n",
       "      <td>...</td>\n",
       "      <td>...</td>\n",
       "      <td>...</td>\n",
       "      <td>...</td>\n",
       "      <td>...</td>\n",
       "      <td>...</td>\n",
       "      <td>...</td>\n",
       "    </tr>\n",
       "    <tr>\n",
       "      <th>2146</th>\n",
       "      <td>5469 NW Meadowlands Ter</td>\n",
       "      <td>Portland</td>\n",
       "      <td>97229</td>\n",
       "      <td>1/2/24</td>\n",
       "      <td>3.0</td>\n",
       "      <td>4</td>\n",
       "      <td>2592</td>\n",
       "      <td>6969.6</td>\n",
       "      <td>765000</td>\n",
       "      <td>3.09</td>\n",
       "      <td>5.33</td>\n",
       "      <td>1</td>\n",
       "    </tr>\n",
       "    <tr>\n",
       "      <th>2147</th>\n",
       "      <td>1837 NW Caitlin Ter</td>\n",
       "      <td>Portland</td>\n",
       "      <td>97229</td>\n",
       "      <td>12/29/23</td>\n",
       "      <td>3.0</td>\n",
       "      <td>4</td>\n",
       "      <td>2146</td>\n",
       "      <td>8712.0</td>\n",
       "      <td>700000</td>\n",
       "      <td>3.35</td>\n",
       "      <td>5.33</td>\n",
       "      <td>12</td>\n",
       "    </tr>\n",
       "    <tr>\n",
       "      <th>2148</th>\n",
       "      <td>11060 NW Cornell Rd</td>\n",
       "      <td>Portland</td>\n",
       "      <td>97229</td>\n",
       "      <td>12/29/23</td>\n",
       "      <td>2.0</td>\n",
       "      <td>3</td>\n",
       "      <td>2048</td>\n",
       "      <td>16117.2</td>\n",
       "      <td>574000</td>\n",
       "      <td>3.35</td>\n",
       "      <td>5.33</td>\n",
       "      <td>12</td>\n",
       "    </tr>\n",
       "    <tr>\n",
       "      <th>2149</th>\n",
       "      <td>200 NW 101st Ave</td>\n",
       "      <td>Portland</td>\n",
       "      <td>97229</td>\n",
       "      <td>12/29/23</td>\n",
       "      <td>3.0</td>\n",
       "      <td>3</td>\n",
       "      <td>2520</td>\n",
       "      <td>17859.6</td>\n",
       "      <td>600000</td>\n",
       "      <td>3.35</td>\n",
       "      <td>5.33</td>\n",
       "      <td>12</td>\n",
       "    </tr>\n",
       "    <tr>\n",
       "      <th>2150</th>\n",
       "      <td>13027 NW Hartford St</td>\n",
       "      <td>Portland</td>\n",
       "      <td>97229</td>\n",
       "      <td>12/29/23</td>\n",
       "      <td>4.0</td>\n",
       "      <td>5</td>\n",
       "      <td>2947</td>\n",
       "      <td>9147.6</td>\n",
       "      <td>785000</td>\n",
       "      <td>3.35</td>\n",
       "      <td>5.33</td>\n",
       "      <td>12</td>\n",
       "    </tr>\n",
       "  </tbody>\n",
       "</table>\n",
       "<p>2151 rows × 12 columns</p>\n",
       "</div>"
      ],
      "text/plain": [
       "                      Address      City    Zip  SoldDate  Bathrooms  Bedrooms  \\\n",
       "0           244 N Delaware St  Chandler  85225   2/19/24        3.0         4   \n",
       "1           923 W Mesquite St  Chandler  85225   2/16/24        2.0         3   \n",
       "2           304 W El Prado Rd  Chandler  85225   2/16/24        2.0         3   \n",
       "3          1412 E Ironwood Dr  Chandler  85225   2/16/24        2.0         3   \n",
       "4              663 E Manor Dr  Chandler  85225   2/16/24        2.0         3   \n",
       "...                       ...       ...    ...       ...        ...       ...   \n",
       "2146  5469 NW Meadowlands Ter  Portland  97229    1/2/24        3.0         4   \n",
       "2147      1837 NW Caitlin Ter  Portland  97229  12/29/23        3.0         4   \n",
       "2148      11060 NW Cornell Rd  Portland  97229  12/29/23        2.0         3   \n",
       "2149         200 NW 101st Ave  Portland  97229  12/29/23        3.0         3   \n",
       "2150     13027 NW Hartford St  Portland  97229  12/29/23        4.0         5   \n",
       "\n",
       "      LivingArea  LandArea  PropPrice  InflationRate  FederalInt  MonthID  \n",
       "0           1272    7532.0     275000           3.10        5.33        2  \n",
       "1           1480    7492.0     428000           3.10        5.33        2  \n",
       "2           1300    8024.0     419000           3.10        5.33        2  \n",
       "3           1308    7823.0     435300           3.10        5.33        2  \n",
       "4           1415    8407.0     494000           3.10        5.33        2  \n",
       "...          ...       ...        ...            ...         ...      ...  \n",
       "2146        2592    6969.6     765000           3.09        5.33        1  \n",
       "2147        2146    8712.0     700000           3.35        5.33       12  \n",
       "2148        2048   16117.2     574000           3.35        5.33       12  \n",
       "2149        2520   17859.6     600000           3.35        5.33       12  \n",
       "2150        2947    9147.6     785000           3.35        5.33       12  \n",
       "\n",
       "[2151 rows x 12 columns]"
      ]
     },
     "execution_count": 50,
     "metadata": {},
     "output_type": "execute_result"
    }
   ],
   "source": [
    "#convert LandArea reported in acres to sqft (anything less than a value of 50)\n",
    "df_Sold_Inflation['LandArea'] = df_Sold_Inflation['LandArea'].astype(float)\n",
    "for index, row in df_Sold_Inflation.iterrows():\n",
    "    if row['LandArea'] < 50:\n",
    "        df_Sold_Inflation.at[index, 'LandArea'] *= 43560\n",
    "\n",
    "df_Sold_Inflation_new=df_Sold_Inflation\n",
    "df_Sold_Inflation_new"
   ]
  },
  {
   "cell_type": "code",
   "execution_count": 51,
   "id": "a80ad71d",
   "metadata": {},
   "outputs": [
    {
     "data": {
      "text/html": [
       "<div>\n",
       "<style scoped>\n",
       "    .dataframe tbody tr th:only-of-type {\n",
       "        vertical-align: middle;\n",
       "    }\n",
       "\n",
       "    .dataframe tbody tr th {\n",
       "        vertical-align: top;\n",
       "    }\n",
       "\n",
       "    .dataframe thead th {\n",
       "        text-align: right;\n",
       "    }\n",
       "</style>\n",
       "<table border=\"1\" class=\"dataframe\">\n",
       "  <thead>\n",
       "    <tr style=\"text-align: right;\">\n",
       "      <th></th>\n",
       "      <th>Address</th>\n",
       "      <th>City</th>\n",
       "      <th>Zip</th>\n",
       "      <th>SoldDate</th>\n",
       "      <th>Bathrooms</th>\n",
       "      <th>Bedrooms</th>\n",
       "      <th>LivingArea</th>\n",
       "      <th>LandArea</th>\n",
       "      <th>PropPrice</th>\n",
       "      <th>InflationRate</th>\n",
       "      <th>FederalInt</th>\n",
       "      <th>MonthID</th>\n",
       "    </tr>\n",
       "  </thead>\n",
       "  <tbody>\n",
       "    <tr>\n",
       "      <th>0</th>\n",
       "      <td>244 N Delaware St</td>\n",
       "      <td>Chandler</td>\n",
       "      <td>85225</td>\n",
       "      <td>2/19/24</td>\n",
       "      <td>3.0</td>\n",
       "      <td>4</td>\n",
       "      <td>1272</td>\n",
       "      <td>7532.0</td>\n",
       "      <td>275000</td>\n",
       "      <td>3.10</td>\n",
       "      <td>5.33</td>\n",
       "      <td>2</td>\n",
       "    </tr>\n",
       "    <tr>\n",
       "      <th>1</th>\n",
       "      <td>923 W Mesquite St</td>\n",
       "      <td>Chandler</td>\n",
       "      <td>85225</td>\n",
       "      <td>2/16/24</td>\n",
       "      <td>2.0</td>\n",
       "      <td>3</td>\n",
       "      <td>1480</td>\n",
       "      <td>7492.0</td>\n",
       "      <td>428000</td>\n",
       "      <td>3.10</td>\n",
       "      <td>5.33</td>\n",
       "      <td>2</td>\n",
       "    </tr>\n",
       "    <tr>\n",
       "      <th>2</th>\n",
       "      <td>304 W El Prado Rd</td>\n",
       "      <td>Chandler</td>\n",
       "      <td>85225</td>\n",
       "      <td>2/16/24</td>\n",
       "      <td>2.0</td>\n",
       "      <td>3</td>\n",
       "      <td>1300</td>\n",
       "      <td>8024.0</td>\n",
       "      <td>419000</td>\n",
       "      <td>3.10</td>\n",
       "      <td>5.33</td>\n",
       "      <td>2</td>\n",
       "    </tr>\n",
       "    <tr>\n",
       "      <th>3</th>\n",
       "      <td>1412 E Ironwood Dr</td>\n",
       "      <td>Chandler</td>\n",
       "      <td>85225</td>\n",
       "      <td>2/16/24</td>\n",
       "      <td>2.0</td>\n",
       "      <td>3</td>\n",
       "      <td>1308</td>\n",
       "      <td>7823.0</td>\n",
       "      <td>435300</td>\n",
       "      <td>3.10</td>\n",
       "      <td>5.33</td>\n",
       "      <td>2</td>\n",
       "    </tr>\n",
       "    <tr>\n",
       "      <th>4</th>\n",
       "      <td>663 E Manor Dr</td>\n",
       "      <td>Chandler</td>\n",
       "      <td>85225</td>\n",
       "      <td>2/16/24</td>\n",
       "      <td>2.0</td>\n",
       "      <td>3</td>\n",
       "      <td>1415</td>\n",
       "      <td>8407.0</td>\n",
       "      <td>494000</td>\n",
       "      <td>3.10</td>\n",
       "      <td>5.33</td>\n",
       "      <td>2</td>\n",
       "    </tr>\n",
       "    <tr>\n",
       "      <th>...</th>\n",
       "      <td>...</td>\n",
       "      <td>...</td>\n",
       "      <td>...</td>\n",
       "      <td>...</td>\n",
       "      <td>...</td>\n",
       "      <td>...</td>\n",
       "      <td>...</td>\n",
       "      <td>...</td>\n",
       "      <td>...</td>\n",
       "      <td>...</td>\n",
       "      <td>...</td>\n",
       "      <td>...</td>\n",
       "    </tr>\n",
       "    <tr>\n",
       "      <th>2146</th>\n",
       "      <td>5469 NW Meadowlands Ter</td>\n",
       "      <td>Portland</td>\n",
       "      <td>97229</td>\n",
       "      <td>1/2/24</td>\n",
       "      <td>3.0</td>\n",
       "      <td>4</td>\n",
       "      <td>2592</td>\n",
       "      <td>6969.6</td>\n",
       "      <td>765000</td>\n",
       "      <td>3.09</td>\n",
       "      <td>5.33</td>\n",
       "      <td>1</td>\n",
       "    </tr>\n",
       "    <tr>\n",
       "      <th>2147</th>\n",
       "      <td>1837 NW Caitlin Ter</td>\n",
       "      <td>Portland</td>\n",
       "      <td>97229</td>\n",
       "      <td>12/29/23</td>\n",
       "      <td>3.0</td>\n",
       "      <td>4</td>\n",
       "      <td>2146</td>\n",
       "      <td>8712.0</td>\n",
       "      <td>700000</td>\n",
       "      <td>3.35</td>\n",
       "      <td>5.33</td>\n",
       "      <td>12</td>\n",
       "    </tr>\n",
       "    <tr>\n",
       "      <th>2148</th>\n",
       "      <td>11060 NW Cornell Rd</td>\n",
       "      <td>Portland</td>\n",
       "      <td>97229</td>\n",
       "      <td>12/29/23</td>\n",
       "      <td>2.0</td>\n",
       "      <td>3</td>\n",
       "      <td>2048</td>\n",
       "      <td>16117.2</td>\n",
       "      <td>574000</td>\n",
       "      <td>3.35</td>\n",
       "      <td>5.33</td>\n",
       "      <td>12</td>\n",
       "    </tr>\n",
       "    <tr>\n",
       "      <th>2149</th>\n",
       "      <td>200 NW 101st Ave</td>\n",
       "      <td>Portland</td>\n",
       "      <td>97229</td>\n",
       "      <td>12/29/23</td>\n",
       "      <td>3.0</td>\n",
       "      <td>3</td>\n",
       "      <td>2520</td>\n",
       "      <td>17859.6</td>\n",
       "      <td>600000</td>\n",
       "      <td>3.35</td>\n",
       "      <td>5.33</td>\n",
       "      <td>12</td>\n",
       "    </tr>\n",
       "    <tr>\n",
       "      <th>2150</th>\n",
       "      <td>13027 NW Hartford St</td>\n",
       "      <td>Portland</td>\n",
       "      <td>97229</td>\n",
       "      <td>12/29/23</td>\n",
       "      <td>4.0</td>\n",
       "      <td>5</td>\n",
       "      <td>2947</td>\n",
       "      <td>9147.6</td>\n",
       "      <td>785000</td>\n",
       "      <td>3.35</td>\n",
       "      <td>5.33</td>\n",
       "      <td>12</td>\n",
       "    </tr>\n",
       "  </tbody>\n",
       "</table>\n",
       "<p>2151 rows × 12 columns</p>\n",
       "</div>"
      ],
      "text/plain": [
       "                      Address      City    Zip  SoldDate  Bathrooms  Bedrooms  \\\n",
       "0           244 N Delaware St  Chandler  85225   2/19/24        3.0         4   \n",
       "1           923 W Mesquite St  Chandler  85225   2/16/24        2.0         3   \n",
       "2           304 W El Prado Rd  Chandler  85225   2/16/24        2.0         3   \n",
       "3          1412 E Ironwood Dr  Chandler  85225   2/16/24        2.0         3   \n",
       "4              663 E Manor Dr  Chandler  85225   2/16/24        2.0         3   \n",
       "...                       ...       ...    ...       ...        ...       ...   \n",
       "2146  5469 NW Meadowlands Ter  Portland  97229    1/2/24        3.0         4   \n",
       "2147      1837 NW Caitlin Ter  Portland  97229  12/29/23        3.0         4   \n",
       "2148      11060 NW Cornell Rd  Portland  97229  12/29/23        2.0         3   \n",
       "2149         200 NW 101st Ave  Portland  97229  12/29/23        3.0         3   \n",
       "2150     13027 NW Hartford St  Portland  97229  12/29/23        4.0         5   \n",
       "\n",
       "      LivingArea  LandArea  PropPrice  InflationRate  FederalInt  MonthID  \n",
       "0           1272    7532.0     275000           3.10        5.33        2  \n",
       "1           1480    7492.0     428000           3.10        5.33        2  \n",
       "2           1300    8024.0     419000           3.10        5.33        2  \n",
       "3           1308    7823.0     435300           3.10        5.33        2  \n",
       "4           1415    8407.0     494000           3.10        5.33        2  \n",
       "...          ...       ...        ...            ...         ...      ...  \n",
       "2146        2592    6969.6     765000           3.09        5.33        1  \n",
       "2147        2146    8712.0     700000           3.35        5.33       12  \n",
       "2148        2048   16117.2     574000           3.35        5.33       12  \n",
       "2149        2520   17859.6     600000           3.35        5.33       12  \n",
       "2150        2947    9147.6     785000           3.35        5.33       12  \n",
       "\n",
       "[2151 rows x 12 columns]"
      ]
     },
     "execution_count": 51,
     "metadata": {},
     "output_type": "execute_result"
    }
   ],
   "source": [
    "df_Sold_Inflation_new['Zip'] = df_Sold_Inflation_new['Zip'].astype(str)\n",
    "df_Sold_Inflation_new"
   ]
  },
  {
   "cell_type": "code",
   "execution_count": 52,
   "id": "8745d21d",
   "metadata": {},
   "outputs": [],
   "source": [
    "# Encode (convert to dummy variables) the EnergyType column\n",
    "df_zip_dummies = pd.get_dummies(df_Sold_Inflation_new[\"Zip\"])\n",
    "df_month_dummies = pd.get_dummies(df_Sold_Inflation_new[\"MonthID\"])"
   ]
  },
  {
   "cell_type": "code",
   "execution_count": 53,
   "id": "e4422525",
   "metadata": {},
   "outputs": [
    {
     "data": {
      "text/html": [
       "<div>\n",
       "<style scoped>\n",
       "    .dataframe tbody tr th:only-of-type {\n",
       "        vertical-align: middle;\n",
       "    }\n",
       "\n",
       "    .dataframe tbody tr th {\n",
       "        vertical-align: top;\n",
       "    }\n",
       "\n",
       "    .dataframe thead th {\n",
       "        text-align: right;\n",
       "    }\n",
       "</style>\n",
       "<table border=\"1\" class=\"dataframe\">\n",
       "  <thead>\n",
       "    <tr style=\"text-align: right;\">\n",
       "      <th></th>\n",
       "      <th>Bathrooms</th>\n",
       "      <th>Bedrooms</th>\n",
       "      <th>LivingArea</th>\n",
       "      <th>LandArea</th>\n",
       "      <th>PropPrice</th>\n",
       "    </tr>\n",
       "  </thead>\n",
       "  <tbody>\n",
       "    <tr>\n",
       "      <th>0</th>\n",
       "      <td>-0.102123</td>\n",
       "      <td>0.014309</td>\n",
       "      <td>-0.255756</td>\n",
       "      <td>-0.132224</td>\n",
       "      <td>-0.407042</td>\n",
       "    </tr>\n",
       "    <tr>\n",
       "      <th>1</th>\n",
       "      <td>-0.544332</td>\n",
       "      <td>-0.613817</td>\n",
       "      <td>-0.222988</td>\n",
       "      <td>-0.133298</td>\n",
       "      <td>-0.382477</td>\n",
       "    </tr>\n",
       "    <tr>\n",
       "      <th>2</th>\n",
       "      <td>-0.544332</td>\n",
       "      <td>-0.613817</td>\n",
       "      <td>-0.251345</td>\n",
       "      <td>-0.119025</td>\n",
       "      <td>-0.383922</td>\n",
       "    </tr>\n",
       "    <tr>\n",
       "      <th>3</th>\n",
       "      <td>-0.544332</td>\n",
       "      <td>-0.613817</td>\n",
       "      <td>-0.250085</td>\n",
       "      <td>-0.124418</td>\n",
       "      <td>-0.381305</td>\n",
       "    </tr>\n",
       "    <tr>\n",
       "      <th>4</th>\n",
       "      <td>-0.544332</td>\n",
       "      <td>-0.613817</td>\n",
       "      <td>-0.233228</td>\n",
       "      <td>-0.108751</td>\n",
       "      <td>-0.371880</td>\n",
       "    </tr>\n",
       "    <tr>\n",
       "      <th>...</th>\n",
       "      <td>...</td>\n",
       "      <td>...</td>\n",
       "      <td>...</td>\n",
       "      <td>...</td>\n",
       "      <td>...</td>\n",
       "    </tr>\n",
       "    <tr>\n",
       "      <th>2146</th>\n",
       "      <td>-0.102123</td>\n",
       "      <td>0.014309</td>\n",
       "      <td>-0.047805</td>\n",
       "      <td>-0.147312</td>\n",
       "      <td>-0.328370</td>\n",
       "    </tr>\n",
       "    <tr>\n",
       "      <th>2147</th>\n",
       "      <td>-0.102123</td>\n",
       "      <td>0.014309</td>\n",
       "      <td>-0.118067</td>\n",
       "      <td>-0.100568</td>\n",
       "      <td>-0.338806</td>\n",
       "    </tr>\n",
       "    <tr>\n",
       "      <th>2148</th>\n",
       "      <td>-0.544332</td>\n",
       "      <td>-0.613817</td>\n",
       "      <td>-0.133506</td>\n",
       "      <td>0.098093</td>\n",
       "      <td>-0.359036</td>\n",
       "    </tr>\n",
       "    <tr>\n",
       "      <th>2149</th>\n",
       "      <td>-0.102123</td>\n",
       "      <td>-0.613817</td>\n",
       "      <td>-0.059148</td>\n",
       "      <td>0.144837</td>\n",
       "      <td>-0.354861</td>\n",
       "    </tr>\n",
       "    <tr>\n",
       "      <th>2150</th>\n",
       "      <td>0.340085</td>\n",
       "      <td>0.642435</td>\n",
       "      <td>0.008121</td>\n",
       "      <td>-0.088882</td>\n",
       "      <td>-0.325159</td>\n",
       "    </tr>\n",
       "  </tbody>\n",
       "</table>\n",
       "<p>2151 rows × 5 columns</p>\n",
       "</div>"
      ],
      "text/plain": [
       "      Bathrooms  Bedrooms  LivingArea  LandArea  PropPrice\n",
       "0     -0.102123  0.014309   -0.255756 -0.132224  -0.407042\n",
       "1     -0.544332 -0.613817   -0.222988 -0.133298  -0.382477\n",
       "2     -0.544332 -0.613817   -0.251345 -0.119025  -0.383922\n",
       "3     -0.544332 -0.613817   -0.250085 -0.124418  -0.381305\n",
       "4     -0.544332 -0.613817   -0.233228 -0.108751  -0.371880\n",
       "...         ...       ...         ...       ...        ...\n",
       "2146  -0.102123  0.014309   -0.047805 -0.147312  -0.328370\n",
       "2147  -0.102123  0.014309   -0.118067 -0.100568  -0.338806\n",
       "2148  -0.544332 -0.613817   -0.133506  0.098093  -0.359036\n",
       "2149  -0.102123 -0.613817   -0.059148  0.144837  -0.354861\n",
       "2150   0.340085  0.642435    0.008121 -0.088882  -0.325159\n",
       "\n",
       "[2151 rows x 5 columns]"
      ]
     },
     "execution_count": 53,
     "metadata": {},
     "output_type": "execute_result"
    }
   ],
   "source": [
    "# Scaling the numeric columns\n",
    "df_Sold_Inflation_scaled = StandardScaler().fit_transform(df_Sold_Inflation_new[[\"Bathrooms\", \"Bedrooms\", \"LivingArea\",\"LandArea\",\"PropPrice\"]])\n",
    "\n",
    "# Creating a DataFrame with with the scaled data\n",
    "df_sold_transformed = pd.DataFrame(df_Sold_Inflation_scaled, columns=[\"Bathrooms\", \"Bedrooms\", \"LivingArea\",\"LandArea\",\"PropPrice\"])\n",
    "\n",
    "# # Display sample data\n",
    "df_sold_transformed"
   ]
  },
  {
   "cell_type": "code",
   "execution_count": 54,
   "id": "044b7ec8",
   "metadata": {},
   "outputs": [
    {
     "data": {
      "text/html": [
       "<div>\n",
       "<style scoped>\n",
       "    .dataframe tbody tr th:only-of-type {\n",
       "        vertical-align: middle;\n",
       "    }\n",
       "\n",
       "    .dataframe tbody tr th {\n",
       "        vertical-align: top;\n",
       "    }\n",
       "\n",
       "    .dataframe thead th {\n",
       "        text-align: right;\n",
       "    }\n",
       "</style>\n",
       "<table border=\"1\" class=\"dataframe\">\n",
       "  <thead>\n",
       "    <tr style=\"text-align: right;\">\n",
       "      <th></th>\n",
       "      <th>Bathrooms</th>\n",
       "      <th>Bedrooms</th>\n",
       "      <th>LivingArea</th>\n",
       "      <th>LandArea</th>\n",
       "      <th>PropPrice</th>\n",
       "      <th>Zip</th>\n",
       "    </tr>\n",
       "  </thead>\n",
       "  <tbody>\n",
       "    <tr>\n",
       "      <th>0</th>\n",
       "      <td>-0.102123</td>\n",
       "      <td>0.014309</td>\n",
       "      <td>-0.255756</td>\n",
       "      <td>-0.132224</td>\n",
       "      <td>-0.407042</td>\n",
       "      <td>85225</td>\n",
       "    </tr>\n",
       "    <tr>\n",
       "      <th>1</th>\n",
       "      <td>-0.544332</td>\n",
       "      <td>-0.613817</td>\n",
       "      <td>-0.222988</td>\n",
       "      <td>-0.133298</td>\n",
       "      <td>-0.382477</td>\n",
       "      <td>85225</td>\n",
       "    </tr>\n",
       "    <tr>\n",
       "      <th>2</th>\n",
       "      <td>-0.544332</td>\n",
       "      <td>-0.613817</td>\n",
       "      <td>-0.251345</td>\n",
       "      <td>-0.119025</td>\n",
       "      <td>-0.383922</td>\n",
       "      <td>85225</td>\n",
       "    </tr>\n",
       "    <tr>\n",
       "      <th>3</th>\n",
       "      <td>-0.544332</td>\n",
       "      <td>-0.613817</td>\n",
       "      <td>-0.250085</td>\n",
       "      <td>-0.124418</td>\n",
       "      <td>-0.381305</td>\n",
       "      <td>85225</td>\n",
       "    </tr>\n",
       "    <tr>\n",
       "      <th>4</th>\n",
       "      <td>-0.544332</td>\n",
       "      <td>-0.613817</td>\n",
       "      <td>-0.233228</td>\n",
       "      <td>-0.108751</td>\n",
       "      <td>-0.371880</td>\n",
       "      <td>85225</td>\n",
       "    </tr>\n",
       "    <tr>\n",
       "      <th>...</th>\n",
       "      <td>...</td>\n",
       "      <td>...</td>\n",
       "      <td>...</td>\n",
       "      <td>...</td>\n",
       "      <td>...</td>\n",
       "      <td>...</td>\n",
       "    </tr>\n",
       "    <tr>\n",
       "      <th>2146</th>\n",
       "      <td>-0.102123</td>\n",
       "      <td>0.014309</td>\n",
       "      <td>-0.047805</td>\n",
       "      <td>-0.147312</td>\n",
       "      <td>-0.328370</td>\n",
       "      <td>97229</td>\n",
       "    </tr>\n",
       "    <tr>\n",
       "      <th>2147</th>\n",
       "      <td>-0.102123</td>\n",
       "      <td>0.014309</td>\n",
       "      <td>-0.118067</td>\n",
       "      <td>-0.100568</td>\n",
       "      <td>-0.338806</td>\n",
       "      <td>97229</td>\n",
       "    </tr>\n",
       "    <tr>\n",
       "      <th>2148</th>\n",
       "      <td>-0.544332</td>\n",
       "      <td>-0.613817</td>\n",
       "      <td>-0.133506</td>\n",
       "      <td>0.098093</td>\n",
       "      <td>-0.359036</td>\n",
       "      <td>97229</td>\n",
       "    </tr>\n",
       "    <tr>\n",
       "      <th>2149</th>\n",
       "      <td>-0.102123</td>\n",
       "      <td>-0.613817</td>\n",
       "      <td>-0.059148</td>\n",
       "      <td>0.144837</td>\n",
       "      <td>-0.354861</td>\n",
       "      <td>97229</td>\n",
       "    </tr>\n",
       "    <tr>\n",
       "      <th>2150</th>\n",
       "      <td>0.340085</td>\n",
       "      <td>0.642435</td>\n",
       "      <td>0.008121</td>\n",
       "      <td>-0.088882</td>\n",
       "      <td>-0.325159</td>\n",
       "      <td>97229</td>\n",
       "    </tr>\n",
       "  </tbody>\n",
       "</table>\n",
       "<p>2151 rows × 6 columns</p>\n",
       "</div>"
      ],
      "text/plain": [
       "      Bathrooms  Bedrooms  LivingArea  LandArea  PropPrice    Zip\n",
       "0     -0.102123  0.014309   -0.255756 -0.132224  -0.407042  85225\n",
       "1     -0.544332 -0.613817   -0.222988 -0.133298  -0.382477  85225\n",
       "2     -0.544332 -0.613817   -0.251345 -0.119025  -0.383922  85225\n",
       "3     -0.544332 -0.613817   -0.250085 -0.124418  -0.381305  85225\n",
       "4     -0.544332 -0.613817   -0.233228 -0.108751  -0.371880  85225\n",
       "...         ...       ...         ...       ...        ...    ...\n",
       "2146  -0.102123  0.014309   -0.047805 -0.147312  -0.328370  97229\n",
       "2147  -0.102123  0.014309   -0.118067 -0.100568  -0.338806  97229\n",
       "2148  -0.544332 -0.613817   -0.133506  0.098093  -0.359036  97229\n",
       "2149  -0.102123 -0.613817   -0.059148  0.144837  -0.354861  97229\n",
       "2150   0.340085  0.642435    0.008121 -0.088882  -0.325159  97229\n",
       "\n",
       "[2151 rows x 6 columns]"
      ]
     },
     "execution_count": 54,
     "metadata": {},
     "output_type": "execute_result"
    }
   ],
   "source": [
    "# Concatenate the df_zip_dummies and the df_month_dummies DataFrames\n",
    "df_sold_transformed = pd.concat([df_sold_transformed, df_Sold_Inflation_new['Zip']], axis=1)\n",
    "\n",
    "# Display sample data\n",
    "df_sold_transformed"
   ]
  },
  {
   "cell_type": "code",
   "execution_count": 55,
   "id": "97028b53",
   "metadata": {},
   "outputs": [],
   "source": [
    "#Split above dataframe by zip\n",
    "df_Az=df_sold_transformed[df_sold_transformed['Zip']=='85225']\n",
    "df_Chi=df_sold_transformed[df_sold_transformed['Zip']=='60629']\n",
    "df_LA=df_sold_transformed[df_sold_transformed['Zip']=='90210']\n",
    "df_Fl=df_sold_transformed[df_sold_transformed['Zip']=='33186']\n",
    "df_NY=df_sold_transformed[df_sold_transformed['Zip']=='11368']\n",
    "df_OR=df_sold_transformed[df_sold_transformed['Zip']=='97229']\n"
   ]
  },
  {
   "cell_type": "code",
   "execution_count": 56,
   "id": "507a5ceb",
   "metadata": {},
   "outputs": [
    {
     "data": {
      "text/html": [
       "<div>\n",
       "<style scoped>\n",
       "    .dataframe tbody tr th:only-of-type {\n",
       "        vertical-align: middle;\n",
       "    }\n",
       "\n",
       "    .dataframe tbody tr th {\n",
       "        vertical-align: top;\n",
       "    }\n",
       "\n",
       "    .dataframe thead th {\n",
       "        text-align: right;\n",
       "    }\n",
       "</style>\n",
       "<table border=\"1\" class=\"dataframe\">\n",
       "  <thead>\n",
       "    <tr style=\"text-align: right;\">\n",
       "      <th></th>\n",
       "      <th>Address</th>\n",
       "      <th>City</th>\n",
       "      <th>Zip</th>\n",
       "      <th>SoldDate</th>\n",
       "      <th>Bathrooms</th>\n",
       "      <th>Bedrooms</th>\n",
       "      <th>LivingArea</th>\n",
       "      <th>LandArea</th>\n",
       "      <th>PropPrice</th>\n",
       "      <th>InflationRate</th>\n",
       "      <th>FederalInt</th>\n",
       "      <th>MonthID</th>\n",
       "    </tr>\n",
       "  </thead>\n",
       "  <tbody>\n",
       "    <tr>\n",
       "      <th>0</th>\n",
       "      <td>244 N Delaware St</td>\n",
       "      <td>Chandler</td>\n",
       "      <td>85225</td>\n",
       "      <td>2/19/24</td>\n",
       "      <td>3.0</td>\n",
       "      <td>4</td>\n",
       "      <td>1272</td>\n",
       "      <td>7532.0</td>\n",
       "      <td>275000</td>\n",
       "      <td>3.10</td>\n",
       "      <td>5.33</td>\n",
       "      <td>2</td>\n",
       "    </tr>\n",
       "    <tr>\n",
       "      <th>1</th>\n",
       "      <td>923 W Mesquite St</td>\n",
       "      <td>Chandler</td>\n",
       "      <td>85225</td>\n",
       "      <td>2/16/24</td>\n",
       "      <td>2.0</td>\n",
       "      <td>3</td>\n",
       "      <td>1480</td>\n",
       "      <td>7492.0</td>\n",
       "      <td>428000</td>\n",
       "      <td>3.10</td>\n",
       "      <td>5.33</td>\n",
       "      <td>2</td>\n",
       "    </tr>\n",
       "    <tr>\n",
       "      <th>2</th>\n",
       "      <td>304 W El Prado Rd</td>\n",
       "      <td>Chandler</td>\n",
       "      <td>85225</td>\n",
       "      <td>2/16/24</td>\n",
       "      <td>2.0</td>\n",
       "      <td>3</td>\n",
       "      <td>1300</td>\n",
       "      <td>8024.0</td>\n",
       "      <td>419000</td>\n",
       "      <td>3.10</td>\n",
       "      <td>5.33</td>\n",
       "      <td>2</td>\n",
       "    </tr>\n",
       "    <tr>\n",
       "      <th>3</th>\n",
       "      <td>1412 E Ironwood Dr</td>\n",
       "      <td>Chandler</td>\n",
       "      <td>85225</td>\n",
       "      <td>2/16/24</td>\n",
       "      <td>2.0</td>\n",
       "      <td>3</td>\n",
       "      <td>1308</td>\n",
       "      <td>7823.0</td>\n",
       "      <td>435300</td>\n",
       "      <td>3.10</td>\n",
       "      <td>5.33</td>\n",
       "      <td>2</td>\n",
       "    </tr>\n",
       "    <tr>\n",
       "      <th>4</th>\n",
       "      <td>663 E Manor Dr</td>\n",
       "      <td>Chandler</td>\n",
       "      <td>85225</td>\n",
       "      <td>2/16/24</td>\n",
       "      <td>2.0</td>\n",
       "      <td>3</td>\n",
       "      <td>1415</td>\n",
       "      <td>8407.0</td>\n",
       "      <td>494000</td>\n",
       "      <td>3.10</td>\n",
       "      <td>5.33</td>\n",
       "      <td>2</td>\n",
       "    </tr>\n",
       "    <tr>\n",
       "      <th>...</th>\n",
       "      <td>...</td>\n",
       "      <td>...</td>\n",
       "      <td>...</td>\n",
       "      <td>...</td>\n",
       "      <td>...</td>\n",
       "      <td>...</td>\n",
       "      <td>...</td>\n",
       "      <td>...</td>\n",
       "      <td>...</td>\n",
       "      <td>...</td>\n",
       "      <td>...</td>\n",
       "      <td>...</td>\n",
       "    </tr>\n",
       "    <tr>\n",
       "      <th>132</th>\n",
       "      <td>1815 N Cheri Lynn Dr</td>\n",
       "      <td>Chandler</td>\n",
       "      <td>85225</td>\n",
       "      <td>11/6/23</td>\n",
       "      <td>2.0</td>\n",
       "      <td>3</td>\n",
       "      <td>1270</td>\n",
       "      <td>6604.0</td>\n",
       "      <td>380000</td>\n",
       "      <td>3.14</td>\n",
       "      <td>5.33</td>\n",
       "      <td>11</td>\n",
       "    </tr>\n",
       "    <tr>\n",
       "      <th>133</th>\n",
       "      <td>428 N Colorado St</td>\n",
       "      <td>Chandler</td>\n",
       "      <td>85225</td>\n",
       "      <td>11/6/23</td>\n",
       "      <td>2.0</td>\n",
       "      <td>3</td>\n",
       "      <td>1633</td>\n",
       "      <td>8002.0</td>\n",
       "      <td>380000</td>\n",
       "      <td>3.14</td>\n",
       "      <td>5.33</td>\n",
       "      <td>11</td>\n",
       "    </tr>\n",
       "    <tr>\n",
       "      <th>134</th>\n",
       "      <td>514 W Sundance Way</td>\n",
       "      <td>Chandler</td>\n",
       "      <td>85225</td>\n",
       "      <td>11/3/23</td>\n",
       "      <td>2.0</td>\n",
       "      <td>3</td>\n",
       "      <td>1288</td>\n",
       "      <td>8917.0</td>\n",
       "      <td>499990</td>\n",
       "      <td>3.14</td>\n",
       "      <td>5.33</td>\n",
       "      <td>11</td>\n",
       "    </tr>\n",
       "    <tr>\n",
       "      <th>135</th>\n",
       "      <td>703 W Greentree Dr</td>\n",
       "      <td>Chandler</td>\n",
       "      <td>85225</td>\n",
       "      <td>11/3/23</td>\n",
       "      <td>2.0</td>\n",
       "      <td>3</td>\n",
       "      <td>1336</td>\n",
       "      <td>5136.0</td>\n",
       "      <td>480500</td>\n",
       "      <td>3.14</td>\n",
       "      <td>5.33</td>\n",
       "      <td>11</td>\n",
       "    </tr>\n",
       "    <tr>\n",
       "      <th>136</th>\n",
       "      <td>588 N Amber Ct</td>\n",
       "      <td>Chandler</td>\n",
       "      <td>85225</td>\n",
       "      <td>11/3/23</td>\n",
       "      <td>2.0</td>\n",
       "      <td>3</td>\n",
       "      <td>1208</td>\n",
       "      <td>5105.0</td>\n",
       "      <td>430000</td>\n",
       "      <td>3.14</td>\n",
       "      <td>5.33</td>\n",
       "      <td>11</td>\n",
       "    </tr>\n",
       "  </tbody>\n",
       "</table>\n",
       "<p>137 rows × 12 columns</p>\n",
       "</div>"
      ],
      "text/plain": [
       "                  Address      City    Zip SoldDate  Bathrooms  Bedrooms  \\\n",
       "0       244 N Delaware St  Chandler  85225  2/19/24        3.0         4   \n",
       "1       923 W Mesquite St  Chandler  85225  2/16/24        2.0         3   \n",
       "2       304 W El Prado Rd  Chandler  85225  2/16/24        2.0         3   \n",
       "3      1412 E Ironwood Dr  Chandler  85225  2/16/24        2.0         3   \n",
       "4          663 E Manor Dr  Chandler  85225  2/16/24        2.0         3   \n",
       "..                    ...       ...    ...      ...        ...       ...   \n",
       "132  1815 N Cheri Lynn Dr  Chandler  85225  11/6/23        2.0         3   \n",
       "133     428 N Colorado St  Chandler  85225  11/6/23        2.0         3   \n",
       "134    514 W Sundance Way  Chandler  85225  11/3/23        2.0         3   \n",
       "135    703 W Greentree Dr  Chandler  85225  11/3/23        2.0         3   \n",
       "136        588 N Amber Ct  Chandler  85225  11/3/23        2.0         3   \n",
       "\n",
       "     LivingArea  LandArea  PropPrice  InflationRate  FederalInt  MonthID  \n",
       "0          1272    7532.0     275000           3.10        5.33        2  \n",
       "1          1480    7492.0     428000           3.10        5.33        2  \n",
       "2          1300    8024.0     419000           3.10        5.33        2  \n",
       "3          1308    7823.0     435300           3.10        5.33        2  \n",
       "4          1415    8407.0     494000           3.10        5.33        2  \n",
       "..          ...       ...        ...            ...         ...      ...  \n",
       "132        1270    6604.0     380000           3.14        5.33       11  \n",
       "133        1633    8002.0     380000           3.14        5.33       11  \n",
       "134        1288    8917.0     499990           3.14        5.33       11  \n",
       "135        1336    5136.0     480500           3.14        5.33       11  \n",
       "136        1208    5105.0     430000           3.14        5.33       11  \n",
       "\n",
       "[137 rows x 12 columns]"
      ]
     },
     "execution_count": 56,
     "metadata": {},
     "output_type": "execute_result"
    }
   ],
   "source": [
    "#Split original dataframe (without transformations) by zip\n",
    "df_Az_Orig=df_Sold_Inflation_new[df_Sold_Inflation_new['Zip']=='85225']\n",
    "df_Chi_Orig=df_Sold_Inflation_new[df_Sold_Inflation_new['Zip']=='60629']\n",
    "df_LA_Orig=df_Sold_Inflation_new[df_Sold_Inflation_new['Zip']=='90210']\n",
    "df_Fl_Orig=df_Sold_Inflation_new[df_Sold_Inflation_new['Zip']=='33186']\n",
    "df_NY_Orig=df_Sold_Inflation_new[df_Sold_Inflation_new['Zip']=='11368']\n",
    "df_OR_Orig=df_Sold_Inflation_new[df_Sold_Inflation_new['Zip']=='97229']\n",
    "df_Az_Orig"
   ]
  },
  {
   "cell_type": "code",
   "execution_count": 57,
   "id": "64993054",
   "metadata": {},
   "outputs": [],
   "source": [
    "# Import the PCA module\n",
    "# Import the modules\n",
    "import hvplot.pandas\n",
    "from sklearn.cluster import KMeans\n",
    "from sklearn.decomposition import PCA"
   ]
  },
  {
   "cell_type": "code",
   "execution_count": 58,
   "id": "b476581e",
   "metadata": {},
   "outputs": [],
   "source": [
    "# Instantiate the PCA instance and declare the number of PCA variables\n",
    "pca=PCA(n_components=3)"
   ]
  },
  {
   "cell_type": "code",
   "execution_count": 59,
   "id": "e85a4880",
   "metadata": {},
   "outputs": [
    {
     "data": {
      "text/plain": [
       "array([[ 0.6211595 ,  0.08539818, -0.08106901],\n",
       "       [-0.09685798, -0.12634886,  0.00821329],\n",
       "       [-0.0995571 , -0.13061204,  0.01621078],\n",
       "       [-0.09993023, -0.12963676,  0.01152969],\n",
       "       [-0.09511486, -0.13090898,  0.03056462]])"
      ]
     },
     "execution_count": 59,
     "metadata": {},
     "output_type": "execute_result"
    }
   ],
   "source": [
    "# Fit the PCA model on the transformed credit card DataFrame\n",
    "propertyAZ_pca = pca.fit_transform(df_Az)\n",
    "\n",
    "# Review the first 5 rows of the array of list data\n",
    "propertyAZ_pca[:5]"
   ]
  },
  {
   "cell_type": "code",
   "execution_count": 60,
   "id": "31bcdafe",
   "metadata": {},
   "outputs": [
    {
     "data": {
      "text/plain": [
       "(0.9897597370174681, array([0.71939141, 0.2204766 , 0.04989173]))"
      ]
     },
     "execution_count": 60,
     "metadata": {},
     "output_type": "execute_result"
    }
   ],
   "source": [
    "# Calculate the PCA explained variance ratio\n",
    "sum(pca.explained_variance_ratio_), pca.explained_variance_ratio_"
   ]
  },
  {
   "cell_type": "code",
   "execution_count": 61,
   "id": "c55784a3",
   "metadata": {},
   "outputs": [
    {
     "data": {
      "text/html": [
       "<div>\n",
       "<style scoped>\n",
       "    .dataframe tbody tr th:only-of-type {\n",
       "        vertical-align: middle;\n",
       "    }\n",
       "\n",
       "    .dataframe tbody tr th {\n",
       "        vertical-align: top;\n",
       "    }\n",
       "\n",
       "    .dataframe thead th {\n",
       "        text-align: right;\n",
       "    }\n",
       "</style>\n",
       "<table border=\"1\" class=\"dataframe\">\n",
       "  <thead>\n",
       "    <tr style=\"text-align: right;\">\n",
       "      <th></th>\n",
       "      <th>PCA1</th>\n",
       "      <th>PCA2</th>\n",
       "      <th>PCA3</th>\n",
       "    </tr>\n",
       "  </thead>\n",
       "  <tbody>\n",
       "    <tr>\n",
       "      <th>0</th>\n",
       "      <td>0.621160</td>\n",
       "      <td>0.085398</td>\n",
       "      <td>-0.081069</td>\n",
       "    </tr>\n",
       "    <tr>\n",
       "      <th>1</th>\n",
       "      <td>-0.096858</td>\n",
       "      <td>-0.126349</td>\n",
       "      <td>0.008213</td>\n",
       "    </tr>\n",
       "    <tr>\n",
       "      <th>2</th>\n",
       "      <td>-0.099557</td>\n",
       "      <td>-0.130612</td>\n",
       "      <td>0.016211</td>\n",
       "    </tr>\n",
       "    <tr>\n",
       "      <th>3</th>\n",
       "      <td>-0.099930</td>\n",
       "      <td>-0.129637</td>\n",
       "      <td>0.011530</td>\n",
       "    </tr>\n",
       "    <tr>\n",
       "      <th>4</th>\n",
       "      <td>-0.095115</td>\n",
       "      <td>-0.130909</td>\n",
       "      <td>0.030565</td>\n",
       "    </tr>\n",
       "  </tbody>\n",
       "</table>\n",
       "</div>"
      ],
      "text/plain": [
       "       PCA1      PCA2      PCA3\n",
       "0  0.621160  0.085398 -0.081069\n",
       "1 -0.096858 -0.126349  0.008213\n",
       "2 -0.099557 -0.130612  0.016211\n",
       "3 -0.099930 -0.129637  0.011530\n",
       "4 -0.095115 -0.130909  0.030565"
      ]
     },
     "execution_count": 61,
     "metadata": {},
     "output_type": "execute_result"
    }
   ],
   "source": [
    "# Create the PCA DataFrame\n",
    "propertyAZ_pca_df = pd.DataFrame(\n",
    "    propertyAZ_pca,\n",
    "    columns=[\"PCA1\", \"PCA2\",\"PCA3\"]\n",
    ")\n",
    "\n",
    "# Review the PCA DataFrame\n",
    "propertyAZ_pca_df.head()"
   ]
  },
  {
   "cell_type": "code",
   "execution_count": 62,
   "id": "45d325e8",
   "metadata": {},
   "outputs": [],
   "source": [
    "# Create a a list to store inertia values and the values of k\n",
    "inertia = []\n",
    "k = list(range(1, 11))"
   ]
  },
  {
   "cell_type": "code",
   "execution_count": 63,
   "id": "3e23e66a",
   "metadata": {},
   "outputs": [],
   "source": [
    "# Create a for-loop where each value of k is evaluated using the K-means algorithm\n",
    "# Fit the model using the service_ratings DataFrame\n",
    "# Append the value of the computed inertia from the `inertia_` attribute of the KMeans model instance\n",
    "for i in k:\n",
    "    k_model = KMeans(n_clusters=i, random_state=0)\n",
    "    k_model.fit(propertyAZ_pca_df)\n",
    "    inertia.append(k_model.inertia_)"
   ]
  },
  {
   "cell_type": "code",
   "execution_count": 64,
   "id": "6d3185ab",
   "metadata": {},
   "outputs": [
    {
     "data": {
      "text/html": [
       "<div>\n",
       "<style scoped>\n",
       "    .dataframe tbody tr th:only-of-type {\n",
       "        vertical-align: middle;\n",
       "    }\n",
       "\n",
       "    .dataframe tbody tr th {\n",
       "        vertical-align: top;\n",
       "    }\n",
       "\n",
       "    .dataframe thead th {\n",
       "        text-align: right;\n",
       "    }\n",
       "</style>\n",
       "<table border=\"1\" class=\"dataframe\">\n",
       "  <thead>\n",
       "    <tr style=\"text-align: right;\">\n",
       "      <th></th>\n",
       "      <th>k</th>\n",
       "      <th>inertia</th>\n",
       "    </tr>\n",
       "  </thead>\n",
       "  <tbody>\n",
       "    <tr>\n",
       "      <th>0</th>\n",
       "      <td>1</td>\n",
       "      <td>40.339075</td>\n",
       "    </tr>\n",
       "    <tr>\n",
       "      <th>1</th>\n",
       "      <td>2</td>\n",
       "      <td>20.725927</td>\n",
       "    </tr>\n",
       "    <tr>\n",
       "      <th>2</th>\n",
       "      <td>3</td>\n",
       "      <td>13.069963</td>\n",
       "    </tr>\n",
       "    <tr>\n",
       "      <th>3</th>\n",
       "      <td>4</td>\n",
       "      <td>8.942644</td>\n",
       "    </tr>\n",
       "    <tr>\n",
       "      <th>4</th>\n",
       "      <td>5</td>\n",
       "      <td>5.973651</td>\n",
       "    </tr>\n",
       "  </tbody>\n",
       "</table>\n",
       "</div>"
      ],
      "text/plain": [
       "   k    inertia\n",
       "0  1  40.339075\n",
       "1  2  20.725927\n",
       "2  3  13.069963\n",
       "3  4   8.942644\n",
       "4  5   5.973651"
      ]
     },
     "execution_count": 64,
     "metadata": {},
     "output_type": "execute_result"
    }
   ],
   "source": [
    "# Define a DataFrame to hold the values for k and the corresponding inertia\n",
    "elbow_data = {\"k\": k, \"inertia\": inertia}\n",
    "\n",
    "# Create the DataFrame from the elbow data\n",
    "df_elbow = pd.DataFrame(elbow_data)\n",
    "\n",
    "# Review the DataFrame\n",
    "df_elbow.head()"
   ]
  },
  {
   "cell_type": "code",
   "execution_count": 65,
   "id": "435f010e",
   "metadata": {},
   "outputs": [
    {
     "data": {},
     "metadata": {},
     "output_type": "display_data"
    },
    {
     "data": {
      "application/vnd.holoviews_exec.v0+json": "",
      "text/html": [
       "<div id='2200'>\n",
       "  <div class=\"bk-root\" id=\"be279a86-f7b6-47d1-a145-741185360e46\" data-root-id=\"2200\"></div>\n",
       "</div>\n",
       "<script type=\"application/javascript\">(function(root) {\n",
       "  function embed_document(root) {\n",
       "    var docs_json = {\"9eb305c1-2fdd-4ef5-b181-9b82448eccf6\":{\"defs\":[{\"extends\":null,\"module\":null,\"name\":\"ReactiveHTML1\",\"overrides\":[],\"properties\":[]},{\"extends\":null,\"module\":null,\"name\":\"FlexBox1\",\"overrides\":[],\"properties\":[{\"default\":\"flex-start\",\"kind\":null,\"name\":\"align_content\"},{\"default\":\"flex-start\",\"kind\":null,\"name\":\"align_items\"},{\"default\":\"row\",\"kind\":null,\"name\":\"flex_direction\"},{\"default\":\"wrap\",\"kind\":null,\"name\":\"flex_wrap\"},{\"default\":\"flex-start\",\"kind\":null,\"name\":\"justify_content\"}]},{\"extends\":null,\"module\":null,\"name\":\"GridStack1\",\"overrides\":[],\"properties\":[{\"default\":\"warn\",\"kind\":null,\"name\":\"mode\"},{\"default\":null,\"kind\":null,\"name\":\"ncols\"},{\"default\":null,\"kind\":null,\"name\":\"nrows\"},{\"default\":true,\"kind\":null,\"name\":\"allow_resize\"},{\"default\":true,\"kind\":null,\"name\":\"allow_drag\"},{\"default\":[],\"kind\":null,\"name\":\"state\"}]},{\"extends\":null,\"module\":null,\"name\":\"click1\",\"overrides\":[],\"properties\":[{\"default\":\"\",\"kind\":null,\"name\":\"terminal_output\"},{\"default\":\"\",\"kind\":null,\"name\":\"debug_name\"},{\"default\":0,\"kind\":null,\"name\":\"clears\"}]},{\"extends\":null,\"module\":null,\"name\":\"NotificationAreaBase1\",\"overrides\":[],\"properties\":[{\"default\":\"bottom-right\",\"kind\":null,\"name\":\"position\"},{\"default\":0,\"kind\":null,\"name\":\"_clear\"}]},{\"extends\":null,\"module\":null,\"name\":\"NotificationArea1\",\"overrides\":[],\"properties\":[{\"default\":[],\"kind\":null,\"name\":\"notifications\"},{\"default\":\"bottom-right\",\"kind\":null,\"name\":\"position\"},{\"default\":0,\"kind\":null,\"name\":\"_clear\"},{\"default\":[{\"background\":\"#ffc107\",\"icon\":{\"className\":\"fas fa-exclamation-triangle\",\"color\":\"white\",\"tagName\":\"i\"},\"type\":\"warning\"},{\"background\":\"#007bff\",\"icon\":{\"className\":\"fas fa-info-circle\",\"color\":\"white\",\"tagName\":\"i\"},\"type\":\"info\"}],\"kind\":null,\"name\":\"types\"}]},{\"extends\":null,\"module\":null,\"name\":\"Notification\",\"overrides\":[],\"properties\":[{\"default\":null,\"kind\":null,\"name\":\"background\"},{\"default\":3000,\"kind\":null,\"name\":\"duration\"},{\"default\":null,\"kind\":null,\"name\":\"icon\"},{\"default\":\"\",\"kind\":null,\"name\":\"message\"},{\"default\":null,\"kind\":null,\"name\":\"notification_type\"},{\"default\":false,\"kind\":null,\"name\":\"_destroyed\"}]},{\"extends\":null,\"module\":null,\"name\":\"TemplateActions1\",\"overrides\":[],\"properties\":[{\"default\":0,\"kind\":null,\"name\":\"open_modal\"},{\"default\":0,\"kind\":null,\"name\":\"close_modal\"}]},{\"extends\":null,\"module\":null,\"name\":\"MaterialTemplateActions1\",\"overrides\":[],\"properties\":[{\"default\":0,\"kind\":null,\"name\":\"open_modal\"},{\"default\":0,\"kind\":null,\"name\":\"close_modal\"}]}],\"roots\":{\"references\":[{\"attributes\":{},\"id\":\"2219\",\"type\":\"BasicTicker\"},{\"attributes\":{},\"id\":\"2259\",\"type\":\"UnionRenderers\"},{\"attributes\":{},\"id\":\"2246\",\"type\":\"BasicTickFormatter\"},{\"attributes\":{\"axis_label\":\"k\",\"coordinates\":null,\"formatter\":{\"id\":\"2246\"},\"group\":null,\"major_label_policy\":{\"id\":\"2247\"},\"ticker\":{\"id\":\"2244\"}},\"id\":\"2214\",\"type\":\"LinearAxis\"},{\"attributes\":{\"axis\":{\"id\":\"2218\"},\"coordinates\":null,\"dimension\":1,\"grid_line_color\":null,\"group\":null,\"ticker\":null},\"id\":\"2221\",\"type\":\"Grid\"},{\"attributes\":{},\"id\":\"2222\",\"type\":\"SaveTool\"},{\"attributes\":{},\"id\":\"2251\",\"type\":\"BasicTickFormatter\"},{\"attributes\":{\"end\":44.22199389924408,\"reset_end\":44.22199389924408,\"reset_start\":-2.373033915773182,\"start\":-2.373033915773182,\"tags\":[[[\"inertia\",\"inertia\",null]]]},\"id\":\"2203\",\"type\":\"Range1d\"},{\"attributes\":{\"overlay\":{\"id\":\"2227\"}},\"id\":\"2225\",\"type\":\"BoxZoomTool\"},{\"attributes\":{\"data\":{\"inertia\":{\"__ndarray__\":\"ia2KzmYrRECJMmRT1rk0QLBOOzPSIypA10JhK6LiIUAFZ/jMBOUXQCrk3TufSQ9ATtZF2AqmCEC9uHFoy10DQNYYV51aq/0/Wjv0Pn0o+D8=\",\"dtype\":\"float64\",\"order\":\"little\",\"shape\":[10]},\"k\":[1,2,3,4,5,6,7,8,9,10]},\"selected\":{\"id\":\"2236\"},\"selection_policy\":{\"id\":\"2259\"}},\"id\":\"2235\",\"type\":\"ColumnDataSource\"},{\"attributes\":{\"children\":[{\"id\":\"2201\"},{\"id\":\"2205\"},{\"id\":\"2262\"}],\"margin\":[0,0,0,0],\"name\":\"Row02270\",\"tags\":[\"embedded\"]},\"id\":\"2200\",\"type\":\"Row\"},{\"attributes\":{\"callback\":null,\"renderers\":[{\"id\":\"2241\"}],\"tags\":[\"hv_created\"],\"tooltips\":[[\"k\",\"@{k}\"],[\"inertia\",\"@{inertia}\"]]},\"id\":\"2204\",\"type\":\"HoverTool\"},{\"attributes\":{\"tools\":[{\"id\":\"2204\"},{\"id\":\"2222\"},{\"id\":\"2223\"},{\"id\":\"2224\"},{\"id\":\"2225\"},{\"id\":\"2226\"}]},\"id\":\"2228\",\"type\":\"Toolbar\"},{\"attributes\":{\"axis\":{\"id\":\"2214\"},\"coordinates\":null,\"grid_line_color\":null,\"group\":null,\"ticker\":null},\"id\":\"2217\",\"type\":\"Grid\"},{\"attributes\":{\"margin\":[5,5,5,5],\"name\":\"HSpacer02274\",\"sizing_mode\":\"stretch_width\"},\"id\":\"2201\",\"type\":\"Spacer\"},{\"attributes\":{},\"id\":\"2212\",\"type\":\"LinearScale\"},{\"attributes\":{\"axis_label\":\"inertia\",\"coordinates\":null,\"formatter\":{\"id\":\"2251\"},\"group\":null,\"major_label_policy\":{\"id\":\"2252\"},\"ticker\":{\"id\":\"2219\"}},\"id\":\"2218\",\"type\":\"LinearAxis\"},{\"attributes\":{\"line_color\":\"#30a2da\",\"line_width\":2,\"x\":{\"field\":\"k\"},\"y\":{\"field\":\"inertia\"}},\"id\":\"2243\",\"type\":\"Line\"},{\"attributes\":{},\"id\":\"2236\",\"type\":\"Selection\"},{\"attributes\":{},\"id\":\"2226\",\"type\":\"ResetTool\"},{\"attributes\":{\"below\":[{\"id\":\"2214\"}],\"center\":[{\"id\":\"2217\"},{\"id\":\"2221\"}],\"height\":300,\"left\":[{\"id\":\"2218\"}],\"margin\":[5,5,5,5],\"min_border_bottom\":10,\"min_border_left\":10,\"min_border_right\":10,\"min_border_top\":10,\"renderers\":[{\"id\":\"2241\"}],\"sizing_mode\":\"fixed\",\"title\":{\"id\":\"2206\"},\"toolbar\":{\"id\":\"2228\"},\"width\":700,\"x_range\":{\"id\":\"2202\"},\"x_scale\":{\"id\":\"2210\"},\"y_range\":{\"id\":\"2203\"},\"y_scale\":{\"id\":\"2212\"}},\"id\":\"2205\",\"subtype\":\"Figure\",\"type\":\"Plot\"},{\"attributes\":{\"margin\":[5,5,5,5],\"name\":\"HSpacer02275\",\"sizing_mode\":\"stretch_width\"},\"id\":\"2262\",\"type\":\"Spacer\"},{\"attributes\":{},\"id\":\"2223\",\"type\":\"PanTool\"},{\"attributes\":{\"line_alpha\":0.2,\"line_color\":\"#30a2da\",\"line_width\":2,\"x\":{\"field\":\"k\"},\"y\":{\"field\":\"inertia\"}},\"id\":\"2240\",\"type\":\"Line\"},{\"attributes\":{\"coordinates\":null,\"data_source\":{\"id\":\"2235\"},\"glyph\":{\"id\":\"2238\"},\"group\":null,\"hover_glyph\":null,\"muted_glyph\":{\"id\":\"2240\"},\"nonselection_glyph\":{\"id\":\"2239\"},\"selection_glyph\":{\"id\":\"2243\"},\"view\":{\"id\":\"2242\"}},\"id\":\"2241\",\"type\":\"GlyphRenderer\"},{\"attributes\":{\"line_alpha\":0.1,\"line_color\":\"#30a2da\",\"line_width\":2,\"x\":{\"field\":\"k\"},\"y\":{\"field\":\"inertia\"}},\"id\":\"2239\",\"type\":\"Line\"},{\"attributes\":{},\"id\":\"2252\",\"type\":\"AllLabels\"},{\"attributes\":{\"bottom_units\":\"screen\",\"coordinates\":null,\"fill_alpha\":0.5,\"fill_color\":\"lightgrey\",\"group\":null,\"left_units\":\"screen\",\"level\":\"overlay\",\"line_alpha\":1.0,\"line_color\":\"black\",\"line_dash\":[4,4],\"line_width\":2,\"right_units\":\"screen\",\"syncable\":false,\"top_units\":\"screen\"},\"id\":\"2227\",\"type\":\"BoxAnnotation\"},{\"attributes\":{\"end\":10.0,\"reset_end\":10.0,\"reset_start\":1.0,\"start\":1.0,\"tags\":[[[\"k\",\"k\",null]]]},\"id\":\"2202\",\"type\":\"Range1d\"},{\"attributes\":{},\"id\":\"2224\",\"type\":\"WheelZoomTool\"},{\"attributes\":{\"ticks\":[1,2,3,4,5,6,7,8,9,10]},\"id\":\"2244\",\"type\":\"FixedTicker\"},{\"attributes\":{},\"id\":\"2247\",\"type\":\"AllLabels\"},{\"attributes\":{\"coordinates\":null,\"group\":null,\"text\":\"Elbow Curve\",\"text_color\":\"black\",\"text_font_size\":\"12pt\"},\"id\":\"2206\",\"type\":\"Title\"},{\"attributes\":{\"line_color\":\"#30a2da\",\"line_width\":2,\"x\":{\"field\":\"k\"},\"y\":{\"field\":\"inertia\"}},\"id\":\"2238\",\"type\":\"Line\"},{\"attributes\":{},\"id\":\"2210\",\"type\":\"LinearScale\"},{\"attributes\":{\"source\":{\"id\":\"2235\"}},\"id\":\"2242\",\"type\":\"CDSView\"}],\"root_ids\":[\"2200\"]},\"title\":\"Bokeh Application\",\"version\":\"2.4.3\"}};\n",
       "    var render_items = [{\"docid\":\"9eb305c1-2fdd-4ef5-b181-9b82448eccf6\",\"root_ids\":[\"2200\"],\"roots\":{\"2200\":\"be279a86-f7b6-47d1-a145-741185360e46\"}}];\n",
       "    root.Bokeh.embed.embed_items_notebook(docs_json, render_items);\n",
       "  }\n",
       "  if (root.Bokeh !== undefined && root.Bokeh.Panel !== undefined) {\n",
       "    embed_document(root);\n",
       "  } else {\n",
       "    var attempts = 0;\n",
       "    var timer = setInterval(function(root) {\n",
       "      if (root.Bokeh !== undefined && root.Bokeh.Panel !== undefined) {\n",
       "        clearInterval(timer);\n",
       "        embed_document(root);\n",
       "      } else if (document.readyState == \"complete\") {\n",
       "        attempts++;\n",
       "        if (attempts > 200) {\n",
       "          clearInterval(timer);\n",
       "          console.log(\"Bokeh: ERROR: Unable to run BokehJS code because BokehJS library is missing\");\n",
       "        }\n",
       "      }\n",
       "    }, 25, root)\n",
       "  }\n",
       "})(window);</script>"
      ],
      "text/plain": [
       ":Curve   [k]   (inertia)"
      ]
     },
     "execution_count": 65,
     "metadata": {
      "application/vnd.holoviews_exec.v0+json": {
       "id": "2200"
      }
     },
     "output_type": "execute_result"
    }
   ],
   "source": [
    "# Plot the DataFrame\n",
    "df_elbow.hvplot.line(\n",
    "    x=\"k\", \n",
    "    y=\"inertia\", \n",
    "    title=\"Elbow Curve\", \n",
    "    xticks=k\n",
    ")"
   ]
  },
  {
   "cell_type": "code",
   "execution_count": 66,
   "id": "e9ec6a56",
   "metadata": {},
   "outputs": [],
   "source": [
    "# Define the model Kmeans model using the optimal value of k for the number of clusters.\n",
    "model = KMeans(n_clusters=3, random_state=0)\n",
    "\n",
    "# Fit the model\n",
    "model.fit(propertyAZ_pca_df)\n",
    "\n",
    "# Make predictions\n",
    "k_3 = model.predict(propertyAZ_pca_df)\n",
    "\n",
    "# Create a copy of the customers_pca_df DataFrame\n",
    "propertyAZ_pca_predictions_df = propertyAZ_pca_df.copy()\n",
    "\n",
    "# Add a class column with the labels\n",
    "propertyAZ_pca_predictions_df[\"property_segments\"] = k_3"
   ]
  },
  {
   "cell_type": "code",
   "execution_count": 67,
   "id": "d8451abd",
   "metadata": {},
   "outputs": [
    {
     "data": {
      "application/vnd.plotly.v1+json": {
       "config": {
        "plotlyServerURL": "https://plot.ly"
       },
       "data": [
        {
         "hovertemplate": "PCA1=%{x}<br>PCA2=%{y}<br>PCA3=%{z}<br>property_segments=%{marker.color}<extra></extra>",
         "legendgroup": "",
         "marker": {
          "color": [
           0,
           1,
           1,
           1,
           1,
           1,
           1,
           1,
           2,
           1,
           2,
           0,
           0,
           1,
           1,
           1,
           1,
           0,
           1,
           0,
           0,
           2,
           1,
           1,
           0,
           1,
           2,
           2,
           0,
           1,
           1,
           1,
           0,
           1,
           2,
           1,
           2,
           1,
           2,
           0,
           1,
           1,
           1,
           1,
           1,
           1,
           1,
           0,
           1,
           2,
           1,
           0,
           2,
           0,
           0,
           2,
           0,
           1,
           1,
           1,
           1,
           0,
           1,
           1,
           1,
           1,
           1,
           2,
           1,
           1,
           1,
           1,
           1,
           1,
           1,
           2,
           2,
           0,
           1,
           1,
           1,
           2,
           0,
           2,
           1,
           0,
           1,
           1,
           0,
           0,
           0,
           1,
           2,
           1,
           0,
           0,
           1,
           0,
           1,
           1,
           2,
           1,
           2,
           2,
           0,
           1,
           0,
           1,
           0,
           0,
           0,
           1,
           1,
           1,
           1,
           1,
           1,
           1,
           1,
           2,
           1,
           1,
           0,
           1,
           1,
           0,
           0,
           2,
           2,
           2,
           1,
           2,
           1,
           1,
           1,
           1,
           1
          ],
          "coloraxis": "coloraxis",
          "symbol": "circle"
         },
         "mode": "markers",
         "name": "",
         "scene": "scene",
         "showlegend": false,
         "type": "scatter3d",
         "x": [
          0.6211595037154835,
          -0.09685797815477798,
          -0.09955709869907256,
          -0.09993022724321127,
          -0.09511486072986138,
          -0.09740530722216266,
          0.02093281831527863,
          -0.09444742348958833,
          -0.7167033359325271,
          -0.08419839658962337,
          -0.7166663665824392,
          0.49185692524206887,
          0.4950360234683264,
          0.0420004318682192,
          0.054845502746774834,
          -0.10451036639030745,
          0.0334445606837315,
          0.5089744275945647,
          -0.10460589098009135,
          0.6702918431157293,
          0.5073038541128623,
          -0.6913728378309805,
          -0.06193713306772145,
          -0.09681787434158813,
          1.5812418769325383,
          -0.09277048829319713,
          -0.5651794175252972,
          -0.7154765872280943,
          0.6490758513734065,
          -0.08788951280022944,
          -0.09892057392914182,
          -0.10269139110765058,
          0.7443276597616265,
          -0.0989309326147004,
          -0.7168300879899712,
          -0.10741872413767746,
          -0.7034810022062613,
          0.04589392013730908,
          -0.6610866900098266,
          0.6345706811210325,
          -0.08736043663517579,
          -0.10138304580181377,
          -0.08680446494279577,
          0.18130225085842874,
          -0.07964859900125229,
          -0.10464212086872957,
          -0.10086413177079838,
          0.5270896877163928,
          -0.06626391122181755,
          -0.5560537320844893,
          -0.0885026915395314,
          0.6697583343075559,
          -0.5696728004822532,
          0.488415343091839,
          0.4935293805018809,
          -0.7078330507695283,
          0.617221097494461,
          0.02529400422185702,
          -0.10402013004045318,
          -0.10467425665005094,
          -0.09748929692057787,
          0.635509858269078,
          -0.08321167664451558,
          -0.11056138707501123,
          -0.1273942351635432,
          -0.12204891254812608,
          -0.09290751788742095,
          -0.7706262293889465,
          -0.09004143716428689,
          -0.10619933755224656,
          0.050989151218315654,
          -0.10534521145076589,
          -0.09087212381129288,
          0.04141248908705632,
          0.03475064087187177,
          -0.6918350329147335,
          -0.5651587422135541,
          0.6767219361039479,
          -0.06522587738551637,
          -0.10268791774001,
          -0.10010905613888935,
          -0.6773762099339703,
          0.4796620415814762,
          -0.6895069677823947,
          -0.04525338306822194,
          0.5277297187418006,
          -0.0980508802174939,
          -0.10674849973929451,
          0.6496249828924152,
          0.8043057572766944,
          0.6457256281834194,
          0.019674102443777475,
          -0.6377097424757995,
          -0.10769271845255249,
          1.719699420263977,
          0.5073115640831766,
          0.05359662638924084,
          0.5095094037696074,
          -0.11059268732252468,
          -0.1123865181258395,
          -0.7160019507152483,
          -0.08743941344942845,
          -0.5547971669545206,
          -0.6969366329605242,
          0.8393562681786791,
          0.028477936414739315,
          1.0596851333343014,
          -0.11237738670181939,
          0.4904071778937801,
          0.5015058302962206,
          0.5494155197116483,
          -0.08247915440663428,
          -0.09601667044938654,
          -0.11157979270069374,
          0.03221627197331014,
          0.03584996556428871,
          -0.10812601910384335,
          -0.08709076429418981,
          -0.09703829988399565,
          -0.6899945621283319,
          -0.09510661472651269,
          -0.11122672007988253,
          0.63536003619371,
          -0.09547046298343005,
          0.041063170233061844,
          0.6591458393039407,
          0.5127751881921718,
          -0.7067628017915901,
          -0.7067628017915901,
          -0.6030186233408018,
          -0.0873128372614944,
          -0.7116078044769719,
          -0.10511375880756973,
          -0.0917269168714968,
          -0.09651597521163897,
          -0.10775248526167899,
          -0.11123654447156847
         ],
         "y": [
          0.08539818229926062,
          -0.12634886175188545,
          -0.13061203930207638,
          -0.12963676352505019,
          -0.13090898435269716,
          -0.12577440811179752,
          0.31009136368725737,
          -0.14476592935815918,
          0.09524161487466752,
          -0.11777104738580559,
          0.09525113024254715,
          -0.3234275688851883,
          -0.3200268053893284,
          0.29486542761039836,
          0.2915509264328453,
          -0.12470350532527943,
          0.30624208766079064,
          -0.32054347401212807,
          -0.11766605397292534,
          0.09571280925720525,
          -0.3198350982884006,
          0.06896478624467157,
          -0.1356023546548595,
          -0.13370157510586297,
          0.7405357519317362,
          -0.1231070006206069,
          0.5094758707860032,
          0.09216931708896776,
          0.09516724591441336,
          -0.12830706859897384,
          -0.12395793389062718,
          -0.12343704928105209,
          0.2853768427468479,
          -0.13005156571486556,
          0.09520899075622308,
          -0.11449043957920749,
          0.09643180122914118,
          0.31167424746914,
          0.06278258389400156,
          0.10726816189161022,
          -0.12806796725543151,
          -0.11790014032853403,
          -0.1251378185181801,
          0.7321486099068666,
          -0.12104576814292442,
          -0.11779872052923641,
          -0.116120259740874,
          -0.3328340216092255,
          -0.12293087722444444,
          0.5125208103586131,
          -0.13577168167876938,
          0.09245731967381261,
          0.5093498833719827,
          -0.3229511052689331,
          -0.3263900735383023,
          0.08475674559290622,
          -0.4508767467522792,
          0.31450697682456286,
          -0.11836637566672605,
          -0.12553272706467344,
          -0.13360891050776313,
          0.10839135260893003,
          -0.13476033861093897,
          -0.11795334113985631,
          -0.10172264089253726,
          -0.10644189264052979,
          -0.12050378785946336,
          -0.12077889337939571,
          -0.13176621373025751,
          -0.11335791859464091,
          0.29739735517241656,
          -0.11848370736003046,
          -0.11804391914157386,
          0.2858021864637685,
          0.2955084953638247,
          0.08420108391424093,
          0.5083608788636736,
          0.07534083369239108,
          -0.12281180172652527,
          -0.13257856037178908,
          -0.11938885870875128,
          0.07704649903882321,
          -0.31105279635264393,
          0.0995865515681027,
          -0.15550547331295397,
          -0.3374895751730141,
          -0.12424851732111761,
          -0.0985888763030917,
          0.08326722235415442,
          0.5072167694035908,
          0.08563838071975051,
          0.30936114572727413,
          0.3016367677058503,
          -0.11884735798055081,
          1.1220353853041294,
          -0.3152842590539075,
          0.3000628933038279,
          -0.32146075929926415,
          -0.1138861918504067,
          -0.09887234288562348,
          0.09443014707349644,
          -0.12648493405535668,
          0.5108923787680514,
          0.08067065904445946,
          0.5140441836697294,
          0.3175157176765909,
          -0.5147670729180822,
          -0.11714467864332416,
          -0.31659018598782046,
          -0.31834167095355126,
          -0.38289601859256267,
          -0.11944540929567543,
          -0.1330106626928878,
          -0.11619120026662969,
          0.29883440206145556,
          0.2928669256792441,
          -0.12297532783218261,
          -0.13611717021879258,
          -0.13523298760160465,
          0.08682835055669254,
          -0.1285201827204852,
          -0.10070331055463946,
          0.09521539408663841,
          -0.12511947863671563,
          0.29726689774892057,
          0.09904657451847529,
          -0.32109586411430613,
          0.09572223723243363,
          0.09572223723243363,
          -0.03753618546393901,
          -0.1320081113360918,
          0.09597156745546923,
          -0.12487301711218521,
          -0.12694672518561315,
          -0.13448027328056017,
          -0.11769292265591914,
          -0.11902082701444848
         ],
         "z": [
          -0.08106900955080179,
          0.008213290422609243,
          0.016210778871387152,
          0.011529685865267758,
          0.030564616865111433,
          0.0044067742024233685,
          -0.11595588192013481,
          0.08377125148352216,
          -0.07353050076937341,
          0.01359825377059393,
          -0.0734348245004792,
          -0.09302160340657162,
          -0.09641467647908612,
          0.0027289489621528397,
          0.052907649058652605,
          -0.020303317292500154,
          -0.06485071597791904,
          -0.053463213272056796,
          -0.04689995849576166,
          0.02522992499012663,
          -0.06106309756897771,
          0.0989854642945883,
          0.14580071808386688,
          0.036250174659854285,
          0.04574267542525907,
          0.00843223467017035,
          -0.015610126668740835,
          -0.05827066352420437,
          -0.03472635600503453,
          0.0417179772315234,
          -0.006597961773355452,
          -0.019724982217452936,
          0.11335209055445812,
          0.01593614689862522,
          -0.07385853369129641,
          -0.06691977057624597,
          -0.03883591310998802,
          -0.04832044594992241,
          0.21138491595353393,
          -0.12272287407289122,
          0.042743330613649815,
          -0.036433569068366985,
          0.03315320416976203,
          -0.0612903356911691,
          0.03925819275323387,
          -0.04641161964955122,
          -0.041594240701185614,
          0.04603337009375219,
          0.08582463937090105,
          -0.00020068331736419686,
          0.06802924365854023,
          0.03576352748026224,
          -0.028336229011152507,
          -0.10537500552471256,
          -0.07740780794303348,
          -0.00907034858290379,
          0.7512547733074241,
          -0.11980292840564097,
          -0.0424383862505626,
          -0.017757838818197747,
          0.0335575311536564,
          -0.1238493910176806,
          0.07974843943234024,
          -0.06317645655975578,
          -0.1735070196252963,
          -0.14019271861238122,
          -0.0017749969366654822,
          -0.004905612101181818,
          0.04823577945236807,
          -0.06763829920732545,
          0.020230181236744724,
          -0.045714206080200666,
          -0.00508384193395904,
          0.03497850849480402,
          -0.02103370146166907,
          0.04118085660216529,
          -0.011269471081405533,
          0.12063478146032652,
          0.08756091740642649,
          0.014366279072327378,
          -0.0270668415758554,
          0.11026407635970925,
          -0.175174325431637,
          -0.009405410992284742,
          0.268125375492681,
          0.06503614950045616,
          -0.002951397865475731,
          -0.12441957948946304,
          0.01090496761403,
          0.04180970772308847,
          -0.009017324844590899,
          -0.11702311583486087,
          -0.03215450597114593,
          -0.05131832060999922,
          0.18839929699058575,
          -0.07823060766051863,
          0.01744168815549184,
          -0.048553829603669885,
          -0.07853938804293019,
          -0.13980118879789585,
          -0.06819690491440389,
          0.03645085150855926,
          0.009691768346605248,
          0.03919442708367105,
          0.11987627433037071,
          -0.12144452858416822,
          -0.27790077981329286,
          -0.07181683479948842,
          -0.12282010244145551,
          -0.08354529405831948,
          0.2976724966735315,
          0.024899465244664225,
          0.03558225985460765,
          -0.07284748661546263,
          -0.04071453035861405,
          -0.007805350238371939,
          -0.03777909165015273,
          0.07326986380269605,
          0.040844864706072424,
          0.036521621716055254,
          0.021421677459090245,
          -0.1296506760089936,
          -0.07520893737108393,
          0.007818827392217982,
          -0.008934406344819653,
          -0.01985181241516892,
          -0.04022968156332065,
          -0.045927685883764564,
          -0.045927685883764564,
          0.756592250165406,
          0.05755111875293543,
          -0.06103516111743272,
          -0.021613425355462842,
          0.025301597097379735,
          0.03982487663327052,
          -0.05582355157511867,
          -0.061223732508445074
         ]
        }
       ],
       "layout": {
        "coloraxis": {
         "colorbar": {
          "title": {
           "text": "property_segments"
          }
         },
         "colorscale": [
          [
           0,
           "#0d0887"
          ],
          [
           0.1111111111111111,
           "#46039f"
          ],
          [
           0.2222222222222222,
           "#7201a8"
          ],
          [
           0.3333333333333333,
           "#9c179e"
          ],
          [
           0.4444444444444444,
           "#bd3786"
          ],
          [
           0.5555555555555556,
           "#d8576b"
          ],
          [
           0.6666666666666666,
           "#ed7953"
          ],
          [
           0.7777777777777778,
           "#fb9f3a"
          ],
          [
           0.8888888888888888,
           "#fdca26"
          ],
          [
           1,
           "#f0f921"
          ]
         ]
        },
        "legend": {
         "tracegroupgap": 0
        },
        "margin": {
         "t": 60
        },
        "scene": {
         "domain": {
          "x": [
           0,
           1
          ],
          "y": [
           0,
           1
          ]
         },
         "xaxis": {
          "title": {
           "text": "PCA1"
          }
         },
         "yaxis": {
          "title": {
           "text": "PCA2"
          }
         },
         "zaxis": {
          "title": {
           "text": "PCA3"
          }
         }
        },
        "template": {
         "data": {
          "bar": [
           {
            "error_x": {
             "color": "#2a3f5f"
            },
            "error_y": {
             "color": "#2a3f5f"
            },
            "marker": {
             "line": {
              "color": "#E5ECF6",
              "width": 0.5
             },
             "pattern": {
              "fillmode": "overlay",
              "size": 10,
              "solidity": 0.2
             }
            },
            "type": "bar"
           }
          ],
          "barpolar": [
           {
            "marker": {
             "line": {
              "color": "#E5ECF6",
              "width": 0.5
             },
             "pattern": {
              "fillmode": "overlay",
              "size": 10,
              "solidity": 0.2
             }
            },
            "type": "barpolar"
           }
          ],
          "carpet": [
           {
            "aaxis": {
             "endlinecolor": "#2a3f5f",
             "gridcolor": "white",
             "linecolor": "white",
             "minorgridcolor": "white",
             "startlinecolor": "#2a3f5f"
            },
            "baxis": {
             "endlinecolor": "#2a3f5f",
             "gridcolor": "white",
             "linecolor": "white",
             "minorgridcolor": "white",
             "startlinecolor": "#2a3f5f"
            },
            "type": "carpet"
           }
          ],
          "choropleth": [
           {
            "colorbar": {
             "outlinewidth": 0,
             "ticks": ""
            },
            "type": "choropleth"
           }
          ],
          "contour": [
           {
            "colorbar": {
             "outlinewidth": 0,
             "ticks": ""
            },
            "colorscale": [
             [
              0,
              "#0d0887"
             ],
             [
              0.1111111111111111,
              "#46039f"
             ],
             [
              0.2222222222222222,
              "#7201a8"
             ],
             [
              0.3333333333333333,
              "#9c179e"
             ],
             [
              0.4444444444444444,
              "#bd3786"
             ],
             [
              0.5555555555555556,
              "#d8576b"
             ],
             [
              0.6666666666666666,
              "#ed7953"
             ],
             [
              0.7777777777777778,
              "#fb9f3a"
             ],
             [
              0.8888888888888888,
              "#fdca26"
             ],
             [
              1,
              "#f0f921"
             ]
            ],
            "type": "contour"
           }
          ],
          "contourcarpet": [
           {
            "colorbar": {
             "outlinewidth": 0,
             "ticks": ""
            },
            "type": "contourcarpet"
           }
          ],
          "heatmap": [
           {
            "colorbar": {
             "outlinewidth": 0,
             "ticks": ""
            },
            "colorscale": [
             [
              0,
              "#0d0887"
             ],
             [
              0.1111111111111111,
              "#46039f"
             ],
             [
              0.2222222222222222,
              "#7201a8"
             ],
             [
              0.3333333333333333,
              "#9c179e"
             ],
             [
              0.4444444444444444,
              "#bd3786"
             ],
             [
              0.5555555555555556,
              "#d8576b"
             ],
             [
              0.6666666666666666,
              "#ed7953"
             ],
             [
              0.7777777777777778,
              "#fb9f3a"
             ],
             [
              0.8888888888888888,
              "#fdca26"
             ],
             [
              1,
              "#f0f921"
             ]
            ],
            "type": "heatmap"
           }
          ],
          "heatmapgl": [
           {
            "colorbar": {
             "outlinewidth": 0,
             "ticks": ""
            },
            "colorscale": [
             [
              0,
              "#0d0887"
             ],
             [
              0.1111111111111111,
              "#46039f"
             ],
             [
              0.2222222222222222,
              "#7201a8"
             ],
             [
              0.3333333333333333,
              "#9c179e"
             ],
             [
              0.4444444444444444,
              "#bd3786"
             ],
             [
              0.5555555555555556,
              "#d8576b"
             ],
             [
              0.6666666666666666,
              "#ed7953"
             ],
             [
              0.7777777777777778,
              "#fb9f3a"
             ],
             [
              0.8888888888888888,
              "#fdca26"
             ],
             [
              1,
              "#f0f921"
             ]
            ],
            "type": "heatmapgl"
           }
          ],
          "histogram": [
           {
            "marker": {
             "pattern": {
              "fillmode": "overlay",
              "size": 10,
              "solidity": 0.2
             }
            },
            "type": "histogram"
           }
          ],
          "histogram2d": [
           {
            "colorbar": {
             "outlinewidth": 0,
             "ticks": ""
            },
            "colorscale": [
             [
              0,
              "#0d0887"
             ],
             [
              0.1111111111111111,
              "#46039f"
             ],
             [
              0.2222222222222222,
              "#7201a8"
             ],
             [
              0.3333333333333333,
              "#9c179e"
             ],
             [
              0.4444444444444444,
              "#bd3786"
             ],
             [
              0.5555555555555556,
              "#d8576b"
             ],
             [
              0.6666666666666666,
              "#ed7953"
             ],
             [
              0.7777777777777778,
              "#fb9f3a"
             ],
             [
              0.8888888888888888,
              "#fdca26"
             ],
             [
              1,
              "#f0f921"
             ]
            ],
            "type": "histogram2d"
           }
          ],
          "histogram2dcontour": [
           {
            "colorbar": {
             "outlinewidth": 0,
             "ticks": ""
            },
            "colorscale": [
             [
              0,
              "#0d0887"
             ],
             [
              0.1111111111111111,
              "#46039f"
             ],
             [
              0.2222222222222222,
              "#7201a8"
             ],
             [
              0.3333333333333333,
              "#9c179e"
             ],
             [
              0.4444444444444444,
              "#bd3786"
             ],
             [
              0.5555555555555556,
              "#d8576b"
             ],
             [
              0.6666666666666666,
              "#ed7953"
             ],
             [
              0.7777777777777778,
              "#fb9f3a"
             ],
             [
              0.8888888888888888,
              "#fdca26"
             ],
             [
              1,
              "#f0f921"
             ]
            ],
            "type": "histogram2dcontour"
           }
          ],
          "mesh3d": [
           {
            "colorbar": {
             "outlinewidth": 0,
             "ticks": ""
            },
            "type": "mesh3d"
           }
          ],
          "parcoords": [
           {
            "line": {
             "colorbar": {
              "outlinewidth": 0,
              "ticks": ""
             }
            },
            "type": "parcoords"
           }
          ],
          "pie": [
           {
            "automargin": true,
            "type": "pie"
           }
          ],
          "scatter": [
           {
            "fillpattern": {
             "fillmode": "overlay",
             "size": 10,
             "solidity": 0.2
            },
            "type": "scatter"
           }
          ],
          "scatter3d": [
           {
            "line": {
             "colorbar": {
              "outlinewidth": 0,
              "ticks": ""
             }
            },
            "marker": {
             "colorbar": {
              "outlinewidth": 0,
              "ticks": ""
             }
            },
            "type": "scatter3d"
           }
          ],
          "scattercarpet": [
           {
            "marker": {
             "colorbar": {
              "outlinewidth": 0,
              "ticks": ""
             }
            },
            "type": "scattercarpet"
           }
          ],
          "scattergeo": [
           {
            "marker": {
             "colorbar": {
              "outlinewidth": 0,
              "ticks": ""
             }
            },
            "type": "scattergeo"
           }
          ],
          "scattergl": [
           {
            "marker": {
             "colorbar": {
              "outlinewidth": 0,
              "ticks": ""
             }
            },
            "type": "scattergl"
           }
          ],
          "scattermapbox": [
           {
            "marker": {
             "colorbar": {
              "outlinewidth": 0,
              "ticks": ""
             }
            },
            "type": "scattermapbox"
           }
          ],
          "scatterpolar": [
           {
            "marker": {
             "colorbar": {
              "outlinewidth": 0,
              "ticks": ""
             }
            },
            "type": "scatterpolar"
           }
          ],
          "scatterpolargl": [
           {
            "marker": {
             "colorbar": {
              "outlinewidth": 0,
              "ticks": ""
             }
            },
            "type": "scatterpolargl"
           }
          ],
          "scatterternary": [
           {
            "marker": {
             "colorbar": {
              "outlinewidth": 0,
              "ticks": ""
             }
            },
            "type": "scatterternary"
           }
          ],
          "surface": [
           {
            "colorbar": {
             "outlinewidth": 0,
             "ticks": ""
            },
            "colorscale": [
             [
              0,
              "#0d0887"
             ],
             [
              0.1111111111111111,
              "#46039f"
             ],
             [
              0.2222222222222222,
              "#7201a8"
             ],
             [
              0.3333333333333333,
              "#9c179e"
             ],
             [
              0.4444444444444444,
              "#bd3786"
             ],
             [
              0.5555555555555556,
              "#d8576b"
             ],
             [
              0.6666666666666666,
              "#ed7953"
             ],
             [
              0.7777777777777778,
              "#fb9f3a"
             ],
             [
              0.8888888888888888,
              "#fdca26"
             ],
             [
              1,
              "#f0f921"
             ]
            ],
            "type": "surface"
           }
          ],
          "table": [
           {
            "cells": {
             "fill": {
              "color": "#EBF0F8"
             },
             "line": {
              "color": "white"
             }
            },
            "header": {
             "fill": {
              "color": "#C8D4E3"
             },
             "line": {
              "color": "white"
             }
            },
            "type": "table"
           }
          ]
         },
         "layout": {
          "annotationdefaults": {
           "arrowcolor": "#2a3f5f",
           "arrowhead": 0,
           "arrowwidth": 1
          },
          "autotypenumbers": "strict",
          "coloraxis": {
           "colorbar": {
            "outlinewidth": 0,
            "ticks": ""
           }
          },
          "colorscale": {
           "diverging": [
            [
             0,
             "#8e0152"
            ],
            [
             0.1,
             "#c51b7d"
            ],
            [
             0.2,
             "#de77ae"
            ],
            [
             0.3,
             "#f1b6da"
            ],
            [
             0.4,
             "#fde0ef"
            ],
            [
             0.5,
             "#f7f7f7"
            ],
            [
             0.6,
             "#e6f5d0"
            ],
            [
             0.7,
             "#b8e186"
            ],
            [
             0.8,
             "#7fbc41"
            ],
            [
             0.9,
             "#4d9221"
            ],
            [
             1,
             "#276419"
            ]
           ],
           "sequential": [
            [
             0,
             "#0d0887"
            ],
            [
             0.1111111111111111,
             "#46039f"
            ],
            [
             0.2222222222222222,
             "#7201a8"
            ],
            [
             0.3333333333333333,
             "#9c179e"
            ],
            [
             0.4444444444444444,
             "#bd3786"
            ],
            [
             0.5555555555555556,
             "#d8576b"
            ],
            [
             0.6666666666666666,
             "#ed7953"
            ],
            [
             0.7777777777777778,
             "#fb9f3a"
            ],
            [
             0.8888888888888888,
             "#fdca26"
            ],
            [
             1,
             "#f0f921"
            ]
           ],
           "sequentialminus": [
            [
             0,
             "#0d0887"
            ],
            [
             0.1111111111111111,
             "#46039f"
            ],
            [
             0.2222222222222222,
             "#7201a8"
            ],
            [
             0.3333333333333333,
             "#9c179e"
            ],
            [
             0.4444444444444444,
             "#bd3786"
            ],
            [
             0.5555555555555556,
             "#d8576b"
            ],
            [
             0.6666666666666666,
             "#ed7953"
            ],
            [
             0.7777777777777778,
             "#fb9f3a"
            ],
            [
             0.8888888888888888,
             "#fdca26"
            ],
            [
             1,
             "#f0f921"
            ]
           ]
          },
          "colorway": [
           "#636efa",
           "#EF553B",
           "#00cc96",
           "#ab63fa",
           "#FFA15A",
           "#19d3f3",
           "#FF6692",
           "#B6E880",
           "#FF97FF",
           "#FECB52"
          ],
          "font": {
           "color": "#2a3f5f"
          },
          "geo": {
           "bgcolor": "white",
           "lakecolor": "white",
           "landcolor": "#E5ECF6",
           "showlakes": true,
           "showland": true,
           "subunitcolor": "white"
          },
          "hoverlabel": {
           "align": "left"
          },
          "hovermode": "closest",
          "mapbox": {
           "style": "light"
          },
          "paper_bgcolor": "white",
          "plot_bgcolor": "#E5ECF6",
          "polar": {
           "angularaxis": {
            "gridcolor": "white",
            "linecolor": "white",
            "ticks": ""
           },
           "bgcolor": "#E5ECF6",
           "radialaxis": {
            "gridcolor": "white",
            "linecolor": "white",
            "ticks": ""
           }
          },
          "scene": {
           "xaxis": {
            "backgroundcolor": "#E5ECF6",
            "gridcolor": "white",
            "gridwidth": 2,
            "linecolor": "white",
            "showbackground": true,
            "ticks": "",
            "zerolinecolor": "white"
           },
           "yaxis": {
            "backgroundcolor": "#E5ECF6",
            "gridcolor": "white",
            "gridwidth": 2,
            "linecolor": "white",
            "showbackground": true,
            "ticks": "",
            "zerolinecolor": "white"
           },
           "zaxis": {
            "backgroundcolor": "#E5ECF6",
            "gridcolor": "white",
            "gridwidth": 2,
            "linecolor": "white",
            "showbackground": true,
            "ticks": "",
            "zerolinecolor": "white"
           }
          },
          "shapedefaults": {
           "line": {
            "color": "#2a3f5f"
           }
          },
          "ternary": {
           "aaxis": {
            "gridcolor": "white",
            "linecolor": "white",
            "ticks": ""
           },
           "baxis": {
            "gridcolor": "white",
            "linecolor": "white",
            "ticks": ""
           },
           "bgcolor": "#E5ECF6",
           "caxis": {
            "gridcolor": "white",
            "linecolor": "white",
            "ticks": ""
           }
          },
          "title": {
           "x": 0.05
          },
          "xaxis": {
           "automargin": true,
           "gridcolor": "white",
           "linecolor": "white",
           "ticks": "",
           "title": {
            "standoff": 15
           },
           "zerolinecolor": "white",
           "zerolinewidth": 2
          },
          "yaxis": {
           "automargin": true,
           "gridcolor": "white",
           "linecolor": "white",
           "ticks": "",
           "title": {
            "standoff": 15
           },
           "zerolinecolor": "white",
           "zerolinewidth": 2
          }
         }
        }
       }
      },
      "text/html": [
       "<div>                            <div id=\"94ba5f0a-071f-4c51-a245-ede6336a2dee\" class=\"plotly-graph-div\" style=\"height:525px; width:100%;\"></div>            <script type=\"text/javascript\">                require([\"plotly\"], function(Plotly) {                    window.PLOTLYENV=window.PLOTLYENV || {};                                    if (document.getElementById(\"94ba5f0a-071f-4c51-a245-ede6336a2dee\")) {                    Plotly.newPlot(                        \"94ba5f0a-071f-4c51-a245-ede6336a2dee\",                        [{\"hovertemplate\":\"PCA1=%{x}<br>PCA2=%{y}<br>PCA3=%{z}<br>property_segments=%{marker.color}<extra></extra>\",\"legendgroup\":\"\",\"marker\":{\"color\":[0,1,1,1,1,1,1,1,2,1,2,0,0,1,1,1,1,0,1,0,0,2,1,1,0,1,2,2,0,1,1,1,0,1,2,1,2,1,2,0,1,1,1,1,1,1,1,0,1,2,1,0,2,0,0,2,0,1,1,1,1,0,1,1,1,1,1,2,1,1,1,1,1,1,1,2,2,0,1,1,1,2,0,2,1,0,1,1,0,0,0,1,2,1,0,0,1,0,1,1,2,1,2,2,0,1,0,1,0,0,0,1,1,1,1,1,1,1,1,2,1,1,0,1,1,0,0,2,2,2,1,2,1,1,1,1,1],\"coloraxis\":\"coloraxis\",\"symbol\":\"circle\"},\"mode\":\"markers\",\"name\":\"\",\"scene\":\"scene\",\"showlegend\":false,\"x\":[0.6211595037154835,-0.09685797815477798,-0.09955709869907256,-0.09993022724321127,-0.09511486072986138,-0.09740530722216266,0.02093281831527863,-0.09444742348958833,-0.7167033359325271,-0.08419839658962337,-0.7166663665824392,0.49185692524206887,0.4950360234683264,0.0420004318682192,0.054845502746774834,-0.10451036639030745,0.0334445606837315,0.5089744275945647,-0.10460589098009135,0.6702918431157293,0.5073038541128623,-0.6913728378309805,-0.06193713306772145,-0.09681787434158813,1.5812418769325383,-0.09277048829319713,-0.5651794175252972,-0.7154765872280943,0.6490758513734065,-0.08788951280022944,-0.09892057392914182,-0.10269139110765058,0.7443276597616265,-0.0989309326147004,-0.7168300879899712,-0.10741872413767746,-0.7034810022062613,0.04589392013730908,-0.6610866900098266,0.6345706811210325,-0.08736043663517579,-0.10138304580181377,-0.08680446494279577,0.18130225085842874,-0.07964859900125229,-0.10464212086872957,-0.10086413177079838,0.5270896877163928,-0.06626391122181755,-0.5560537320844893,-0.0885026915395314,0.6697583343075559,-0.5696728004822532,0.488415343091839,0.4935293805018809,-0.7078330507695283,0.617221097494461,0.02529400422185702,-0.10402013004045318,-0.10467425665005094,-0.09748929692057787,0.635509858269078,-0.08321167664451558,-0.11056138707501123,-0.1273942351635432,-0.12204891254812608,-0.09290751788742095,-0.7706262293889465,-0.09004143716428689,-0.10619933755224656,0.050989151218315654,-0.10534521145076589,-0.09087212381129288,0.04141248908705632,0.03475064087187177,-0.6918350329147335,-0.5651587422135541,0.6767219361039479,-0.06522587738551637,-0.10268791774001,-0.10010905613888935,-0.6773762099339703,0.4796620415814762,-0.6895069677823947,-0.04525338306822194,0.5277297187418006,-0.0980508802174939,-0.10674849973929451,0.6496249828924152,0.8043057572766944,0.6457256281834194,0.019674102443777475,-0.6377097424757995,-0.10769271845255249,1.719699420263977,0.5073115640831766,0.05359662638924084,0.5095094037696074,-0.11059268732252468,-0.1123865181258395,-0.7160019507152483,-0.08743941344942845,-0.5547971669545206,-0.6969366329605242,0.8393562681786791,0.028477936414739315,1.0596851333343014,-0.11237738670181939,0.4904071778937801,0.5015058302962206,0.5494155197116483,-0.08247915440663428,-0.09601667044938654,-0.11157979270069374,0.03221627197331014,0.03584996556428871,-0.10812601910384335,-0.08709076429418981,-0.09703829988399565,-0.6899945621283319,-0.09510661472651269,-0.11122672007988253,0.63536003619371,-0.09547046298343005,0.041063170233061844,0.6591458393039407,0.5127751881921718,-0.7067628017915901,-0.7067628017915901,-0.6030186233408018,-0.0873128372614944,-0.7116078044769719,-0.10511375880756973,-0.0917269168714968,-0.09651597521163897,-0.10775248526167899,-0.11123654447156847],\"y\":[0.08539818229926062,-0.12634886175188545,-0.13061203930207638,-0.12963676352505019,-0.13090898435269716,-0.12577440811179752,0.31009136368725737,-0.14476592935815918,0.09524161487466752,-0.11777104738580559,0.09525113024254715,-0.3234275688851883,-0.3200268053893284,0.29486542761039836,0.2915509264328453,-0.12470350532527943,0.30624208766079064,-0.32054347401212807,-0.11766605397292534,0.09571280925720525,-0.3198350982884006,0.06896478624467157,-0.1356023546548595,-0.13370157510586297,0.7405357519317362,-0.1231070006206069,0.5094758707860032,0.09216931708896776,0.09516724591441336,-0.12830706859897384,-0.12395793389062718,-0.12343704928105209,0.2853768427468479,-0.13005156571486556,0.09520899075622308,-0.11449043957920749,0.09643180122914118,0.31167424746914,0.06278258389400156,0.10726816189161022,-0.12806796725543151,-0.11790014032853403,-0.1251378185181801,0.7321486099068666,-0.12104576814292442,-0.11779872052923641,-0.116120259740874,-0.3328340216092255,-0.12293087722444444,0.5125208103586131,-0.13577168167876938,0.09245731967381261,0.5093498833719827,-0.3229511052689331,-0.3263900735383023,0.08475674559290622,-0.4508767467522792,0.31450697682456286,-0.11836637566672605,-0.12553272706467344,-0.13360891050776313,0.10839135260893003,-0.13476033861093897,-0.11795334113985631,-0.10172264089253726,-0.10644189264052979,-0.12050378785946336,-0.12077889337939571,-0.13176621373025751,-0.11335791859464091,0.29739735517241656,-0.11848370736003046,-0.11804391914157386,0.2858021864637685,0.2955084953638247,0.08420108391424093,0.5083608788636736,0.07534083369239108,-0.12281180172652527,-0.13257856037178908,-0.11938885870875128,0.07704649903882321,-0.31105279635264393,0.0995865515681027,-0.15550547331295397,-0.3374895751730141,-0.12424851732111761,-0.0985888763030917,0.08326722235415442,0.5072167694035908,0.08563838071975051,0.30936114572727413,0.3016367677058503,-0.11884735798055081,1.1220353853041294,-0.3152842590539075,0.3000628933038279,-0.32146075929926415,-0.1138861918504067,-0.09887234288562348,0.09443014707349644,-0.12648493405535668,0.5108923787680514,0.08067065904445946,0.5140441836697294,0.3175157176765909,-0.5147670729180822,-0.11714467864332416,-0.31659018598782046,-0.31834167095355126,-0.38289601859256267,-0.11944540929567543,-0.1330106626928878,-0.11619120026662969,0.29883440206145556,0.2928669256792441,-0.12297532783218261,-0.13611717021879258,-0.13523298760160465,0.08682835055669254,-0.1285201827204852,-0.10070331055463946,0.09521539408663841,-0.12511947863671563,0.29726689774892057,0.09904657451847529,-0.32109586411430613,0.09572223723243363,0.09572223723243363,-0.03753618546393901,-0.1320081113360918,0.09597156745546923,-0.12487301711218521,-0.12694672518561315,-0.13448027328056017,-0.11769292265591914,-0.11902082701444848],\"z\":[-0.08106900955080179,0.008213290422609243,0.016210778871387152,0.011529685865267758,0.030564616865111433,0.0044067742024233685,-0.11595588192013481,0.08377125148352216,-0.07353050076937341,0.01359825377059393,-0.0734348245004792,-0.09302160340657162,-0.09641467647908612,0.0027289489621528397,0.052907649058652605,-0.020303317292500154,-0.06485071597791904,-0.053463213272056796,-0.04689995849576166,0.02522992499012663,-0.06106309756897771,0.0989854642945883,0.14580071808386688,0.036250174659854285,0.04574267542525907,0.00843223467017035,-0.015610126668740835,-0.05827066352420437,-0.03472635600503453,0.0417179772315234,-0.006597961773355452,-0.019724982217452936,0.11335209055445812,0.01593614689862522,-0.07385853369129641,-0.06691977057624597,-0.03883591310998802,-0.04832044594992241,0.21138491595353393,-0.12272287407289122,0.042743330613649815,-0.036433569068366985,0.03315320416976203,-0.0612903356911691,0.03925819275323387,-0.04641161964955122,-0.041594240701185614,0.04603337009375219,0.08582463937090105,-0.00020068331736419686,0.06802924365854023,0.03576352748026224,-0.028336229011152507,-0.10537500552471256,-0.07740780794303348,-0.00907034858290379,0.7512547733074241,-0.11980292840564097,-0.0424383862505626,-0.017757838818197747,0.0335575311536564,-0.1238493910176806,0.07974843943234024,-0.06317645655975578,-0.1735070196252963,-0.14019271861238122,-0.0017749969366654822,-0.004905612101181818,0.04823577945236807,-0.06763829920732545,0.020230181236744724,-0.045714206080200666,-0.00508384193395904,0.03497850849480402,-0.02103370146166907,0.04118085660216529,-0.011269471081405533,0.12063478146032652,0.08756091740642649,0.014366279072327378,-0.0270668415758554,0.11026407635970925,-0.175174325431637,-0.009405410992284742,0.268125375492681,0.06503614950045616,-0.002951397865475731,-0.12441957948946304,0.01090496761403,0.04180970772308847,-0.009017324844590899,-0.11702311583486087,-0.03215450597114593,-0.05131832060999922,0.18839929699058575,-0.07823060766051863,0.01744168815549184,-0.048553829603669885,-0.07853938804293019,-0.13980118879789585,-0.06819690491440389,0.03645085150855926,0.009691768346605248,0.03919442708367105,0.11987627433037071,-0.12144452858416822,-0.27790077981329286,-0.07181683479948842,-0.12282010244145551,-0.08354529405831948,0.2976724966735315,0.024899465244664225,0.03558225985460765,-0.07284748661546263,-0.04071453035861405,-0.007805350238371939,-0.03777909165015273,0.07326986380269605,0.040844864706072424,0.036521621716055254,0.021421677459090245,-0.1296506760089936,-0.07520893737108393,0.007818827392217982,-0.008934406344819653,-0.01985181241516892,-0.04022968156332065,-0.045927685883764564,-0.045927685883764564,0.756592250165406,0.05755111875293543,-0.06103516111743272,-0.021613425355462842,0.025301597097379735,0.03982487663327052,-0.05582355157511867,-0.061223732508445074],\"type\":\"scatter3d\"}],                        {\"template\":{\"data\":{\"histogram2dcontour\":[{\"type\":\"histogram2dcontour\",\"colorbar\":{\"outlinewidth\":0,\"ticks\":\"\"},\"colorscale\":[[0.0,\"#0d0887\"],[0.1111111111111111,\"#46039f\"],[0.2222222222222222,\"#7201a8\"],[0.3333333333333333,\"#9c179e\"],[0.4444444444444444,\"#bd3786\"],[0.5555555555555556,\"#d8576b\"],[0.6666666666666666,\"#ed7953\"],[0.7777777777777778,\"#fb9f3a\"],[0.8888888888888888,\"#fdca26\"],[1.0,\"#f0f921\"]]}],\"choropleth\":[{\"type\":\"choropleth\",\"colorbar\":{\"outlinewidth\":0,\"ticks\":\"\"}}],\"histogram2d\":[{\"type\":\"histogram2d\",\"colorbar\":{\"outlinewidth\":0,\"ticks\":\"\"},\"colorscale\":[[0.0,\"#0d0887\"],[0.1111111111111111,\"#46039f\"],[0.2222222222222222,\"#7201a8\"],[0.3333333333333333,\"#9c179e\"],[0.4444444444444444,\"#bd3786\"],[0.5555555555555556,\"#d8576b\"],[0.6666666666666666,\"#ed7953\"],[0.7777777777777778,\"#fb9f3a\"],[0.8888888888888888,\"#fdca26\"],[1.0,\"#f0f921\"]]}],\"heatmap\":[{\"type\":\"heatmap\",\"colorbar\":{\"outlinewidth\":0,\"ticks\":\"\"},\"colorscale\":[[0.0,\"#0d0887\"],[0.1111111111111111,\"#46039f\"],[0.2222222222222222,\"#7201a8\"],[0.3333333333333333,\"#9c179e\"],[0.4444444444444444,\"#bd3786\"],[0.5555555555555556,\"#d8576b\"],[0.6666666666666666,\"#ed7953\"],[0.7777777777777778,\"#fb9f3a\"],[0.8888888888888888,\"#fdca26\"],[1.0,\"#f0f921\"]]}],\"heatmapgl\":[{\"type\":\"heatmapgl\",\"colorbar\":{\"outlinewidth\":0,\"ticks\":\"\"},\"colorscale\":[[0.0,\"#0d0887\"],[0.1111111111111111,\"#46039f\"],[0.2222222222222222,\"#7201a8\"],[0.3333333333333333,\"#9c179e\"],[0.4444444444444444,\"#bd3786\"],[0.5555555555555556,\"#d8576b\"],[0.6666666666666666,\"#ed7953\"],[0.7777777777777778,\"#fb9f3a\"],[0.8888888888888888,\"#fdca26\"],[1.0,\"#f0f921\"]]}],\"contourcarpet\":[{\"type\":\"contourcarpet\",\"colorbar\":{\"outlinewidth\":0,\"ticks\":\"\"}}],\"contour\":[{\"type\":\"contour\",\"colorbar\":{\"outlinewidth\":0,\"ticks\":\"\"},\"colorscale\":[[0.0,\"#0d0887\"],[0.1111111111111111,\"#46039f\"],[0.2222222222222222,\"#7201a8\"],[0.3333333333333333,\"#9c179e\"],[0.4444444444444444,\"#bd3786\"],[0.5555555555555556,\"#d8576b\"],[0.6666666666666666,\"#ed7953\"],[0.7777777777777778,\"#fb9f3a\"],[0.8888888888888888,\"#fdca26\"],[1.0,\"#f0f921\"]]}],\"surface\":[{\"type\":\"surface\",\"colorbar\":{\"outlinewidth\":0,\"ticks\":\"\"},\"colorscale\":[[0.0,\"#0d0887\"],[0.1111111111111111,\"#46039f\"],[0.2222222222222222,\"#7201a8\"],[0.3333333333333333,\"#9c179e\"],[0.4444444444444444,\"#bd3786\"],[0.5555555555555556,\"#d8576b\"],[0.6666666666666666,\"#ed7953\"],[0.7777777777777778,\"#fb9f3a\"],[0.8888888888888888,\"#fdca26\"],[1.0,\"#f0f921\"]]}],\"mesh3d\":[{\"type\":\"mesh3d\",\"colorbar\":{\"outlinewidth\":0,\"ticks\":\"\"}}],\"scatter\":[{\"fillpattern\":{\"fillmode\":\"overlay\",\"size\":10,\"solidity\":0.2},\"type\":\"scatter\"}],\"parcoords\":[{\"type\":\"parcoords\",\"line\":{\"colorbar\":{\"outlinewidth\":0,\"ticks\":\"\"}}}],\"scatterpolargl\":[{\"type\":\"scatterpolargl\",\"marker\":{\"colorbar\":{\"outlinewidth\":0,\"ticks\":\"\"}}}],\"bar\":[{\"error_x\":{\"color\":\"#2a3f5f\"},\"error_y\":{\"color\":\"#2a3f5f\"},\"marker\":{\"line\":{\"color\":\"#E5ECF6\",\"width\":0.5},\"pattern\":{\"fillmode\":\"overlay\",\"size\":10,\"solidity\":0.2}},\"type\":\"bar\"}],\"scattergeo\":[{\"type\":\"scattergeo\",\"marker\":{\"colorbar\":{\"outlinewidth\":0,\"ticks\":\"\"}}}],\"scatterpolar\":[{\"type\":\"scatterpolar\",\"marker\":{\"colorbar\":{\"outlinewidth\":0,\"ticks\":\"\"}}}],\"histogram\":[{\"marker\":{\"pattern\":{\"fillmode\":\"overlay\",\"size\":10,\"solidity\":0.2}},\"type\":\"histogram\"}],\"scattergl\":[{\"type\":\"scattergl\",\"marker\":{\"colorbar\":{\"outlinewidth\":0,\"ticks\":\"\"}}}],\"scatter3d\":[{\"type\":\"scatter3d\",\"line\":{\"colorbar\":{\"outlinewidth\":0,\"ticks\":\"\"}},\"marker\":{\"colorbar\":{\"outlinewidth\":0,\"ticks\":\"\"}}}],\"scattermapbox\":[{\"type\":\"scattermapbox\",\"marker\":{\"colorbar\":{\"outlinewidth\":0,\"ticks\":\"\"}}}],\"scatterternary\":[{\"type\":\"scatterternary\",\"marker\":{\"colorbar\":{\"outlinewidth\":0,\"ticks\":\"\"}}}],\"scattercarpet\":[{\"type\":\"scattercarpet\",\"marker\":{\"colorbar\":{\"outlinewidth\":0,\"ticks\":\"\"}}}],\"carpet\":[{\"aaxis\":{\"endlinecolor\":\"#2a3f5f\",\"gridcolor\":\"white\",\"linecolor\":\"white\",\"minorgridcolor\":\"white\",\"startlinecolor\":\"#2a3f5f\"},\"baxis\":{\"endlinecolor\":\"#2a3f5f\",\"gridcolor\":\"white\",\"linecolor\":\"white\",\"minorgridcolor\":\"white\",\"startlinecolor\":\"#2a3f5f\"},\"type\":\"carpet\"}],\"table\":[{\"cells\":{\"fill\":{\"color\":\"#EBF0F8\"},\"line\":{\"color\":\"white\"}},\"header\":{\"fill\":{\"color\":\"#C8D4E3\"},\"line\":{\"color\":\"white\"}},\"type\":\"table\"}],\"barpolar\":[{\"marker\":{\"line\":{\"color\":\"#E5ECF6\",\"width\":0.5},\"pattern\":{\"fillmode\":\"overlay\",\"size\":10,\"solidity\":0.2}},\"type\":\"barpolar\"}],\"pie\":[{\"automargin\":true,\"type\":\"pie\"}]},\"layout\":{\"autotypenumbers\":\"strict\",\"colorway\":[\"#636efa\",\"#EF553B\",\"#00cc96\",\"#ab63fa\",\"#FFA15A\",\"#19d3f3\",\"#FF6692\",\"#B6E880\",\"#FF97FF\",\"#FECB52\"],\"font\":{\"color\":\"#2a3f5f\"},\"hovermode\":\"closest\",\"hoverlabel\":{\"align\":\"left\"},\"paper_bgcolor\":\"white\",\"plot_bgcolor\":\"#E5ECF6\",\"polar\":{\"bgcolor\":\"#E5ECF6\",\"angularaxis\":{\"gridcolor\":\"white\",\"linecolor\":\"white\",\"ticks\":\"\"},\"radialaxis\":{\"gridcolor\":\"white\",\"linecolor\":\"white\",\"ticks\":\"\"}},\"ternary\":{\"bgcolor\":\"#E5ECF6\",\"aaxis\":{\"gridcolor\":\"white\",\"linecolor\":\"white\",\"ticks\":\"\"},\"baxis\":{\"gridcolor\":\"white\",\"linecolor\":\"white\",\"ticks\":\"\"},\"caxis\":{\"gridcolor\":\"white\",\"linecolor\":\"white\",\"ticks\":\"\"}},\"coloraxis\":{\"colorbar\":{\"outlinewidth\":0,\"ticks\":\"\"}},\"colorscale\":{\"sequential\":[[0.0,\"#0d0887\"],[0.1111111111111111,\"#46039f\"],[0.2222222222222222,\"#7201a8\"],[0.3333333333333333,\"#9c179e\"],[0.4444444444444444,\"#bd3786\"],[0.5555555555555556,\"#d8576b\"],[0.6666666666666666,\"#ed7953\"],[0.7777777777777778,\"#fb9f3a\"],[0.8888888888888888,\"#fdca26\"],[1.0,\"#f0f921\"]],\"sequentialminus\":[[0.0,\"#0d0887\"],[0.1111111111111111,\"#46039f\"],[0.2222222222222222,\"#7201a8\"],[0.3333333333333333,\"#9c179e\"],[0.4444444444444444,\"#bd3786\"],[0.5555555555555556,\"#d8576b\"],[0.6666666666666666,\"#ed7953\"],[0.7777777777777778,\"#fb9f3a\"],[0.8888888888888888,\"#fdca26\"],[1.0,\"#f0f921\"]],\"diverging\":[[0,\"#8e0152\"],[0.1,\"#c51b7d\"],[0.2,\"#de77ae\"],[0.3,\"#f1b6da\"],[0.4,\"#fde0ef\"],[0.5,\"#f7f7f7\"],[0.6,\"#e6f5d0\"],[0.7,\"#b8e186\"],[0.8,\"#7fbc41\"],[0.9,\"#4d9221\"],[1,\"#276419\"]]},\"xaxis\":{\"gridcolor\":\"white\",\"linecolor\":\"white\",\"ticks\":\"\",\"title\":{\"standoff\":15},\"zerolinecolor\":\"white\",\"automargin\":true,\"zerolinewidth\":2},\"yaxis\":{\"gridcolor\":\"white\",\"linecolor\":\"white\",\"ticks\":\"\",\"title\":{\"standoff\":15},\"zerolinecolor\":\"white\",\"automargin\":true,\"zerolinewidth\":2},\"scene\":{\"xaxis\":{\"backgroundcolor\":\"#E5ECF6\",\"gridcolor\":\"white\",\"linecolor\":\"white\",\"showbackground\":true,\"ticks\":\"\",\"zerolinecolor\":\"white\",\"gridwidth\":2},\"yaxis\":{\"backgroundcolor\":\"#E5ECF6\",\"gridcolor\":\"white\",\"linecolor\":\"white\",\"showbackground\":true,\"ticks\":\"\",\"zerolinecolor\":\"white\",\"gridwidth\":2},\"zaxis\":{\"backgroundcolor\":\"#E5ECF6\",\"gridcolor\":\"white\",\"linecolor\":\"white\",\"showbackground\":true,\"ticks\":\"\",\"zerolinecolor\":\"white\",\"gridwidth\":2}},\"shapedefaults\":{\"line\":{\"color\":\"#2a3f5f\"}},\"annotationdefaults\":{\"arrowcolor\":\"#2a3f5f\",\"arrowhead\":0,\"arrowwidth\":1},\"geo\":{\"bgcolor\":\"white\",\"landcolor\":\"#E5ECF6\",\"subunitcolor\":\"white\",\"showland\":true,\"showlakes\":true,\"lakecolor\":\"white\"},\"title\":{\"x\":0.05},\"mapbox\":{\"style\":\"light\"}}},\"scene\":{\"domain\":{\"x\":[0.0,1.0],\"y\":[0.0,1.0]},\"xaxis\":{\"title\":{\"text\":\"PCA1\"}},\"yaxis\":{\"title\":{\"text\":\"PCA2\"}},\"zaxis\":{\"title\":{\"text\":\"PCA3\"}}},\"coloraxis\":{\"colorbar\":{\"title\":{\"text\":\"property_segments\"}},\"colorscale\":[[0.0,\"#0d0887\"],[0.1111111111111111,\"#46039f\"],[0.2222222222222222,\"#7201a8\"],[0.3333333333333333,\"#9c179e\"],[0.4444444444444444,\"#bd3786\"],[0.5555555555555556,\"#d8576b\"],[0.6666666666666666,\"#ed7953\"],[0.7777777777777778,\"#fb9f3a\"],[0.8888888888888888,\"#fdca26\"],[1.0,\"#f0f921\"]]},\"legend\":{\"tracegroupgap\":0},\"margin\":{\"t\":60}},                        {\"responsive\": true}                    ).then(function(){\n",
       "                            \n",
       "var gd = document.getElementById('94ba5f0a-071f-4c51-a245-ede6336a2dee');\n",
       "var x = new MutationObserver(function (mutations, observer) {{\n",
       "        var display = window.getComputedStyle(gd).display;\n",
       "        if (!display || display === 'none') {{\n",
       "            console.log([gd, 'removed!']);\n",
       "            Plotly.purge(gd);\n",
       "            observer.disconnect();\n",
       "        }}\n",
       "}});\n",
       "\n",
       "// Listen for the removal of the full notebook cells\n",
       "var notebookContainer = gd.closest('#notebook-container');\n",
       "if (notebookContainer) {{\n",
       "    x.observe(notebookContainer, {childList: true});\n",
       "}}\n",
       "\n",
       "// Listen for the clearing of the current output cell\n",
       "var outputEl = gd.closest('.output');\n",
       "if (outputEl) {{\n",
       "    x.observe(outputEl, {childList: true});\n",
       "}}\n",
       "\n",
       "                        })                };                });            </script>        </div>"
      ]
     },
     "metadata": {},
     "output_type": "display_data"
    }
   ],
   "source": [
    "# Plot the clusters\n",
    "# propertyChi_pca_predictions_df.hvplot.scatter(\n",
    "#     x=\"PCA1\",\n",
    "#     y=\"PCA2\",\n",
    "#     by=\"property_segments\"\n",
    "# )\n",
    "\n",
    "import plotly.express as px\n",
    "\n",
    "fig = px.scatter_3d(propertyAZ_pca_predictions_df, x='PCA1', y='PCA2', z='PCA3',\n",
    "              color='property_segments')\n",
    "fig.show()"
   ]
  },
  {
   "cell_type": "code",
   "execution_count": 68,
   "id": "5b53a096",
   "metadata": {},
   "outputs": [
    {
     "data": {
      "text/html": [
       "<div>\n",
       "<style scoped>\n",
       "    .dataframe tbody tr th:only-of-type {\n",
       "        vertical-align: middle;\n",
       "    }\n",
       "\n",
       "    .dataframe tbody tr th {\n",
       "        vertical-align: top;\n",
       "    }\n",
       "\n",
       "    .dataframe thead th {\n",
       "        text-align: right;\n",
       "    }\n",
       "</style>\n",
       "<table border=\"1\" class=\"dataframe\">\n",
       "  <thead>\n",
       "    <tr style=\"text-align: right;\">\n",
       "      <th></th>\n",
       "      <th>Address</th>\n",
       "      <th>City</th>\n",
       "      <th>Zip</th>\n",
       "      <th>SoldDate</th>\n",
       "      <th>Bathrooms</th>\n",
       "      <th>Bedrooms</th>\n",
       "      <th>LivingArea</th>\n",
       "      <th>LandArea</th>\n",
       "      <th>PropPrice</th>\n",
       "      <th>InflationRate</th>\n",
       "      <th>FederalInt</th>\n",
       "      <th>MonthID</th>\n",
       "      <th>property_segments</th>\n",
       "    </tr>\n",
       "  </thead>\n",
       "  <tbody>\n",
       "    <tr>\n",
       "      <th>0</th>\n",
       "      <td>244 N Delaware St</td>\n",
       "      <td>Chandler</td>\n",
       "      <td>85225</td>\n",
       "      <td>2/19/24</td>\n",
       "      <td>3.0</td>\n",
       "      <td>4</td>\n",
       "      <td>1272</td>\n",
       "      <td>7532.0</td>\n",
       "      <td>275000</td>\n",
       "      <td>3.1</td>\n",
       "      <td>5.33</td>\n",
       "      <td>2</td>\n",
       "      <td>0</td>\n",
       "    </tr>\n",
       "    <tr>\n",
       "      <th>1</th>\n",
       "      <td>923 W Mesquite St</td>\n",
       "      <td>Chandler</td>\n",
       "      <td>85225</td>\n",
       "      <td>2/16/24</td>\n",
       "      <td>2.0</td>\n",
       "      <td>3</td>\n",
       "      <td>1480</td>\n",
       "      <td>7492.0</td>\n",
       "      <td>428000</td>\n",
       "      <td>3.1</td>\n",
       "      <td>5.33</td>\n",
       "      <td>2</td>\n",
       "      <td>1</td>\n",
       "    </tr>\n",
       "    <tr>\n",
       "      <th>2</th>\n",
       "      <td>304 W El Prado Rd</td>\n",
       "      <td>Chandler</td>\n",
       "      <td>85225</td>\n",
       "      <td>2/16/24</td>\n",
       "      <td>2.0</td>\n",
       "      <td>3</td>\n",
       "      <td>1300</td>\n",
       "      <td>8024.0</td>\n",
       "      <td>419000</td>\n",
       "      <td>3.1</td>\n",
       "      <td>5.33</td>\n",
       "      <td>2</td>\n",
       "      <td>1</td>\n",
       "    </tr>\n",
       "    <tr>\n",
       "      <th>3</th>\n",
       "      <td>1412 E Ironwood Dr</td>\n",
       "      <td>Chandler</td>\n",
       "      <td>85225</td>\n",
       "      <td>2/16/24</td>\n",
       "      <td>2.0</td>\n",
       "      <td>3</td>\n",
       "      <td>1308</td>\n",
       "      <td>7823.0</td>\n",
       "      <td>435300</td>\n",
       "      <td>3.1</td>\n",
       "      <td>5.33</td>\n",
       "      <td>2</td>\n",
       "      <td>1</td>\n",
       "    </tr>\n",
       "    <tr>\n",
       "      <th>4</th>\n",
       "      <td>663 E Manor Dr</td>\n",
       "      <td>Chandler</td>\n",
       "      <td>85225</td>\n",
       "      <td>2/16/24</td>\n",
       "      <td>2.0</td>\n",
       "      <td>3</td>\n",
       "      <td>1415</td>\n",
       "      <td>8407.0</td>\n",
       "      <td>494000</td>\n",
       "      <td>3.1</td>\n",
       "      <td>5.33</td>\n",
       "      <td>2</td>\n",
       "      <td>1</td>\n",
       "    </tr>\n",
       "  </tbody>\n",
       "</table>\n",
       "</div>"
      ],
      "text/plain": [
       "              Address      City    Zip SoldDate  Bathrooms  Bedrooms  \\\n",
       "0   244 N Delaware St  Chandler  85225  2/19/24        3.0         4   \n",
       "1   923 W Mesquite St  Chandler  85225  2/16/24        2.0         3   \n",
       "2   304 W El Prado Rd  Chandler  85225  2/16/24        2.0         3   \n",
       "3  1412 E Ironwood Dr  Chandler  85225  2/16/24        2.0         3   \n",
       "4      663 E Manor Dr  Chandler  85225  2/16/24        2.0         3   \n",
       "\n",
       "   LivingArea  LandArea  PropPrice  InflationRate  FederalInt  MonthID  \\\n",
       "0        1272    7532.0     275000            3.1        5.33        2   \n",
       "1        1480    7492.0     428000            3.1        5.33        2   \n",
       "2        1300    8024.0     419000            3.1        5.33        2   \n",
       "3        1308    7823.0     435300            3.1        5.33        2   \n",
       "4        1415    8407.0     494000            3.1        5.33        2   \n",
       "\n",
       "   property_segments  \n",
       "0                  0  \n",
       "1                  1  \n",
       "2                  1  \n",
       "3                  1  \n",
       "4                  1  "
      ]
     },
     "execution_count": 68,
     "metadata": {},
     "output_type": "execute_result"
    }
   ],
   "source": [
    "# Define the model Kmeans model using k=3 clusters\n",
    "model = KMeans(n_clusters=3, random_state=0)\n",
    "\n",
    "# Fit the model\n",
    "model.fit(df_Az)\n",
    "\n",
    "# Make predictions\n",
    "k_3 = model.predict(df_Az)\n",
    "\n",
    "# Create a copy of the customers_transformed_df DataFrame\n",
    "df_Az_predictions = df_Az.copy()\n",
    "df_Az_Orig_Pred= df_Az_Orig.copy()\n",
    "# Add a class column with the labels\n",
    "df_Az_predictions[\"property_segments\"] = k_3\n",
    "df_Az_Orig_Pred[\"property_segments\"] = k_3\n",
    "df_Az_Orig_Pred.head()"
   ]
  },
  {
   "cell_type": "code",
   "execution_count": 70,
   "id": "25c11d15",
   "metadata": {},
   "outputs": [
    {
     "data": {},
     "metadata": {},
     "output_type": "display_data"
    },
    {
     "data": {
      "application/vnd.holoviews_exec.v0+json": "",
      "text/html": [
       "<div id='2505'>\n",
       "  <div class=\"bk-root\" id=\"b14303d7-dac8-4ab6-b4a5-7c140e8e47c7\" data-root-id=\"2505\"></div>\n",
       "</div>\n",
       "<script type=\"application/javascript\">(function(root) {\n",
       "  function embed_document(root) {\n",
       "    var docs_json = {\"7d51ffeb-c0d6-406d-801d-d47ff5551f41\":{\"defs\":[{\"extends\":null,\"module\":null,\"name\":\"ReactiveHTML1\",\"overrides\":[],\"properties\":[]},{\"extends\":null,\"module\":null,\"name\":\"FlexBox1\",\"overrides\":[],\"properties\":[{\"default\":\"flex-start\",\"kind\":null,\"name\":\"align_content\"},{\"default\":\"flex-start\",\"kind\":null,\"name\":\"align_items\"},{\"default\":\"row\",\"kind\":null,\"name\":\"flex_direction\"},{\"default\":\"wrap\",\"kind\":null,\"name\":\"flex_wrap\"},{\"default\":\"flex-start\",\"kind\":null,\"name\":\"justify_content\"}]},{\"extends\":null,\"module\":null,\"name\":\"GridStack1\",\"overrides\":[],\"properties\":[{\"default\":\"warn\",\"kind\":null,\"name\":\"mode\"},{\"default\":null,\"kind\":null,\"name\":\"ncols\"},{\"default\":null,\"kind\":null,\"name\":\"nrows\"},{\"default\":true,\"kind\":null,\"name\":\"allow_resize\"},{\"default\":true,\"kind\":null,\"name\":\"allow_drag\"},{\"default\":[],\"kind\":null,\"name\":\"state\"}]},{\"extends\":null,\"module\":null,\"name\":\"click1\",\"overrides\":[],\"properties\":[{\"default\":\"\",\"kind\":null,\"name\":\"terminal_output\"},{\"default\":\"\",\"kind\":null,\"name\":\"debug_name\"},{\"default\":0,\"kind\":null,\"name\":\"clears\"}]},{\"extends\":null,\"module\":null,\"name\":\"NotificationAreaBase1\",\"overrides\":[],\"properties\":[{\"default\":\"bottom-right\",\"kind\":null,\"name\":\"position\"},{\"default\":0,\"kind\":null,\"name\":\"_clear\"}]},{\"extends\":null,\"module\":null,\"name\":\"NotificationArea1\",\"overrides\":[],\"properties\":[{\"default\":[],\"kind\":null,\"name\":\"notifications\"},{\"default\":\"bottom-right\",\"kind\":null,\"name\":\"position\"},{\"default\":0,\"kind\":null,\"name\":\"_clear\"},{\"default\":[{\"background\":\"#ffc107\",\"icon\":{\"className\":\"fas fa-exclamation-triangle\",\"color\":\"white\",\"tagName\":\"i\"},\"type\":\"warning\"},{\"background\":\"#007bff\",\"icon\":{\"className\":\"fas fa-info-circle\",\"color\":\"white\",\"tagName\":\"i\"},\"type\":\"info\"}],\"kind\":null,\"name\":\"types\"}]},{\"extends\":null,\"module\":null,\"name\":\"Notification\",\"overrides\":[],\"properties\":[{\"default\":null,\"kind\":null,\"name\":\"background\"},{\"default\":3000,\"kind\":null,\"name\":\"duration\"},{\"default\":null,\"kind\":null,\"name\":\"icon\"},{\"default\":\"\",\"kind\":null,\"name\":\"message\"},{\"default\":null,\"kind\":null,\"name\":\"notification_type\"},{\"default\":false,\"kind\":null,\"name\":\"_destroyed\"}]},{\"extends\":null,\"module\":null,\"name\":\"TemplateActions1\",\"overrides\":[],\"properties\":[{\"default\":0,\"kind\":null,\"name\":\"open_modal\"},{\"default\":0,\"kind\":null,\"name\":\"close_modal\"}]},{\"extends\":null,\"module\":null,\"name\":\"MaterialTemplateActions1\",\"overrides\":[],\"properties\":[{\"default\":0,\"kind\":null,\"name\":\"open_modal\"},{\"default\":0,\"kind\":null,\"name\":\"close_modal\"}]}],\"roots\":{\"references\":[{\"attributes\":{\"coordinates\":null,\"data_source\":{\"id\":\"2591\"},\"glyph\":{\"id\":\"2594\"},\"group\":null,\"hover_glyph\":null,\"muted_glyph\":{\"id\":\"2596\"},\"nonselection_glyph\":{\"id\":\"2595\"},\"selection_glyph\":{\"id\":\"2614\"},\"view\":{\"id\":\"2598\"}},\"id\":\"2597\",\"type\":\"GlyphRenderer\"},{\"attributes\":{\"fill_alpha\":{\"value\":0.1},\"fill_color\":{\"value\":\"#fc4f30\"},\"hatch_alpha\":{\"value\":0.1},\"hatch_color\":{\"value\":\"#fc4f30\"},\"line_alpha\":{\"value\":0.1},\"line_color\":{\"value\":\"#fc4f30\"},\"size\":{\"value\":5.477225575051661},\"x\":{\"field\":\"Bedrooms\"},\"y\":{\"field\":\"PropPrice\"}},\"id\":\"2573\",\"type\":\"Scatter\"},{\"attributes\":{\"label\":{\"value\":\"2\"},\"renderers\":[{\"id\":\"2597\"}]},\"id\":\"2613\",\"type\":\"LegendItem\"},{\"attributes\":{},\"id\":\"2533\",\"type\":\"ResetTool\"},{\"attributes\":{},\"id\":\"2610\",\"type\":\"UnionRenderers\"},{\"attributes\":{\"fill_alpha\":{\"value\":0.2},\"fill_color\":{\"value\":\"#fc4f30\"},\"hatch_alpha\":{\"value\":0.2},\"hatch_color\":{\"value\":\"#fc4f30\"},\"line_alpha\":{\"value\":0.2},\"line_color\":{\"value\":\"#fc4f30\"},\"size\":{\"value\":5.477225575051661},\"x\":{\"field\":\"Bedrooms\"},\"y\":{\"field\":\"PropPrice\"}},\"id\":\"2574\",\"type\":\"Scatter\"},{\"attributes\":{\"tools\":[{\"id\":\"2509\"},{\"id\":\"2529\"},{\"id\":\"2530\"},{\"id\":\"2531\"},{\"id\":\"2532\"},{\"id\":\"2533\"}]},\"id\":\"2535\",\"type\":\"Toolbar\"},{\"attributes\":{\"data\":{\"Address\":[\"244 N Delaware St\",\"770 W Kesler Ln\",\"312 W Marlboro Dr\",\"2420 E Whitten St\",\"1012 E Sheffield Ave\",\"1325 E Whitten Pl\",\"881 W Folley St\",\"1841 E Ross Dr\",\"921 N Oxford Ln\",\"25 S Willow Creek St\",\"860 N Hudson Dr\",\"311 W Bentrup St\",\"873 W Shannon St\",\"732 E Chicago St\",\"368 E Campbell Rd\",\"1437 E Chicago Cir\",\"1323 N Bedford Dr\",\"1328 E Binner Dr\",\"1090 E Oakland St\",\"974 S Sunset Ct\",\"517 N Newport St\",\"671 W Toledo St\",\"2 S Quarty Cir\",\"1902 E Shannon St\",\"2391 E Fairview St\",\"874 W Whitten St\",\"1450 N Evergreen St\",\"1621 E San Tan St\",\"261 N Norman Way\",\"1073 E Senate Cir\",\"1591 E Carla Vista Dr\",\"1456 E Carla Vista Dr\",\"2303 E San Tan St\"],\"Bedrooms\":[4,4,4,4,4,4,5,4,4,4,4,4,4,4,4,4,4,4,4,4,4,4,5,4,4,4,5,4,4,4,4,4,4],\"PropPrice\":[275000,525000,527500,600000,600000,580000,880000,625000,352000,517500,777000,580000,372000,420000,950000,615000,750000,450000,698000,495500,607000,600000,1190000,522000,575000,915000,290000,520000,598500,569000,573000,595000,615000],\"SoldDate\":[\"2/19/24\",\"2/13/24\",\"2/12/24\",\"2/9/24\",\"2/8/24\",\"2/8/24\",\"2/1/24\",\"1/31/24\",\"1/29/24\",\"1/24/24\",\"1/16/24\",\"1/12/24\",\"1/8/24\",\"1/8/24\",\"1/4/24\",\"12/29/23\",\"12/11/23\",\"12/7/23\",\"12/5/23\",\"12/4/23\",\"12/1/23\",\"11/30/23\",\"11/30/23\",\"11/30/23\",\"11/30/23\",\"11/28/23\",\"11/27/23\",\"11/22/23\",\"11/22/23\",\"11/21/23\",\"11/14/23\",\"11/10/23\",\"11/9/23\"],\"property_segments\":[0,0,0,0,0,0,0,0,0,0,0,0,0,0,0,0,0,0,0,0,0,0,0,0,0,0,0,0,0,0,0,0,0]},\"selected\":{\"id\":\"2549\"},\"selection_policy\":{\"id\":\"2563\"}},\"id\":\"2548\",\"type\":\"ColumnDataSource\"},{\"attributes\":{\"callback\":null,\"renderers\":[{\"id\":\"2554\"},{\"id\":\"2575\"},{\"id\":\"2597\"}],\"tags\":[\"hv_created\"],\"tooltips\":[[\"property_segments\",\"@{property_segments}\"],[\"Bedrooms\",\"@{Bedrooms}\"],[\"PropPrice\",\"@{PropPrice}\"],[\"Address\",\"@{Address}\"],[\"SoldDate\",\"@{SoldDate}\"]]},\"id\":\"2509\",\"type\":\"HoverTool\"},{\"attributes\":{\"axis_label\":\"Bedrooms\",\"coordinates\":null,\"formatter\":{\"id\":\"2543\"},\"group\":null,\"major_label_policy\":{\"id\":\"2544\"},\"ticker\":{\"id\":\"2522\"}},\"id\":\"2521\",\"type\":\"LinearAxis\"},{\"attributes\":{\"below\":[{\"id\":\"2521\"}],\"center\":[{\"id\":\"2524\"},{\"id\":\"2528\"}],\"height\":300,\"left\":[{\"id\":\"2525\"}],\"margin\":[5,5,5,5],\"min_border_bottom\":10,\"min_border_left\":10,\"min_border_right\":10,\"min_border_top\":10,\"renderers\":[{\"id\":\"2554\"},{\"id\":\"2575\"},{\"id\":\"2597\"}],\"right\":[{\"id\":\"2566\"}],\"sizing_mode\":\"fixed\",\"title\":{\"id\":\"2513\"},\"toolbar\":{\"id\":\"2535\"},\"width\":700,\"x_range\":{\"id\":\"2507\"},\"x_scale\":{\"id\":\"2517\"},\"y_range\":{\"id\":\"2508\"},\"y_scale\":{\"id\":\"2519\"}},\"id\":\"2512\",\"subtype\":\"Figure\",\"type\":\"Plot\"},{\"attributes\":{\"children\":[{\"id\":\"2506\"},{\"id\":\"2512\"},{\"id\":\"2629\"}],\"margin\":[0,0,0,0],\"name\":\"Row02675\",\"tags\":[\"embedded\"]},\"id\":\"2505\",\"type\":\"Row\"},{\"attributes\":{},\"id\":\"2519\",\"type\":\"LinearScale\"},{\"attributes\":{\"bottom_units\":\"screen\",\"coordinates\":null,\"fill_alpha\":0.5,\"fill_color\":\"lightgrey\",\"group\":null,\"left_units\":\"screen\",\"level\":\"overlay\",\"line_alpha\":1.0,\"line_color\":\"black\",\"line_dash\":[4,4],\"line_width\":2,\"right_units\":\"screen\",\"syncable\":false,\"top_units\":\"screen\"},\"id\":\"2534\",\"type\":\"BoxAnnotation\"},{\"attributes\":{},\"id\":\"2586\",\"type\":\"UnionRenderers\"},{\"attributes\":{\"axis\":{\"id\":\"2525\"},\"coordinates\":null,\"dimension\":1,\"grid_line_color\":null,\"group\":null,\"ticker\":null},\"id\":\"2528\",\"type\":\"Grid\"},{\"attributes\":{\"angle\":{\"value\":0.0},\"fill_alpha\":{\"value\":1.0},\"fill_color\":{\"value\":\"#e5ae38\"},\"hatch_alpha\":{\"value\":1.0},\"hatch_color\":{\"value\":\"#e5ae38\"},\"hatch_scale\":{\"value\":12.0},\"hatch_weight\":{\"value\":1.0},\"line_alpha\":{\"value\":1.0},\"line_cap\":{\"value\":\"butt\"},\"line_color\":{\"value\":\"#e5ae38\"},\"line_dash\":{\"value\":[]},\"line_dash_offset\":{\"value\":0},\"line_join\":{\"value\":\"bevel\"},\"line_width\":{\"value\":1},\"marker\":{\"value\":\"circle\"},\"size\":{\"value\":5.477225575051661},\"x\":{\"field\":\"Bedrooms\"},\"y\":{\"field\":\"PropPrice\"}},\"id\":\"2614\",\"type\":\"Scatter\"},{\"attributes\":{\"label\":{\"value\":\"0\"},\"renderers\":[{\"id\":\"2554\"}]},\"id\":\"2567\",\"type\":\"LegendItem\"},{\"attributes\":{},\"id\":\"2522\",\"type\":\"BasicTicker\"},{\"attributes\":{},\"id\":\"2570\",\"type\":\"Selection\"},{\"attributes\":{\"margin\":[5,5,5,5],\"name\":\"HSpacer02679\",\"sizing_mode\":\"stretch_width\"},\"id\":\"2506\",\"type\":\"Spacer\"},{\"attributes\":{},\"id\":\"2544\",\"type\":\"AllLabels\"},{\"attributes\":{\"axis\":{\"id\":\"2521\"},\"coordinates\":null,\"grid_line_color\":null,\"group\":null,\"ticker\":null},\"id\":\"2524\",\"type\":\"Grid\"},{\"attributes\":{\"fill_alpha\":{\"value\":0.2},\"fill_color\":{\"value\":\"#30a2da\"},\"hatch_alpha\":{\"value\":0.2},\"hatch_color\":{\"value\":\"#30a2da\"},\"line_alpha\":{\"value\":0.2},\"line_color\":{\"value\":\"#30a2da\"},\"size\":{\"value\":5.477225575051661},\"x\":{\"field\":\"Bedrooms\"},\"y\":{\"field\":\"PropPrice\"}},\"id\":\"2553\",\"type\":\"Scatter\"},{\"attributes\":{\"coordinates\":null,\"data_source\":{\"id\":\"2548\"},\"glyph\":{\"id\":\"2551\"},\"group\":null,\"hover_glyph\":null,\"muted_glyph\":{\"id\":\"2553\"},\"nonselection_glyph\":{\"id\":\"2552\"},\"selection_glyph\":{\"id\":\"2568\"},\"view\":{\"id\":\"2555\"}},\"id\":\"2554\",\"type\":\"GlyphRenderer\"},{\"attributes\":{},\"id\":\"2526\",\"type\":\"BasicTicker\"},{\"attributes\":{\"label\":{\"value\":\"1\"},\"renderers\":[{\"id\":\"2575\"}]},\"id\":\"2589\",\"type\":\"LegendItem\"},{\"attributes\":{\"axis_label\":\"PropPrice\",\"coordinates\":null,\"formatter\":{\"id\":\"2546\"},\"group\":null,\"major_label_policy\":{\"id\":\"2547\"},\"ticker\":{\"id\":\"2526\"}},\"id\":\"2525\",\"type\":\"LinearAxis\"},{\"attributes\":{\"coordinates\":null,\"data_source\":{\"id\":\"2569\"},\"glyph\":{\"id\":\"2572\"},\"group\":null,\"hover_glyph\":null,\"muted_glyph\":{\"id\":\"2574\"},\"nonselection_glyph\":{\"id\":\"2573\"},\"selection_glyph\":{\"id\":\"2590\"},\"view\":{\"id\":\"2576\"}},\"id\":\"2575\",\"type\":\"GlyphRenderer\"},{\"attributes\":{\"fill_color\":{\"value\":\"#30a2da\"},\"hatch_color\":{\"value\":\"#30a2da\"},\"line_color\":{\"value\":\"#30a2da\"},\"size\":{\"value\":5.477225575051661},\"x\":{\"field\":\"Bedrooms\"},\"y\":{\"field\":\"PropPrice\"}},\"id\":\"2551\",\"type\":\"Scatter\"},{\"attributes\":{\"source\":{\"id\":\"2569\"}},\"id\":\"2576\",\"type\":\"CDSView\"},{\"attributes\":{\"margin\":[5,5,5,5],\"name\":\"HSpacer02680\",\"sizing_mode\":\"stretch_width\"},\"id\":\"2629\",\"type\":\"Spacer\"},{\"attributes\":{\"click_policy\":\"mute\",\"coordinates\":null,\"group\":null,\"items\":[{\"id\":\"2567\"},{\"id\":\"2589\"},{\"id\":\"2613\"}],\"location\":[0,0],\"title\":\"property_segments\"},\"id\":\"2566\",\"type\":\"Legend\"},{\"attributes\":{},\"id\":\"2546\",\"type\":\"BasicTickFormatter\"},{\"attributes\":{\"angle\":{\"value\":0.0},\"fill_alpha\":{\"value\":1.0},\"fill_color\":{\"value\":\"#fc4f30\"},\"hatch_alpha\":{\"value\":1.0},\"hatch_color\":{\"value\":\"#fc4f30\"},\"hatch_scale\":{\"value\":12.0},\"hatch_weight\":{\"value\":1.0},\"line_alpha\":{\"value\":1.0},\"line_cap\":{\"value\":\"butt\"},\"line_color\":{\"value\":\"#fc4f30\"},\"line_dash\":{\"value\":[]},\"line_dash_offset\":{\"value\":0},\"line_join\":{\"value\":\"bevel\"},\"line_width\":{\"value\":1},\"marker\":{\"value\":\"circle\"},\"size\":{\"value\":5.477225575051661},\"x\":{\"field\":\"Bedrooms\"},\"y\":{\"field\":\"PropPrice\"}},\"id\":\"2590\",\"type\":\"Scatter\"},{\"attributes\":{\"fill_alpha\":{\"value\":0.1},\"fill_color\":{\"value\":\"#30a2da\"},\"hatch_alpha\":{\"value\":0.1},\"hatch_color\":{\"value\":\"#30a2da\"},\"line_alpha\":{\"value\":0.1},\"line_color\":{\"value\":\"#30a2da\"},\"size\":{\"value\":5.477225575051661},\"x\":{\"field\":\"Bedrooms\"},\"y\":{\"field\":\"PropPrice\"}},\"id\":\"2552\",\"type\":\"Scatter\"},{\"attributes\":{\"data\":{\"Address\":[\"286 W Palomino Dr UNIT 31\",\"286 W Palomino Dr UNIT 19\",\"1165 E Ivanhoe St\",\"1961 N Hartford St UNIT 1130\",\"870 S Palm Ln UNIT 56\",\"286 W Palomino Dr UNIT 22\",\"900 S Canal Dr UNIT 216\",\"3324 N Nebraska St\",\"1961 N Hartford St UNIT 1109\",\"3491 N Arizona Ave UNIT 177\",\"501 E Ray Rd #161\",\"716 W Boxelder Pl\",\"908 E Savannah Dr\",\"860 N McQueen Rd UNIT 1135\",\"2821 E Tyson St\",\"1255 N Arizona Ave #1186\",\"860 N McQueen Rd UNIT 1048\",\"1601 N Saba St UNIT 277\",\"123 N Washington St UNIT 37\",\"725 W Sterling Pl\",\"425 W Knox Rd\",\"2155 N Grace Blvd\",\"2155 N Grace Blvd UNIT 104\",\"100 S Cooper Rd\",\"2941 N Oregon St UNIT 13\"],\"Bedrooms\":[2,2,2,2,2,2,2,2,2,2,2,2,2,2,2,2,2,2,2,2,2,2,2,2,2],\"PropPrice\":[230000,237000,305000,330000,289000,206000,367500,515000,355000,315000,30000,310000,445000,365000,461000,467000,360000,306000,395400,370000,375000,325000,325000,690000,325000],\"SoldDate\":[\"2/14/24\",\"2/13/24\",\"2/7/24\",\"1/31/24\",\"1/31/24\",\"1/26/24\",\"1/26/24\",\"1/25/24\",\"1/15/24\",\"1/10/24\",\"1/5/24\",\"12/22/23\",\"12/14/23\",\"12/11/23\",\"12/8/23\",\"12/7/23\",\"11/30/23\",\"11/29/23\",\"11/29/23\",\"11/28/23\",\"11/15/23\",\"11/9/23\",\"11/9/23\",\"11/8/23\",\"11/7/23\"],\"property_segments\":[2,2,2,2,2,2,2,2,2,2,2,2,2,2,2,2,2,2,2,2,2,2,2,2,2]},\"selected\":{\"id\":\"2592\"},\"selection_policy\":{\"id\":\"2610\"}},\"id\":\"2591\",\"type\":\"ColumnDataSource\"},{\"attributes\":{\"source\":{\"id\":\"2548\"}},\"id\":\"2555\",\"type\":\"CDSView\"},{\"attributes\":{},\"id\":\"2549\",\"type\":\"Selection\"},{\"attributes\":{},\"id\":\"2592\",\"type\":\"Selection\"},{\"attributes\":{},\"id\":\"2547\",\"type\":\"AllLabels\"},{\"attributes\":{},\"id\":\"2563\",\"type\":\"UnionRenderers\"},{\"attributes\":{\"fill_color\":{\"value\":\"#fc4f30\"},\"hatch_color\":{\"value\":\"#fc4f30\"},\"line_color\":{\"value\":\"#fc4f30\"},\"size\":{\"value\":5.477225575051661},\"x\":{\"field\":\"Bedrooms\"},\"y\":{\"field\":\"PropPrice\"}},\"id\":\"2572\",\"type\":\"Scatter\"},{\"attributes\":{},\"id\":\"2529\",\"type\":\"SaveTool\"},{\"attributes\":{\"source\":{\"id\":\"2591\"}},\"id\":\"2598\",\"type\":\"CDSView\"},{\"attributes\":{\"end\":5.128571428571428,\"reset_end\":5.128571428571428,\"reset_start\":1.8714285714285714,\"start\":1.8714285714285714,\"tags\":[[[\"Bedrooms\",\"Bedrooms\",null]]]},\"id\":\"2507\",\"type\":\"Range1d\"},{\"attributes\":{\"fill_color\":{\"value\":\"#e5ae38\"},\"hatch_color\":{\"value\":\"#e5ae38\"},\"line_color\":{\"value\":\"#e5ae38\"},\"size\":{\"value\":5.477225575051661},\"x\":{\"field\":\"Bedrooms\"},\"y\":{\"field\":\"PropPrice\"}},\"id\":\"2594\",\"type\":\"Scatter\"},{\"attributes\":{},\"id\":\"2530\",\"type\":\"PanTool\"},{\"attributes\":{\"end\":1306000.0,\"reset_end\":1306000.0,\"reset_start\":-86000.0,\"start\":-86000.0,\"tags\":[[[\"PropPrice\",\"PropPrice\",null]]]},\"id\":\"2508\",\"type\":\"Range1d\"},{\"attributes\":{\"data\":{\"Address\":[\"923 W Mesquite St\",\"304 W El Prado Rd\",\"1412 E Ironwood Dr\",\"663 E Manor Dr\",\"914 W Loughlin Dr\",\"860 N McQueen Rd UNIT 1168\",\"137 N Ithica Pl\",\"801 E Chicago St\",\"1550 N Sunset Pl\",\"873 N Crossbow Ct\",\"664 W Mesquite St\",\"1733 E Geronimo St\",\"256 S Springs Dr\",\"2410 E Geronimo St\",\"1553 E Fairview St\",\"762 E Kent Ave\",\"2421 E Geronimo St\",\"2609 N Pleasant Dr\",\"705 W El Prado Rd\",\"670 W Dublin St\",\"765 S Bedford Dr\",\"1149 N Jay Pl\",\"900 S Lafayette Dr\",\"683 E Park Ave\",\"553 W Myrna Ln\",\"124 N California St UNIT 19\",\"902 W Curry St\",\"397 E Sheffield Ave\",\"384 E Ironwood Dr\",\"2362 E San Tan St\",\"1192 E Erie St\",\"1961 N Hartford St UNIT 1087\",\"1761 E Tulsa St\",\"806 W El Alba Way\",\"523 W Highland St\",\"2941 E Tyson St\",\"1973 N Iowa St\",\"1970 N Hartford St UNIT 75\",\"876 S Nebraska St UNIT 85\",\"676 S Vine St\",\"1084 N Dakota St\",\"3413 N Pleasant Dr\",\"870 S Edith Dr\",\"1428 E Chicago Cir\",\"13423 E Chicago St\",\"964 E Manor Dr\",\"846 E Manor Dr\",\"495 W Ironwood Dr\",\"2310 E Buffalo St\",\"664 E Gail Dr\",\"426 W Boxelder Pl\",\"185 S Kingston St\",\"900 S Canal Dr UNIT 226\",\"860 N McQueen Rd UNIT 1072\",\"818 E Monterey St\",\"240 N Nash Way\",\"901 E Madeline Dr\",\"155 N Lakeview Blvd UNIT 269\",\"420 N Cheri Lynn Dr\",\"1255 N Arizona Ave #1170\",\"877 W Sterling Pl\",\"625 S Cheri Lynn Dr\",\"856 W Monterey St\",\"2046 N Illinois St\",\"1461 E Park Ave\",\"922 E Calle Del Norte\",\"843 W Calle Del Norte\",\"601 W Monterey St\",\"1810 N Cheri Lynn Dr\",\"701 W Harrison St\",\"900 S Canal Dr UNIT 122\",\"751 E Los Arboles Ct\",\"838 E Elgin St\",\"524 W Gail Dr\",\"1815 N Cheri Lynn Dr\",\"428 N Colorado St\",\"514 W Sundance Way\",\"703 W Greentree Dr\",\"588 N Amber Ct\"],\"Bedrooms\":[3,3,3,3,3,3,3,3,3,3,3,3,3,3,3,3,3,3,3,3,3,3,3,3,3,3,3,3,3,3,3,3,3,3,3,3,3,3,3,3,3,3,3,3,3,3,3,3,3,3,3,3,3,3,3,3,3,3,3,3,3,3,3,3,3,3,3,3,3,3,3,3,3,3,3,3,3,3,3],\"PropPrice\":[428000,419000,435300,494000,410000,394000,340000,545000,445000,510000,434000,429900,425000,685000,566000,540000,412500,475000,430000,415000,447000,550000,525000,474250,442500,520000,580000,455000,465000,690000,480000,359500,465000,412000,450000,484800,448000,311000,325000,515000,380000,430000,645000,514500,492000,480000,400000,430000,410000,498000,431000,480000,428000,360000,486000,505000,424000,445000,480000,444900,355000,550000,435000,414900,448000,443900,300000,425000,420000,419900,420000,469900,460000,510000,380000,380000,499990,480500,430000],\"SoldDate\":[\"2/16/24\",\"2/16/24\",\"2/16/24\",\"2/16/24\",\"2/15/24\",\"2/15/24\",\"2/15/24\",\"2/14/24\",\"2/9/24\",\"2/9/24\",\"2/9/24\",\"2/9/24\",\"2/8/24\",\"2/5/24\",\"2/4/24\",\"1/31/24\",\"1/31/24\",\"1/30/24\",\"1/29/24\",\"1/26/24\",\"1/26/24\",\"1/26/24\",\"1/24/24\",\"1/23/24\",\"1/23/24\",\"1/22/24\",\"1/19/24\",\"1/19/24\",\"1/17/24\",\"1/16/24\",\"1/12/24\",\"1/4/24\",\"1/2/24\",\"1/2/24\",\"12/29/23\",\"12/29/23\",\"12/27/23\",\"12/27/23\",\"12/27/23\",\"12/27/23\",\"12/21/23\",\"12/19/23\",\"12/19/23\",\"12/15/23\",\"12/15/23\",\"12/14/23\",\"12/14/23\",\"12/8/23\",\"12/8/23\",\"12/8/23\",\"12/6/23\",\"12/5/23\",\"12/5/23\",\"11/30/23\",\"11/30/23\",\"11/30/23\",\"11/30/23\",\"11/30/23\",\"11/29/23\",\"11/28/23\",\"11/27/23\",\"11/21/23\",\"11/20/23\",\"11/20/23\",\"11/17/23\",\"11/16/23\",\"11/16/23\",\"11/16/23\",\"11/15/23\",\"11/15/23\",\"11/15/23\",\"11/13/23\",\"11/13/23\",\"11/7/23\",\"11/6/23\",\"11/6/23\",\"11/3/23\",\"11/3/23\",\"11/3/23\"],\"property_segments\":[1,1,1,1,1,1,1,1,1,1,1,1,1,1,1,1,1,1,1,1,1,1,1,1,1,1,1,1,1,1,1,1,1,1,1,1,1,1,1,1,1,1,1,1,1,1,1,1,1,1,1,1,1,1,1,1,1,1,1,1,1,1,1,1,1,1,1,1,1,1,1,1,1,1,1,1,1,1,1]},\"selected\":{\"id\":\"2570\"},\"selection_policy\":{\"id\":\"2586\"}},\"id\":\"2569\",\"type\":\"ColumnDataSource\"},{\"attributes\":{\"overlay\":{\"id\":\"2534\"}},\"id\":\"2532\",\"type\":\"BoxZoomTool\"},{\"attributes\":{},\"id\":\"2517\",\"type\":\"LinearScale\"},{\"attributes\":{\"angle\":{\"value\":0.0},\"fill_alpha\":{\"value\":1.0},\"fill_color\":{\"value\":\"#30a2da\"},\"hatch_alpha\":{\"value\":1.0},\"hatch_color\":{\"value\":\"#30a2da\"},\"hatch_scale\":{\"value\":12.0},\"hatch_weight\":{\"value\":1.0},\"line_alpha\":{\"value\":1.0},\"line_cap\":{\"value\":\"butt\"},\"line_color\":{\"value\":\"#30a2da\"},\"line_dash\":{\"value\":[]},\"line_dash_offset\":{\"value\":0},\"line_join\":{\"value\":\"bevel\"},\"line_width\":{\"value\":1},\"marker\":{\"value\":\"circle\"},\"size\":{\"value\":5.477225575051661},\"x\":{\"field\":\"Bedrooms\"},\"y\":{\"field\":\"PropPrice\"}},\"id\":\"2568\",\"type\":\"Scatter\"},{\"attributes\":{\"fill_alpha\":{\"value\":0.1},\"fill_color\":{\"value\":\"#e5ae38\"},\"hatch_alpha\":{\"value\":0.1},\"hatch_color\":{\"value\":\"#e5ae38\"},\"line_alpha\":{\"value\":0.1},\"line_color\":{\"value\":\"#e5ae38\"},\"size\":{\"value\":5.477225575051661},\"x\":{\"field\":\"Bedrooms\"},\"y\":{\"field\":\"PropPrice\"}},\"id\":\"2595\",\"type\":\"Scatter\"},{\"attributes\":{},\"id\":\"2531\",\"type\":\"WheelZoomTool\"},{\"attributes\":{},\"id\":\"2543\",\"type\":\"BasicTickFormatter\"},{\"attributes\":{\"coordinates\":null,\"group\":null,\"text_color\":\"black\",\"text_font_size\":\"12pt\"},\"id\":\"2513\",\"type\":\"Title\"},{\"attributes\":{\"fill_alpha\":{\"value\":0.2},\"fill_color\":{\"value\":\"#e5ae38\"},\"hatch_alpha\":{\"value\":0.2},\"hatch_color\":{\"value\":\"#e5ae38\"},\"line_alpha\":{\"value\":0.2},\"line_color\":{\"value\":\"#e5ae38\"},\"size\":{\"value\":5.477225575051661},\"x\":{\"field\":\"Bedrooms\"},\"y\":{\"field\":\"PropPrice\"}},\"id\":\"2596\",\"type\":\"Scatter\"}],\"root_ids\":[\"2505\"]},\"title\":\"Bokeh Application\",\"version\":\"2.4.3\"}};\n",
       "    var render_items = [{\"docid\":\"7d51ffeb-c0d6-406d-801d-d47ff5551f41\",\"root_ids\":[\"2505\"],\"roots\":{\"2505\":\"b14303d7-dac8-4ab6-b4a5-7c140e8e47c7\"}}];\n",
       "    root.Bokeh.embed.embed_items_notebook(docs_json, render_items);\n",
       "  }\n",
       "  if (root.Bokeh !== undefined && root.Bokeh.Panel !== undefined) {\n",
       "    embed_document(root);\n",
       "  } else {\n",
       "    var attempts = 0;\n",
       "    var timer = setInterval(function(root) {\n",
       "      if (root.Bokeh !== undefined && root.Bokeh.Panel !== undefined) {\n",
       "        clearInterval(timer);\n",
       "        embed_document(root);\n",
       "      } else if (document.readyState == \"complete\") {\n",
       "        attempts++;\n",
       "        if (attempts > 200) {\n",
       "          clearInterval(timer);\n",
       "          console.log(\"Bokeh: ERROR: Unable to run BokehJS code because BokehJS library is missing\");\n",
       "        }\n",
       "      }\n",
       "    }, 25, root)\n",
       "  }\n",
       "})(window);</script>"
      ],
      "text/plain": [
       ":NdOverlay   [property_segments]\n",
       "   :Scatter   [Bedrooms]   (PropPrice,Address,SoldDate)"
      ]
     },
     "execution_count": 70,
     "metadata": {
      "application/vnd.holoviews_exec.v0+json": {
       "id": "2505"
      }
     },
     "output_type": "execute_result"
    }
   ],
   "source": [
    "# Plot the clusters per 2 features from the LA dataframe against property price\n",
    "df_Az_Orig_Pred.hvplot.scatter(\n",
    "    x=\"Bedrooms\",\n",
    "    y=\"PropPrice\",\n",
    "    by=\"property_segments\",\n",
    "    hover_cols=['Address', 'SoldDate']\n",
    ")\n",
    "#conclusion for this visual: General  "
   ]
  },
  {
   "cell_type": "code",
   "execution_count": null,
   "id": "84e8de29",
   "metadata": {},
   "outputs": [],
   "source": [
    "import plotly.express as px\n",
    "\n",
    "fig = px.scatter_3d(df_OR_Orig_Pred, x='LandArea', y='PropPrice', z='Bedrooms',\n",
    "              color='property_segments')\n",
    "fig.show()"
   ]
  },
  {
   "cell_type": "code",
   "execution_count": null,
   "id": "604af638",
   "metadata": {},
   "outputs": [],
   "source": []
  }
 ],
 "metadata": {
  "kernelspec": {
   "display_name": "Python 3 (ipykernel)",
   "language": "python",
   "name": "python3"
  },
  "language_info": {
   "codemirror_mode": {
    "name": "ipython",
    "version": 3
   },
   "file_extension": ".py",
   "mimetype": "text/x-python",
   "name": "python",
   "nbconvert_exporter": "python",
   "pygments_lexer": "ipython3",
   "version": "3.7.13"
  }
 },
 "nbformat": 4,
 "nbformat_minor": 5
}
